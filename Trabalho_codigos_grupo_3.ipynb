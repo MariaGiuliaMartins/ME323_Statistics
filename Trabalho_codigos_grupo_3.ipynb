{
  "nbformat": 4,
  "nbformat_minor": 0,
  "metadata": {
    "colab": {
      "name": "Trabalho.ipynb",
      "provenance": [],
      "collapsed_sections": [
        "3FxwGsvsQa_h"
      ]
    },
    "kernelspec": {
      "name": "python3",
      "display_name": "Python 3"
    },
    "language_info": {
      "name": "python"
    }
  },
  "cells": [
    {
      "cell_type": "markdown",
      "metadata": {
        "id": "4qDGO8GzP7tf"
      },
      "source": [
        "# Número do Trabalho / Grupo: 3\n",
        "# Trabalho de ME323 - Arquivo com Códigos\n",
        "\n",
        "**Integrantes do grupo / RAs:**\n",
        "    \n",
        "    - Arthur Lucas Da Silva Nogueira / 213293\n",
        "    \n",
        "    - Maria Giulia Martins / 202819\n",
        "    \n",
        "    - Marilia Correa Da Silva Santos / 221936\n",
        "    \n",
        "    - Yuri Alexandre Okida Sato / 225974"
      ]
    },
    {
      "cell_type": "markdown",
      "metadata": {
        "id": "3FxwGsvsQa_h"
      },
      "source": [
        "# Bibliotecas Utilizadas"
      ]
    },
    {
      "cell_type": "code",
      "metadata": {
        "id": "oOzz6lGxQlnk",
        "colab": {
          "base_uri": "https://localhost:8080/"
        },
        "outputId": "f5c44344-187e-4c11-c889-3b2591ab356a"
      },
      "source": [
        "#biblioteca para ler os arquivos csv do drive\n",
        "from google.colab import drive\n",
        "from google.colab import files\n",
        "drive.mount('/content/drive', force_remount = True)"
      ],
      "execution_count": 211,
      "outputs": [
        {
          "output_type": "stream",
          "text": [
            "Mounted at /content/drive\n"
          ],
          "name": "stdout"
        }
      ]
    },
    {
      "cell_type": "code",
      "metadata": {
        "id": "L3L8xSaq6aMx"
      },
      "source": [
        "#bibliotecas para fazer as análises\n",
        "import pandas as pd\n",
        "import numpy as np\n",
        "import matplotlib.pyplot as plt\n",
        "import scipy.stats"
      ],
      "execution_count": 212,
      "outputs": []
    },
    {
      "cell_type": "markdown",
      "metadata": {
        "id": "ButKZs46Zsfi"
      },
      "source": [
        "# Funções Utilizadas\n",
        "## Teste de Hipótese"
      ]
    },
    {
      "cell_type": "code",
      "metadata": {
        "id": "nSMtzAzjZw3J"
      },
      "source": [
        "def hip_test(sub_fora, sub_dentro):\n",
        "  '''\n",
        "  Função que aplica testes de hipóteses comumente utilizados.\n",
        "  Input: subconjunto externo e subconjunto interno\n",
        "  Output: p-valores e o resultados dos testes\n",
        "  '''\n",
        "\n",
        "  p_value1 = -1\n",
        "\n",
        "  if len(sub_fora) > 0 and len(sub_dentro) > 0:\n",
        "    print('* Mann-Whitney:')\n",
        "    try:\n",
        "      u_statistic1, p_value1 = scipy.stats.mannwhitneyu(sub_fora,sub_dentro, alternative = 'two-sided')\n",
        "      print('     -> mannwhitneyu: U-statistic = %f\\tp_value = %f' %(u_statistic1, p_value1))\n",
        "    except ValueError: \n",
        "      print(\"     -> ValueError: Todos os números são idênticos no teste de mannwhitneyu, então o desconsideraremos\")\n",
        "    u_statistic2, p_value2 = scipy.stats.ranksums(sub_fora,sub_dentro)\n",
        "    print('     -> ranksums: U-statistic = %f\\tp_value = %f\\n' %(u_statistic2, p_value2))\n",
        "\n",
        "    print(\"* Two Sample Kolmogorov-Smirnov:\")\n",
        "    u_statistic3, p_value3 = scipy.stats.ks_2samp(sub_fora ,sub_dentro ,alternative='two-sided')\n",
        "    print(f'     -> p_value = {p_value3}')\n",
        "\n",
        "    if (p_value1 < 0.05 and p_value1 != -1) or (p_value2 < 0.05) or (p_value3 < 0.05):\n",
        "      print(\"\\n\\n* Possível rejeitar a hipótese nula de acordo com: \")\n",
        "      if (p_value1 < 0.05) or (p_value2 < 0.05):\n",
        "        print(\"  - Mann-Whitney-U Test: \")\n",
        "        if (p_value1 < 0.05):\n",
        "          print(\"     -> mannwhitneyu\")\n",
        "        if (p_value2 < 0.05):\n",
        "          print(\"     -> ranksums\")\n",
        "      if (p_value3 < 0.05):\n",
        "        print(\"  - Two Sampe Kolmogorov-Smirnov Test\")\n",
        "    else:\n",
        "      print(\"\\n\\nNão há significância estatística para rejeitar a hipótese nula\")\n",
        "  else:\n",
        "    print(\"Não há dados suficientes para o cálculo dos testes de Hipótese\")"
      ],
      "execution_count": 213,
      "outputs": []
    },
    {
      "cell_type": "markdown",
      "metadata": {
        "id": "KD44guefRAyw"
      },
      "source": [
        "# Lendo os arquivos\n",
        "    - dados_grupo_3_comp_A.csv\n",
        "    - dados_grupo_3_Incremento_salario_comp_A.csv\n",
        "    - dados_grupo_3_comp_B.csv\n",
        "    - dados_grupo_3_Incremento_salario_comp_A.csv\n",
        "\n",
        "Todos os arquivos estão disponíveis na seguinte pasta: https://drive.google.com/drive/folders/1cLnwTMDnMT9rrvxP40v8sumInG9Tbs3c?usp=sharing"
      ]
    },
    {
      "cell_type": "code",
      "metadata": {
        "id": "MNhEKs19RAJm"
      },
      "source": [
        "dadosA = pd.read_csv('/content/drive/MyDrive/ME323 - Trabalho/dados_grupo_3_comp_A.csv')\n",
        "salarioA = pd.read_csv('/content/drive/MyDrive/ME323 - Trabalho/dados_grupo_3_Incremento_salario_comp_A.csv')\n",
        "dadosB = pd.read_csv('/content/drive/MyDrive/ME323 - Trabalho/dados_grupo_3_comp_B.csv')\n",
        "salarioB = pd.read_csv('/content/drive/MyDrive/ME323 - Trabalho/dados_grupo_3_Incremento_salario_comp_B.csv')"
      ],
      "execution_count": 214,
      "outputs": []
    },
    {
      "cell_type": "markdown",
      "metadata": {
        "id": "Q0pbffQOSiHJ"
      },
      "source": [
        "# $1ª\\ Parte:$"
      ]
    },
    {
      "cell_type": "markdown",
      "metadata": {
        "id": "x5iB99PlXlAZ"
      },
      "source": [
        "## $1.i)$ Classifique as variáveis por tipo"
      ]
    },
    {
      "cell_type": "markdown",
      "metadata": {
        "id": "sEW2IxAiXmiS"
      },
      "source": [
        "### dados_grupo_3_comp_A.csv"
      ]
    },
    {
      "cell_type": "code",
      "metadata": {
        "colab": {
          "base_uri": "https://localhost:8080/",
          "height": 206
        },
        "id": "ki_KD6PmSVDd",
        "outputId": "f11e24d6-30d1-46f2-f65c-72a39b35e31f"
      },
      "source": [
        "dadosA.head()"
      ],
      "execution_count": 215,
      "outputs": [
        {
          "output_type": "execute_result",
          "data": {
            "text/html": [
              "<div>\n",
              "<style scoped>\n",
              "    .dataframe tbody tr th:only-of-type {\n",
              "        vertical-align: middle;\n",
              "    }\n",
              "\n",
              "    .dataframe tbody tr th {\n",
              "        vertical-align: top;\n",
              "    }\n",
              "\n",
              "    .dataframe thead th {\n",
              "        text-align: right;\n",
              "    }\n",
              "</style>\n",
              "<table border=\"1\" class=\"dataframe\">\n",
              "  <thead>\n",
              "    <tr style=\"text-align: right;\">\n",
              "      <th></th>\n",
              "      <th>Unnamed: 0</th>\n",
              "      <th>Sexo</th>\n",
              "      <th>Educ</th>\n",
              "      <th>cargo</th>\n",
              "      <th>Sal</th>\n",
              "    </tr>\n",
              "  </thead>\n",
              "  <tbody>\n",
              "    <tr>\n",
              "      <th>0</th>\n",
              "      <td>1</td>\n",
              "      <td>masc</td>\n",
              "      <td>sec</td>\n",
              "      <td>outro</td>\n",
              "      <td>8.92</td>\n",
              "    </tr>\n",
              "    <tr>\n",
              "      <th>1</th>\n",
              "      <td>2</td>\n",
              "      <td>fem</td>\n",
              "      <td>sec</td>\n",
              "      <td>outro</td>\n",
              "      <td>9.63</td>\n",
              "    </tr>\n",
              "    <tr>\n",
              "      <th>2</th>\n",
              "      <td>3</td>\n",
              "      <td>masc</td>\n",
              "      <td>prim</td>\n",
              "      <td>outro</td>\n",
              "      <td>5.29</td>\n",
              "    </tr>\n",
              "    <tr>\n",
              "      <th>3</th>\n",
              "      <td>4</td>\n",
              "      <td>masc</td>\n",
              "      <td>sec</td>\n",
              "      <td>outro</td>\n",
              "      <td>8.11</td>\n",
              "    </tr>\n",
              "    <tr>\n",
              "      <th>4</th>\n",
              "      <td>5</td>\n",
              "      <td>masc</td>\n",
              "      <td>prim</td>\n",
              "      <td>outro</td>\n",
              "      <td>4.43</td>\n",
              "    </tr>\n",
              "  </tbody>\n",
              "</table>\n",
              "</div>"
            ],
            "text/plain": [
              "   Unnamed: 0  Sexo  Educ  cargo   Sal\n",
              "0           1  masc   sec  outro  8.92\n",
              "1           2   fem   sec  outro  9.63\n",
              "2           3  masc  prim  outro  5.29\n",
              "3           4  masc   sec  outro  8.11\n",
              "4           5  masc  prim  outro  4.43"
            ]
          },
          "metadata": {
            "tags": []
          },
          "execution_count": 215
        }
      ]
    },
    {
      "cell_type": "markdown",
      "metadata": {
        "id": "s0XN81BBS6g8"
      },
      "source": [
        "Tipos de variáveis de dados_grupo_3_comp_A.csv\n",
        "    \n",
        "     _______________________________\n",
        "    |Variável|         Tipo         |\n",
        "    |--------|----------------------|\n",
        "    |  Sexo  | Qualitativa Nominal  |\n",
        "    |  Educ  | Qualitativa Ordinal  |\n",
        "    |  cargo | Qualitativa Nominal  |\n",
        "    |  Sal   | Quantitativa Contínua|\n",
        "     ⁻⁻⁻⁻⁻⁻⁻⁻⁻⁻⁻⁻⁻⁻⁻⁻⁻⁻⁻⁻⁻⁻⁻⁻⁻⁻⁻⁻⁻⁻⁻"
      ]
    },
    {
      "cell_type": "markdown",
      "metadata": {
        "id": "6twksw6jUx-u"
      },
      "source": [
        "### dados_grupo_3_Incremento_salario_comp_A.csv"
      ]
    },
    {
      "cell_type": "code",
      "metadata": {
        "colab": {
          "base_uri": "https://localhost:8080/",
          "height": 206
        },
        "id": "kMpwju9nSbpr",
        "outputId": "74752038-136b-4efd-b9c7-56843d15ecf5"
      },
      "source": [
        "salarioA.head()"
      ],
      "execution_count": 216,
      "outputs": [
        {
          "output_type": "execute_result",
          "data": {
            "text/html": [
              "<div>\n",
              "<style scoped>\n",
              "    .dataframe tbody tr th:only-of-type {\n",
              "        vertical-align: middle;\n",
              "    }\n",
              "\n",
              "    .dataframe tbody tr th {\n",
              "        vertical-align: top;\n",
              "    }\n",
              "\n",
              "    .dataframe thead th {\n",
              "        text-align: right;\n",
              "    }\n",
              "</style>\n",
              "<table border=\"1\" class=\"dataframe\">\n",
              "  <thead>\n",
              "    <tr style=\"text-align: right;\">\n",
              "      <th></th>\n",
              "      <th>Unnamed: 0</th>\n",
              "      <th>Indicador incremento salario real</th>\n",
              "    </tr>\n",
              "  </thead>\n",
              "  <tbody>\n",
              "    <tr>\n",
              "      <th>0</th>\n",
              "      <td>1</td>\n",
              "      <td>1</td>\n",
              "    </tr>\n",
              "    <tr>\n",
              "      <th>1</th>\n",
              "      <td>2</td>\n",
              "      <td>0</td>\n",
              "    </tr>\n",
              "    <tr>\n",
              "      <th>2</th>\n",
              "      <td>3</td>\n",
              "      <td>1</td>\n",
              "    </tr>\n",
              "    <tr>\n",
              "      <th>3</th>\n",
              "      <td>4</td>\n",
              "      <td>1</td>\n",
              "    </tr>\n",
              "    <tr>\n",
              "      <th>4</th>\n",
              "      <td>5</td>\n",
              "      <td>1</td>\n",
              "    </tr>\n",
              "  </tbody>\n",
              "</table>\n",
              "</div>"
            ],
            "text/plain": [
              "   Unnamed: 0  Indicador incremento salario real\n",
              "0           1                                  1\n",
              "1           2                                  0\n",
              "2           3                                  1\n",
              "3           4                                  1\n",
              "4           5                                  1"
            ]
          },
          "metadata": {
            "tags": []
          },
          "execution_count": 216
        }
      ]
    },
    {
      "cell_type": "markdown",
      "metadata": {
        "id": "W6rWL5rFU_2c"
      },
      "source": [
        "Tipos de variáveis de dados_grupo_3_Incremento_salario_comp_A.csv\n",
        "    \n",
        "     ____________________________________\n",
        "    |      Variável      |     Tipo      |\n",
        "    |--------------------|---------------|\n",
        "    |Indicador incremento|  Qualitativa  |\n",
        "    |   salário real     |    Nominal    |\n",
        "     ⁻⁻⁻⁻⁻⁻⁻⁻⁻⁻⁻⁻⁻⁻⁻⁻⁻⁻⁻⁻⁻⁻⁻⁻⁻⁻⁻⁻⁻⁻⁻⁻⁻⁻⁻⁻"
      ]
    },
    {
      "cell_type": "markdown",
      "metadata": {
        "id": "qbNTKQF5VQbo"
      },
      "source": [
        "### dados_grupo_3_comp_B.csv"
      ]
    },
    {
      "cell_type": "code",
      "metadata": {
        "colab": {
          "base_uri": "https://localhost:8080/",
          "height": 206
        },
        "id": "GP_y9FvHU9YN",
        "outputId": "84a95a93-4b6f-44a1-d133-de4f6db3f113"
      },
      "source": [
        "dadosB.head()"
      ],
      "execution_count": 217,
      "outputs": [
        {
          "output_type": "execute_result",
          "data": {
            "text/html": [
              "<div>\n",
              "<style scoped>\n",
              "    .dataframe tbody tr th:only-of-type {\n",
              "        vertical-align: middle;\n",
              "    }\n",
              "\n",
              "    .dataframe tbody tr th {\n",
              "        vertical-align: top;\n",
              "    }\n",
              "\n",
              "    .dataframe thead th {\n",
              "        text-align: right;\n",
              "    }\n",
              "</style>\n",
              "<table border=\"1\" class=\"dataframe\">\n",
              "  <thead>\n",
              "    <tr style=\"text-align: right;\">\n",
              "      <th></th>\n",
              "      <th>Unnamed: 0</th>\n",
              "      <th>Sexo</th>\n",
              "      <th>Educ</th>\n",
              "      <th>cargo</th>\n",
              "      <th>Sal</th>\n",
              "    </tr>\n",
              "  </thead>\n",
              "  <tbody>\n",
              "    <tr>\n",
              "      <th>0</th>\n",
              "      <td>1</td>\n",
              "      <td>masc</td>\n",
              "      <td>prim</td>\n",
              "      <td>outro</td>\n",
              "      <td>4.27</td>\n",
              "    </tr>\n",
              "    <tr>\n",
              "      <th>1</th>\n",
              "      <td>2</td>\n",
              "      <td>fem</td>\n",
              "      <td>sec</td>\n",
              "      <td>outro</td>\n",
              "      <td>6.90</td>\n",
              "    </tr>\n",
              "    <tr>\n",
              "      <th>2</th>\n",
              "      <td>3</td>\n",
              "      <td>fem</td>\n",
              "      <td>prim</td>\n",
              "      <td>outro</td>\n",
              "      <td>1.33</td>\n",
              "    </tr>\n",
              "    <tr>\n",
              "      <th>3</th>\n",
              "      <td>4</td>\n",
              "      <td>fem</td>\n",
              "      <td>sec</td>\n",
              "      <td>outro</td>\n",
              "      <td>3.23</td>\n",
              "    </tr>\n",
              "    <tr>\n",
              "      <th>4</th>\n",
              "      <td>5</td>\n",
              "      <td>masc</td>\n",
              "      <td>sec</td>\n",
              "      <td>outro</td>\n",
              "      <td>8.31</td>\n",
              "    </tr>\n",
              "  </tbody>\n",
              "</table>\n",
              "</div>"
            ],
            "text/plain": [
              "   Unnamed: 0  Sexo  Educ  cargo   Sal\n",
              "0           1  masc  prim  outro  4.27\n",
              "1           2   fem   sec  outro  6.90\n",
              "2           3   fem  prim  outro  1.33\n",
              "3           4   fem   sec  outro  3.23\n",
              "4           5  masc   sec  outro  8.31"
            ]
          },
          "metadata": {
            "tags": []
          },
          "execution_count": 217
        }
      ]
    },
    {
      "cell_type": "markdown",
      "metadata": {
        "id": "mrl0mUvCVUQF"
      },
      "source": [
        "Tipos de variáveis de dados_grupo_3_comp_B.csv\n",
        "    \n",
        "     _______________________________\n",
        "    |Variável|         Tipo         |\n",
        "    |--------|----------------------|\n",
        "    |  Sexo  | Qualitativa Nominal  |\n",
        "    |  Educ  | Qualitativa Ordinal  |\n",
        "    |  cargo | Qualitativa Nominal  |\n",
        "    |  Sal   | Quantitativa Contínua|\n",
        "     ⁻⁻⁻⁻⁻⁻⁻⁻⁻⁻⁻⁻⁻⁻⁻⁻⁻⁻⁻⁻⁻⁻⁻⁻⁻⁻⁻⁻⁻⁻⁻"
      ]
    },
    {
      "cell_type": "markdown",
      "metadata": {
        "id": "hrlynUv-VYFV"
      },
      "source": [
        "### dados_grupo_3_Incremento_salario_comp_B.csv"
      ]
    },
    {
      "cell_type": "code",
      "metadata": {
        "colab": {
          "base_uri": "https://localhost:8080/",
          "height": 206
        },
        "id": "N1m1065BVTXS",
        "outputId": "e4c75a43-fc65-4322-e050-d2d2db721d99"
      },
      "source": [
        "salarioB.head()"
      ],
      "execution_count": 218,
      "outputs": [
        {
          "output_type": "execute_result",
          "data": {
            "text/html": [
              "<div>\n",
              "<style scoped>\n",
              "    .dataframe tbody tr th:only-of-type {\n",
              "        vertical-align: middle;\n",
              "    }\n",
              "\n",
              "    .dataframe tbody tr th {\n",
              "        vertical-align: top;\n",
              "    }\n",
              "\n",
              "    .dataframe thead th {\n",
              "        text-align: right;\n",
              "    }\n",
              "</style>\n",
              "<table border=\"1\" class=\"dataframe\">\n",
              "  <thead>\n",
              "    <tr style=\"text-align: right;\">\n",
              "      <th></th>\n",
              "      <th>Unnamed: 0</th>\n",
              "      <th>Indicador incremento salario real</th>\n",
              "    </tr>\n",
              "  </thead>\n",
              "  <tbody>\n",
              "    <tr>\n",
              "      <th>0</th>\n",
              "      <td>1</td>\n",
              "      <td>1</td>\n",
              "    </tr>\n",
              "    <tr>\n",
              "      <th>1</th>\n",
              "      <td>2</td>\n",
              "      <td>0</td>\n",
              "    </tr>\n",
              "    <tr>\n",
              "      <th>2</th>\n",
              "      <td>3</td>\n",
              "      <td>1</td>\n",
              "    </tr>\n",
              "    <tr>\n",
              "      <th>3</th>\n",
              "      <td>4</td>\n",
              "      <td>0</td>\n",
              "    </tr>\n",
              "    <tr>\n",
              "      <th>4</th>\n",
              "      <td>5</td>\n",
              "      <td>1</td>\n",
              "    </tr>\n",
              "  </tbody>\n",
              "</table>\n",
              "</div>"
            ],
            "text/plain": [
              "   Unnamed: 0  Indicador incremento salario real\n",
              "0           1                                  1\n",
              "1           2                                  0\n",
              "2           3                                  1\n",
              "3           4                                  0\n",
              "4           5                                  1"
            ]
          },
          "metadata": {
            "tags": []
          },
          "execution_count": 218
        }
      ]
    },
    {
      "cell_type": "markdown",
      "metadata": {
        "id": "2HBoHqyxVejj"
      },
      "source": [
        "Tipos de variáveis de dados_grupo_3_Incremento_salario_comp_B.csv\n",
        "    \n",
        "     ____________________________________\n",
        "    |      Variável      |     Tipo      |\n",
        "    |--------------------|---------------|\n",
        "    |Indicador incremento|  Qualitativa  |\n",
        "    |   salário real     |    Nominal    |\n",
        "     ⁻⁻⁻⁻⁻⁻⁻⁻⁻⁻⁻⁻⁻⁻⁻⁻⁻⁻⁻⁻⁻⁻⁻⁻⁻⁻⁻⁻⁻⁻⁻⁻⁻⁻⁻⁻"
      ]
    },
    {
      "cell_type": "markdown",
      "metadata": {
        "id": "sqNjJWX4btSK"
      },
      "source": [
        "## $1.ii)$ Apresente uma tabela de distribuição de frequências para cada variável"
      ]
    },
    {
      "cell_type": "markdown",
      "metadata": {
        "id": "mKaWNdqccGvl"
      },
      "source": [
        "### dados_grupo_3_comp_A.csv"
      ]
    },
    {
      "cell_type": "code",
      "metadata": {
        "id": "WHNsu6r2VcVh",
        "colab": {
          "base_uri": "https://localhost:8080/",
          "height": 112
        },
        "outputId": "b87ee7fa-b4f8-4713-a665-c1935ff5bd5e"
      },
      "source": [
        "sexA = pd.DataFrame(dadosA['Sexo'].value_counts())\n",
        "sexA['Proporção (f_i)'] = sexA['Sexo']/sexA['Sexo'].sum()\n",
        "sexA['%(100×f_i)'] = sexA['Sexo']/sexA['Sexo'].sum()*100\n",
        "sexA['%(100×f_i)'] = round(sexA['%(100×f_i)'], 2)\n",
        "sexA = sexA.rename(columns = {'index':'Sexo', 'Sexo':'Frequência (n_i)'})\n",
        "sexA"
      ],
      "execution_count": 219,
      "outputs": [
        {
          "output_type": "execute_result",
          "data": {
            "text/html": [
              "<div>\n",
              "<style scoped>\n",
              "    .dataframe tbody tr th:only-of-type {\n",
              "        vertical-align: middle;\n",
              "    }\n",
              "\n",
              "    .dataframe tbody tr th {\n",
              "        vertical-align: top;\n",
              "    }\n",
              "\n",
              "    .dataframe thead th {\n",
              "        text-align: right;\n",
              "    }\n",
              "</style>\n",
              "<table border=\"1\" class=\"dataframe\">\n",
              "  <thead>\n",
              "    <tr style=\"text-align: right;\">\n",
              "      <th></th>\n",
              "      <th>Frequência (n_i)</th>\n",
              "      <th>Proporção (f_i)</th>\n",
              "      <th>%(100×f_i)</th>\n",
              "    </tr>\n",
              "  </thead>\n",
              "  <tbody>\n",
              "    <tr>\n",
              "      <th>masc</th>\n",
              "      <td>142</td>\n",
              "      <td>0.572581</td>\n",
              "      <td>57.26</td>\n",
              "    </tr>\n",
              "    <tr>\n",
              "      <th>fem</th>\n",
              "      <td>106</td>\n",
              "      <td>0.427419</td>\n",
              "      <td>42.74</td>\n",
              "    </tr>\n",
              "  </tbody>\n",
              "</table>\n",
              "</div>"
            ],
            "text/plain": [
              "      Frequência (n_i)  Proporção (f_i)  %(100×f_i)\n",
              "masc               142         0.572581       57.26\n",
              "fem                106         0.427419       42.74"
            ]
          },
          "metadata": {
            "tags": []
          },
          "execution_count": 219
        }
      ]
    },
    {
      "cell_type": "code",
      "metadata": {
        "colab": {
          "base_uri": "https://localhost:8080/",
          "height": 143
        },
        "id": "3NBWsR7GcSGx",
        "outputId": "ef7a85c4-d4fe-40a1-e2b1-48125a0a1159"
      },
      "source": [
        "educA = pd.DataFrame(dadosA['Educ'].value_counts())\n",
        "educA['Proporção (f_i)'] = educA['Educ']/educA['Educ'].sum()\n",
        "educA['%(100×f_i)'] = educA['Educ']/educA['Educ'].sum()*100\n",
        "educA['%(100×f_i)'] = round(educA['%(100×f_i)'], 2)\n",
        "educA = educA.rename(columns = {'index':'Educ', 'Educ':'Frequência (n_i)'})\n",
        "educA"
      ],
      "execution_count": 220,
      "outputs": [
        {
          "output_type": "execute_result",
          "data": {
            "text/html": [
              "<div>\n",
              "<style scoped>\n",
              "    .dataframe tbody tr th:only-of-type {\n",
              "        vertical-align: middle;\n",
              "    }\n",
              "\n",
              "    .dataframe tbody tr th {\n",
              "        vertical-align: top;\n",
              "    }\n",
              "\n",
              "    .dataframe thead th {\n",
              "        text-align: right;\n",
              "    }\n",
              "</style>\n",
              "<table border=\"1\" class=\"dataframe\">\n",
              "  <thead>\n",
              "    <tr style=\"text-align: right;\">\n",
              "      <th></th>\n",
              "      <th>Frequência (n_i)</th>\n",
              "      <th>Proporção (f_i)</th>\n",
              "      <th>%(100×f_i)</th>\n",
              "    </tr>\n",
              "  </thead>\n",
              "  <tbody>\n",
              "    <tr>\n",
              "      <th>sec</th>\n",
              "      <td>114</td>\n",
              "      <td>0.459677</td>\n",
              "      <td>45.97</td>\n",
              "    </tr>\n",
              "    <tr>\n",
              "      <th>prim</th>\n",
              "      <td>103</td>\n",
              "      <td>0.415323</td>\n",
              "      <td>41.53</td>\n",
              "    </tr>\n",
              "    <tr>\n",
              "      <th>terc</th>\n",
              "      <td>31</td>\n",
              "      <td>0.125000</td>\n",
              "      <td>12.50</td>\n",
              "    </tr>\n",
              "  </tbody>\n",
              "</table>\n",
              "</div>"
            ],
            "text/plain": [
              "      Frequência (n_i)  Proporção (f_i)  %(100×f_i)\n",
              "sec                114         0.459677       45.97\n",
              "prim               103         0.415323       41.53\n",
              "terc                31         0.125000       12.50"
            ]
          },
          "metadata": {
            "tags": []
          },
          "execution_count": 220
        }
      ]
    },
    {
      "cell_type": "code",
      "metadata": {
        "colab": {
          "base_uri": "https://localhost:8080/",
          "height": 112
        },
        "id": "nRdYgdPIdfHP",
        "outputId": "c1e59bed-01a9-40c6-af52-6e2a846057c5"
      },
      "source": [
        "cargoA = pd.DataFrame(dadosA['cargo'].value_counts())\n",
        "cargoA['Proporção (f_i)'] = cargoA['cargo']/cargoA['cargo'].sum()\n",
        "cargoA['%(100×f_i)'] = cargoA['cargo']/cargoA['cargo'].sum()*100\n",
        "cargoA['%(100×f_i)'] = round(cargoA['%(100×f_i)'], 2)\n",
        "cargoA = cargoA.rename(columns = {'index':'cargo', 'cargo':'Frequência (n_i)'})\n",
        "cargoA"
      ],
      "execution_count": 221,
      "outputs": [
        {
          "output_type": "execute_result",
          "data": {
            "text/html": [
              "<div>\n",
              "<style scoped>\n",
              "    .dataframe tbody tr th:only-of-type {\n",
              "        vertical-align: middle;\n",
              "    }\n",
              "\n",
              "    .dataframe tbody tr th {\n",
              "        vertical-align: top;\n",
              "    }\n",
              "\n",
              "    .dataframe thead th {\n",
              "        text-align: right;\n",
              "    }\n",
              "</style>\n",
              "<table border=\"1\" class=\"dataframe\">\n",
              "  <thead>\n",
              "    <tr style=\"text-align: right;\">\n",
              "      <th></th>\n",
              "      <th>Frequência (n_i)</th>\n",
              "      <th>Proporção (f_i)</th>\n",
              "      <th>%(100×f_i)</th>\n",
              "    </tr>\n",
              "  </thead>\n",
              "  <tbody>\n",
              "    <tr>\n",
              "      <th>outro</th>\n",
              "      <td>211</td>\n",
              "      <td>0.850806</td>\n",
              "      <td>85.08</td>\n",
              "    </tr>\n",
              "    <tr>\n",
              "      <th>gerencial</th>\n",
              "      <td>37</td>\n",
              "      <td>0.149194</td>\n",
              "      <td>14.92</td>\n",
              "    </tr>\n",
              "  </tbody>\n",
              "</table>\n",
              "</div>"
            ],
            "text/plain": [
              "           Frequência (n_i)  Proporção (f_i)  %(100×f_i)\n",
              "outro                   211         0.850806       85.08\n",
              "gerencial                37         0.149194       14.92"
            ]
          },
          "metadata": {
            "tags": []
          },
          "execution_count": 221
        }
      ]
    },
    {
      "cell_type": "code",
      "metadata": {
        "colab": {
          "base_uri": "https://localhost:8080/",
          "height": 241
        },
        "id": "YBb8c_4DAJMB",
        "outputId": "42e7ce6f-1bc3-406d-bf89-21b3abbefae8"
      },
      "source": [
        "print(\"Menor salário:\", dadosA['Sal'].min()) #menor salário do banco == 0.56\n",
        "print(\"Maior salário:\", dadosA['Sal'].max()) #maior salário do banco == 24.76\n",
        "\n",
        "#divisão salarial com base em intervalos de 5 reais\n",
        "sA0_5 = dadosA[dadosA['Sal'].astype(float) <= 5.0] #de 0 a 5\n",
        "\n",
        "sA6_10 = dadosA[dadosA['Sal'].astype(float) > 5.0] #maior que 5\n",
        "sA6_10 = sA6_10[sA6_10['Sal'].astype(float) <= 10.0] #menor igual 10\n",
        "\n",
        "sA11_15 = dadosA[dadosA['Sal'].astype(float) > 10] #maior que 10\n",
        "sA11_15 = sA11_15[sA11_15['Sal'].astype(float) <= 15] #menor igual 15\n",
        "\n",
        "sA16_20 = dadosA[dadosA['Sal'].astype(float) > 15] #maior que 15\n",
        "sA16_20 = sA16_20[sA16_20['Sal'].astype(float) <= 20] #menor igual 20\n",
        "\n",
        "sA21_25 = dadosA[dadosA['Sal'].astype(float) > 20] #maior que 20\n",
        "\n",
        "totalA = len(dadosA[dadosA['Sal'].astype(float) <= 5.0]) + len(sA6_10) + len(sA11_15) + len(sA16_20) + len(sA21_25)\n",
        "\n",
        "dict_salariosA = {'Faixas Salariais': ['Salários de 0 a 5', 'Salários de 5 a 10', 'Salários de 10 a 15', 'Salários de 15 a 20', 'Salários de 20 a 25'],\n",
        "                  'Frequência (n_i)': [len(sA0_5), \n",
        "                                       len(sA6_10), \n",
        "                                       len(sA11_15), \n",
        "                                       len(sA16_20), \n",
        "                                       len(sA21_25)],\n",
        "                  'Proporção (f_i)' : [len(dadosA[dadosA['Sal'].astype(float) <= 5.0])/totalA, \n",
        "                                       len(sA6_10)/totalA, \n",
        "                                       len(sA11_15)/totalA, \n",
        "                                       len(sA16_20)/totalA, \n",
        "                                       len(sA21_25)/totalA],\n",
        "                  '%(100×f_i)': [round((len(dadosA[dadosA['Sal'].astype(float) <= 5.0])*100/totalA), 4), \n",
        "                                 round((len(sA6_10)*100/totalA), 4), \n",
        "                                 round((len(sA11_15)*100/totalA), 4), \n",
        "                                 round((len(sA16_20)*100/totalA), 4), \n",
        "                                 round((len(sA21_25)*100/totalA), 4)]\n",
        "                }\n",
        "salA = pd.DataFrame(dict_salariosA)\n",
        "salA"
      ],
      "execution_count": 222,
      "outputs": [
        {
          "output_type": "stream",
          "text": [
            "Menor salário: 0.56\n",
            "Maior salário: 24.76\n"
          ],
          "name": "stdout"
        },
        {
          "output_type": "execute_result",
          "data": {
            "text/html": [
              "<div>\n",
              "<style scoped>\n",
              "    .dataframe tbody tr th:only-of-type {\n",
              "        vertical-align: middle;\n",
              "    }\n",
              "\n",
              "    .dataframe tbody tr th {\n",
              "        vertical-align: top;\n",
              "    }\n",
              "\n",
              "    .dataframe thead th {\n",
              "        text-align: right;\n",
              "    }\n",
              "</style>\n",
              "<table border=\"1\" class=\"dataframe\">\n",
              "  <thead>\n",
              "    <tr style=\"text-align: right;\">\n",
              "      <th></th>\n",
              "      <th>Faixas Salariais</th>\n",
              "      <th>Frequência (n_i)</th>\n",
              "      <th>Proporção (f_i)</th>\n",
              "      <th>%(100×f_i)</th>\n",
              "    </tr>\n",
              "  </thead>\n",
              "  <tbody>\n",
              "    <tr>\n",
              "      <th>0</th>\n",
              "      <td>Salários de 0 a 5</td>\n",
              "      <td>62</td>\n",
              "      <td>0.250000</td>\n",
              "      <td>25.0000</td>\n",
              "    </tr>\n",
              "    <tr>\n",
              "      <th>1</th>\n",
              "      <td>Salários de 5 a 10</td>\n",
              "      <td>128</td>\n",
              "      <td>0.516129</td>\n",
              "      <td>51.6129</td>\n",
              "    </tr>\n",
              "    <tr>\n",
              "      <th>2</th>\n",
              "      <td>Salários de 10 a 15</td>\n",
              "      <td>21</td>\n",
              "      <td>0.084677</td>\n",
              "      <td>8.4677</td>\n",
              "    </tr>\n",
              "    <tr>\n",
              "      <th>3</th>\n",
              "      <td>Salários de 15 a 20</td>\n",
              "      <td>14</td>\n",
              "      <td>0.056452</td>\n",
              "      <td>5.6452</td>\n",
              "    </tr>\n",
              "    <tr>\n",
              "      <th>4</th>\n",
              "      <td>Salários de 20 a 25</td>\n",
              "      <td>23</td>\n",
              "      <td>0.092742</td>\n",
              "      <td>9.2742</td>\n",
              "    </tr>\n",
              "  </tbody>\n",
              "</table>\n",
              "</div>"
            ],
            "text/plain": [
              "      Faixas Salariais  Frequência (n_i)  Proporção (f_i)  %(100×f_i)\n",
              "0    Salários de 0 a 5                62         0.250000     25.0000\n",
              "1   Salários de 5 a 10               128         0.516129     51.6129\n",
              "2  Salários de 10 a 15                21         0.084677      8.4677\n",
              "3  Salários de 15 a 20                14         0.056452      5.6452\n",
              "4  Salários de 20 a 25                23         0.092742      9.2742"
            ]
          },
          "metadata": {
            "tags": []
          },
          "execution_count": 222
        }
      ]
    },
    {
      "cell_type": "markdown",
      "metadata": {
        "id": "D78Y5GKfeRrP"
      },
      "source": [
        "### dados_grupo_3_Incremento_salario_comp_A.csv"
      ]
    },
    {
      "cell_type": "code",
      "metadata": {
        "id": "uqOT81cPd-PO",
        "colab": {
          "base_uri": "https://localhost:8080/",
          "height": 112
        },
        "outputId": "b9c10e5e-3f38-45fd-a674-481385800e29"
      },
      "source": [
        "sA = pd.DataFrame(salarioA['Indicador incremento salario real'].value_counts())\n",
        "sA['Proporção (f_i)'] = sA['Indicador incremento salario real']/sA['Indicador incremento salario real'].sum()\n",
        "sA['%(100×f_i)'] = sA['Indicador incremento salario real']/sA['Indicador incremento salario real'].sum()*100\n",
        "sA['%(100×f_i)'] = round(sA['%(100×f_i)'], 2)\n",
        "sA = sA.rename(columns = {'index':'Indicador incremento salario real', 'Indicador incremento salario real':'Frequência (n_i)'})\n",
        "sA"
      ],
      "execution_count": 223,
      "outputs": [
        {
          "output_type": "execute_result",
          "data": {
            "text/html": [
              "<div>\n",
              "<style scoped>\n",
              "    .dataframe tbody tr th:only-of-type {\n",
              "        vertical-align: middle;\n",
              "    }\n",
              "\n",
              "    .dataframe tbody tr th {\n",
              "        vertical-align: top;\n",
              "    }\n",
              "\n",
              "    .dataframe thead th {\n",
              "        text-align: right;\n",
              "    }\n",
              "</style>\n",
              "<table border=\"1\" class=\"dataframe\">\n",
              "  <thead>\n",
              "    <tr style=\"text-align: right;\">\n",
              "      <th></th>\n",
              "      <th>Frequência (n_i)</th>\n",
              "      <th>Proporção (f_i)</th>\n",
              "      <th>%(100×f_i)</th>\n",
              "    </tr>\n",
              "  </thead>\n",
              "  <tbody>\n",
              "    <tr>\n",
              "      <th>0</th>\n",
              "      <td>489</td>\n",
              "      <td>0.507788</td>\n",
              "      <td>50.78</td>\n",
              "    </tr>\n",
              "    <tr>\n",
              "      <th>1</th>\n",
              "      <td>474</td>\n",
              "      <td>0.492212</td>\n",
              "      <td>49.22</td>\n",
              "    </tr>\n",
              "  </tbody>\n",
              "</table>\n",
              "</div>"
            ],
            "text/plain": [
              "   Frequência (n_i)  Proporção (f_i)  %(100×f_i)\n",
              "0               489         0.507788       50.78\n",
              "1               474         0.492212       49.22"
            ]
          },
          "metadata": {
            "tags": []
          },
          "execution_count": 223
        }
      ]
    },
    {
      "cell_type": "markdown",
      "metadata": {
        "id": "Wq9LbF-1mYOg"
      },
      "source": [
        "### dados_grupo_3_comp_B.csv"
      ]
    },
    {
      "cell_type": "code",
      "metadata": {
        "colab": {
          "base_uri": "https://localhost:8080/",
          "height": 112
        },
        "id": "_YIxGCX2frmz",
        "outputId": "8862c8e0-5919-44ef-8f3e-3af16bf48452"
      },
      "source": [
        "sexB = pd.DataFrame(dadosB['Sexo'].value_counts())\n",
        "sexB['Proporção (f_i)'] = sexB['Sexo']/sexB['Sexo'].sum()\n",
        "sexB['%(100×f_i)'] = sexB['Sexo']/sexB['Sexo'].sum()*100\n",
        "sexB['%(100×f_i)'] = round(sexB['%(100×f_i)'], 2)\n",
        "sexB = sexB.rename(columns = {'index':'Sexo', 'Sexo':'Frequência (n_i)'})\n",
        "sexB"
      ],
      "execution_count": 224,
      "outputs": [
        {
          "output_type": "execute_result",
          "data": {
            "text/html": [
              "<div>\n",
              "<style scoped>\n",
              "    .dataframe tbody tr th:only-of-type {\n",
              "        vertical-align: middle;\n",
              "    }\n",
              "\n",
              "    .dataframe tbody tr th {\n",
              "        vertical-align: top;\n",
              "    }\n",
              "\n",
              "    .dataframe thead th {\n",
              "        text-align: right;\n",
              "    }\n",
              "</style>\n",
              "<table border=\"1\" class=\"dataframe\">\n",
              "  <thead>\n",
              "    <tr style=\"text-align: right;\">\n",
              "      <th></th>\n",
              "      <th>Frequência (n_i)</th>\n",
              "      <th>Proporção (f_i)</th>\n",
              "      <th>%(100×f_i)</th>\n",
              "    </tr>\n",
              "  </thead>\n",
              "  <tbody>\n",
              "    <tr>\n",
              "      <th>fem</th>\n",
              "      <td>143</td>\n",
              "      <td>0.55642</td>\n",
              "      <td>55.64</td>\n",
              "    </tr>\n",
              "    <tr>\n",
              "      <th>masc</th>\n",
              "      <td>114</td>\n",
              "      <td>0.44358</td>\n",
              "      <td>44.36</td>\n",
              "    </tr>\n",
              "  </tbody>\n",
              "</table>\n",
              "</div>"
            ],
            "text/plain": [
              "      Frequência (n_i)  Proporção (f_i)  %(100×f_i)\n",
              "fem                143          0.55642       55.64\n",
              "masc               114          0.44358       44.36"
            ]
          },
          "metadata": {
            "tags": []
          },
          "execution_count": 224
        }
      ]
    },
    {
      "cell_type": "code",
      "metadata": {
        "colab": {
          "base_uri": "https://localhost:8080/",
          "height": 143
        },
        "id": "usOY1gMcmiRd",
        "outputId": "bf2e3cd6-c795-4c83-cf76-699fe7b7d7d5"
      },
      "source": [
        "educB = pd.DataFrame(dadosB['Educ'].value_counts())\n",
        "educB['Proporção (f_i)'] = educB['Educ']/educB['Educ'].sum()\n",
        "educB['%(100×f_i)'] = educB['Educ']/educB['Educ'].sum()*100\n",
        "educB['%(100×f_i)'] = round(educB['%(100×f_i)'], 2)\n",
        "educB = educB.rename(columns = {'index':'Educ', 'Educ':'Frequência (n_i)'})\n",
        "educB"
      ],
      "execution_count": 225,
      "outputs": [
        {
          "output_type": "execute_result",
          "data": {
            "text/html": [
              "<div>\n",
              "<style scoped>\n",
              "    .dataframe tbody tr th:only-of-type {\n",
              "        vertical-align: middle;\n",
              "    }\n",
              "\n",
              "    .dataframe tbody tr th {\n",
              "        vertical-align: top;\n",
              "    }\n",
              "\n",
              "    .dataframe thead th {\n",
              "        text-align: right;\n",
              "    }\n",
              "</style>\n",
              "<table border=\"1\" class=\"dataframe\">\n",
              "  <thead>\n",
              "    <tr style=\"text-align: right;\">\n",
              "      <th></th>\n",
              "      <th>Frequência (n_i)</th>\n",
              "      <th>Proporção (f_i)</th>\n",
              "      <th>%(100×f_i)</th>\n",
              "    </tr>\n",
              "  </thead>\n",
              "  <tbody>\n",
              "    <tr>\n",
              "      <th>sec</th>\n",
              "      <td>127</td>\n",
              "      <td>0.494163</td>\n",
              "      <td>49.42</td>\n",
              "    </tr>\n",
              "    <tr>\n",
              "      <th>prim</th>\n",
              "      <td>97</td>\n",
              "      <td>0.377432</td>\n",
              "      <td>37.74</td>\n",
              "    </tr>\n",
              "    <tr>\n",
              "      <th>terc</th>\n",
              "      <td>33</td>\n",
              "      <td>0.128405</td>\n",
              "      <td>12.84</td>\n",
              "    </tr>\n",
              "  </tbody>\n",
              "</table>\n",
              "</div>"
            ],
            "text/plain": [
              "      Frequência (n_i)  Proporção (f_i)  %(100×f_i)\n",
              "sec                127         0.494163       49.42\n",
              "prim                97         0.377432       37.74\n",
              "terc                33         0.128405       12.84"
            ]
          },
          "metadata": {
            "tags": []
          },
          "execution_count": 225
        }
      ]
    },
    {
      "cell_type": "code",
      "metadata": {
        "colab": {
          "base_uri": "https://localhost:8080/",
          "height": 112
        },
        "id": "o0g16fQKmr_N",
        "outputId": "6f44ded7-5e74-4dd1-8e64-9c4de42781d3"
      },
      "source": [
        "cargoB = pd.DataFrame(dadosB['cargo'].value_counts())\n",
        "cargoB['Proporção (f_i)'] = cargoB['cargo']/cargoB['cargo'].sum()\n",
        "cargoB['%(100×f_i)'] = cargoB['cargo']/cargoB['cargo'].sum()*100\n",
        "cargoB['%(100×f_i)'] = round(cargoB['%(100×f_i)'], 2)\n",
        "cargoB = cargoB.rename(columns = {'index':'cargo', 'cargo':'Frequência (n_i)'})\n",
        "cargoB"
      ],
      "execution_count": 226,
      "outputs": [
        {
          "output_type": "execute_result",
          "data": {
            "text/html": [
              "<div>\n",
              "<style scoped>\n",
              "    .dataframe tbody tr th:only-of-type {\n",
              "        vertical-align: middle;\n",
              "    }\n",
              "\n",
              "    .dataframe tbody tr th {\n",
              "        vertical-align: top;\n",
              "    }\n",
              "\n",
              "    .dataframe thead th {\n",
              "        text-align: right;\n",
              "    }\n",
              "</style>\n",
              "<table border=\"1\" class=\"dataframe\">\n",
              "  <thead>\n",
              "    <tr style=\"text-align: right;\">\n",
              "      <th></th>\n",
              "      <th>Frequência (n_i)</th>\n",
              "      <th>Proporção (f_i)</th>\n",
              "      <th>%(100×f_i)</th>\n",
              "    </tr>\n",
              "  </thead>\n",
              "  <tbody>\n",
              "    <tr>\n",
              "      <th>outro</th>\n",
              "      <td>220</td>\n",
              "      <td>0.856031</td>\n",
              "      <td>85.6</td>\n",
              "    </tr>\n",
              "    <tr>\n",
              "      <th>gerencial</th>\n",
              "      <td>37</td>\n",
              "      <td>0.143969</td>\n",
              "      <td>14.4</td>\n",
              "    </tr>\n",
              "  </tbody>\n",
              "</table>\n",
              "</div>"
            ],
            "text/plain": [
              "           Frequência (n_i)  Proporção (f_i)  %(100×f_i)\n",
              "outro                   220         0.856031        85.6\n",
              "gerencial                37         0.143969        14.4"
            ]
          },
          "metadata": {
            "tags": []
          },
          "execution_count": 226
        }
      ]
    },
    {
      "cell_type": "code",
      "metadata": {
        "colab": {
          "base_uri": "https://localhost:8080/",
          "height": 241
        },
        "id": "fiDOy7rim1Nd",
        "outputId": "0f7fc329-0b6f-4301-8b40-d48ca5cd8ffa"
      },
      "source": [
        "print(\"Menor salário:\", dadosB['Sal'].min()) #menor salário do banco == 0.56\n",
        "print(\"Maior salário:\", dadosB['Sal'].max()) #maior salário do banco == 24.76\n",
        "\n",
        "#divisão salarial com base em intervalos de 5 reais\n",
        "s0_5 = dadosB[dadosB['Sal'].astype(int) <= 5] #de 0 a 5\n",
        "\n",
        "s6_10 = dadosB[dadosB['Sal'].astype(int) > 5] #maior que 5\n",
        "s6_10 = s6_10[s6_10['Sal'].astype(int) <= 10] #menor igual 10\n",
        "\n",
        "s11_15 = dadosB[dadosB['Sal'].astype(int) > 10] #maior que 10\n",
        "s11_15 = s11_15[s11_15['Sal'].astype(int) <= 15] #menor igual 15\n",
        "\n",
        "s16_20 = dadosB[dadosB['Sal'].astype(int) > 15] #maior que 15\n",
        "s16_20 = s16_20[s16_20['Sal'].astype(int) <= 20] #menor igual 20\n",
        "\n",
        "s21_25 = dadosB[dadosB['Sal'].astype(int) > 20] #maior que 20\n",
        "s21_25 = s21_25[s21_25['Sal'].astype(int) <= 25] #menor igual 25\n",
        "\n",
        "totalB = len(s0_5) + len(s6_10) + len(s11_15) + len(s16_20) + len(s21_25)\n",
        "dict_salariosB = {'Faixas Salariais': ['Salários de 0 a 5', 'Salários de 5 a 10', 'Salários de 10 a 15', 'Salários de 15 a 20', 'Salários de 20 a 25'],\n",
        "                  'Frequência (n_i)': [len(s0_5), len(s6_10), len(s11_15), len(s16_20), len(s21_25)],\n",
        "                  'Proporção (f_i)' : [len(s0_5)/totalB, len(s6_10)/totalB, len(s11_15)/totalB, len(s16_20)/totalB, len(s21_25)/totalB],\n",
        "                  '%(100×f_i)': [round((len(s0_5)*100/totalB), 4), round((len(s6_10)*100/totalB), 4), round((len(s11_15)*100/totalB), 4), \n",
        "                                 round((len(s16_20)*100/totalB), 4), round((len(s21_25)*100/totalB), 4)]\n",
        "                }\n",
        "salB = pd.DataFrame(dict_salariosB)\n",
        "salB"
      ],
      "execution_count": 227,
      "outputs": [
        {
          "output_type": "stream",
          "text": [
            "Menor salário: 0.61\n",
            "Maior salário: 23.56\n"
          ],
          "name": "stdout"
        },
        {
          "output_type": "execute_result",
          "data": {
            "text/html": [
              "<div>\n",
              "<style scoped>\n",
              "    .dataframe tbody tr th:only-of-type {\n",
              "        vertical-align: middle;\n",
              "    }\n",
              "\n",
              "    .dataframe tbody tr th {\n",
              "        vertical-align: top;\n",
              "    }\n",
              "\n",
              "    .dataframe thead th {\n",
              "        text-align: right;\n",
              "    }\n",
              "</style>\n",
              "<table border=\"1\" class=\"dataframe\">\n",
              "  <thead>\n",
              "    <tr style=\"text-align: right;\">\n",
              "      <th></th>\n",
              "      <th>Faixas Salariais</th>\n",
              "      <th>Frequência (n_i)</th>\n",
              "      <th>Proporção (f_i)</th>\n",
              "      <th>%(100×f_i)</th>\n",
              "    </tr>\n",
              "  </thead>\n",
              "  <tbody>\n",
              "    <tr>\n",
              "      <th>0</th>\n",
              "      <td>Salários de 0 a 5</td>\n",
              "      <td>92</td>\n",
              "      <td>0.357977</td>\n",
              "      <td>35.7977</td>\n",
              "    </tr>\n",
              "    <tr>\n",
              "      <th>1</th>\n",
              "      <td>Salários de 5 a 10</td>\n",
              "      <td>106</td>\n",
              "      <td>0.412451</td>\n",
              "      <td>41.2451</td>\n",
              "    </tr>\n",
              "    <tr>\n",
              "      <th>2</th>\n",
              "      <td>Salários de 10 a 15</td>\n",
              "      <td>47</td>\n",
              "      <td>0.182879</td>\n",
              "      <td>18.2879</td>\n",
              "    </tr>\n",
              "    <tr>\n",
              "      <th>3</th>\n",
              "      <td>Salários de 15 a 20</td>\n",
              "      <td>8</td>\n",
              "      <td>0.031128</td>\n",
              "      <td>3.1128</td>\n",
              "    </tr>\n",
              "    <tr>\n",
              "      <th>4</th>\n",
              "      <td>Salários de 20 a 25</td>\n",
              "      <td>4</td>\n",
              "      <td>0.015564</td>\n",
              "      <td>1.5564</td>\n",
              "    </tr>\n",
              "  </tbody>\n",
              "</table>\n",
              "</div>"
            ],
            "text/plain": [
              "      Faixas Salariais  Frequência (n_i)  Proporção (f_i)  %(100×f_i)\n",
              "0    Salários de 0 a 5                92         0.357977     35.7977\n",
              "1   Salários de 5 a 10               106         0.412451     41.2451\n",
              "2  Salários de 10 a 15                47         0.182879     18.2879\n",
              "3  Salários de 15 a 20                 8         0.031128      3.1128\n",
              "4  Salários de 20 a 25                 4         0.015564      1.5564"
            ]
          },
          "metadata": {
            "tags": []
          },
          "execution_count": 227
        }
      ]
    },
    {
      "cell_type": "markdown",
      "metadata": {
        "id": "aS-elAIonZKZ"
      },
      "source": [
        "### dados_grupo_3_Incremento_salario_comp_B.csv"
      ]
    },
    {
      "cell_type": "code",
      "metadata": {
        "colab": {
          "base_uri": "https://localhost:8080/",
          "height": 112
        },
        "id": "C0BIO_UBnUZO",
        "outputId": "7d187cf9-9c62-4ffe-88f1-8228abfd0940"
      },
      "source": [
        "sB = pd.DataFrame(salarioB['Indicador incremento salario real'].value_counts())\n",
        "sB['Proporção (f_i)'] = sB['Indicador incremento salario real']/sB['Indicador incremento salario real'].sum()\n",
        "sB['%(100×f_i)'] = sB['Indicador incremento salario real']/sB['Indicador incremento salario real'].sum()*100\n",
        "sB['%(100×f_i)'] = round(sB['%(100×f_i)'], 2)\n",
        "sB = sB.rename(columns = {'index':'Indicador incremento salario real', 'Indicador incremento salario real':'Frequência (n_i)'})\n",
        "sB"
      ],
      "execution_count": 228,
      "outputs": [
        {
          "output_type": "execute_result",
          "data": {
            "text/html": [
              "<div>\n",
              "<style scoped>\n",
              "    .dataframe tbody tr th:only-of-type {\n",
              "        vertical-align: middle;\n",
              "    }\n",
              "\n",
              "    .dataframe tbody tr th {\n",
              "        vertical-align: top;\n",
              "    }\n",
              "\n",
              "    .dataframe thead th {\n",
              "        text-align: right;\n",
              "    }\n",
              "</style>\n",
              "<table border=\"1\" class=\"dataframe\">\n",
              "  <thead>\n",
              "    <tr style=\"text-align: right;\">\n",
              "      <th></th>\n",
              "      <th>Frequência (n_i)</th>\n",
              "      <th>Proporção (f_i)</th>\n",
              "      <th>%(100×f_i)</th>\n",
              "    </tr>\n",
              "  </thead>\n",
              "  <tbody>\n",
              "    <tr>\n",
              "      <th>1</th>\n",
              "      <td>514</td>\n",
              "      <td>0.5261</td>\n",
              "      <td>52.61</td>\n",
              "    </tr>\n",
              "    <tr>\n",
              "      <th>0</th>\n",
              "      <td>463</td>\n",
              "      <td>0.4739</td>\n",
              "      <td>47.39</td>\n",
              "    </tr>\n",
              "  </tbody>\n",
              "</table>\n",
              "</div>"
            ],
            "text/plain": [
              "   Frequência (n_i)  Proporção (f_i)  %(100×f_i)\n",
              "1               514           0.5261       52.61\n",
              "0               463           0.4739       47.39"
            ]
          },
          "metadata": {
            "tags": []
          },
          "execution_count": 228
        }
      ]
    },
    {
      "cell_type": "markdown",
      "metadata": {
        "id": "xO_1EhlBJa6d"
      },
      "source": [
        "## $1.iii)$ Apresente um gráfico de distribuição de frequências para cada variável."
      ]
    },
    {
      "cell_type": "markdown",
      "metadata": {
        "id": "won-HKepJ9lJ"
      },
      "source": [
        "### dados_grupo_3_comp_A.csv"
      ]
    },
    {
      "cell_type": "code",
      "metadata": {
        "id": "Gpe9_9aMnnNt",
        "colab": {
          "base_uri": "https://localhost:8080/",
          "height": 295
        },
        "outputId": "8a674a4f-bb81-412a-ed7d-8afe015a13f4"
      },
      "source": [
        "plt.bar(sexA.index, list(sexA['Frequência (n_i)']), color = 'blue')\n",
        "plt.title(\"Distribuição de Frequências da Variável 'Sex' da Companhia A\")\n",
        "plt.xlabel(\"Sexos\")\n",
        "plt.ylabel(\"Frequência ($n_i$)\")\n",
        "plt.grid()\n",
        "plt.show()"
      ],
      "execution_count": 229,
      "outputs": [
        {
          "output_type": "display_data",
          "data": {
            "image/png": "[encoded data removed]",
            "text/plain": [
              "<Figure size 432x288 with 1 Axes>"
            ]
          },
          "metadata": {
            "tags": [],
            "needs_background": "light"
          }
        }
      ]
    },
    {
      "cell_type": "code",
      "metadata": {
        "colab": {
          "base_uri": "https://localhost:8080/",
          "height": 295
        },
        "id": "kXmLFh77KCCO",
        "outputId": "2d7d529b-992b-43e9-bc49-913bf648c449"
      },
      "source": [
        "plt.bar(educA.index, list(educA['Frequência (n_i)']), color = 'blue')\n",
        "plt.title(\"Distribuição de Frequências da Variável 'Educ' da Companhia A\")\n",
        "plt.xlabel(\"Escolaridade\")\n",
        "plt.ylabel(\"Frequência ($n_i$)\")\n",
        "plt.grid()\n",
        "plt.show()"
      ],
      "execution_count": 230,
      "outputs": [
        {
          "output_type": "display_data",
          "data": {
            "image/png": "[encoded data removed]",
            "text/plain": [
              "<Figure size 432x288 with 1 Axes>"
            ]
          },
          "metadata": {
            "tags": [],
            "needs_background": "light"
          }
        }
      ]
    },
    {
      "cell_type": "code",
      "metadata": {
        "colab": {
          "base_uri": "https://localhost:8080/",
          "height": 295
        },
        "id": "tJww0KFQMJWC",
        "outputId": "e3eee977-ed6c-43c6-d6ae-da1b3dd1f198"
      },
      "source": [
        "plt.bar(cargoA.index, list(cargoA['Frequência (n_i)']), color = 'blue')\n",
        "plt.title(\"Distribuição de Frequências da Variável 'cargo' da Companhia A\")\n",
        "plt.xlabel(\"Cargos\")\n",
        "plt.ylabel(\"Frequência ($n_i$)\")\n",
        "plt.grid()\n",
        "plt.show()"
      ],
      "execution_count": 231,
      "outputs": [
        {
          "output_type": "display_data",
          "data": {
            "image/png": "[encoded data removed]",
            "text/plain": [
              "<Figure size 432x288 with 1 Axes>"
            ]
          },
          "metadata": {
            "tags": [],
            "needs_background": "light"
          }
        }
      ]
    },
    {
      "cell_type": "code",
      "metadata": {
        "colab": {
          "base_uri": "https://localhost:8080/",
          "height": 307
        },
        "id": "NZnV-P28Ty33",
        "outputId": "88955676-da0c-4dd1-9f9e-e0ea4037d6dc"
      },
      "source": [
        "plt.bar(['Salários \\nde 0 a 5', 'Salários \\nde 5 a 10', 'Salários \\nde 10 a 15', 'Salários \\nde 15 a 20', 'Salários \\nde 20 a 25'], list(salA['Frequência (n_i)']), color = 'blue')\n",
        "plt.title(\"Distribuição de Frequências da Variável 'Sal' da Companhia A\")\n",
        "plt.xlabel(\"Faixas Salariais\")\n",
        "plt.ylabel(\"Frequência ($n_i$)\")\n",
        "plt.grid()\n",
        "plt.show()"
      ],
      "execution_count": 232,
      "outputs": [
        {
          "output_type": "display_data",
          "data": {
            "image/png": "[encoded data removed]",
            "text/plain": [
              "<Figure size 432x288 with 1 Axes>"
            ]
          },
          "metadata": {
            "tags": [],
            "needs_background": "light"
          }
        }
      ]
    },
    {
      "cell_type": "markdown",
      "metadata": {
        "id": "uBzUbl0qU_t0"
      },
      "source": [
        "### dados_grupo_3_Incremento_salario_comp_A.csv"
      ]
    },
    {
      "cell_type": "code",
      "metadata": {
        "colab": {
          "base_uri": "https://localhost:8080/",
          "height": 310
        },
        "id": "MelsVkFBUBhj",
        "outputId": "e0666b2f-a4b8-4e46-d939-c61e71832bf8"
      },
      "source": [
        "plt.bar(['Salário sem Aumento', 'Salário com Aumento'], list(sA['Frequência (n_i)']), color = 'blue')\n",
        "plt.title(\"Distribuição de Frequências da Variável \\n 'Indicador incremento salário real' da Companhia A\")\n",
        "plt.xlabel(\"Incremento Salarial\")\n",
        "plt.ylabel(\"Frequência ($n_i$)\")\n",
        "plt.grid()\n",
        "plt.show()"
      ],
      "execution_count": 233,
      "outputs": [
        {
          "output_type": "display_data",
          "data": {
            "image/png": "[encoded data removed]",
            "text/plain": [
              "<Figure size 432x288 with 1 Axes>"
            ]
          },
          "metadata": {
            "tags": [],
            "needs_background": "light"
          }
        }
      ]
    },
    {
      "cell_type": "markdown",
      "metadata": {
        "id": "irqKDL7LYRqa"
      },
      "source": [
        "### dados_grupo_3_comp_B.csv"
      ]
    },
    {
      "cell_type": "code",
      "metadata": {
        "colab": {
          "base_uri": "https://localhost:8080/",
          "height": 295
        },
        "id": "3d_RNncVYSkt",
        "outputId": "084e51f1-2b9f-4ee7-c0c1-712bb704c181"
      },
      "source": [
        "plt.bar(sexB.index, list(sexB['Frequência (n_i)']), color = 'blue')\n",
        "plt.title(\"Distribuição de Frequências da Variável 'Sex' da Companhia B\")\n",
        "plt.xlabel(\"Sexos\")\n",
        "plt.ylabel(\"Frequência ($n_i$)\")\n",
        "plt.grid()\n",
        "plt.show()"
      ],
      "execution_count": 234,
      "outputs": [
        {
          "output_type": "display_data",
          "data": {
            "image/png": "[encoded data removed]",
            "text/plain": [
              "<Figure size 432x288 with 1 Axes>"
            ]
          },
          "metadata": {
            "tags": [],
            "needs_background": "light"
          }
        }
      ]
    },
    {
      "cell_type": "code",
      "metadata": {
        "colab": {
          "base_uri": "https://localhost:8080/",
          "height": 295
        },
        "id": "ds07ovXiKoAN",
        "outputId": "aade4325-22a1-42ef-e8b3-3f5c6e1223c8"
      },
      "source": [
        "plt.bar(educB.index, list(educB['Frequência (n_i)']), color = 'blue')\n",
        "plt.title(\"Distribuição de Frequências da Variável 'Educ' da Companhia B\")\n",
        "plt.xlabel(\"Escolaridade\")\n",
        "plt.ylabel(\"Frequência ($n_i$)\")\n",
        "plt.grid()\n",
        "plt.show()"
      ],
      "execution_count": 235,
      "outputs": [
        {
          "output_type": "display_data",
          "data": {
            "image/png": "[encoded data removed]",
            "text/plain": [
              "<Figure size 432x288 with 1 Axes>"
            ]
          },
          "metadata": {
            "tags": [],
            "needs_background": "light"
          }
        }
      ]
    },
    {
      "cell_type": "code",
      "metadata": {
        "colab": {
          "base_uri": "https://localhost:8080/",
          "height": 295
        },
        "id": "gBJQDw-dLAyA",
        "outputId": "8fa9b01a-69c1-4155-8b15-a952c810752c"
      },
      "source": [
        "plt.bar(cargoB.index, list(cargoB['Frequência (n_i)']), color = 'blue')\n",
        "plt.title(\"Distribuição de Frequências da Variável 'cargo' da Companhia B\")\n",
        "plt.xlabel(\"Cargos\")\n",
        "plt.ylabel(\"Frequência ($n_i$)\")\n",
        "plt.grid()\n",
        "plt.show()"
      ],
      "execution_count": 236,
      "outputs": [
        {
          "output_type": "display_data",
          "data": {
            "image/png": "[encoded data removed]",
            "text/plain": [
              "<Figure size 432x288 with 1 Axes>"
            ]
          },
          "metadata": {
            "tags": [],
            "needs_background": "light"
          }
        }
      ]
    },
    {
      "cell_type": "code",
      "metadata": {
        "colab": {
          "base_uri": "https://localhost:8080/",
          "height": 307
        },
        "id": "a2d93V2ULFli",
        "outputId": "653271c7-758e-4daf-e0ff-5713313936a0"
      },
      "source": [
        "plt.bar(['Salários \\nde 0 a 5', 'Salários \\nde 5 a 10', 'Salários \\nde 10 a 15', 'Salários \\nde 15 a 20', 'Salários \\nde 20 a 25'], list(salB['Frequência (n_i)']), color = 'blue')\n",
        "plt.title(\"Distribuição de Frequências da Variável 'Sal' da Companhia B\")\n",
        "plt.xlabel(\"Faixas Salariais\")\n",
        "plt.ylabel(\"Frequência ($n_i$)\")\n",
        "plt.grid()\n",
        "plt.show()"
      ],
      "execution_count": 237,
      "outputs": [
        {
          "output_type": "display_data",
          "data": {
            "image/png": "[encoded data removed]",
            "text/plain": [
              "<Figure size 432x288 with 1 Axes>"
            ]
          },
          "metadata": {
            "tags": [],
            "needs_background": "light"
          }
        }
      ]
    },
    {
      "cell_type": "markdown",
      "metadata": {
        "id": "yjb4sZrtLQPj"
      },
      "source": [
        "### dados_grupo_3_Incremento_salario_comp_B.csv"
      ]
    },
    {
      "cell_type": "code",
      "metadata": {
        "colab": {
          "base_uri": "https://localhost:8080/",
          "height": 310
        },
        "id": "zQaeesWwLMk4",
        "outputId": "6dd17033-f3bb-45ee-95e4-f0dfe749ded2"
      },
      "source": [
        "plt.bar(['Salário sem Aumento', 'Salário com Aumento'], list(sB['Frequência (n_i)']), color = 'blue')\n",
        "plt.title(\"Distribuição de Frequências da Variável \\n 'Indicador incremento salário real' da Companhia B\")\n",
        "plt.xlabel(\"Incremento Salarial\")\n",
        "plt.ylabel(\"Frequência ($n_i$)\")\n",
        "plt.grid()\n",
        "plt.show()"
      ],
      "execution_count": 238,
      "outputs": [
        {
          "output_type": "display_data",
          "data": {
            "image/png": "[encoded data removed]",
            "text/plain": [
              "<Figure size 432x288 with 1 Axes>"
            ]
          },
          "metadata": {
            "tags": [],
            "needs_background": "light"
          }
        }
      ]
    },
    {
      "cell_type": "markdown",
      "metadata": {
        "id": "yfkWp368NJ9w"
      },
      "source": [
        "## $1.iv)$ Apresente um boxplot para a variável salário.\n"
      ]
    },
    {
      "cell_type": "markdown",
      "metadata": {
        "id": "dJem4J5XPmhP"
      },
      "source": [
        "### Companhia A"
      ]
    },
    {
      "cell_type": "code",
      "metadata": {
        "colab": {
          "base_uri": "https://localhost:8080/",
          "height": 872
        },
        "id": "HhvR548sNLBd",
        "outputId": "78a823a7-927c-46b0-d480-cc018c60e7bd"
      },
      "source": [
        "dados_sal_A = (pd.Series(dadosA['Sal'])).sort_values()\n",
        "print(dados_sal_A.describe())\n",
        "green_diamond = dict(markerfacecolor='r', marker='o')\n",
        "plt.figure(figsize=(20, 12))\n",
        "plt.boxplot(dados_sal_A, flierprops=green_diamond)\n",
        "plt.title(\"Boxplot da variável salário 'Sal' da Companhia A\")\n",
        "plt.xticks([1],[\"Sal\"])\n",
        "plt.grid()\n",
        "plt.text(0.95, 7.5, 'Mediana = 7.300', fontsize = 12)\n",
        "plt.text(0.97, 5.2, 'Q1 = 5.015', fontsize = 12)\n",
        "plt.text(0.97, 10.1, 'Q2 = 9.870', fontsize = 12)\n",
        "plt.text(1.05, 21.2, 'Outliers', fontsize = 12)\n",
        "plt.text(1.03, 24.44, '|', fontsize = 12)\n",
        "plt.text(1.03, 23.95, '|', fontsize = 12)\n",
        "plt.text(1.03, 23.46, '|', fontsize = 12)\n",
        "plt.text(1.03, 22.97, '|', fontsize = 12)\n",
        "plt.text(1.03, 22.48, '|', fontsize = 12)\n",
        "plt.text(1.03, 21.99, '|', fontsize = 12)\n",
        "plt.text(1.03, 21.5, '|', fontsize = 12)\n",
        "plt.text(1.03, 21.2, '>', fontsize = 12)\n",
        "plt.text(1.03, 20.83, '|', fontsize = 12)\n",
        "plt.text(1.03, 20.34, '|', fontsize = 12)\n",
        "plt.text(1.03, 19.85, '|', fontsize = 12)\n",
        "plt.text(1.03, 19.36, '|', fontsize = 12)\n",
        "plt.text(1.03, 18.87, '|', fontsize = 12)\n",
        "plt.text(1.03, 18.38, '|', fontsize = 12)\n",
        "plt.text(1.03, 17.89, '|', fontsize = 12)\n",
        "plt.text(1.03, 17.4, '|', fontsize = 12)\n",
        "plt.show()"
      ],
      "execution_count": 239,
      "outputs": [
        {
          "output_type": "stream",
          "text": [
            "count    248.000000\n",
            "mean       8.826411\n",
            "std        5.723983\n",
            "min        0.560000\n",
            "25%        5.015000\n",
            "50%        7.300000\n",
            "75%        9.870000\n",
            "max       24.760000\n",
            "Name: Sal, dtype: float64\n"
          ],
          "name": "stdout"
        },
        {
          "output_type": "display_data",
          "data": {
            "image/png": "[encoded data removed]",
            "text/plain": [
              "<Figure size 1440x864 with 1 Axes>"
            ]
          },
          "metadata": {
            "tags": [],
            "needs_background": "light"
          }
        }
      ]
    },
    {
      "cell_type": "markdown",
      "metadata": {
        "id": "q6fNe3ONIwLj"
      },
      "source": [
        "### Companhia B"
      ]
    },
    {
      "cell_type": "code",
      "metadata": {
        "colab": {
          "base_uri": "https://localhost:8080/",
          "height": 872
        },
        "id": "9lWJbmxcIRyQ",
        "outputId": "7d109654-fb5b-4bd6-9a07-33ca912de2a3"
      },
      "source": [
        "dados_sal_B = (pd.Series(dadosB['Sal'])).sort_values()\n",
        "print(dados_sal_B.describe())\n",
        "green_diamond = dict(markerfacecolor='r', marker='o')\n",
        "plt.figure(figsize=(20, 12))\n",
        "plt.boxplot(dados_sal_B, flierprops=green_diamond)\n",
        "plt.title(\"Boxplot da variável salário 'Sal' da Companhia B\")\n",
        "plt.xticks([1],[\"Sal\"])\n",
        "plt.grid()\n",
        "plt.text(0.95, 7.8, 'Mediana = 7.730', fontsize = 12)\n",
        "plt.text(0.97, 4.6, 'Q1 = 4.480', fontsize = 12)\n",
        "plt.text(0.97, 10.75, 'Q2 = 10.620', fontsize = 12)\n",
        "plt.text(1.05, 21.2, 'Outliers', fontsize = 12)\n",
        "plt.text(1.03, 23.46, '|', fontsize = 12)\n",
        "plt.text(1.03, 22.97, '|', fontsize = 12)\n",
        "plt.text(1.03, 22.48, '|', fontsize = 12)\n",
        "plt.text(1.03, 21.99, '|', fontsize = 12)\n",
        "plt.text(1.03, 21.5, '|', fontsize = 12)\n",
        "plt.text(1.03, 21.2, '>', fontsize = 12)\n",
        "plt.text(1.03, 20.83, '|', fontsize = 12)\n",
        "plt.text(1.03, 20.34, '|', fontsize = 12)\n",
        "plt.show()"
      ],
      "execution_count": 240,
      "outputs": [
        {
          "output_type": "stream",
          "text": [
            "count    257.000000\n",
            "mean       8.077626\n",
            "std        4.539631\n",
            "min        0.610000\n",
            "25%        4.480000\n",
            "50%        7.730000\n",
            "75%       10.620000\n",
            "max       23.560000\n",
            "Name: Sal, dtype: float64\n"
          ],
          "name": "stdout"
        },
        {
          "output_type": "display_data",
          "data": {
            "image/png": "[encoded data removed]",
            "text/plain": [
              "<Figure size 1440x864 with 1 Axes>"
            ]
          },
          "metadata": {
            "tags": [],
            "needs_background": "light"
          }
        }
      ]
    },
    {
      "cell_type": "markdown",
      "metadata": {
        "id": "G-6YwAJmG1jN"
      },
      "source": [
        "# $2ª\\ Parte:$ Para cada companhia, analise a dependência entre as variáveis"
      ]
    },
    {
      "cell_type": "markdown",
      "metadata": {
        "id": "-1W0Lq_VIS37"
      },
      "source": [
        "## $2.i)$ Analise a dependência entre as variáveis sexo e educação"
      ]
    },
    {
      "cell_type": "markdown",
      "metadata": {
        "id": "a9nmWOKpK7Vm"
      },
      "source": [
        "###Companhia A"
      ]
    },
    {
      "cell_type": "markdown",
      "metadata": {
        "id": "iBh6znE4G3Eh"
      },
      "source": [
        "**Distribuição Conjunta**"
      ]
    },
    {
      "cell_type": "code",
      "metadata": {
        "colab": {
          "base_uri": "https://localhost:8080/",
          "height": 175
        },
        "id": "vFCG9dVsF09Q",
        "outputId": "461ffdd4-a397-40e8-a3f7-f798bad50c16"
      },
      "source": [
        "corrSexEducA = {'Educação': ['prim', 'sec', 'terc', 'Total'],\n",
        "                  'Masculino': [dadosA.query(\"Educ == 'prim' and Sexo == 'masc'\").shape[0],\n",
        "                                dadosA.query(\"Educ == 'sec' and Sexo == 'masc'\").shape[0],\n",
        "                                dadosA.query(\"Educ == 'terc' and Sexo == 'masc'\").shape[0],\n",
        "                                sexA['Frequência (n_i)'][0]\n",
        "                   ],\n",
        "                  'Feminino' : [dadosA.query(\"Educ == 'prim' and Sexo == 'fem'\").shape[0],\n",
        "                                dadosA.query(\"Educ == 'sec' and Sexo == 'fem'\").shape[0],\n",
        "                                dadosA.query(\"Educ == 'terc' and Sexo == 'fem'\").shape[0],\n",
        "                                sexA['Frequência (n_i)'][1]\n",
        "                   ],\n",
        "                  'Total': [educA['Frequência (n_i)'][1], \n",
        "                            educA['Frequência (n_i)'][0], \n",
        "                            educA['Frequência (n_i)'][2], \n",
        "                            sexA['Frequência (n_i)'][0] + sexA['Frequência (n_i)'][1]\n",
        "                   ],\n",
        "                }\n",
        "distConjuntaSexEducA = pd.DataFrame(corrSexEducA)\n",
        "distConjuntaSexEducA"
      ],
      "execution_count": 241,
      "outputs": [
        {
          "output_type": "execute_result",
          "data": {
            "text/html": [
              "<div>\n",
              "<style scoped>\n",
              "    .dataframe tbody tr th:only-of-type {\n",
              "        vertical-align: middle;\n",
              "    }\n",
              "\n",
              "    .dataframe tbody tr th {\n",
              "        vertical-align: top;\n",
              "    }\n",
              "\n",
              "    .dataframe thead th {\n",
              "        text-align: right;\n",
              "    }\n",
              "</style>\n",
              "<table border=\"1\" class=\"dataframe\">\n",
              "  <thead>\n",
              "    <tr style=\"text-align: right;\">\n",
              "      <th></th>\n",
              "      <th>Educação</th>\n",
              "      <th>Masculino</th>\n",
              "      <th>Feminino</th>\n",
              "      <th>Total</th>\n",
              "    </tr>\n",
              "  </thead>\n",
              "  <tbody>\n",
              "    <tr>\n",
              "      <th>0</th>\n",
              "      <td>prim</td>\n",
              "      <td>50</td>\n",
              "      <td>53</td>\n",
              "      <td>103</td>\n",
              "    </tr>\n",
              "    <tr>\n",
              "      <th>1</th>\n",
              "      <td>sec</td>\n",
              "      <td>71</td>\n",
              "      <td>43</td>\n",
              "      <td>114</td>\n",
              "    </tr>\n",
              "    <tr>\n",
              "      <th>2</th>\n",
              "      <td>terc</td>\n",
              "      <td>21</td>\n",
              "      <td>10</td>\n",
              "      <td>31</td>\n",
              "    </tr>\n",
              "    <tr>\n",
              "      <th>3</th>\n",
              "      <td>Total</td>\n",
              "      <td>142</td>\n",
              "      <td>106</td>\n",
              "      <td>248</td>\n",
              "    </tr>\n",
              "  </tbody>\n",
              "</table>\n",
              "</div>"
            ],
            "text/plain": [
              "  Educação  Masculino  Feminino  Total\n",
              "0     prim         50        53    103\n",
              "1      sec         71        43    114\n",
              "2     terc         21        10     31\n",
              "3    Total        142       106    248"
            ]
          },
          "metadata": {
            "tags": []
          },
          "execution_count": 241
        }
      ]
    },
    {
      "cell_type": "markdown",
      "metadata": {
        "id": "bNhf4spLGw01"
      },
      "source": [
        "**Distribuição das frequências relativas ao total por coluna**\n",
        "\n",
        "Se não houver dependência a proporcão do total deverá ser parecida da proporção por cada categoria."
      ]
    },
    {
      "cell_type": "code",
      "metadata": {
        "colab": {
          "base_uri": "https://localhost:8080/",
          "height": 175
        },
        "id": "BYp5U7GyGSN8",
        "outputId": "575dd250-4f7c-4573-db58-7c86bc0fbf50"
      },
      "source": [
        "corrSexEducA = {'Educação': ['prim', 'sec', 'terc', 'Total'],\n",
        "                  'Masculino (%)': [dadosA.query(\"Educ == 'prim' and Sexo == 'masc'\").shape[0]/sexA['Frequência (n_i)'][0]*100,\n",
        "                                dadosA.query(\"Educ == 'sec' and Sexo == 'masc'\").shape[0]/sexA['Frequência (n_i)'][0]*100,\n",
        "                                dadosA.query(\"Educ == 'terc' and Sexo == 'masc'\").shape[0]/sexA['Frequência (n_i)'][0]*100,\n",
        "                                sexA['Frequência (n_i)'][0]/sexA['Frequência (n_i)'][0]*100\n",
        "                   ],\n",
        "                  'Feminino (%)' : [dadosA.query(\"Educ == 'prim' and Sexo == 'fem'\").shape[0]/sexA['Frequência (n_i)'][1]*100,\n",
        "                                dadosA.query(\"Educ == 'sec' and Sexo == 'fem'\").shape[0]/sexA['Frequência (n_i)'][1]*100,\n",
        "                                dadosA.query(\"Educ == 'terc' and Sexo == 'fem'\").shape[0]/sexA['Frequência (n_i)'][1]*100,\n",
        "                                sexA['Frequência (n_i)'][1]/sexA['Frequência (n_i)'][1]*100\n",
        "                   ],\n",
        "                  'Total (%)': [educA['Frequência (n_i)'][1]/(sexA['Frequência (n_i)'][0] + sexA['Frequência (n_i)'][1])*100, \n",
        "                            educA['Frequência (n_i)'][0]/(sexA['Frequência (n_i)'][0] + sexA['Frequência (n_i)'][1])*100, \n",
        "                            educA['Frequência (n_i)'][2]/(sexA['Frequência (n_i)'][0] + sexA['Frequência (n_i)'][1])*100, \n",
        "                            (sexA['Frequência (n_i)'][0] + sexA['Frequência (n_i)'][1])/(sexA['Frequência (n_i)'][0] + sexA['Frequência (n_i)'][1])*100\n",
        "                   ],\n",
        "                }\n",
        "distRelColSexEducA = pd.DataFrame(corrSexEducA)\n",
        "distRelColSexEducA.round(1)"
      ],
      "execution_count": 242,
      "outputs": [
        {
          "output_type": "execute_result",
          "data": {
            "text/html": [
              "<div>\n",
              "<style scoped>\n",
              "    .dataframe tbody tr th:only-of-type {\n",
              "        vertical-align: middle;\n",
              "    }\n",
              "\n",
              "    .dataframe tbody tr th {\n",
              "        vertical-align: top;\n",
              "    }\n",
              "\n",
              "    .dataframe thead th {\n",
              "        text-align: right;\n",
              "    }\n",
              "</style>\n",
              "<table border=\"1\" class=\"dataframe\">\n",
              "  <thead>\n",
              "    <tr style=\"text-align: right;\">\n",
              "      <th></th>\n",
              "      <th>Educação</th>\n",
              "      <th>Masculino (%)</th>\n",
              "      <th>Feminino (%)</th>\n",
              "      <th>Total (%)</th>\n",
              "    </tr>\n",
              "  </thead>\n",
              "  <tbody>\n",
              "    <tr>\n",
              "      <th>0</th>\n",
              "      <td>prim</td>\n",
              "      <td>35.2</td>\n",
              "      <td>50.0</td>\n",
              "      <td>41.5</td>\n",
              "    </tr>\n",
              "    <tr>\n",
              "      <th>1</th>\n",
              "      <td>sec</td>\n",
              "      <td>50.0</td>\n",
              "      <td>40.6</td>\n",
              "      <td>46.0</td>\n",
              "    </tr>\n",
              "    <tr>\n",
              "      <th>2</th>\n",
              "      <td>terc</td>\n",
              "      <td>14.8</td>\n",
              "      <td>9.4</td>\n",
              "      <td>12.5</td>\n",
              "    </tr>\n",
              "    <tr>\n",
              "      <th>3</th>\n",
              "      <td>Total</td>\n",
              "      <td>100.0</td>\n",
              "      <td>100.0</td>\n",
              "      <td>100.0</td>\n",
              "    </tr>\n",
              "  </tbody>\n",
              "</table>\n",
              "</div>"
            ],
            "text/plain": [
              "  Educação  Masculino (%)  Feminino (%)  Total (%)\n",
              "0     prim           35.2          50.0       41.5\n",
              "1      sec           50.0          40.6       46.0\n",
              "2     terc           14.8           9.4       12.5\n",
              "3    Total          100.0         100.0      100.0"
            ]
          },
          "metadata": {
            "tags": []
          },
          "execution_count": 242
        }
      ]
    },
    {
      "cell_type": "markdown",
      "metadata": {
        "id": "Fg5OdGcrJp9E"
      },
      "source": [
        "**Distribuição das frequências relativas ao total por linhas**\n",
        "\n",
        "Se não houver dependência a proporcão do total deverá ser parecida da proporção por cada categoria."
      ]
    },
    {
      "cell_type": "code",
      "metadata": {
        "colab": {
          "base_uri": "https://localhost:8080/",
          "height": 175
        },
        "id": "PfbSpf67O1Gi",
        "outputId": "38fadb52-f059-4a55-d80b-a7157ccb50c8"
      },
      "source": [
        "corrSexEducA = {'Educação': ['prim', 'sec', 'terc', 'Total'],\n",
        "                  'Masculino (%)': [dadosA.query(\"Educ == 'prim' and Sexo == 'masc'\").shape[0]/educA['Frequência (n_i)'][1]*100,\n",
        "                                dadosA.query(\"Educ == 'sec' and Sexo == 'masc'\").shape[0]/educA['Frequência (n_i)'][0]*100,\n",
        "                                dadosA.query(\"Educ == 'terc' and Sexo == 'masc'\").shape[0]/educA['Frequência (n_i)'][2]*100,\n",
        "                                sexA['Frequência (n_i)'][0]/(sexA['Frequência (n_i)'][0] + sexA['Frequência (n_i)'][1])*100\n",
        "                   ],\n",
        "                  'Feminino (%)' : [dadosA.query(\"Educ == 'prim' and Sexo == 'fem'\").shape[0]/educA['Frequência (n_i)'][1]*100,\n",
        "                                dadosA.query(\"Educ == 'sec' and Sexo == 'fem'\").shape[0]/educA['Frequência (n_i)'][0]*100,\n",
        "                                dadosA.query(\"Educ == 'terc' and Sexo == 'fem'\").shape[0]/educA['Frequência (n_i)'][2]*100,\n",
        "                                sexA['Frequência (n_i)'][1]/(sexA['Frequência (n_i)'][0] + sexA['Frequência (n_i)'][1])*100\n",
        "                   ],\n",
        "                  'Total (%)': [educA['Frequência (n_i)'][1]/educA['Frequência (n_i)'][1]*100, \n",
        "                            educA['Frequência (n_i)'][0]/educA['Frequência (n_i)'][0]*100, \n",
        "                            educA['Frequência (n_i)'][2]/educA['Frequência (n_i)'][2]*100, \n",
        "                            (sexA['Frequência (n_i)'][0] + sexA['Frequência (n_i)'][1])/(sexA['Frequência (n_i)'][0] + sexA['Frequência (n_i)'][1])*100\n",
        "                   ],\n",
        "                }\n",
        "distRelLinhaSexEducA = pd.DataFrame(corrSexEducA)\n",
        "distRelLinhaSexEducA.round(1)"
      ],
      "execution_count": 243,
      "outputs": [
        {
          "output_type": "execute_result",
          "data": {
            "text/html": [
              "<div>\n",
              "<style scoped>\n",
              "    .dataframe tbody tr th:only-of-type {\n",
              "        vertical-align: middle;\n",
              "    }\n",
              "\n",
              "    .dataframe tbody tr th {\n",
              "        vertical-align: top;\n",
              "    }\n",
              "\n",
              "    .dataframe thead th {\n",
              "        text-align: right;\n",
              "    }\n",
              "</style>\n",
              "<table border=\"1\" class=\"dataframe\">\n",
              "  <thead>\n",
              "    <tr style=\"text-align: right;\">\n",
              "      <th></th>\n",
              "      <th>Educação</th>\n",
              "      <th>Masculino (%)</th>\n",
              "      <th>Feminino (%)</th>\n",
              "      <th>Total (%)</th>\n",
              "    </tr>\n",
              "  </thead>\n",
              "  <tbody>\n",
              "    <tr>\n",
              "      <th>0</th>\n",
              "      <td>prim</td>\n",
              "      <td>48.5</td>\n",
              "      <td>51.5</td>\n",
              "      <td>100.0</td>\n",
              "    </tr>\n",
              "    <tr>\n",
              "      <th>1</th>\n",
              "      <td>sec</td>\n",
              "      <td>62.3</td>\n",
              "      <td>37.7</td>\n",
              "      <td>100.0</td>\n",
              "    </tr>\n",
              "    <tr>\n",
              "      <th>2</th>\n",
              "      <td>terc</td>\n",
              "      <td>67.7</td>\n",
              "      <td>32.3</td>\n",
              "      <td>100.0</td>\n",
              "    </tr>\n",
              "    <tr>\n",
              "      <th>3</th>\n",
              "      <td>Total</td>\n",
              "      <td>57.3</td>\n",
              "      <td>42.7</td>\n",
              "      <td>100.0</td>\n",
              "    </tr>\n",
              "  </tbody>\n",
              "</table>\n",
              "</div>"
            ],
            "text/plain": [
              "  Educação  Masculino (%)  Feminino (%)  Total (%)\n",
              "0     prim           48.5          51.5      100.0\n",
              "1      sec           62.3          37.7      100.0\n",
              "2     terc           67.7          32.3      100.0\n",
              "3    Total           57.3          42.7      100.0"
            ]
          },
          "metadata": {
            "tags": []
          },
          "execution_count": 243
        }
      ]
    },
    {
      "cell_type": "markdown",
      "metadata": {
        "id": "4TW16AWDZRav"
      },
      "source": [
        "**Valores esperados para cada posição na tabela de acordo com a porcentagem da distribuição das frequências relativas ao total por linhas**"
      ]
    },
    {
      "cell_type": "code",
      "metadata": {
        "colab": {
          "base_uri": "https://localhost:8080/",
          "height": 143
        },
        "id": "2p8iNrufOeSt",
        "outputId": "4ac02669-426a-48f4-c1d9-cd7e1ef0fd9b"
      },
      "source": [
        "corrSexEducA = {'Educação': ['prim', 'sec', 'terc'],\n",
        "                  'Masculino': [educA['Frequência (n_i)'][1]*sexA['Frequência (n_i)'][0]/(sexA['Frequência (n_i)'][0] + sexA['Frequência (n_i)'][1]),\n",
        "                                educA['Frequência (n_i)'][0]*sexA['Frequência (n_i)'][0]/(sexA['Frequência (n_i)'][0] + sexA['Frequência (n_i)'][1]),\n",
        "                                educA['Frequência (n_i)'][2]*sexA['Frequência (n_i)'][0]/(sexA['Frequência (n_i)'][0] + sexA['Frequência (n_i)'][1])\n",
        "                   ],\n",
        "                  'Feminino' : [sexA['Frequência (n_i)'][1]/(sexA['Frequência (n_i)'][0] + sexA['Frequência (n_i)'][1])*educA['Frequência (n_i)'][1],\n",
        "                                sexA['Frequência (n_i)'][1]/(sexA['Frequência (n_i)'][0] + sexA['Frequência (n_i)'][1])*educA['Frequência (n_i)'][0],\n",
        "                                sexA['Frequência (n_i)'][1]/(sexA['Frequência (n_i)'][0] + sexA['Frequência (n_i)'][1])*educA['Frequência (n_i)'][2]\n",
        "                   ],\n",
        "                }\n",
        "distEsperadaSexEducA = pd.DataFrame(corrSexEducA)\n",
        "distEsperadaSexEducA.round(1)"
      ],
      "execution_count": 244,
      "outputs": [
        {
          "output_type": "execute_result",
          "data": {
            "text/html": [
              "<div>\n",
              "<style scoped>\n",
              "    .dataframe tbody tr th:only-of-type {\n",
              "        vertical-align: middle;\n",
              "    }\n",
              "\n",
              "    .dataframe tbody tr th {\n",
              "        vertical-align: top;\n",
              "    }\n",
              "\n",
              "    .dataframe thead th {\n",
              "        text-align: right;\n",
              "    }\n",
              "</style>\n",
              "<table border=\"1\" class=\"dataframe\">\n",
              "  <thead>\n",
              "    <tr style=\"text-align: right;\">\n",
              "      <th></th>\n",
              "      <th>Educação</th>\n",
              "      <th>Masculino</th>\n",
              "      <th>Feminino</th>\n",
              "    </tr>\n",
              "  </thead>\n",
              "  <tbody>\n",
              "    <tr>\n",
              "      <th>0</th>\n",
              "      <td>prim</td>\n",
              "      <td>59.0</td>\n",
              "      <td>44.0</td>\n",
              "    </tr>\n",
              "    <tr>\n",
              "      <th>1</th>\n",
              "      <td>sec</td>\n",
              "      <td>65.3</td>\n",
              "      <td>48.7</td>\n",
              "    </tr>\n",
              "    <tr>\n",
              "      <th>2</th>\n",
              "      <td>terc</td>\n",
              "      <td>17.8</td>\n",
              "      <td>13.2</td>\n",
              "    </tr>\n",
              "  </tbody>\n",
              "</table>\n",
              "</div>"
            ],
            "text/plain": [
              "  Educação  Masculino  Feminino\n",
              "0     prim       59.0      44.0\n",
              "1      sec       65.3      48.7\n",
              "2     terc       17.8      13.2"
            ]
          },
          "metadata": {
            "tags": []
          },
          "execution_count": 244
        }
      ]
    },
    {
      "cell_type": "markdown",
      "metadata": {
        "id": "rTCrRcBFNw9c"
      },
      "source": [
        "**Desvios relativos entre observados e esperados:**\n",
        "\n",
        "(oi - ei)^2/ei\n",
        "\n",
        "* oi é o valor observado\n",
        "* ei é o valor esperado\n",
        "\n",
        "**Qui-quadrado de Pearson (X_quadrado):** \n",
        "\n",
        "Soma de todas as medidas da tabela. Se a hipótese de não-associação for verdadeira, o valor calculado deve estar próximo de zero. Se as variáveis forem associadas, o valor de X_quadrado deve ser grande."
      ]
    },
    {
      "cell_type": "code",
      "metadata": {
        "colab": {
          "base_uri": "https://localhost:8080/",
          "height": 161
        },
        "id": "Kok-tw4fUuX6",
        "outputId": "2c3d88da-359d-4447-b8cb-91fe547130e4"
      },
      "source": [
        "corrSexEducA = {'Educação': ['prim', 'sec', 'terc'],\n",
        "                  'Masculino': [((distConjuntaSexEducA['Masculino'][0]-distEsperadaSexEducA['Masculino'][0])**2)/distEsperadaSexEducA['Masculino'][0],\n",
        "                                ((distConjuntaSexEducA['Masculino'][1]-distEsperadaSexEducA['Masculino'][1])**2)/distEsperadaSexEducA['Masculino'][1],\n",
        "                                ((distConjuntaSexEducA['Masculino'][2]-distEsperadaSexEducA['Masculino'][2])**2)/distEsperadaSexEducA['Masculino'][2]\n",
        "                   ],\n",
        "                  'Feminino' : [((distConjuntaSexEducA['Feminino'][0]-distEsperadaSexEducA['Feminino'][0])**2)/distEsperadaSexEducA['Feminino'][0],\n",
        "                                ((distConjuntaSexEducA['Feminino'][1]-distEsperadaSexEducA['Feminino'][1])**2)/distEsperadaSexEducA['Feminino'][1],\n",
        "                                ((distConjuntaSexEducA['Feminino'][2]-distEsperadaSexEducA['Feminino'][2])**2)/distEsperadaSexEducA['Feminino'][2]\n",
        "                   ],\n",
        "                }\n",
        "esp = pd.DataFrame(corrSexEducA)\n",
        "X_quadrado = esp['Masculino'][0]+esp['Masculino'][1]+esp['Masculino'][2]+esp['Feminino'][0]+esp['Feminino'][1]+esp['Feminino'][2]\n",
        "print(\"Qui-quadrado de Pearson:\",X_quadrado)\n",
        "esp"
      ],
      "execution_count": 245,
      "outputs": [
        {
          "output_type": "stream",
          "text": [
            "Qui-quadrado de Pearson: 5.763436970424404\n"
          ],
          "name": "stdout"
        },
        {
          "output_type": "execute_result",
          "data": {
            "text/html": [
              "<div>\n",
              "<style scoped>\n",
              "    .dataframe tbody tr th:only-of-type {\n",
              "        vertical-align: middle;\n",
              "    }\n",
              "\n",
              "    .dataframe tbody tr th {\n",
              "        vertical-align: top;\n",
              "    }\n",
              "\n",
              "    .dataframe thead th {\n",
              "        text-align: right;\n",
              "    }\n",
              "</style>\n",
              "<table border=\"1\" class=\"dataframe\">\n",
              "  <thead>\n",
              "    <tr style=\"text-align: right;\">\n",
              "      <th></th>\n",
              "      <th>Educação</th>\n",
              "      <th>Masculino</th>\n",
              "      <th>Feminino</th>\n",
              "    </tr>\n",
              "  </thead>\n",
              "  <tbody>\n",
              "    <tr>\n",
              "      <th>0</th>\n",
              "      <td>prim</td>\n",
              "      <td>1.366070</td>\n",
              "      <td>1.830019</td>\n",
              "    </tr>\n",
              "    <tr>\n",
              "      <th>1</th>\n",
              "      <td>sec</td>\n",
              "      <td>0.502264</td>\n",
              "      <td>0.672844</td>\n",
              "    </tr>\n",
              "    <tr>\n",
              "      <th>2</th>\n",
              "      <td>terc</td>\n",
              "      <td>0.595070</td>\n",
              "      <td>0.797170</td>\n",
              "    </tr>\n",
              "  </tbody>\n",
              "</table>\n",
              "</div>"
            ],
            "text/plain": [
              "  Educação  Masculino  Feminino\n",
              "0     prim   1.366070  1.830019\n",
              "1      sec   0.502264  0.672844\n",
              "2     terc   0.595070  0.797170"
            ]
          },
          "metadata": {
            "tags": []
          },
          "execution_count": 245
        }
      ]
    },
    {
      "cell_type": "markdown",
      "metadata": {
        "id": "dBipYe85K_nm"
      },
      "source": [
        "### Companhia B"
      ]
    },
    {
      "cell_type": "markdown",
      "metadata": {
        "id": "H77Ag2RRgc2d"
      },
      "source": [
        "**Distribuição Conjunta**"
      ]
    },
    {
      "cell_type": "code",
      "metadata": {
        "colab": {
          "base_uri": "https://localhost:8080/",
          "height": 175
        },
        "id": "kW0CyBFpf1Xu",
        "outputId": "2ae9c0fa-63b7-49e8-d11c-26a1b1962ab9"
      },
      "source": [
        "corrSexEducB = {'Educação': ['prim', 'sec', 'terc', 'Total'],\n",
        "                  'Masculino': [dadosB.query(\"Educ == 'prim' and Sexo == 'masc'\").shape[0],\n",
        "                                dadosB.query(\"Educ == 'sec' and Sexo == 'masc'\").shape[0],\n",
        "                                dadosB.query(\"Educ == 'terc' and Sexo == 'masc'\").shape[0],\n",
        "                                sexB['Frequência (n_i)'][0]\n",
        "                   ],\n",
        "                  'Feminino' : [dadosB.query(\"Educ == 'prim' and Sexo == 'fem'\").shape[0],\n",
        "                                dadosB.query(\"Educ == 'sec' and Sexo == 'fem'\").shape[0],\n",
        "                                dadosB.query(\"Educ == 'terc' and Sexo == 'fem'\").shape[0],\n",
        "                                sexB['Frequência (n_i)'][1]\n",
        "                   ],\n",
        "                  'Total': [educB['Frequência (n_i)'][1], \n",
        "                            educB['Frequência (n_i)'][0], \n",
        "                            educB['Frequência (n_i)'][2], \n",
        "                            sexB['Frequência (n_i)'][0] + sexB['Frequência (n_i)'][1]\n",
        "                   ],\n",
        "                }\n",
        "distConjuntaSexEducB = pd.DataFrame(corrSexEducB)\n",
        "distConjuntaSexEducB"
      ],
      "execution_count": 246,
      "outputs": [
        {
          "output_type": "execute_result",
          "data": {
            "text/html": [
              "<div>\n",
              "<style scoped>\n",
              "    .dataframe tbody tr th:only-of-type {\n",
              "        vertical-align: middle;\n",
              "    }\n",
              "\n",
              "    .dataframe tbody tr th {\n",
              "        vertical-align: top;\n",
              "    }\n",
              "\n",
              "    .dataframe thead th {\n",
              "        text-align: right;\n",
              "    }\n",
              "</style>\n",
              "<table border=\"1\" class=\"dataframe\">\n",
              "  <thead>\n",
              "    <tr style=\"text-align: right;\">\n",
              "      <th></th>\n",
              "      <th>Educação</th>\n",
              "      <th>Masculino</th>\n",
              "      <th>Feminino</th>\n",
              "      <th>Total</th>\n",
              "    </tr>\n",
              "  </thead>\n",
              "  <tbody>\n",
              "    <tr>\n",
              "      <th>0</th>\n",
              "      <td>prim</td>\n",
              "      <td>42</td>\n",
              "      <td>55</td>\n",
              "      <td>97</td>\n",
              "    </tr>\n",
              "    <tr>\n",
              "      <th>1</th>\n",
              "      <td>sec</td>\n",
              "      <td>58</td>\n",
              "      <td>69</td>\n",
              "      <td>127</td>\n",
              "    </tr>\n",
              "    <tr>\n",
              "      <th>2</th>\n",
              "      <td>terc</td>\n",
              "      <td>14</td>\n",
              "      <td>19</td>\n",
              "      <td>33</td>\n",
              "    </tr>\n",
              "    <tr>\n",
              "      <th>3</th>\n",
              "      <td>Total</td>\n",
              "      <td>143</td>\n",
              "      <td>114</td>\n",
              "      <td>257</td>\n",
              "    </tr>\n",
              "  </tbody>\n",
              "</table>\n",
              "</div>"
            ],
            "text/plain": [
              "  Educação  Masculino  Feminino  Total\n",
              "0     prim         42        55     97\n",
              "1      sec         58        69    127\n",
              "2     terc         14        19     33\n",
              "3    Total        143       114    257"
            ]
          },
          "metadata": {
            "tags": []
          },
          "execution_count": 246
        }
      ]
    },
    {
      "cell_type": "markdown",
      "metadata": {
        "id": "se44YK0zg16r"
      },
      "source": [
        "**Distribuição das frequências relativas ao total por coluna**\n",
        "\n",
        "Se não houver dependência a proporcão do total deverá ser parecida da proporção por cada categoria."
      ]
    },
    {
      "cell_type": "code",
      "metadata": {
        "colab": {
          "base_uri": "https://localhost:8080/",
          "height": 175
        },
        "id": "HPZd63Avg17M",
        "outputId": "32effe96-feca-48f1-9ef0-5516a9cf8153"
      },
      "source": [
        "corrSexEducB = {'Educação': ['prim', 'sec', 'terc', 'Total'],\n",
        "                  'Masculino (%)': [dadosB.query(\"Educ == 'prim' and Sexo == 'masc'\").shape[0]/sexB['Frequência (n_i)'][0]*100,\n",
        "                                dadosB.query(\"Educ == 'sec' and Sexo == 'masc'\").shape[0]/sexB['Frequência (n_i)'][0]*100,\n",
        "                                dadosB.query(\"Educ == 'terc' and Sexo == 'masc'\").shape[0]/sexB['Frequência (n_i)'][0]*100,\n",
        "                                sexB['Frequência (n_i)'][0]/sexB['Frequência (n_i)'][0]*100\n",
        "                   ],\n",
        "                  'Feminino (%)' : [dadosB.query(\"Educ == 'prim' and Sexo == 'fem'\").shape[0]/sexB['Frequência (n_i)'][1]*100,\n",
        "                                dadosB.query(\"Educ == 'sec' and Sexo == 'fem'\").shape[0]/sexB['Frequência (n_i)'][1]*100,\n",
        "                                dadosB.query(\"Educ == 'terc' and Sexo == 'fem'\").shape[0]/sexB['Frequência (n_i)'][1]*100,\n",
        "                                sexB['Frequência (n_i)'][1]/sexB['Frequência (n_i)'][1]*100\n",
        "                   ],\n",
        "                  'Total (%)': [educB['Frequência (n_i)'][1]/(sexB['Frequência (n_i)'][0] + sexB['Frequência (n_i)'][1])*100, \n",
        "                            educB['Frequência (n_i)'][0]/(sexB['Frequência (n_i)'][0] + sexB['Frequência (n_i)'][1])*100, \n",
        "                            educB['Frequência (n_i)'][2]/(sexB['Frequência (n_i)'][0] + sexB['Frequência (n_i)'][1])*100, \n",
        "                            (sexB['Frequência (n_i)'][0] + sexB['Frequência (n_i)'][1])/(sexB['Frequência (n_i)'][0] + sexB['Frequência (n_i)'][1])*100\n",
        "                   ],\n",
        "                }\n",
        "distRelColSexEducB = pd.DataFrame(corrSexEducB)\n",
        "distRelColSexEducB.round(1)"
      ],
      "execution_count": 247,
      "outputs": [
        {
          "output_type": "execute_result",
          "data": {
            "text/html": [
              "<div>\n",
              "<style scoped>\n",
              "    .dataframe tbody tr th:only-of-type {\n",
              "        vertical-align: middle;\n",
              "    }\n",
              "\n",
              "    .dataframe tbody tr th {\n",
              "        vertical-align: top;\n",
              "    }\n",
              "\n",
              "    .dataframe thead th {\n",
              "        text-align: right;\n",
              "    }\n",
              "</style>\n",
              "<table border=\"1\" class=\"dataframe\">\n",
              "  <thead>\n",
              "    <tr style=\"text-align: right;\">\n",
              "      <th></th>\n",
              "      <th>Educação</th>\n",
              "      <th>Masculino (%)</th>\n",
              "      <th>Feminino (%)</th>\n",
              "      <th>Total (%)</th>\n",
              "    </tr>\n",
              "  </thead>\n",
              "  <tbody>\n",
              "    <tr>\n",
              "      <th>0</th>\n",
              "      <td>prim</td>\n",
              "      <td>29.4</td>\n",
              "      <td>48.2</td>\n",
              "      <td>37.7</td>\n",
              "    </tr>\n",
              "    <tr>\n",
              "      <th>1</th>\n",
              "      <td>sec</td>\n",
              "      <td>40.6</td>\n",
              "      <td>60.5</td>\n",
              "      <td>49.4</td>\n",
              "    </tr>\n",
              "    <tr>\n",
              "      <th>2</th>\n",
              "      <td>terc</td>\n",
              "      <td>9.8</td>\n",
              "      <td>16.7</td>\n",
              "      <td>12.8</td>\n",
              "    </tr>\n",
              "    <tr>\n",
              "      <th>3</th>\n",
              "      <td>Total</td>\n",
              "      <td>100.0</td>\n",
              "      <td>100.0</td>\n",
              "      <td>100.0</td>\n",
              "    </tr>\n",
              "  </tbody>\n",
              "</table>\n",
              "</div>"
            ],
            "text/plain": [
              "  Educação  Masculino (%)  Feminino (%)  Total (%)\n",
              "0     prim           29.4          48.2       37.7\n",
              "1      sec           40.6          60.5       49.4\n",
              "2     terc            9.8          16.7       12.8\n",
              "3    Total          100.0         100.0      100.0"
            ]
          },
          "metadata": {
            "tags": []
          },
          "execution_count": 247
        }
      ]
    },
    {
      "cell_type": "markdown",
      "metadata": {
        "id": "JrmzUuwNg17O"
      },
      "source": [
        "**Distribuição das frequências relativas ao total por linhas**\n",
        "\n",
        "Se não houver dependência a proporcão do total deverá ser parecida da proporção por cada categoria."
      ]
    },
    {
      "cell_type": "code",
      "metadata": {
        "colab": {
          "base_uri": "https://localhost:8080/",
          "height": 175
        },
        "id": "GQNablZNg17P",
        "outputId": "0028ab23-c2c5-46ac-f025-7961d11967a1"
      },
      "source": [
        "corrSexEducB = {'Educação': ['prim', 'sec', 'terc', 'Total'],\n",
        "                  'Masculino (%)': [dadosB.query(\"Educ == 'prim' and Sexo == 'masc'\").shape[0]/educB['Frequência (n_i)'][1]*100,\n",
        "                                dadosB.query(\"Educ == 'sec' and Sexo == 'masc'\").shape[0]/educB['Frequência (n_i)'][0]*100,\n",
        "                                dadosB.query(\"Educ == 'terc' and Sexo == 'masc'\").shape[0]/educB['Frequência (n_i)'][2]*100,\n",
        "                                sexB['Frequência (n_i)'][0]/(sexB['Frequência (n_i)'][0] + sexB['Frequência (n_i)'][1])*100\n",
        "                   ],\n",
        "                  'Feminino (%)' : [dadosB.query(\"Educ == 'prim' and Sexo == 'fem'\").shape[0]/educB['Frequência (n_i)'][1]*100,\n",
        "                                dadosB.query(\"Educ == 'sec' and Sexo == 'fem'\").shape[0]/educB['Frequência (n_i)'][0]*100,\n",
        "                                dadosB.query(\"Educ == 'terc' and Sexo == 'fem'\").shape[0]/educB['Frequência (n_i)'][2]*100,\n",
        "                                sexB['Frequência (n_i)'][1]/(sexB['Frequência (n_i)'][0] + sexB['Frequência (n_i)'][1])*100\n",
        "                   ],\n",
        "                  'Total (%)': [educB['Frequência (n_i)'][1]/educB['Frequência (n_i)'][1]*100, \n",
        "                            educB['Frequência (n_i)'][0]/educB['Frequência (n_i)'][0]*100, \n",
        "                            educB['Frequência (n_i)'][2]/educB['Frequência (n_i)'][2]*100, \n",
        "                            (sexB['Frequência (n_i)'][0] + sexB['Frequência (n_i)'][1])/(sexB['Frequência (n_i)'][0] + sexB['Frequência (n_i)'][1])*100\n",
        "                   ],\n",
        "                }\n",
        "distRelLinhaSexEducB = pd.DataFrame(corrSexEducB)\n",
        "distRelLinhaSexEducB.round(1)"
      ],
      "execution_count": 248,
      "outputs": [
        {
          "output_type": "execute_result",
          "data": {
            "text/html": [
              "<div>\n",
              "<style scoped>\n",
              "    .dataframe tbody tr th:only-of-type {\n",
              "        vertical-align: middle;\n",
              "    }\n",
              "\n",
              "    .dataframe tbody tr th {\n",
              "        vertical-align: top;\n",
              "    }\n",
              "\n",
              "    .dataframe thead th {\n",
              "        text-align: right;\n",
              "    }\n",
              "</style>\n",
              "<table border=\"1\" class=\"dataframe\">\n",
              "  <thead>\n",
              "    <tr style=\"text-align: right;\">\n",
              "      <th></th>\n",
              "      <th>Educação</th>\n",
              "      <th>Masculino (%)</th>\n",
              "      <th>Feminino (%)</th>\n",
              "      <th>Total (%)</th>\n",
              "    </tr>\n",
              "  </thead>\n",
              "  <tbody>\n",
              "    <tr>\n",
              "      <th>0</th>\n",
              "      <td>prim</td>\n",
              "      <td>43.3</td>\n",
              "      <td>56.7</td>\n",
              "      <td>100.0</td>\n",
              "    </tr>\n",
              "    <tr>\n",
              "      <th>1</th>\n",
              "      <td>sec</td>\n",
              "      <td>45.7</td>\n",
              "      <td>54.3</td>\n",
              "      <td>100.0</td>\n",
              "    </tr>\n",
              "    <tr>\n",
              "      <th>2</th>\n",
              "      <td>terc</td>\n",
              "      <td>42.4</td>\n",
              "      <td>57.6</td>\n",
              "      <td>100.0</td>\n",
              "    </tr>\n",
              "    <tr>\n",
              "      <th>3</th>\n",
              "      <td>Total</td>\n",
              "      <td>55.6</td>\n",
              "      <td>44.4</td>\n",
              "      <td>100.0</td>\n",
              "    </tr>\n",
              "  </tbody>\n",
              "</table>\n",
              "</div>"
            ],
            "text/plain": [
              "  Educação  Masculino (%)  Feminino (%)  Total (%)\n",
              "0     prim           43.3          56.7      100.0\n",
              "1      sec           45.7          54.3      100.0\n",
              "2     terc           42.4          57.6      100.0\n",
              "3    Total           55.6          44.4      100.0"
            ]
          },
          "metadata": {
            "tags": []
          },
          "execution_count": 248
        }
      ]
    },
    {
      "cell_type": "markdown",
      "metadata": {
        "id": "YzVo0Swsg17Q"
      },
      "source": [
        "**Valores esperados para cada posição na tabela de acordo com a porcentagem da distribuição das frequências relativas ao total por linhas**"
      ]
    },
    {
      "cell_type": "code",
      "metadata": {
        "colab": {
          "base_uri": "https://localhost:8080/",
          "height": 143
        },
        "id": "WP7QJaZPg17Q",
        "outputId": "766c42c4-5ac1-4d00-a3a6-8601dde83edc"
      },
      "source": [
        "corrSexEducB = {'Educação': ['prim', 'sec', 'terc'],\n",
        "                  'Masculino': [educB['Frequência (n_i)'][1]*sexB['Frequência (n_i)'][0]/(sexB['Frequência (n_i)'][0] + sexB['Frequência (n_i)'][1]),\n",
        "                                educB['Frequência (n_i)'][0]*sexB['Frequência (n_i)'][0]/(sexB['Frequência (n_i)'][0] + sexB['Frequência (n_i)'][1]),\n",
        "                                educB['Frequência (n_i)'][2]*sexB['Frequência (n_i)'][0]/(sexB['Frequência (n_i)'][0] + sexB['Frequência (n_i)'][1])\n",
        "                   ],\n",
        "                  'Feminino' : [sexB['Frequência (n_i)'][1]/(sexB['Frequência (n_i)'][0] + sexB['Frequência (n_i)'][1])*educB['Frequência (n_i)'][1],\n",
        "                                sexB['Frequência (n_i)'][1]/(sexB['Frequência (n_i)'][0] + sexB['Frequência (n_i)'][1])*educB['Frequência (n_i)'][0],\n",
        "                                sexB['Frequência (n_i)'][1]/(sexB['Frequência (n_i)'][0] + sexB['Frequência (n_i)'][1])*educB['Frequência (n_i)'][2]\n",
        "                   ],\n",
        "                }\n",
        "distEsperadaSexEducB = pd.DataFrame(corrSexEducB)\n",
        "distEsperadaSexEducB.round(1)"
      ],
      "execution_count": 249,
      "outputs": [
        {
          "output_type": "execute_result",
          "data": {
            "text/html": [
              "<div>\n",
              "<style scoped>\n",
              "    .dataframe tbody tr th:only-of-type {\n",
              "        vertical-align: middle;\n",
              "    }\n",
              "\n",
              "    .dataframe tbody tr th {\n",
              "        vertical-align: top;\n",
              "    }\n",
              "\n",
              "    .dataframe thead th {\n",
              "        text-align: right;\n",
              "    }\n",
              "</style>\n",
              "<table border=\"1\" class=\"dataframe\">\n",
              "  <thead>\n",
              "    <tr style=\"text-align: right;\">\n",
              "      <th></th>\n",
              "      <th>Educação</th>\n",
              "      <th>Masculino</th>\n",
              "      <th>Feminino</th>\n",
              "    </tr>\n",
              "  </thead>\n",
              "  <tbody>\n",
              "    <tr>\n",
              "      <th>0</th>\n",
              "      <td>prim</td>\n",
              "      <td>54.0</td>\n",
              "      <td>43.0</td>\n",
              "    </tr>\n",
              "    <tr>\n",
              "      <th>1</th>\n",
              "      <td>sec</td>\n",
              "      <td>70.7</td>\n",
              "      <td>56.3</td>\n",
              "    </tr>\n",
              "    <tr>\n",
              "      <th>2</th>\n",
              "      <td>terc</td>\n",
              "      <td>18.4</td>\n",
              "      <td>14.6</td>\n",
              "    </tr>\n",
              "  </tbody>\n",
              "</table>\n",
              "</div>"
            ],
            "text/plain": [
              "  Educação  Masculino  Feminino\n",
              "0     prim       54.0      43.0\n",
              "1      sec       70.7      56.3\n",
              "2     terc       18.4      14.6"
            ]
          },
          "metadata": {
            "tags": []
          },
          "execution_count": 249
        }
      ]
    },
    {
      "cell_type": "markdown",
      "metadata": {
        "id": "R6kfx7gsg17R"
      },
      "source": [
        "**Desvios relativos entre observados e esperados:**\n",
        "\n",
        "(oi - ei)^2/ei\n",
        "\n",
        "* oi é o valor observado\n",
        "* ei é o valor esperado\n",
        "\n",
        "**Qui-quadrado de Pearson (X_quadrado):** \n",
        "\n",
        "Soma de todas as medidas da tabela. Se a hipótese de não-associação for verdadeira, o valor calculado deve estar próximo de zero. Se as variáveis forem associadas, o valor de X_quadrado deve ser grande."
      ]
    },
    {
      "cell_type": "code",
      "metadata": {
        "colab": {
          "base_uri": "https://localhost:8080/",
          "height": 161
        },
        "id": "E6Uy4yvCg17R",
        "outputId": "1406e6d0-4422-4906-96a1-a5640d0c55bb"
      },
      "source": [
        "corrSexEducB = {'Educação': ['prim', 'sec', 'terc'],\n",
        "                  'Masculino': [((distConjuntaSexEducB['Masculino'][0]-distEsperadaSexEducB['Masculino'][0])**2)/distEsperadaSexEducB['Masculino'][0],\n",
        "                                ((distConjuntaSexEducB['Masculino'][1]-distEsperadaSexEducB['Masculino'][1])**2)/distEsperadaSexEducB['Masculino'][1],\n",
        "                                ((distConjuntaSexEducB['Masculino'][2]-distEsperadaSexEducB['Masculino'][2])**2)/distEsperadaSexEducB['Masculino'][2]\n",
        "                   ],\n",
        "                  'Feminino' : [((distConjuntaSexEducB['Feminino'][0]-distEsperadaSexEducB['Feminino'][0])**2)/distEsperadaSexEducB['Feminino'][0],\n",
        "                                ((distConjuntaSexEducB['Feminino'][1]-distEsperadaSexEducB['Feminino'][1])**2)/distEsperadaSexEducB['Feminino'][1],\n",
        "                                ((distConjuntaSexEducB['Feminino'][2]-distEsperadaSexEducB['Feminino'][2])**2)/distEsperadaSexEducB['Feminino'][2]\n",
        "                   ],\n",
        "                }\n",
        "espB = pd.DataFrame(corrSexEducB)\n",
        "X_quadradoB = espB['Masculino'][0]+espB['Masculino'][1]+espB['Masculino'][2]+espB['Feminino'][0]+espB['Feminino'][1]+espB['Feminino'][2]\n",
        "print(\"Qui-quadrado de Pearson:\",X_quadradoB)\n",
        "espB"
      ],
      "execution_count": 250,
      "outputs": [
        {
          "output_type": "stream",
          "text": [
            "Qui-quadrado de Pearson: 13.440862438212196\n"
          ],
          "name": "stdout"
        },
        {
          "output_type": "execute_result",
          "data": {
            "text/html": [
              "<div>\n",
              "<style scoped>\n",
              "    .dataframe tbody tr th:only-of-type {\n",
              "        vertical-align: middle;\n",
              "    }\n",
              "\n",
              "    .dataframe tbody tr th {\n",
              "        vertical-align: top;\n",
              "    }\n",
              "\n",
              "    .dataframe thead th {\n",
              "        text-align: right;\n",
              "    }\n",
              "</style>\n",
              "<table border=\"1\" class=\"dataframe\">\n",
              "  <thead>\n",
              "    <tr style=\"text-align: right;\">\n",
              "      <th></th>\n",
              "      <th>Educação</th>\n",
              "      <th>Masculino</th>\n",
              "      <th>Feminino</th>\n",
              "    </tr>\n",
              "  </thead>\n",
              "  <tbody>\n",
              "    <tr>\n",
              "      <th>0</th>\n",
              "      <td>prim</td>\n",
              "      <td>2.655915</td>\n",
              "      <td>3.331542</td>\n",
              "    </tr>\n",
              "    <tr>\n",
              "      <th>1</th>\n",
              "      <td>sec</td>\n",
              "      <td>2.270017</td>\n",
              "      <td>2.847477</td>\n",
              "    </tr>\n",
              "    <tr>\n",
              "      <th>2</th>\n",
              "      <td>terc</td>\n",
              "      <td>1.036163</td>\n",
              "      <td>1.299748</td>\n",
              "    </tr>\n",
              "  </tbody>\n",
              "</table>\n",
              "</div>"
            ],
            "text/plain": [
              "  Educação  Masculino  Feminino\n",
              "0     prim   2.655915  3.331542\n",
              "1      sec   2.270017  2.847477\n",
              "2     terc   1.036163  1.299748"
            ]
          },
          "metadata": {
            "tags": []
          },
          "execution_count": 250
        }
      ]
    },
    {
      "cell_type": "markdown",
      "metadata": {
        "id": "KNcweH5BH6vH"
      },
      "source": [
        "## $2.ii)$ Analise a dependência entre as variáveis sexo e salário"
      ]
    },
    {
      "cell_type": "markdown",
      "metadata": {
        "id": "6pcwzzdzLeWS"
      },
      "source": [
        "### Companhia A"
      ]
    },
    {
      "cell_type": "markdown",
      "metadata": {
        "id": "qC0M57TRkoqW"
      },
      "source": [
        "**Distribuição Conjunta**"
      ]
    },
    {
      "cell_type": "code",
      "metadata": {
        "colab": {
          "base_uri": "https://localhost:8080/",
          "height": 238
        },
        "id": "coEz6ftfkoqo",
        "outputId": "a61d3cfb-67a2-459a-ceb1-35ccb174d7d8"
      },
      "source": [
        "corrSexSalA = {'Faixas Salariais': ['Salários de 0 a 5', 'Salários de 5 a 10', 'Salários de 10 a 15', 'Salários de 15 a 20', 'Salários de 20 a 25', 'Total'],\n",
        "                  'Masculino': [dadosA.query(\"Sal >= 0 and Sal <= 5 and Sexo == 'masc'\").shape[0],\n",
        "                                dadosA.query(\"Sal > 5 and Sal <= 10 and Sexo == 'masc'\").shape[0],\n",
        "                                dadosA.query(\"Sal > 10 and Sal <= 15 and Sexo == 'masc'\").shape[0],\n",
        "                                dadosA.query(\"Sal > 15 and Sal <= 20 and Sexo == 'masc'\").shape[0],\n",
        "                                dadosA.query(\"Sal > 20 and Sal <= 25 and Sexo == 'masc'\").shape[0],\n",
        "                                dadosA.query(\"Sexo == 'masc'\").shape[0],\n",
        "                   ],\n",
        "                  'Feminino' : [dadosA.query(\"Sal >= 0 and Sal <= 5 and Sexo == 'fem'\").shape[0],\n",
        "                               dadosA.query(\"Sal > 5 and Sal <= 10 and Sexo == 'fem'\").shape[0],\n",
        "                               dadosA.query(\"Sal > 10 and Sal <= 15 and Sexo == 'fem'\").shape[0],\n",
        "                               dadosA.query(\"Sal > 15 and Sal <= 20 and Sexo == 'fem'\").shape[0],\n",
        "                               dadosA.query(\"Sal > 20 and Sal <= 25 and Sexo == 'fem'\").shape[0],\n",
        "                               dadosA.query(\"Sexo == 'fem'\").shape[0],\n",
        "                   ],\n",
        "                  'Total': [dadosA.query(\"Sal >= 0 and Sal <= 5\").shape[0],\n",
        "                            dadosA.query(\"Sal > 5 and Sal <= 10\").shape[0],\n",
        "                            dadosA.query(\"Sal > 10 and Sal <= 15\").shape[0],\n",
        "                            dadosA.query(\"Sal > 15 and Sal <= 20\").shape[0],\n",
        "                            dadosA.query(\"Sal > 20 and Sal <= 25\").shape[0],\n",
        "                            dadosA.shape[0],\n",
        "                   ],\n",
        "                }\n",
        "distConjuntaSexSalA = pd.DataFrame(corrSexSalA)\n",
        "distConjuntaSexSalA"
      ],
      "execution_count": 251,
      "outputs": [
        {
          "output_type": "execute_result",
          "data": {
            "text/html": [
              "<div>\n",
              "<style scoped>\n",
              "    .dataframe tbody tr th:only-of-type {\n",
              "        vertical-align: middle;\n",
              "    }\n",
              "\n",
              "    .dataframe tbody tr th {\n",
              "        vertical-align: top;\n",
              "    }\n",
              "\n",
              "    .dataframe thead th {\n",
              "        text-align: right;\n",
              "    }\n",
              "</style>\n",
              "<table border=\"1\" class=\"dataframe\">\n",
              "  <thead>\n",
              "    <tr style=\"text-align: right;\">\n",
              "      <th></th>\n",
              "      <th>Faixas Salariais</th>\n",
              "      <th>Masculino</th>\n",
              "      <th>Feminino</th>\n",
              "      <th>Total</th>\n",
              "    </tr>\n",
              "  </thead>\n",
              "  <tbody>\n",
              "    <tr>\n",
              "      <th>0</th>\n",
              "      <td>Salários de 0 a 5</td>\n",
              "      <td>45</td>\n",
              "      <td>17</td>\n",
              "      <td>62</td>\n",
              "    </tr>\n",
              "    <tr>\n",
              "      <th>1</th>\n",
              "      <td>Salários de 5 a 10</td>\n",
              "      <td>66</td>\n",
              "      <td>62</td>\n",
              "      <td>128</td>\n",
              "    </tr>\n",
              "    <tr>\n",
              "      <th>2</th>\n",
              "      <td>Salários de 10 a 15</td>\n",
              "      <td>6</td>\n",
              "      <td>15</td>\n",
              "      <td>21</td>\n",
              "    </tr>\n",
              "    <tr>\n",
              "      <th>3</th>\n",
              "      <td>Salários de 15 a 20</td>\n",
              "      <td>6</td>\n",
              "      <td>8</td>\n",
              "      <td>14</td>\n",
              "    </tr>\n",
              "    <tr>\n",
              "      <th>4</th>\n",
              "      <td>Salários de 20 a 25</td>\n",
              "      <td>19</td>\n",
              "      <td>4</td>\n",
              "      <td>23</td>\n",
              "    </tr>\n",
              "    <tr>\n",
              "      <th>5</th>\n",
              "      <td>Total</td>\n",
              "      <td>142</td>\n",
              "      <td>106</td>\n",
              "      <td>248</td>\n",
              "    </tr>\n",
              "  </tbody>\n",
              "</table>\n",
              "</div>"
            ],
            "text/plain": [
              "      Faixas Salariais  Masculino  Feminino  Total\n",
              "0    Salários de 0 a 5         45        17     62\n",
              "1   Salários de 5 a 10         66        62    128\n",
              "2  Salários de 10 a 15          6        15     21\n",
              "3  Salários de 15 a 20          6         8     14\n",
              "4  Salários de 20 a 25         19         4     23\n",
              "5                Total        142       106    248"
            ]
          },
          "metadata": {
            "tags": []
          },
          "execution_count": 251
        }
      ]
    },
    {
      "cell_type": "markdown",
      "metadata": {
        "id": "CIBMxFyqlm54"
      },
      "source": [
        "**Distribuição das frequências relativas ao total por coluna**\n",
        "\n",
        "Se não houver dependência a proporcão do total deverá ser parecida da proporção por cada categoria."
      ]
    },
    {
      "cell_type": "code",
      "metadata": {
        "id": "jnxodsCYmkNd",
        "colab": {
          "base_uri": "https://localhost:8080/",
          "height": 238
        },
        "outputId": "457e9697-03a7-4451-e996-2fb3c9cc180e"
      },
      "source": [
        "corrSexSalA = {'Faixas Salariais': ['Salários de 0 a 5', 'Salários de 5 a 10', 'Salários de 10 a 15', 'Salários de 15 a 20', 'Salários de 20 a 25', 'Total'],\n",
        "                  'Masculino (%)': [dadosA.query(\"Sal >= 0 and Sal <= 5 and Sexo == 'masc'\").shape[0]/dadosA.query(\"Sexo == 'masc'\").shape[0]*100,\n",
        "                                dadosA.query(\"Sal > 5 and Sal <= 10 and Sexo == 'masc'\").shape[0]/dadosA.query(\"Sexo == 'masc'\").shape[0]*100,\n",
        "                                dadosA.query(\"Sal > 10 and Sal <= 15 and Sexo == 'masc'\").shape[0]/dadosA.query(\"Sexo == 'masc'\").shape[0]*100,\n",
        "                                dadosA.query(\"Sal > 15 and Sal <= 20 and Sexo == 'masc'\").shape[0]/dadosA.query(\"Sexo == 'masc'\").shape[0]*100,\n",
        "                                dadosA.query(\"Sal > 20 and Sal <= 25 and Sexo == 'masc'\").shape[0]/dadosA.query(\"Sexo == 'masc'\").shape[0]*100,\n",
        "                                dadosA.query(\"Sexo == 'masc'\").shape[0]/dadosA.query(\"Sexo == 'masc'\").shape[0]*100,\n",
        "                   ],\n",
        "                  'Feminino (%)' : [dadosA.query(\"Sal >= 0 and Sal <= 5 and Sexo == 'fem'\").shape[0]/dadosA.query(\"Sexo == 'fem'\").shape[0]*100,\n",
        "                               dadosA.query(\"Sal > 5 and Sal <= 10 and Sexo == 'fem'\").shape[0]/dadosA.query(\"Sexo == 'fem'\").shape[0]*100,\n",
        "                               dadosA.query(\"Sal > 10 and Sal <= 15 and Sexo == 'fem'\").shape[0]/dadosA.query(\"Sexo == 'fem'\").shape[0]*100,\n",
        "                               dadosA.query(\"Sal > 15 and Sal <= 20 and Sexo == 'fem'\").shape[0]/dadosA.query(\"Sexo == 'fem'\").shape[0]*100,\n",
        "                               dadosA.query(\"Sal > 20 and Sal <= 25 and Sexo == 'fem'\").shape[0]/dadosA.query(\"Sexo == 'fem'\").shape[0]*100,\n",
        "                               dadosA.query(\"Sexo == 'fem'\").shape[0]/dadosA.query(\"Sexo == 'fem'\").shape[0]*100,\n",
        "                   ],\n",
        "                  'Total (%)': [dadosA.query(\"Sal >= 0 and Sal <= 5\").shape[0]/dadosA.shape[0]*100,\n",
        "                            dadosA.query(\"Sal > 5 and Sal <= 10\").shape[0]/dadosA.shape[0]*100,\n",
        "                            dadosA.query(\"Sal > 10 and Sal <= 15\").shape[0]/dadosA.shape[0]*100,\n",
        "                            dadosA.query(\"Sal > 15 and Sal <= 20\").shape[0]/dadosA.shape[0]*100,\n",
        "                            dadosA.query(\"Sal > 20 and Sal <= 25\").shape[0]/dadosA.shape[0]*100,\n",
        "                            dadosA.shape[0]/dadosA.shape[0]*100,\n",
        "                   ],\n",
        "                }\n",
        "distRelColSexSalA = pd.DataFrame(corrSexSalA)\n",
        "distRelColSexSalA.round(1)"
      ],
      "execution_count": 252,
      "outputs": [
        {
          "output_type": "execute_result",
          "data": {
            "text/html": [
              "<div>\n",
              "<style scoped>\n",
              "    .dataframe tbody tr th:only-of-type {\n",
              "        vertical-align: middle;\n",
              "    }\n",
              "\n",
              "    .dataframe tbody tr th {\n",
              "        vertical-align: top;\n",
              "    }\n",
              "\n",
              "    .dataframe thead th {\n",
              "        text-align: right;\n",
              "    }\n",
              "</style>\n",
              "<table border=\"1\" class=\"dataframe\">\n",
              "  <thead>\n",
              "    <tr style=\"text-align: right;\">\n",
              "      <th></th>\n",
              "      <th>Faixas Salariais</th>\n",
              "      <th>Masculino (%)</th>\n",
              "      <th>Feminino (%)</th>\n",
              "      <th>Total (%)</th>\n",
              "    </tr>\n",
              "  </thead>\n",
              "  <tbody>\n",
              "    <tr>\n",
              "      <th>0</th>\n",
              "      <td>Salários de 0 a 5</td>\n",
              "      <td>31.7</td>\n",
              "      <td>16.0</td>\n",
              "      <td>25.0</td>\n",
              "    </tr>\n",
              "    <tr>\n",
              "      <th>1</th>\n",
              "      <td>Salários de 5 a 10</td>\n",
              "      <td>46.5</td>\n",
              "      <td>58.5</td>\n",
              "      <td>51.6</td>\n",
              "    </tr>\n",
              "    <tr>\n",
              "      <th>2</th>\n",
              "      <td>Salários de 10 a 15</td>\n",
              "      <td>4.2</td>\n",
              "      <td>14.2</td>\n",
              "      <td>8.5</td>\n",
              "    </tr>\n",
              "    <tr>\n",
              "      <th>3</th>\n",
              "      <td>Salários de 15 a 20</td>\n",
              "      <td>4.2</td>\n",
              "      <td>7.5</td>\n",
              "      <td>5.6</td>\n",
              "    </tr>\n",
              "    <tr>\n",
              "      <th>4</th>\n",
              "      <td>Salários de 20 a 25</td>\n",
              "      <td>13.4</td>\n",
              "      <td>3.8</td>\n",
              "      <td>9.3</td>\n",
              "    </tr>\n",
              "    <tr>\n",
              "      <th>5</th>\n",
              "      <td>Total</td>\n",
              "      <td>100.0</td>\n",
              "      <td>100.0</td>\n",
              "      <td>100.0</td>\n",
              "    </tr>\n",
              "  </tbody>\n",
              "</table>\n",
              "</div>"
            ],
            "text/plain": [
              "      Faixas Salariais  Masculino (%)  Feminino (%)  Total (%)\n",
              "0    Salários de 0 a 5           31.7          16.0       25.0\n",
              "1   Salários de 5 a 10           46.5          58.5       51.6\n",
              "2  Salários de 10 a 15            4.2          14.2        8.5\n",
              "3  Salários de 15 a 20            4.2           7.5        5.6\n",
              "4  Salários de 20 a 25           13.4           3.8        9.3\n",
              "5                Total          100.0         100.0      100.0"
            ]
          },
          "metadata": {
            "tags": []
          },
          "execution_count": 252
        }
      ]
    },
    {
      "cell_type": "markdown",
      "metadata": {
        "id": "7CaVqKPQlm6c"
      },
      "source": [
        "**Distribuição das frequências relativas ao total por linhas**\n",
        "\n",
        "Se não houver dependência a proporcão do total deverá ser parecida da proporção por cada categoria."
      ]
    },
    {
      "cell_type": "code",
      "metadata": {
        "id": "Zk7ZfXCzmk-G",
        "colab": {
          "base_uri": "https://localhost:8080/",
          "height": 238
        },
        "outputId": "0d9db26b-6a94-4f5a-b35b-20e3a96feea9"
      },
      "source": [
        "corrSexSalA = {'Faixas Salariais': ['Salários de 0 a 5', 'Salários de 5 a 10', 'Salários de 10 a 15', 'Salários de 15 a 20', 'Salários de 20 a 25', 'Total'],\n",
        "                  'Masculino (%)': [dadosA.query(\"Sal >= 0 and Sal <= 5 and Sexo == 'masc'\").shape[0]/dadosA.query(\"Sal >= 0 and Sal <= 5\").shape[0]*100,\n",
        "                                dadosA.query(\"Sal > 5 and Sal <= 10 and Sexo == 'masc'\").shape[0]/dadosA.query(\"Sal > 5 and Sal <= 10\").shape[0]*100,\n",
        "                                dadosA.query(\"Sal > 10 and Sal <= 15 and Sexo == 'masc'\").shape[0]/dadosA.query(\"Sal > 10 and Sal <= 15\").shape[0]*100,\n",
        "                                dadosA.query(\"Sal > 15 and Sal <= 20 and Sexo == 'masc'\").shape[0]/dadosA.query(\"Sal > 15 and Sal <= 20\").shape[0]*100,\n",
        "                                dadosA.query(\"Sal > 20 and Sal <= 25 and Sexo == 'masc'\").shape[0]/dadosA.query(\"Sal > 20 and Sal <= 25\").shape[0]*100,\n",
        "                                dadosA.query(\"Sexo == 'masc'\").shape[0]/dadosA.shape[0]*100,\n",
        "                   ],\n",
        "                  'Feminino (%)' : [dadosA.query(\"Sal >= 0 and Sal <= 5 and Sexo == 'fem'\").shape[0]/dadosA.query(\"Sal >= 0 and Sal <= 5\").shape[0]*100,\n",
        "                               dadosA.query(\"Sal > 5 and Sal <= 10 and Sexo == 'fem'\").shape[0]/dadosA.query(\"Sal > 5 and Sal <= 10\").shape[0]*100,\n",
        "                               dadosA.query(\"Sal > 10 and Sal <= 15 and Sexo == 'fem'\").shape[0]/dadosA.query(\"Sal > 10 and Sal <= 15\").shape[0]*100,\n",
        "                               dadosA.query(\"Sal > 15 and Sal <= 20 and Sexo == 'fem'\").shape[0]/dadosA.query(\"Sal > 15 and Sal <= 20\").shape[0]*100,\n",
        "                               dadosA.query(\"Sal > 20 and Sal <= 25 and Sexo == 'fem'\").shape[0]/dadosA.query(\"Sal > 20 and Sal <= 25\").shape[0]*100,\n",
        "                               dadosA.query(\"Sexo == 'fem'\").shape[0]/dadosA.shape[0]*100,\n",
        "                   ],\n",
        "                  'Total (%)': [dadosA.query(\"Sal >= 0 and Sal <= 5\").shape[0]/dadosA.query(\"Sal >= 0 and Sal <= 5\").shape[0]*100,\n",
        "                            dadosA.query(\"Sal > 5 and Sal <= 10\").shape[0]/dadosA.query(\"Sal > 5 and Sal <= 10\").shape[0]*100,\n",
        "                            dadosA.query(\"Sal > 10 and Sal <= 15\").shape[0]/dadosA.query(\"Sal > 10 and Sal <= 15\").shape[0]*100,\n",
        "                            dadosA.query(\"Sal > 15 and Sal <= 20\").shape[0]/dadosA.query(\"Sal > 15 and Sal <= 20\").shape[0]*100,\n",
        "                            dadosA.query(\"Sal > 20 and Sal <= 25\").shape[0]/dadosA.query(\"Sal > 20 and Sal <= 25\").shape[0]*100,\n",
        "                            dadosA.shape[0]/dadosA.shape[0]*100,\n",
        "                   ],\n",
        "                }\n",
        "distRelLinSexSalA = pd.DataFrame(corrSexSalA)\n",
        "distRelLinSexSalA.round(1)"
      ],
      "execution_count": 253,
      "outputs": [
        {
          "output_type": "execute_result",
          "data": {
            "text/html": [
              "<div>\n",
              "<style scoped>\n",
              "    .dataframe tbody tr th:only-of-type {\n",
              "        vertical-align: middle;\n",
              "    }\n",
              "\n",
              "    .dataframe tbody tr th {\n",
              "        vertical-align: top;\n",
              "    }\n",
              "\n",
              "    .dataframe thead th {\n",
              "        text-align: right;\n",
              "    }\n",
              "</style>\n",
              "<table border=\"1\" class=\"dataframe\">\n",
              "  <thead>\n",
              "    <tr style=\"text-align: right;\">\n",
              "      <th></th>\n",
              "      <th>Faixas Salariais</th>\n",
              "      <th>Masculino (%)</th>\n",
              "      <th>Feminino (%)</th>\n",
              "      <th>Total (%)</th>\n",
              "    </tr>\n",
              "  </thead>\n",
              "  <tbody>\n",
              "    <tr>\n",
              "      <th>0</th>\n",
              "      <td>Salários de 0 a 5</td>\n",
              "      <td>72.6</td>\n",
              "      <td>27.4</td>\n",
              "      <td>100.0</td>\n",
              "    </tr>\n",
              "    <tr>\n",
              "      <th>1</th>\n",
              "      <td>Salários de 5 a 10</td>\n",
              "      <td>51.6</td>\n",
              "      <td>48.4</td>\n",
              "      <td>100.0</td>\n",
              "    </tr>\n",
              "    <tr>\n",
              "      <th>2</th>\n",
              "      <td>Salários de 10 a 15</td>\n",
              "      <td>28.6</td>\n",
              "      <td>71.4</td>\n",
              "      <td>100.0</td>\n",
              "    </tr>\n",
              "    <tr>\n",
              "      <th>3</th>\n",
              "      <td>Salários de 15 a 20</td>\n",
              "      <td>42.9</td>\n",
              "      <td>57.1</td>\n",
              "      <td>100.0</td>\n",
              "    </tr>\n",
              "    <tr>\n",
              "      <th>4</th>\n",
              "      <td>Salários de 20 a 25</td>\n",
              "      <td>82.6</td>\n",
              "      <td>17.4</td>\n",
              "      <td>100.0</td>\n",
              "    </tr>\n",
              "    <tr>\n",
              "      <th>5</th>\n",
              "      <td>Total</td>\n",
              "      <td>57.3</td>\n",
              "      <td>42.7</td>\n",
              "      <td>100.0</td>\n",
              "    </tr>\n",
              "  </tbody>\n",
              "</table>\n",
              "</div>"
            ],
            "text/plain": [
              "      Faixas Salariais  Masculino (%)  Feminino (%)  Total (%)\n",
              "0    Salários de 0 a 5           72.6          27.4      100.0\n",
              "1   Salários de 5 a 10           51.6          48.4      100.0\n",
              "2  Salários de 10 a 15           28.6          71.4      100.0\n",
              "3  Salários de 15 a 20           42.9          57.1      100.0\n",
              "4  Salários de 20 a 25           82.6          17.4      100.0\n",
              "5                Total           57.3          42.7      100.0"
            ]
          },
          "metadata": {
            "tags": []
          },
          "execution_count": 253
        }
      ]
    },
    {
      "cell_type": "markdown",
      "metadata": {
        "id": "dq-_AIorluPL"
      },
      "source": [
        "**Valores esperados para cada posição na tabela de acordo com a porcentagem da distribuição das frequências relativas ao total por linhas**"
      ]
    },
    {
      "cell_type": "code",
      "metadata": {
        "id": "kpbIiGRymlYu",
        "colab": {
          "base_uri": "https://localhost:8080/",
          "height": 206
        },
        "outputId": "d5066afe-5bc4-457f-a295-37ab126f2394"
      },
      "source": [
        "corrSexSalA = {'Faixas Salariais': ['Salários de 0 a 5', 'Salários de 5 a 10', 'Salários de 10 a 15', 'Salários de 15 a 20', 'Salários de 20 a 25'],\n",
        "                  'Masculino': [dadosA.query(\"Sexo == 'masc'\").shape[0]/dadosA.shape[0]*dadosA.query(\"Sal >= 0 and Sal <= 5\").shape[0],\n",
        "                                dadosA.query(\"Sexo == 'masc'\").shape[0]/dadosA.shape[0]*dadosA.query(\"Sal > 5 and Sal <= 10\").shape[0],\n",
        "                                dadosA.query(\"Sexo == 'masc'\").shape[0]/dadosA.shape[0]*dadosA.query(\"Sal > 10 and Sal <= 15\").shape[0],\n",
        "                                dadosA.query(\"Sexo == 'masc'\").shape[0]/dadosA.shape[0]*dadosA.query(\"Sal > 15 and Sal <= 20\").shape[0],\n",
        "                                dadosA.query(\"Sexo == 'masc'\").shape[0]/dadosA.shape[0]*dadosA.query(\"Sal > 20 and Sal <= 25\").shape[0],\n",
        "                   ],\n",
        "                  'Feminino' : [dadosA.query(\"Sexo == 'fem'\").shape[0]/dadosA.shape[0]*dadosA.query(\"Sal >= 0 and Sal <= 5\").shape[0],\n",
        "                               dadosA.query(\"Sexo == 'fem'\").shape[0]/dadosA.shape[0]*dadosA.query(\"Sal > 5 and Sal <= 10\").shape[0],\n",
        "                               dadosA.query(\"Sexo == 'fem'\").shape[0]/dadosA.shape[0]*dadosA.query(\"Sal > 10 and Sal <= 15\").shape[0],\n",
        "                               dadosA.query(\"Sexo == 'fem'\").shape[0]/dadosA.shape[0]*dadosA.query(\"Sal > 15 and Sal <= 20\").shape[0],\n",
        "                               dadosA.query(\"Sexo == 'fem'\").shape[0]/dadosA.shape[0]*dadosA.query(\"Sal > 20 and Sal <= 25\").shape[0],\n",
        "                   ],\n",
        "                }\n",
        "distEsperadaSexSalA = pd.DataFrame(corrSexSalA)\n",
        "distEsperadaSexSalA.round(1)"
      ],
      "execution_count": 254,
      "outputs": [
        {
          "output_type": "execute_result",
          "data": {
            "text/html": [
              "<div>\n",
              "<style scoped>\n",
              "    .dataframe tbody tr th:only-of-type {\n",
              "        vertical-align: middle;\n",
              "    }\n",
              "\n",
              "    .dataframe tbody tr th {\n",
              "        vertical-align: top;\n",
              "    }\n",
              "\n",
              "    .dataframe thead th {\n",
              "        text-align: right;\n",
              "    }\n",
              "</style>\n",
              "<table border=\"1\" class=\"dataframe\">\n",
              "  <thead>\n",
              "    <tr style=\"text-align: right;\">\n",
              "      <th></th>\n",
              "      <th>Faixas Salariais</th>\n",
              "      <th>Masculino</th>\n",
              "      <th>Feminino</th>\n",
              "    </tr>\n",
              "  </thead>\n",
              "  <tbody>\n",
              "    <tr>\n",
              "      <th>0</th>\n",
              "      <td>Salários de 0 a 5</td>\n",
              "      <td>35.5</td>\n",
              "      <td>26.5</td>\n",
              "    </tr>\n",
              "    <tr>\n",
              "      <th>1</th>\n",
              "      <td>Salários de 5 a 10</td>\n",
              "      <td>73.3</td>\n",
              "      <td>54.7</td>\n",
              "    </tr>\n",
              "    <tr>\n",
              "      <th>2</th>\n",
              "      <td>Salários de 10 a 15</td>\n",
              "      <td>12.0</td>\n",
              "      <td>9.0</td>\n",
              "    </tr>\n",
              "    <tr>\n",
              "      <th>3</th>\n",
              "      <td>Salários de 15 a 20</td>\n",
              "      <td>8.0</td>\n",
              "      <td>6.0</td>\n",
              "    </tr>\n",
              "    <tr>\n",
              "      <th>4</th>\n",
              "      <td>Salários de 20 a 25</td>\n",
              "      <td>13.2</td>\n",
              "      <td>9.8</td>\n",
              "    </tr>\n",
              "  </tbody>\n",
              "</table>\n",
              "</div>"
            ],
            "text/plain": [
              "      Faixas Salariais  Masculino  Feminino\n",
              "0    Salários de 0 a 5       35.5      26.5\n",
              "1   Salários de 5 a 10       73.3      54.7\n",
              "2  Salários de 10 a 15       12.0       9.0\n",
              "3  Salários de 15 a 20        8.0       6.0\n",
              "4  Salários de 20 a 25       13.2       9.8"
            ]
          },
          "metadata": {
            "tags": []
          },
          "execution_count": 254
        }
      ]
    },
    {
      "cell_type": "markdown",
      "metadata": {
        "id": "FtQcVMTsluPN"
      },
      "source": [
        "**Desvios relativos entre observados e esperados:**\n",
        "\n",
        "(oi - ei)^2/ei\n",
        "\n",
        "* oi é o valor observado\n",
        "* ei é o valor esperado\n",
        "\n",
        "**Qui-quadrado de Pearson (X_quadrado):** \n",
        "\n",
        "Soma de todas as medidas da tabela. Se a hipótese de não-associação for verdadeira, o valor calculado deve estar próximo de zero. Se as variáveis forem associadas, o valor de X_quadrado deve ser grande.\n",
        "\n",
        "**Coeficiente T** = sqrt((X_quadrado/n)/(r-1)(s-1)) atinge o máximo igual a 1 se r = s\n",
        "\n",
        "* n = numero total de elementos\n",
        "* r = número de categorias para variável X\n",
        "* s =  número de categorias para variável Y"
      ]
    },
    {
      "cell_type": "code",
      "metadata": {
        "id": "kYFdYFRQmmRz",
        "colab": {
          "base_uri": "https://localhost:8080/",
          "height": 224
        },
        "outputId": "441f0efb-f719-4556-a3b4-88b998753235"
      },
      "source": [
        "corrSexSalA = {'Faixas Salariais': ['Salários de 0 a 5', 'Salários de 5 a 10', 'Salários de 10 a 15', 'Salários de 15 a 20', 'Salários de 20 a 25'],\n",
        "                  'Masculino': [((distConjuntaSexSalA['Masculino'][0]-distEsperadaSexSalA['Masculino'][0])**2)/distEsperadaSexSalA['Masculino'][0],\n",
        "                                ((distConjuntaSexSalA['Masculino'][1]-distEsperadaSexSalA['Masculino'][1])**2)/distEsperadaSexSalA['Masculino'][1],\n",
        "                                ((distConjuntaSexSalA['Masculino'][2]-distEsperadaSexSalA['Masculino'][2])**2)/distEsperadaSexSalA['Masculino'][2],\n",
        "                                ((distConjuntaSexSalA['Masculino'][3]-distEsperadaSexSalA['Masculino'][3])**2)/distEsperadaSexSalA['Masculino'][3],\n",
        "                                ((distConjuntaSexSalA['Masculino'][4]-distEsperadaSexSalA['Masculino'][4])**2)/distEsperadaSexSalA['Masculino'][4],\n",
        "                                \n",
        "                   ],\n",
        "                  'Feminino' : [((distConjuntaSexSalA['Feminino'][0]-distEsperadaSexSalA['Feminino'][0])**2)/distEsperadaSexSalA['Feminino'][0],\n",
        "                                ((distConjuntaSexSalA['Feminino'][1]-distEsperadaSexSalA['Feminino'][1])**2)/distEsperadaSexSalA['Feminino'][1],\n",
        "                                ((distConjuntaSexSalA['Feminino'][2]-distEsperadaSexSalA['Feminino'][2])**2)/distEsperadaSexSalA['Feminino'][2],\n",
        "                                ((distConjuntaSexSalA['Feminino'][3]-distEsperadaSexSalA['Feminino'][3])**2)/distEsperadaSexSalA['Feminino'][3],\n",
        "                                ((distConjuntaSexSalA['Feminino'][4]-distEsperadaSexSalA['Feminino'][4])**2)/distEsperadaSexSalA['Feminino'][4],\n",
        "                   ],\n",
        "                }\n",
        "esp = pd.DataFrame(corrSexSalA)\n",
        "X_quadrado = esp['Masculino'][0]+esp['Masculino'][1]+esp['Masculino'][2]+esp['Masculino'][3]+esp['Masculino'][4]+esp['Feminino'][0]+esp['Feminino'][1]+esp['Feminino'][2]+esp['Feminino'][3]+esp['Feminino'][4]\n",
        "print(\"Qui-quadrado de Pearson:\",X_quadrado)\n",
        "esp"
      ],
      "execution_count": 255,
      "outputs": [
        {
          "output_type": "stream",
          "text": [
            "Qui-quadrado de Pearson: 21.931966697642785\n"
          ],
          "name": "stdout"
        },
        {
          "output_type": "execute_result",
          "data": {
            "text/html": [
              "<div>\n",
              "<style scoped>\n",
              "    .dataframe tbody tr th:only-of-type {\n",
              "        vertical-align: middle;\n",
              "    }\n",
              "\n",
              "    .dataframe tbody tr th {\n",
              "        vertical-align: top;\n",
              "    }\n",
              "\n",
              "    .dataframe thead th {\n",
              "        text-align: right;\n",
              "    }\n",
              "</style>\n",
              "<table border=\"1\" class=\"dataframe\">\n",
              "  <thead>\n",
              "    <tr style=\"text-align: right;\">\n",
              "      <th></th>\n",
              "      <th>Faixas Salariais</th>\n",
              "      <th>Masculino</th>\n",
              "      <th>Feminino</th>\n",
              "    </tr>\n",
              "  </thead>\n",
              "  <tbody>\n",
              "    <tr>\n",
              "      <th>0</th>\n",
              "      <td>Salários de 0 a 5</td>\n",
              "      <td>2.542254</td>\n",
              "      <td>3.405660</td>\n",
              "    </tr>\n",
              "    <tr>\n",
              "      <th>1</th>\n",
              "      <td>Salários de 5 a 10</td>\n",
              "      <td>0.725182</td>\n",
              "      <td>0.971470</td>\n",
              "    </tr>\n",
              "    <tr>\n",
              "      <th>2</th>\n",
              "      <td>Salários de 10 a 15</td>\n",
              "      <td>3.018157</td>\n",
              "      <td>4.043192</td>\n",
              "    </tr>\n",
              "    <tr>\n",
              "      <th>3</th>\n",
              "      <td>Salários de 15 a 20</td>\n",
              "      <td>0.507075</td>\n",
              "      <td>0.679289</td>\n",
              "    </tr>\n",
              "    <tr>\n",
              "      <th>4</th>\n",
              "      <td>Salários de 20 a 25</td>\n",
              "      <td>2.581480</td>\n",
              "      <td>3.458209</td>\n",
              "    </tr>\n",
              "  </tbody>\n",
              "</table>\n",
              "</div>"
            ],
            "text/plain": [
              "      Faixas Salariais  Masculino  Feminino\n",
              "0    Salários de 0 a 5   2.542254  3.405660\n",
              "1   Salários de 5 a 10   0.725182  0.971470\n",
              "2  Salários de 10 a 15   3.018157  4.043192\n",
              "3  Salários de 15 a 20   0.507075  0.679289\n",
              "4  Salários de 20 a 25   2.581480  3.458209"
            ]
          },
          "metadata": {
            "tags": []
          },
          "execution_count": 255
        }
      ]
    },
    {
      "cell_type": "markdown",
      "metadata": {
        "id": "3N_mtDQ7Lhf_"
      },
      "source": [
        "### Companhia B"
      ]
    },
    {
      "cell_type": "markdown",
      "metadata": {
        "id": "TVdsTWfPmu-7"
      },
      "source": [
        "**Distribuição Conjunta**"
      ]
    },
    {
      "cell_type": "code",
      "metadata": {
        "colab": {
          "base_uri": "https://localhost:8080/",
          "height": 238
        },
        "id": "g8TaXHbWmu-9",
        "outputId": "fdb568e9-288a-425a-acad-42630769cabb"
      },
      "source": [
        "corrSexSalB = {'Faixas Salariais': ['Salários de 0 a 5', 'Salários de 5 a 10', 'Salários de 10 a 15', 'Salários de 15 a 20', 'Salários de 20 a 25', 'Total'],\n",
        "                  'Masculino': [dadosB.query(\"Sal >= 0 and Sal <= 5 and Sexo == 'masc'\").shape[0],\n",
        "                                dadosB.query(\"Sal > 5 and Sal <= 10 and Sexo == 'masc'\").shape[0],\n",
        "                                dadosB.query(\"Sal > 10 and Sal <= 15 and Sexo == 'masc'\").shape[0],\n",
        "                                dadosB.query(\"Sal > 15 and Sal <= 20 and Sexo == 'masc'\").shape[0],\n",
        "                                dadosB.query(\"Sal > 20 and Sal <= 25 and Sexo == 'masc'\").shape[0],\n",
        "                                dadosB.query(\"Sexo == 'masc'\").shape[0],\n",
        "                   ],\n",
        "                  'Feminino' : [dadosB.query(\"Sal >= 0 and Sal <= 5 and Sexo == 'fem'\").shape[0],\n",
        "                               dadosB.query(\"Sal > 5 and Sal <= 10 and Sexo == 'fem'\").shape[0],\n",
        "                               dadosB.query(\"Sal > 10 and Sal <= 15 and Sexo == 'fem'\").shape[0],\n",
        "                               dadosB.query(\"Sal > 15 and Sal <= 20 and Sexo == 'fem'\").shape[0],\n",
        "                               dadosB.query(\"Sal > 20 and Sal <= 25 and Sexo == 'fem'\").shape[0],\n",
        "                               dadosB.query(\"Sexo == 'fem'\").shape[0],\n",
        "                   ],\n",
        "                  'Total': [dadosB.query(\"Sal >= 0 and Sal <= 5\").shape[0],\n",
        "                            dadosB.query(\"Sal > 5 and Sal <= 10\").shape[0],\n",
        "                            dadosB.query(\"Sal > 10 and Sal <= 15\").shape[0],\n",
        "                            dadosB.query(\"Sal > 15 and Sal <= 20\").shape[0],\n",
        "                            dadosB.query(\"Sal > 20 and Sal <= 25\").shape[0],\n",
        "                            dadosB.shape[0],\n",
        "                   ],\n",
        "                }\n",
        "distConjuntaSexSalB = pd.DataFrame(corrSexSalB)\n",
        "distConjuntaSexSalB"
      ],
      "execution_count": 256,
      "outputs": [
        {
          "output_type": "execute_result",
          "data": {
            "text/html": [
              "<div>\n",
              "<style scoped>\n",
              "    .dataframe tbody tr th:only-of-type {\n",
              "        vertical-align: middle;\n",
              "    }\n",
              "\n",
              "    .dataframe tbody tr th {\n",
              "        vertical-align: top;\n",
              "    }\n",
              "\n",
              "    .dataframe thead th {\n",
              "        text-align: right;\n",
              "    }\n",
              "</style>\n",
              "<table border=\"1\" class=\"dataframe\">\n",
              "  <thead>\n",
              "    <tr style=\"text-align: right;\">\n",
              "      <th></th>\n",
              "      <th>Faixas Salariais</th>\n",
              "      <th>Masculino</th>\n",
              "      <th>Feminino</th>\n",
              "      <th>Total</th>\n",
              "    </tr>\n",
              "  </thead>\n",
              "  <tbody>\n",
              "    <tr>\n",
              "      <th>0</th>\n",
              "      <td>Salários de 0 a 5</td>\n",
              "      <td>12</td>\n",
              "      <td>65</td>\n",
              "      <td>77</td>\n",
              "    </tr>\n",
              "    <tr>\n",
              "      <th>1</th>\n",
              "      <td>Salários de 5 a 10</td>\n",
              "      <td>45</td>\n",
              "      <td>53</td>\n",
              "      <td>98</td>\n",
              "    </tr>\n",
              "    <tr>\n",
              "      <th>2</th>\n",
              "      <td>Salários de 10 a 15</td>\n",
              "      <td>43</td>\n",
              "      <td>23</td>\n",
              "      <td>66</td>\n",
              "    </tr>\n",
              "    <tr>\n",
              "      <th>3</th>\n",
              "      <td>Salários de 15 a 20</td>\n",
              "      <td>6</td>\n",
              "      <td>2</td>\n",
              "      <td>8</td>\n",
              "    </tr>\n",
              "    <tr>\n",
              "      <th>4</th>\n",
              "      <td>Salários de 20 a 25</td>\n",
              "      <td>8</td>\n",
              "      <td>0</td>\n",
              "      <td>8</td>\n",
              "    </tr>\n",
              "    <tr>\n",
              "      <th>5</th>\n",
              "      <td>Total</td>\n",
              "      <td>114</td>\n",
              "      <td>143</td>\n",
              "      <td>257</td>\n",
              "    </tr>\n",
              "  </tbody>\n",
              "</table>\n",
              "</div>"
            ],
            "text/plain": [
              "      Faixas Salariais  Masculino  Feminino  Total\n",
              "0    Salários de 0 a 5         12        65     77\n",
              "1   Salários de 5 a 10         45        53     98\n",
              "2  Salários de 10 a 15         43        23     66\n",
              "3  Salários de 15 a 20          6         2      8\n",
              "4  Salários de 20 a 25          8         0      8\n",
              "5                Total        114       143    257"
            ]
          },
          "metadata": {
            "tags": []
          },
          "execution_count": 256
        }
      ]
    },
    {
      "cell_type": "markdown",
      "metadata": {
        "id": "kyOun_6zpCyU"
      },
      "source": [
        "**Distribuição das frequências relativas ao total por coluna**\n",
        "\n",
        "Se não houver dependência a proporcão do total deverá ser parecida da proporção por cada categoria."
      ]
    },
    {
      "cell_type": "code",
      "metadata": {
        "colab": {
          "base_uri": "https://localhost:8080/",
          "height": 238
        },
        "id": "hIQyxCPNwocX",
        "outputId": "365450a7-c03e-4003-df52-9c83724ce977"
      },
      "source": [
        "corrSexSalB = {'Faixas Salariais': ['Salários de 0 a 5', 'Salários de 5 a 10', 'Salários de 10 a 15', 'Salários de 15 a 20', 'Salários de 20 a 25', 'Total'],\n",
        "                  'Masculino (%)': [dadosA.query(\"Sal >= 0 and Sal <= 5 and Sexo == 'masc'\").shape[0]/dadosB.query(\"Sexo == 'masc'\").shape[0]*100,\n",
        "                                dadosB.query(\"Sal > 5 and Sal <= 10 and Sexo == 'masc'\").shape[0]/dadosB.query(\"Sexo == 'masc'\").shape[0]*100,\n",
        "                                dadosB.query(\"Sal > 10 and Sal <= 15 and Sexo == 'masc'\").shape[0]/dadosB.query(\"Sexo == 'masc'\").shape[0]*100,\n",
        "                                dadosB.query(\"Sal > 15 and Sal <= 20 and Sexo == 'masc'\").shape[0]/dadosB.query(\"Sexo == 'masc'\").shape[0]*100,\n",
        "                                dadosB.query(\"Sal > 20 and Sal <= 25 and Sexo == 'masc'\").shape[0]/dadosB.query(\"Sexo == 'masc'\").shape[0]*100,\n",
        "                                dadosB.query(\"Sexo == 'masc'\").shape[0]/dadosB.query(\"Sexo == 'masc'\").shape[0]*100,\n",
        "                   ],\n",
        "                  'Feminino (%)' : [dadosB.query(\"Sal >= 0 and Sal <= 5 and Sexo == 'fem'\").shape[0]/dadosB.query(\"Sexo == 'fem'\").shape[0]*100,\n",
        "                               dadosB.query(\"Sal > 5 and Sal <= 10 and Sexo == 'fem'\").shape[0]/dadosB.query(\"Sexo == 'fem'\").shape[0]*100,\n",
        "                               dadosB.query(\"Sal > 10 and Sal <= 15 and Sexo == 'fem'\").shape[0]/dadosB.query(\"Sexo == 'fem'\").shape[0]*100,\n",
        "                               dadosB.query(\"Sal > 15 and Sal <= 20 and Sexo == 'fem'\").shape[0]/dadosB.query(\"Sexo == 'fem'\").shape[0]*100,\n",
        "                               dadosB.query(\"Sal > 20 and Sal <= 25 and Sexo == 'fem'\").shape[0]/dadosB.query(\"Sexo == 'fem'\").shape[0]*100,\n",
        "                               dadosB.query(\"Sexo == 'fem'\").shape[0]/dadosB.query(\"Sexo == 'fem'\").shape[0]*100,\n",
        "                   ],\n",
        "                  'Total (%)': [dadosB.query(\"Sal >= 0 and Sal <= 5\").shape[0]/dadosB.shape[0]*100,\n",
        "                            dadosB.query(\"Sal > 5 and Sal <= 10\").shape[0]/dadosB.shape[0]*100,\n",
        "                            dadosB.query(\"Sal > 10 and Sal <= 15\").shape[0]/dadosB.shape[0]*100,\n",
        "                            dadosB.query(\"Sal > 15 and Sal <= 20\").shape[0]/dadosB.shape[0]*100,\n",
        "                            dadosB.query(\"Sal > 20 and Sal <= 25\").shape[0]/dadosB.shape[0]*100,\n",
        "                            dadosB.shape[0]/dadosB.shape[0]*100,\n",
        "                   ],\n",
        "                }\n",
        "distRelColSexSalB = pd.DataFrame(corrSexSalB)\n",
        "distRelColSexSalB.round(1)"
      ],
      "execution_count": 257,
      "outputs": [
        {
          "output_type": "execute_result",
          "data": {
            "text/html": [
              "<div>\n",
              "<style scoped>\n",
              "    .dataframe tbody tr th:only-of-type {\n",
              "        vertical-align: middle;\n",
              "    }\n",
              "\n",
              "    .dataframe tbody tr th {\n",
              "        vertical-align: top;\n",
              "    }\n",
              "\n",
              "    .dataframe thead th {\n",
              "        text-align: right;\n",
              "    }\n",
              "</style>\n",
              "<table border=\"1\" class=\"dataframe\">\n",
              "  <thead>\n",
              "    <tr style=\"text-align: right;\">\n",
              "      <th></th>\n",
              "      <th>Faixas Salariais</th>\n",
              "      <th>Masculino (%)</th>\n",
              "      <th>Feminino (%)</th>\n",
              "      <th>Total (%)</th>\n",
              "    </tr>\n",
              "  </thead>\n",
              "  <tbody>\n",
              "    <tr>\n",
              "      <th>0</th>\n",
              "      <td>Salários de 0 a 5</td>\n",
              "      <td>39.5</td>\n",
              "      <td>45.5</td>\n",
              "      <td>30.0</td>\n",
              "    </tr>\n",
              "    <tr>\n",
              "      <th>1</th>\n",
              "      <td>Salários de 5 a 10</td>\n",
              "      <td>39.5</td>\n",
              "      <td>37.1</td>\n",
              "      <td>38.1</td>\n",
              "    </tr>\n",
              "    <tr>\n",
              "      <th>2</th>\n",
              "      <td>Salários de 10 a 15</td>\n",
              "      <td>37.7</td>\n",
              "      <td>16.1</td>\n",
              "      <td>25.7</td>\n",
              "    </tr>\n",
              "    <tr>\n",
              "      <th>3</th>\n",
              "      <td>Salários de 15 a 20</td>\n",
              "      <td>5.3</td>\n",
              "      <td>1.4</td>\n",
              "      <td>3.1</td>\n",
              "    </tr>\n",
              "    <tr>\n",
              "      <th>4</th>\n",
              "      <td>Salários de 20 a 25</td>\n",
              "      <td>7.0</td>\n",
              "      <td>0.0</td>\n",
              "      <td>3.1</td>\n",
              "    </tr>\n",
              "    <tr>\n",
              "      <th>5</th>\n",
              "      <td>Total</td>\n",
              "      <td>100.0</td>\n",
              "      <td>100.0</td>\n",
              "      <td>100.0</td>\n",
              "    </tr>\n",
              "  </tbody>\n",
              "</table>\n",
              "</div>"
            ],
            "text/plain": [
              "      Faixas Salariais  Masculino (%)  Feminino (%)  Total (%)\n",
              "0    Salários de 0 a 5           39.5          45.5       30.0\n",
              "1   Salários de 5 a 10           39.5          37.1       38.1\n",
              "2  Salários de 10 a 15           37.7          16.1       25.7\n",
              "3  Salários de 15 a 20            5.3           1.4        3.1\n",
              "4  Salários de 20 a 25            7.0           0.0        3.1\n",
              "5                Total          100.0         100.0      100.0"
            ]
          },
          "metadata": {
            "tags": []
          },
          "execution_count": 257
        }
      ]
    },
    {
      "cell_type": "markdown",
      "metadata": {
        "id": "zk5eGiQbpCy2"
      },
      "source": [
        "**Distribuição das frequências relativas ao total por linhas**\n",
        "\n",
        "Se não houver dependência a proporcão do total deverá ser parecida da proporção por cada categoria."
      ]
    },
    {
      "cell_type": "code",
      "metadata": {
        "colab": {
          "base_uri": "https://localhost:8080/",
          "height": 238
        },
        "id": "hQtsjEq-xN_J",
        "outputId": "e5776b26-de54-4e5a-c39e-22c7fc90529f"
      },
      "source": [
        "corrSexSalB = {'Faixas Salariais': ['Salários de 0 a 5', 'Salários de 5 a 10', 'Salários de 10 a 15', 'Salários de 15 a 20', 'Salários de 20 a 25', 'Total'],\n",
        "                  'Masculino (%)': [dadosB.query(\"Sal >= 0 and Sal <= 5 and Sexo == 'masc'\").shape[0]/dadosB.query(\"Sal >= 0 and Sal <= 5\").shape[0]*100,\n",
        "                                dadosB.query(\"Sal > 5 and Sal <= 10 and Sexo == 'masc'\").shape[0]/dadosB.query(\"Sal > 5 and Sal <= 10\").shape[0]*100,\n",
        "                                dadosB.query(\"Sal > 10 and Sal <= 15 and Sexo == 'masc'\").shape[0]/dadosB.query(\"Sal > 10 and Sal <= 15\").shape[0]*100,\n",
        "                                dadosB.query(\"Sal > 15 and Sal <= 20 and Sexo == 'masc'\").shape[0]/dadosB.query(\"Sal > 15 and Sal <= 20\").shape[0]*100,\n",
        "                                dadosB.query(\"Sal > 20 and Sal <= 25 and Sexo == 'masc'\").shape[0]/dadosB.query(\"Sal > 20 and Sal <= 25\").shape[0]*100,\n",
        "                                dadosB.query(\"Sexo == 'masc'\").shape[0]/dadosB.shape[0]*100,\n",
        "                   ],\n",
        "                  'Feminino (%)' : [dadosB.query(\"Sal >= 0 and Sal <= 5 and Sexo == 'fem'\").shape[0]/dadosB.query(\"Sal >= 0 and Sal <= 5\").shape[0]*100,\n",
        "                               dadosB.query(\"Sal > 5 and Sal <= 10 and Sexo == 'fem'\").shape[0]/dadosB.query(\"Sal > 5 and Sal <= 10\").shape[0]*100,\n",
        "                               dadosB.query(\"Sal > 10 and Sal <= 15 and Sexo == 'fem'\").shape[0]/dadosB.query(\"Sal > 10 and Sal <= 15\").shape[0]*100,\n",
        "                               dadosB.query(\"Sal > 15 and Sal <= 20 and Sexo == 'fem'\").shape[0]/dadosB.query(\"Sal > 15 and Sal <= 20\").shape[0]*100,\n",
        "                               dadosB.query(\"Sal > 20 and Sal <= 25 and Sexo == 'fem'\").shape[0]/dadosB.query(\"Sal > 20 and Sal <= 25\").shape[0]*100,\n",
        "                               dadosB.query(\"Sexo == 'fem'\").shape[0]/dadosB.shape[0]*100,\n",
        "                   ],\n",
        "                  'Total (%)': [dadosB.query(\"Sal >= 0 and Sal <= 5\").shape[0]/dadosB.query(\"Sal >= 0 and Sal <= 5\").shape[0]*100,\n",
        "                            dadosB.query(\"Sal > 5 and Sal <= 10\").shape[0]/dadosB.query(\"Sal > 5 and Sal <= 10\").shape[0]*100,\n",
        "                            dadosB.query(\"Sal > 10 and Sal <= 15\").shape[0]/dadosB.query(\"Sal > 10 and Sal <= 15\").shape[0]*100,\n",
        "                            dadosB.query(\"Sal > 15 and Sal <= 20\").shape[0]/dadosB.query(\"Sal > 15 and Sal <= 20\").shape[0]*100,\n",
        "                            dadosB.query(\"Sal > 20 and Sal <= 25\").shape[0]/dadosB.query(\"Sal > 20 and Sal <= 25\").shape[0]*100,\n",
        "                            dadosB.shape[0]/dadosB.shape[0]*100,\n",
        "                   ],\n",
        "                }\n",
        "distRelLinSexSalB = pd.DataFrame(corrSexSalB)\n",
        "distRelLinSexSalB.round(1)"
      ],
      "execution_count": 258,
      "outputs": [
        {
          "output_type": "execute_result",
          "data": {
            "text/html": [
              "<div>\n",
              "<style scoped>\n",
              "    .dataframe tbody tr th:only-of-type {\n",
              "        vertical-align: middle;\n",
              "    }\n",
              "\n",
              "    .dataframe tbody tr th {\n",
              "        vertical-align: top;\n",
              "    }\n",
              "\n",
              "    .dataframe thead th {\n",
              "        text-align: right;\n",
              "    }\n",
              "</style>\n",
              "<table border=\"1\" class=\"dataframe\">\n",
              "  <thead>\n",
              "    <tr style=\"text-align: right;\">\n",
              "      <th></th>\n",
              "      <th>Faixas Salariais</th>\n",
              "      <th>Masculino (%)</th>\n",
              "      <th>Feminino (%)</th>\n",
              "      <th>Total (%)</th>\n",
              "    </tr>\n",
              "  </thead>\n",
              "  <tbody>\n",
              "    <tr>\n",
              "      <th>0</th>\n",
              "      <td>Salários de 0 a 5</td>\n",
              "      <td>15.6</td>\n",
              "      <td>84.4</td>\n",
              "      <td>100.0</td>\n",
              "    </tr>\n",
              "    <tr>\n",
              "      <th>1</th>\n",
              "      <td>Salários de 5 a 10</td>\n",
              "      <td>45.9</td>\n",
              "      <td>54.1</td>\n",
              "      <td>100.0</td>\n",
              "    </tr>\n",
              "    <tr>\n",
              "      <th>2</th>\n",
              "      <td>Salários de 10 a 15</td>\n",
              "      <td>65.2</td>\n",
              "      <td>34.8</td>\n",
              "      <td>100.0</td>\n",
              "    </tr>\n",
              "    <tr>\n",
              "      <th>3</th>\n",
              "      <td>Salários de 15 a 20</td>\n",
              "      <td>75.0</td>\n",
              "      <td>25.0</td>\n",
              "      <td>100.0</td>\n",
              "    </tr>\n",
              "    <tr>\n",
              "      <th>4</th>\n",
              "      <td>Salários de 20 a 25</td>\n",
              "      <td>100.0</td>\n",
              "      <td>0.0</td>\n",
              "      <td>100.0</td>\n",
              "    </tr>\n",
              "    <tr>\n",
              "      <th>5</th>\n",
              "      <td>Total</td>\n",
              "      <td>44.4</td>\n",
              "      <td>55.6</td>\n",
              "      <td>100.0</td>\n",
              "    </tr>\n",
              "  </tbody>\n",
              "</table>\n",
              "</div>"
            ],
            "text/plain": [
              "      Faixas Salariais  Masculino (%)  Feminino (%)  Total (%)\n",
              "0    Salários de 0 a 5           15.6          84.4      100.0\n",
              "1   Salários de 5 a 10           45.9          54.1      100.0\n",
              "2  Salários de 10 a 15           65.2          34.8      100.0\n",
              "3  Salários de 15 a 20           75.0          25.0      100.0\n",
              "4  Salários de 20 a 25          100.0           0.0      100.0\n",
              "5                Total           44.4          55.6      100.0"
            ]
          },
          "metadata": {
            "tags": []
          },
          "execution_count": 258
        }
      ]
    },
    {
      "cell_type": "markdown",
      "metadata": {
        "id": "YqOEjiuHpCy2"
      },
      "source": [
        "**Valores esperados para cada posição na tabela de acordo com a porcentagem da distribuição das frequências relativas ao total por linhas**"
      ]
    },
    {
      "cell_type": "code",
      "metadata": {
        "colab": {
          "base_uri": "https://localhost:8080/",
          "height": 206
        },
        "id": "h7pWIFsuxu2l",
        "outputId": "59280326-08e5-4b70-a89c-006b899ff8ab"
      },
      "source": [
        "corrSexSalB = {'Faixas Salariais': ['Salários de 0 a 5', 'Salários de 5 a 10', 'Salários de 10 a 15', 'Salários de 15 a 20', 'Salários de 20 a 25'],\n",
        "                  'Masculino': [dadosB.query(\"Sexo == 'masc'\").shape[0]/dadosB.shape[0]*dadosB.query(\"Sal >= 0 and Sal <= 5\").shape[0],\n",
        "                                dadosB.query(\"Sexo == 'masc'\").shape[0]/dadosB.shape[0]*dadosB.query(\"Sal > 5 and Sal <= 10\").shape[0],\n",
        "                                dadosB.query(\"Sexo == 'masc'\").shape[0]/dadosB.shape[0]*dadosB.query(\"Sal > 10 and Sal <= 15\").shape[0],\n",
        "                                dadosB.query(\"Sexo == 'masc'\").shape[0]/dadosB.shape[0]*dadosB.query(\"Sal > 15 and Sal <= 20\").shape[0],\n",
        "                                dadosB.query(\"Sexo == 'masc'\").shape[0]/dadosB.shape[0]*dadosB.query(\"Sal > 20 and Sal <= 25\").shape[0],\n",
        "                   ],\n",
        "                  'Feminino' : [dadosB.query(\"Sexo == 'fem'\").shape[0]/dadosB.shape[0]*dadosB.query(\"Sal >= 0 and Sal <= 5\").shape[0],\n",
        "                               dadosB.query(\"Sexo == 'fem'\").shape[0]/dadosB.shape[0]*dadosB.query(\"Sal > 5 and Sal <= 10\").shape[0],\n",
        "                               dadosB.query(\"Sexo == 'fem'\").shape[0]/dadosB.shape[0]*dadosB.query(\"Sal > 10 and Sal <= 15\").shape[0],\n",
        "                               dadosB.query(\"Sexo == 'fem'\").shape[0]/dadosB.shape[0]*dadosB.query(\"Sal > 15 and Sal <= 20\").shape[0],\n",
        "                               dadosB.query(\"Sexo == 'fem'\").shape[0]/dadosB.shape[0]*dadosB.query(\"Sal > 20 and Sal <= 25\").shape[0],\n",
        "                   ],\n",
        "                }\n",
        "distEsperadaSexSalB = pd.DataFrame(corrSexSalB)\n",
        "distEsperadaSexSalB.round(1)"
      ],
      "execution_count": 259,
      "outputs": [
        {
          "output_type": "execute_result",
          "data": {
            "text/html": [
              "<div>\n",
              "<style scoped>\n",
              "    .dataframe tbody tr th:only-of-type {\n",
              "        vertical-align: middle;\n",
              "    }\n",
              "\n",
              "    .dataframe tbody tr th {\n",
              "        vertical-align: top;\n",
              "    }\n",
              "\n",
              "    .dataframe thead th {\n",
              "        text-align: right;\n",
              "    }\n",
              "</style>\n",
              "<table border=\"1\" class=\"dataframe\">\n",
              "  <thead>\n",
              "    <tr style=\"text-align: right;\">\n",
              "      <th></th>\n",
              "      <th>Faixas Salariais</th>\n",
              "      <th>Masculino</th>\n",
              "      <th>Feminino</th>\n",
              "    </tr>\n",
              "  </thead>\n",
              "  <tbody>\n",
              "    <tr>\n",
              "      <th>0</th>\n",
              "      <td>Salários de 0 a 5</td>\n",
              "      <td>34.2</td>\n",
              "      <td>42.8</td>\n",
              "    </tr>\n",
              "    <tr>\n",
              "      <th>1</th>\n",
              "      <td>Salários de 5 a 10</td>\n",
              "      <td>43.5</td>\n",
              "      <td>54.5</td>\n",
              "    </tr>\n",
              "    <tr>\n",
              "      <th>2</th>\n",
              "      <td>Salários de 10 a 15</td>\n",
              "      <td>29.3</td>\n",
              "      <td>36.7</td>\n",
              "    </tr>\n",
              "    <tr>\n",
              "      <th>3</th>\n",
              "      <td>Salários de 15 a 20</td>\n",
              "      <td>3.5</td>\n",
              "      <td>4.5</td>\n",
              "    </tr>\n",
              "    <tr>\n",
              "      <th>4</th>\n",
              "      <td>Salários de 20 a 25</td>\n",
              "      <td>3.5</td>\n",
              "      <td>4.5</td>\n",
              "    </tr>\n",
              "  </tbody>\n",
              "</table>\n",
              "</div>"
            ],
            "text/plain": [
              "      Faixas Salariais  Masculino  Feminino\n",
              "0    Salários de 0 a 5       34.2      42.8\n",
              "1   Salários de 5 a 10       43.5      54.5\n",
              "2  Salários de 10 a 15       29.3      36.7\n",
              "3  Salários de 15 a 20        3.5       4.5\n",
              "4  Salários de 20 a 25        3.5       4.5"
            ]
          },
          "metadata": {
            "tags": []
          },
          "execution_count": 259
        }
      ]
    },
    {
      "cell_type": "markdown",
      "metadata": {
        "id": "AtV-EIvlpCy3"
      },
      "source": [
        "**Desvios relativos entre observados e esperados:**\n",
        "\n",
        "(oi - ei)^2/ei\n",
        "\n",
        "* oi é o valor observado\n",
        "* ei é o valor esperado\n",
        "\n",
        "**Qui-quadrado de Pearson (X_quadrado):** \n",
        "\n",
        "Soma de todas as medidas da tabela. Se a hipótese de não-associação for verdadeira, o valor calculado deve estar próximo de zero. Se as variáveis forem associadas, o valor de X_quadrado deve ser grande."
      ]
    },
    {
      "cell_type": "code",
      "metadata": {
        "colab": {
          "base_uri": "https://localhost:8080/",
          "height": 224
        },
        "id": "PqXAF1KUyQZ9",
        "outputId": "f6e8498e-73a0-4244-c4d0-10b528c97f32"
      },
      "source": [
        "corrSexEducB = {'Faixas Salariais': ['Salários de 0 a 5', 'Salários de 5 a 10', 'Salários de 10 a 15', 'Salários de 15 a 20', 'Salários de 20 a 25'],\n",
        "                  'Masculino': [((distConjuntaSexSalB['Masculino'][0]-distEsperadaSexSalB['Masculino'][0])**2)/distEsperadaSexSalB['Masculino'][0],\n",
        "                                ((distConjuntaSexSalB['Masculino'][1]-distEsperadaSexSalB['Masculino'][1])**2)/distEsperadaSexSalB['Masculino'][1],\n",
        "                                ((distConjuntaSexSalB['Masculino'][2]-distEsperadaSexSalB['Masculino'][2])**2)/distEsperadaSexSalB['Masculino'][2],\n",
        "                                ((distConjuntaSexSalB['Masculino'][3]-distEsperadaSexSalB['Masculino'][3])**2)/distEsperadaSexSalB['Masculino'][3],\n",
        "                                ((distConjuntaSexSalB['Masculino'][4]-distEsperadaSexSalB['Masculino'][4])**2)/distEsperadaSexSalB['Masculino'][4],\n",
        "                                \n",
        "                   ],\n",
        "                  'Feminino' : [((distConjuntaSexSalB['Feminino'][0]-distEsperadaSexSalB['Feminino'][0])**2)/distEsperadaSexSalB['Feminino'][0],\n",
        "                                ((distConjuntaSexSalB['Feminino'][1]-distEsperadaSexSalB['Feminino'][1])**2)/distEsperadaSexSalB['Feminino'][1],\n",
        "                                ((distConjuntaSexSalB['Feminino'][2]-distEsperadaSexSalB['Feminino'][2])**2)/distEsperadaSexSalB['Feminino'][2],\n",
        "                                ((distConjuntaSexSalB['Feminino'][3]-distEsperadaSexSalB['Feminino'][3])**2)/distEsperadaSexSalB['Feminino'][3],\n",
        "                                ((distConjuntaSexSalB['Feminino'][4]-distEsperadaSexSalB['Feminino'][4])**2)/distEsperadaSexSalB['Feminino'][4],\n",
        "                   ],\n",
        "                }\n",
        "esp = pd.DataFrame(corrSexEducB)\n",
        "X_quadrado = esp['Masculino'][0]+esp['Masculino'][1]+esp['Masculino'][2]+esp['Masculino'][3]+esp['Masculino'][4]+esp['Feminino'][0]+esp['Feminino'][1]+esp['Feminino'][2]+esp['Feminino'][3]+esp['Feminino'][4]\n",
        "print(\"Qui-quadrado de Pearson:\",X_quadrado)\n",
        "esp"
      ],
      "execution_count": 260,
      "outputs": [
        {
          "output_type": "stream",
          "text": [
            "Qui-quadrado de Pearson: 50.56566436146067\n"
          ],
          "name": "stdout"
        },
        {
          "output_type": "execute_result",
          "data": {
            "text/html": [
              "<div>\n",
              "<style scoped>\n",
              "    .dataframe tbody tr th:only-of-type {\n",
              "        vertical-align: middle;\n",
              "    }\n",
              "\n",
              "    .dataframe tbody tr th {\n",
              "        vertical-align: top;\n",
              "    }\n",
              "\n",
              "    .dataframe thead th {\n",
              "        text-align: right;\n",
              "    }\n",
              "</style>\n",
              "<table border=\"1\" class=\"dataframe\">\n",
              "  <thead>\n",
              "    <tr style=\"text-align: right;\">\n",
              "      <th></th>\n",
              "      <th>Faixas Salariais</th>\n",
              "      <th>Masculino</th>\n",
              "      <th>Feminino</th>\n",
              "    </tr>\n",
              "  </thead>\n",
              "  <tbody>\n",
              "    <tr>\n",
              "      <th>0</th>\n",
              "      <td>Salários de 0 a 5</td>\n",
              "      <td>14.371637</td>\n",
              "      <td>11.457109</td>\n",
              "    </tr>\n",
              "    <tr>\n",
              "      <th>1</th>\n",
              "      <td>Salários de 5 a 10</td>\n",
              "      <td>0.053792</td>\n",
              "      <td>0.042883</td>\n",
              "    </tr>\n",
              "    <tr>\n",
              "      <th>2</th>\n",
              "      <td>Salários de 10 a 15</td>\n",
              "      <td>6.433229</td>\n",
              "      <td>5.128588</td>\n",
              "    </tr>\n",
              "    <tr>\n",
              "      <th>3</th>\n",
              "      <td>Salários de 15 a 20</td>\n",
              "      <td>1.693375</td>\n",
              "      <td>1.349963</td>\n",
              "    </tr>\n",
              "    <tr>\n",
              "      <th>4</th>\n",
              "      <td>Salários de 20 a 25</td>\n",
              "      <td>5.583726</td>\n",
              "      <td>4.451362</td>\n",
              "    </tr>\n",
              "  </tbody>\n",
              "</table>\n",
              "</div>"
            ],
            "text/plain": [
              "      Faixas Salariais  Masculino   Feminino\n",
              "0    Salários de 0 a 5  14.371637  11.457109\n",
              "1   Salários de 5 a 10   0.053792   0.042883\n",
              "2  Salários de 10 a 15   6.433229   5.128588\n",
              "3  Salários de 15 a 20   1.693375   1.349963\n",
              "4  Salários de 20 a 25   5.583726   4.451362"
            ]
          },
          "metadata": {
            "tags": []
          },
          "execution_count": 260
        }
      ]
    },
    {
      "cell_type": "markdown",
      "metadata": {
        "id": "Z5kmc1UlIQ8c"
      },
      "source": [
        "## $2.iii)$ Analise a dependência entre as variáveis educação e salário"
      ]
    },
    {
      "cell_type": "markdown",
      "metadata": {
        "id": "mu1kca86Le8a"
      },
      "source": [
        "### Companhia A"
      ]
    },
    {
      "cell_type": "markdown",
      "metadata": {
        "id": "9ECu5sTE3eCa"
      },
      "source": [
        "**Distribuição Conjunta**"
      ]
    },
    {
      "cell_type": "code",
      "metadata": {
        "colab": {
          "base_uri": "https://localhost:8080/",
          "height": 238
        },
        "id": "gPGIWJFr3hs-",
        "outputId": "92838300-1333-4ce8-81ec-de952327cdce"
      },
      "source": [
        "corrEducSalA = {'Faixas Salariais': ['Salários de 0 a 5', 'Salários de 5 a 10', 'Salários de 10 a 15', 'Salários de 15 a 20', 'Salários de 20 a 25', 'Total'],\n",
        "                  'prim': [dadosA.query(\"Sal >= 0 and Sal <= 5 and Educ == 'prim'\").shape[0],\n",
        "                           dadosA.query(\"Sal > 5 and Sal <= 10 and Educ == 'prim'\").shape[0],\n",
        "                           dadosA.query(\"Sal > 10 and Sal <= 15 and Educ == 'prim'\").shape[0],\n",
        "                           dadosA.query(\"Sal > 15 and Sal <= 20 and Educ == 'prim'\").shape[0],\n",
        "                           dadosA.query(\"Sal > 20 and Sal <= 25 and Educ == 'prim'\").shape[0],\n",
        "                           dadosA.query(\"Educ == 'prim'\").shape[0],\n",
        "                   ],\n",
        "                  'sec': [dadosA.query(\"Sal >= 0 and Sal <= 5 and Educ == 'sec'\").shape[0],\n",
        "                          dadosA.query(\"Sal > 5 and Sal <= 10 and Educ == 'sec'\").shape[0],\n",
        "                          dadosA.query(\"Sal > 10 and Sal <= 15 and Educ == 'sec'\").shape[0],\n",
        "                          dadosA.query(\"Sal > 15 and Sal <= 20 and Educ == 'sec'\").shape[0],\n",
        "                          dadosA.query(\"Sal > 20 and Sal <= 25 and Educ == 'sec'\").shape[0],\n",
        "                          dadosA.query(\"Educ == 'sec'\").shape[0],\n",
        "                   ],\n",
        "                  'terc': [dadosA.query(\"Sal >= 0 and Sal <= 5 and Educ == 'terc'\").shape[0],\n",
        "                           dadosA.query(\"Sal > 5 and Sal <= 10 and Educ == 'terc'\").shape[0],\n",
        "                           dadosA.query(\"Sal > 10 and Sal <= 15 and Educ == 'terc'\").shape[0],\n",
        "                           dadosA.query(\"Sal > 15 and Sal <= 20 and Educ == 'terc'\").shape[0],\n",
        "                           dadosA.query(\"Sal > 20 and Sal <= 25 and Educ == 'terc'\").shape[0],\n",
        "                           dadosA.query(\"Educ == 'terc'\").shape[0],\n",
        "                   ],\n",
        "                  'Total': [dadosA.query(\"Sal >= 0 and Sal <= 5\").shape[0],\n",
        "                            dadosA.query(\"Sal > 5 and Sal <= 10\").shape[0],\n",
        "                            dadosA.query(\"Sal > 10 and Sal <= 15\").shape[0],\n",
        "                            dadosA.query(\"Sal > 15 and Sal <= 20\").shape[0],\n",
        "                            dadosA.query(\"Sal > 20 and Sal <= 25\").shape[0],\n",
        "                            dadosA.shape[0],\n",
        "                   ],\n",
        "                }\n",
        "distConjuntaEducSalA = pd.DataFrame(corrEducSalA)\n",
        "distConjuntaEducSalA"
      ],
      "execution_count": 261,
      "outputs": [
        {
          "output_type": "execute_result",
          "data": {
            "text/html": [
              "<div>\n",
              "<style scoped>\n",
              "    .dataframe tbody tr th:only-of-type {\n",
              "        vertical-align: middle;\n",
              "    }\n",
              "\n",
              "    .dataframe tbody tr th {\n",
              "        vertical-align: top;\n",
              "    }\n",
              "\n",
              "    .dataframe thead th {\n",
              "        text-align: right;\n",
              "    }\n",
              "</style>\n",
              "<table border=\"1\" class=\"dataframe\">\n",
              "  <thead>\n",
              "    <tr style=\"text-align: right;\">\n",
              "      <th></th>\n",
              "      <th>Faixas Salariais</th>\n",
              "      <th>prim</th>\n",
              "      <th>sec</th>\n",
              "      <th>terc</th>\n",
              "      <th>Total</th>\n",
              "    </tr>\n",
              "  </thead>\n",
              "  <tbody>\n",
              "    <tr>\n",
              "      <th>0</th>\n",
              "      <td>Salários de 0 a 5</td>\n",
              "      <td>60</td>\n",
              "      <td>2</td>\n",
              "      <td>0</td>\n",
              "      <td>62</td>\n",
              "    </tr>\n",
              "    <tr>\n",
              "      <th>1</th>\n",
              "      <td>Salários de 5 a 10</td>\n",
              "      <td>40</td>\n",
              "      <td>87</td>\n",
              "      <td>1</td>\n",
              "      <td>128</td>\n",
              "    </tr>\n",
              "    <tr>\n",
              "      <th>2</th>\n",
              "      <td>Salários de 10 a 15</td>\n",
              "      <td>2</td>\n",
              "      <td>15</td>\n",
              "      <td>4</td>\n",
              "      <td>21</td>\n",
              "    </tr>\n",
              "    <tr>\n",
              "      <th>3</th>\n",
              "      <td>Salários de 15 a 20</td>\n",
              "      <td>1</td>\n",
              "      <td>8</td>\n",
              "      <td>5</td>\n",
              "      <td>14</td>\n",
              "    </tr>\n",
              "    <tr>\n",
              "      <th>4</th>\n",
              "      <td>Salários de 20 a 25</td>\n",
              "      <td>0</td>\n",
              "      <td>2</td>\n",
              "      <td>21</td>\n",
              "      <td>23</td>\n",
              "    </tr>\n",
              "    <tr>\n",
              "      <th>5</th>\n",
              "      <td>Total</td>\n",
              "      <td>103</td>\n",
              "      <td>114</td>\n",
              "      <td>31</td>\n",
              "      <td>248</td>\n",
              "    </tr>\n",
              "  </tbody>\n",
              "</table>\n",
              "</div>"
            ],
            "text/plain": [
              "      Faixas Salariais  prim  sec  terc  Total\n",
              "0    Salários de 0 a 5    60    2     0     62\n",
              "1   Salários de 5 a 10    40   87     1    128\n",
              "2  Salários de 10 a 15     2   15     4     21\n",
              "3  Salários de 15 a 20     1    8     5     14\n",
              "4  Salários de 20 a 25     0    2    21     23\n",
              "5                Total   103  114    31    248"
            ]
          },
          "metadata": {
            "tags": []
          },
          "execution_count": 261
        }
      ]
    },
    {
      "cell_type": "markdown",
      "metadata": {
        "id": "Vtx7q7Ho3eCr"
      },
      "source": [
        "**Distribuição das frequências relativas ao total por coluna**\n",
        "\n",
        "Se não houver dependência a proporcão do total deverá ser parecida da proporção por cada categoria."
      ]
    },
    {
      "cell_type": "code",
      "metadata": {
        "id": "MLmdA4Qz335j",
        "colab": {
          "base_uri": "https://localhost:8080/",
          "height": 238
        },
        "outputId": "aea34f1c-eb63-44e2-8dec-b33829cde3e8"
      },
      "source": [
        "corrEducSalA = {'Faixas Salariais': ['Salários de 0 a 5', 'Salários de 5 a 10', 'Salários de 10 a 15', 'Salários de 15 a 20', 'Salários de 20 a 25', 'Total'],\n",
        "                  'prim (%)': [dadosA.query(\"Sal >= 0 and Sal <= 5 and Educ == 'prim'\").shape[0]/dadosA.query(\"Educ == 'prim'\").shape[0]*100,\n",
        "                           dadosA.query(\"Sal > 5 and Sal <= 10 and Educ == 'prim'\").shape[0]/dadosA.query(\"Educ == 'prim'\").shape[0]*100,\n",
        "                           dadosA.query(\"Sal > 10 and Sal <= 15 and Educ == 'prim'\").shape[0]/dadosA.query(\"Educ == 'prim'\").shape[0]*100,\n",
        "                           dadosA.query(\"Sal > 15 and Sal <= 20 and Educ == 'prim'\").shape[0]/dadosA.query(\"Educ == 'prim'\").shape[0]*100,\n",
        "                           dadosA.query(\"Sal > 20 and Sal <= 25 and Educ == 'prim'\").shape[0]/dadosA.query(\"Educ == 'prim'\").shape[0]*100,\n",
        "                           dadosA.query(\"Educ == 'prim'\").shape[0]/dadosA.query(\"Educ == 'prim'\").shape[0]*100,\n",
        "                   ],\n",
        "                  'sec (%)': [dadosA.query(\"Sal >= 0 and Sal <= 5 and Educ == 'sec'\").shape[0]/dadosA.query(\"Educ == 'sec'\").shape[0]*100,\n",
        "                          dadosA.query(\"Sal > 5 and Sal <= 10 and Educ == 'sec'\").shape[0]/dadosA.query(\"Educ == 'sec'\").shape[0]*100,\n",
        "                          dadosA.query(\"Sal > 10 and Sal <= 15 and Educ == 'sec'\").shape[0]/dadosA.query(\"Educ == 'sec'\").shape[0]*100,\n",
        "                          dadosA.query(\"Sal > 15 and Sal <= 20 and Educ == 'sec'\").shape[0]/dadosA.query(\"Educ == 'sec'\").shape[0]*100,\n",
        "                          dadosA.query(\"Sal > 20 and Sal <= 25 and Educ == 'sec'\").shape[0]/dadosA.query(\"Educ == 'sec'\").shape[0]*100,\n",
        "                          dadosA.query(\"Educ == 'sec'\").shape[0]/dadosA.query(\"Educ == 'sec'\").shape[0]*100,\n",
        "                   ],\n",
        "                  'terc (%)': [dadosA.query(\"Sal >= 0 and Sal <= 5 and Educ == 'terc'\").shape[0]/dadosA.query(\"Educ == 'terc'\").shape[0]*100,\n",
        "                           dadosA.query(\"Sal > 5 and Sal <= 10 and Educ == 'terc'\").shape[0]/dadosA.query(\"Educ == 'terc'\").shape[0]*100,\n",
        "                           dadosA.query(\"Sal > 10 and Sal <= 15 and Educ == 'terc'\").shape[0]/dadosA.query(\"Educ == 'terc'\").shape[0]*100,\n",
        "                           dadosA.query(\"Sal > 15 and Sal <= 20 and Educ == 'terc'\").shape[0]/dadosA.query(\"Educ == 'terc'\").shape[0]*100,\n",
        "                           dadosA.query(\"Sal > 20 and Sal <= 25 and Educ == 'terc'\").shape[0]/dadosA.query(\"Educ == 'terc'\").shape[0]*100,\n",
        "                           dadosA.query(\"Educ == 'terc'\").shape[0]/dadosA.query(\"Educ == 'terc'\").shape[0]*100,\n",
        "                   ],\n",
        "                  'Total (%)': [dadosA.query(\"Sal >= 0 and Sal <= 5\").shape[0]/dadosA.shape[0]*100,\n",
        "                            dadosA.query(\"Sal > 5 and Sal <= 10\").shape[0]/dadosA.shape[0]*100,\n",
        "                            dadosA.query(\"Sal > 10 and Sal <= 15\").shape[0]/dadosA.shape[0]*100,\n",
        "                            dadosA.query(\"Sal > 15 and Sal <= 20\").shape[0]/dadosA.shape[0]*100,\n",
        "                            dadosA.query(\"Sal > 20 and Sal <= 25\").shape[0]/dadosA.shape[0]*100,\n",
        "                            dadosA.shape[0]/dadosA.shape[0]*100,\n",
        "                   ],\n",
        "                }\n",
        "distRelColEducSalA = pd.DataFrame(corrEducSalA)\n",
        "distRelColEducSalA.round(1)"
      ],
      "execution_count": 262,
      "outputs": [
        {
          "output_type": "execute_result",
          "data": {
            "text/html": [
              "<div>\n",
              "<style scoped>\n",
              "    .dataframe tbody tr th:only-of-type {\n",
              "        vertical-align: middle;\n",
              "    }\n",
              "\n",
              "    .dataframe tbody tr th {\n",
              "        vertical-align: top;\n",
              "    }\n",
              "\n",
              "    .dataframe thead th {\n",
              "        text-align: right;\n",
              "    }\n",
              "</style>\n",
              "<table border=\"1\" class=\"dataframe\">\n",
              "  <thead>\n",
              "    <tr style=\"text-align: right;\">\n",
              "      <th></th>\n",
              "      <th>Faixas Salariais</th>\n",
              "      <th>prim (%)</th>\n",
              "      <th>sec (%)</th>\n",
              "      <th>terc (%)</th>\n",
              "      <th>Total (%)</th>\n",
              "    </tr>\n",
              "  </thead>\n",
              "  <tbody>\n",
              "    <tr>\n",
              "      <th>0</th>\n",
              "      <td>Salários de 0 a 5</td>\n",
              "      <td>58.3</td>\n",
              "      <td>1.8</td>\n",
              "      <td>0.0</td>\n",
              "      <td>25.0</td>\n",
              "    </tr>\n",
              "    <tr>\n",
              "      <th>1</th>\n",
              "      <td>Salários de 5 a 10</td>\n",
              "      <td>38.8</td>\n",
              "      <td>76.3</td>\n",
              "      <td>3.2</td>\n",
              "      <td>51.6</td>\n",
              "    </tr>\n",
              "    <tr>\n",
              "      <th>2</th>\n",
              "      <td>Salários de 10 a 15</td>\n",
              "      <td>1.9</td>\n",
              "      <td>13.2</td>\n",
              "      <td>12.9</td>\n",
              "      <td>8.5</td>\n",
              "    </tr>\n",
              "    <tr>\n",
              "      <th>3</th>\n",
              "      <td>Salários de 15 a 20</td>\n",
              "      <td>1.0</td>\n",
              "      <td>7.0</td>\n",
              "      <td>16.1</td>\n",
              "      <td>5.6</td>\n",
              "    </tr>\n",
              "    <tr>\n",
              "      <th>4</th>\n",
              "      <td>Salários de 20 a 25</td>\n",
              "      <td>0.0</td>\n",
              "      <td>1.8</td>\n",
              "      <td>67.7</td>\n",
              "      <td>9.3</td>\n",
              "    </tr>\n",
              "    <tr>\n",
              "      <th>5</th>\n",
              "      <td>Total</td>\n",
              "      <td>100.0</td>\n",
              "      <td>100.0</td>\n",
              "      <td>100.0</td>\n",
              "      <td>100.0</td>\n",
              "    </tr>\n",
              "  </tbody>\n",
              "</table>\n",
              "</div>"
            ],
            "text/plain": [
              "      Faixas Salariais  prim (%)  sec (%)  terc (%)  Total (%)\n",
              "0    Salários de 0 a 5      58.3      1.8       0.0       25.0\n",
              "1   Salários de 5 a 10      38.8     76.3       3.2       51.6\n",
              "2  Salários de 10 a 15       1.9     13.2      12.9        8.5\n",
              "3  Salários de 15 a 20       1.0      7.0      16.1        5.6\n",
              "4  Salários de 20 a 25       0.0      1.8      67.7        9.3\n",
              "5                Total     100.0    100.0     100.0      100.0"
            ]
          },
          "metadata": {
            "tags": []
          },
          "execution_count": 262
        }
      ]
    },
    {
      "cell_type": "markdown",
      "metadata": {
        "id": "TG0aMkFP3eCr"
      },
      "source": [
        "**Distribuição das frequências relativas ao total por linhas**\n",
        "\n",
        "Se não houver dependência a proporcão do total deverá ser parecida da proporção por cada categoria."
      ]
    },
    {
      "cell_type": "code",
      "metadata": {
        "colab": {
          "base_uri": "https://localhost:8080/",
          "height": 238
        },
        "id": "YT96WTQoYU14",
        "outputId": "5f60dcf9-0588-45bc-91c8-a122ff54c30b"
      },
      "source": [
        "corrEducSalA = {'Faixas Salariais': ['Salários de 0 a 5', 'Salários de 5 a 10', 'Salários de 10 a 15', 'Salários de 15 a 20', 'Salários de 20 a 25', 'Total'],\n",
        "                  'prim (%)': [dadosA.query(\"Sal >= 0 and Sal <= 5 and Educ == 'prim'\").shape[0]/dadosA.query(\"Sal >= 0 and Sal <= 5\").shape[0]*100,\n",
        "                           dadosA.query(\"Sal > 5 and Sal <= 10 and Educ == 'prim'\").shape[0]/dadosA.query(\"Sal > 5 and Sal <= 10\").shape[0]*100,\n",
        "                           dadosA.query(\"Sal > 10 and Sal <= 15 and Educ == 'prim'\").shape[0]/dadosA.query(\"Sal > 10 and Sal <= 15\").shape[0]*100,\n",
        "                           dadosA.query(\"Sal > 15 and Sal <= 20 and Educ == 'prim'\").shape[0]/dadosA.query(\"Sal > 15 and Sal <= 20\").shape[0]*100,\n",
        "                           dadosA.query(\"Sal > 20 and Sal <= 25 and Educ == 'prim'\").shape[0]/dadosA.query(\"Sal > 20 and Sal <= 25\").shape[0]*100,\n",
        "                           dadosA.query(\"Educ == 'prim'\").shape[0]/dadosA.shape[0]*100,\n",
        "                   ],\n",
        "                  'sec (%)': [dadosA.query(\"Sal >= 0 and Sal <= 5 and Educ == 'sec'\").shape[0]/dadosA.query(\"Sal >= 0 and Sal <= 5\").shape[0]*100,\n",
        "                          dadosA.query(\"Sal > 5 and Sal <= 10 and Educ == 'sec'\").shape[0]/dadosA.query(\"Sal > 5 and Sal <= 10\").shape[0]*100,\n",
        "                          dadosA.query(\"Sal > 10 and Sal <= 15 and Educ == 'sec'\").shape[0]/dadosA.query(\"Sal > 10 and Sal <= 15\").shape[0]*100,\n",
        "                          dadosA.query(\"Sal > 15 and Sal <= 20 and Educ == 'sec'\").shape[0]/dadosA.query(\"Sal > 15 and Sal <= 20\").shape[0]*100,\n",
        "                          dadosA.query(\"Sal > 20 and Sal <= 25 and Educ == 'sec'\").shape[0]/dadosA.query(\"Sal > 20 and Sal <= 25\").shape[0]*100,\n",
        "                          dadosA.query(\"Educ == 'sec'\").shape[0]/dadosA.shape[0]*100,\n",
        "                   ],\n",
        "                  'terc (%)': [dadosA.query(\"Sal >= 0 and Sal <= 5 and Educ == 'terc'\").shape[0]/dadosA.query(\"Sal >= 0 and Sal <= 5\").shape[0]*100,\n",
        "                           dadosA.query(\"Sal > 5 and Sal <= 10 and Educ == 'terc'\").shape[0]/dadosA.query(\"Sal > 5 and Sal <= 10\").shape[0]*100,\n",
        "                           dadosA.query(\"Sal > 10 and Sal <= 15 and Educ == 'terc'\").shape[0]/dadosA.query(\"Sal > 10 and Sal <= 15\").shape[0]*100,\n",
        "                           dadosA.query(\"Sal > 15 and Sal <= 20 and Educ == 'terc'\").shape[0]/dadosA.query(\"Sal > 15 and Sal <= 20\").shape[0]*100,\n",
        "                           dadosA.query(\"Sal > 20 and Sal <= 25 and Educ == 'terc'\").shape[0]/dadosA.query(\"Sal > 20 and Sal <= 25\").shape[0]*100,\n",
        "                           dadosA.query(\"Educ == 'terc'\").shape[0]/dadosA.shape[0]*100,\n",
        "                   ],\n",
        "                  'Total (%)': [dadosA.query(\"Sal >= 0 and Sal <= 5\").shape[0]/dadosA.query(\"Sal >= 0 and Sal <= 5\").shape[0]*100,\n",
        "                            dadosA.query(\"Sal > 5 and Sal <= 10\").shape[0]/dadosA.query(\"Sal > 5 and Sal <= 10\").shape[0]*100,\n",
        "                            dadosA.query(\"Sal > 10 and Sal <= 15\").shape[0]/dadosA.query(\"Sal > 10 and Sal <= 15\").shape[0]*100,\n",
        "                            dadosA.query(\"Sal > 15 and Sal <= 20\").shape[0]/dadosA.query(\"Sal > 15 and Sal <= 20\").shape[0]*100,\n",
        "                            dadosA.query(\"Sal > 20 and Sal <= 25\").shape[0]/dadosA.query(\"Sal > 20 and Sal <= 25\").shape[0]*100,\n",
        "                            dadosA.shape[0]/dadosA.shape[0]*100,\n",
        "                   ],\n",
        "                }\n",
        "distRelLinEducSalA = pd.DataFrame(corrEducSalA)\n",
        "distRelLinEducSalA.round(1)"
      ],
      "execution_count": 263,
      "outputs": [
        {
          "output_type": "execute_result",
          "data": {
            "text/html": [
              "<div>\n",
              "<style scoped>\n",
              "    .dataframe tbody tr th:only-of-type {\n",
              "        vertical-align: middle;\n",
              "    }\n",
              "\n",
              "    .dataframe tbody tr th {\n",
              "        vertical-align: top;\n",
              "    }\n",
              "\n",
              "    .dataframe thead th {\n",
              "        text-align: right;\n",
              "    }\n",
              "</style>\n",
              "<table border=\"1\" class=\"dataframe\">\n",
              "  <thead>\n",
              "    <tr style=\"text-align: right;\">\n",
              "      <th></th>\n",
              "      <th>Faixas Salariais</th>\n",
              "      <th>prim (%)</th>\n",
              "      <th>sec (%)</th>\n",
              "      <th>terc (%)</th>\n",
              "      <th>Total (%)</th>\n",
              "    </tr>\n",
              "  </thead>\n",
              "  <tbody>\n",
              "    <tr>\n",
              "      <th>0</th>\n",
              "      <td>Salários de 0 a 5</td>\n",
              "      <td>96.8</td>\n",
              "      <td>3.2</td>\n",
              "      <td>0.0</td>\n",
              "      <td>100.0</td>\n",
              "    </tr>\n",
              "    <tr>\n",
              "      <th>1</th>\n",
              "      <td>Salários de 5 a 10</td>\n",
              "      <td>31.2</td>\n",
              "      <td>68.0</td>\n",
              "      <td>0.8</td>\n",
              "      <td>100.0</td>\n",
              "    </tr>\n",
              "    <tr>\n",
              "      <th>2</th>\n",
              "      <td>Salários de 10 a 15</td>\n",
              "      <td>9.5</td>\n",
              "      <td>71.4</td>\n",
              "      <td>19.0</td>\n",
              "      <td>100.0</td>\n",
              "    </tr>\n",
              "    <tr>\n",
              "      <th>3</th>\n",
              "      <td>Salários de 15 a 20</td>\n",
              "      <td>7.1</td>\n",
              "      <td>57.1</td>\n",
              "      <td>35.7</td>\n",
              "      <td>100.0</td>\n",
              "    </tr>\n",
              "    <tr>\n",
              "      <th>4</th>\n",
              "      <td>Salários de 20 a 25</td>\n",
              "      <td>0.0</td>\n",
              "      <td>8.7</td>\n",
              "      <td>91.3</td>\n",
              "      <td>100.0</td>\n",
              "    </tr>\n",
              "    <tr>\n",
              "      <th>5</th>\n",
              "      <td>Total</td>\n",
              "      <td>41.5</td>\n",
              "      <td>46.0</td>\n",
              "      <td>12.5</td>\n",
              "      <td>100.0</td>\n",
              "    </tr>\n",
              "  </tbody>\n",
              "</table>\n",
              "</div>"
            ],
            "text/plain": [
              "      Faixas Salariais  prim (%)  sec (%)  terc (%)  Total (%)\n",
              "0    Salários de 0 a 5      96.8      3.2       0.0      100.0\n",
              "1   Salários de 5 a 10      31.2     68.0       0.8      100.0\n",
              "2  Salários de 10 a 15       9.5     71.4      19.0      100.0\n",
              "3  Salários de 15 a 20       7.1     57.1      35.7      100.0\n",
              "4  Salários de 20 a 25       0.0      8.7      91.3      100.0\n",
              "5                Total      41.5     46.0      12.5      100.0"
            ]
          },
          "metadata": {
            "tags": []
          },
          "execution_count": 263
        }
      ]
    },
    {
      "cell_type": "markdown",
      "metadata": {
        "id": "oT497K-N3eCr"
      },
      "source": [
        "**Valores esperados para cada posição na tabela de acordo com a porcentagem da distribuição das frequências relativas ao total por linhas**"
      ]
    },
    {
      "cell_type": "code",
      "metadata": {
        "colab": {
          "base_uri": "https://localhost:8080/",
          "height": 206
        },
        "id": "YIpu5Og7ZuOG",
        "outputId": "8044b969-9ca8-42c8-8363-fa0f4c0cbd23"
      },
      "source": [
        "corrEducSalA = {'Faixas Salariais': ['Salários de 0 a 5', 'Salários de 5 a 10', 'Salários de 10 a 15', 'Salários de 15 a 20', 'Salários de 20 a 25'],\n",
        "                  'prim': [dadosA.query(\"Educ == 'prim'\").shape[0]/dadosA.shape[0]*dadosA.query(\"Sal >= 0 and Sal <= 5\").shape[0],\n",
        "                           dadosA.query(\"Educ == 'prim'\").shape[0]/dadosA.shape[0]*dadosA.query(\"Sal > 5 and Sal <= 10\").shape[0],\n",
        "                           dadosA.query(\"Educ == 'prim'\").shape[0]/dadosA.shape[0]*dadosA.query(\"Sal > 10 and Sal <= 15\").shape[0],\n",
        "                           dadosA.query(\"Educ == 'prim'\").shape[0]/dadosA.shape[0]*dadosA.query(\"Sal > 15 and Sal <= 20\").shape[0],\n",
        "                           dadosA.query(\"Educ == 'prim'\").shape[0]/dadosA.shape[0]*dadosA.query(\"Sal > 20 and Sal <= 25\").shape[0],\n",
        "                   ],\n",
        "                  'sec': [dadosA.query(\"Educ == 'sec'\").shape[0]/dadosA.shape[0]*dadosA.query(\"Sal >= 0 and Sal <= 5\").shape[0],\n",
        "                          dadosA.query(\"Educ == 'sec'\").shape[0]/dadosA.shape[0]*dadosA.query(\"Sal > 5 and Sal <= 10\").shape[0],\n",
        "                          dadosA.query(\"Educ == 'sec'\").shape[0]/dadosA.shape[0]*dadosA.query(\"Sal > 10 and Sal <= 15\").shape[0],\n",
        "                          dadosA.query(\"Educ == 'sec'\").shape[0]/dadosA.shape[0]*dadosA.query(\"Sal > 15 and Sal <= 20\").shape[0],\n",
        "                          dadosA.query(\"Educ == 'sec'\").shape[0]/dadosA.shape[0]*dadosA.query(\"Sal > 20 and Sal <= 25\").shape[0],\n",
        "                   ],\n",
        "                  'terc': [dadosA.query(\"Educ == 'terc'\").shape[0]/dadosA.shape[0]*dadosA.query(\"Sal >= 0 and Sal <= 5\").shape[0],\n",
        "                           dadosA.query(\"Educ == 'terc'\").shape[0]/dadosA.shape[0]*dadosA.query(\"Sal > 5 and Sal <= 10\").shape[0],\n",
        "                           dadosA.query(\"Educ == 'terc'\").shape[0]/dadosA.shape[0]*dadosA.query(\"Sal > 10 and Sal <= 15\").shape[0],\n",
        "                           dadosA.query(\"Educ == 'terc'\").shape[0]/dadosA.shape[0]*dadosA.query(\"Sal > 15 and Sal <= 20\").shape[0],\n",
        "                           dadosA.query(\"Educ == 'terc'\").shape[0]/dadosA.shape[0]*dadosA.query(\"Sal > 20 and Sal <= 25\").shape[0],\n",
        "                   ]\n",
        "                }\n",
        "distEsperadaEducSalA = pd.DataFrame(corrEducSalA)\n",
        "distEsperadaEducSalA.round(1)"
      ],
      "execution_count": 264,
      "outputs": [
        {
          "output_type": "execute_result",
          "data": {
            "text/html": [
              "<div>\n",
              "<style scoped>\n",
              "    .dataframe tbody tr th:only-of-type {\n",
              "        vertical-align: middle;\n",
              "    }\n",
              "\n",
              "    .dataframe tbody tr th {\n",
              "        vertical-align: top;\n",
              "    }\n",
              "\n",
              "    .dataframe thead th {\n",
              "        text-align: right;\n",
              "    }\n",
              "</style>\n",
              "<table border=\"1\" class=\"dataframe\">\n",
              "  <thead>\n",
              "    <tr style=\"text-align: right;\">\n",
              "      <th></th>\n",
              "      <th>Faixas Salariais</th>\n",
              "      <th>prim</th>\n",
              "      <th>sec</th>\n",
              "      <th>terc</th>\n",
              "    </tr>\n",
              "  </thead>\n",
              "  <tbody>\n",
              "    <tr>\n",
              "      <th>0</th>\n",
              "      <td>Salários de 0 a 5</td>\n",
              "      <td>25.8</td>\n",
              "      <td>28.5</td>\n",
              "      <td>7.8</td>\n",
              "    </tr>\n",
              "    <tr>\n",
              "      <th>1</th>\n",
              "      <td>Salários de 5 a 10</td>\n",
              "      <td>53.2</td>\n",
              "      <td>58.8</td>\n",
              "      <td>16.0</td>\n",
              "    </tr>\n",
              "    <tr>\n",
              "      <th>2</th>\n",
              "      <td>Salários de 10 a 15</td>\n",
              "      <td>8.7</td>\n",
              "      <td>9.7</td>\n",
              "      <td>2.6</td>\n",
              "    </tr>\n",
              "    <tr>\n",
              "      <th>3</th>\n",
              "      <td>Salários de 15 a 20</td>\n",
              "      <td>5.8</td>\n",
              "      <td>6.4</td>\n",
              "      <td>1.8</td>\n",
              "    </tr>\n",
              "    <tr>\n",
              "      <th>4</th>\n",
              "      <td>Salários de 20 a 25</td>\n",
              "      <td>9.6</td>\n",
              "      <td>10.6</td>\n",
              "      <td>2.9</td>\n",
              "    </tr>\n",
              "  </tbody>\n",
              "</table>\n",
              "</div>"
            ],
            "text/plain": [
              "      Faixas Salariais  prim   sec  terc\n",
              "0    Salários de 0 a 5  25.8  28.5   7.8\n",
              "1   Salários de 5 a 10  53.2  58.8  16.0\n",
              "2  Salários de 10 a 15   8.7   9.7   2.6\n",
              "3  Salários de 15 a 20   5.8   6.4   1.8\n",
              "4  Salários de 20 a 25   9.6  10.6   2.9"
            ]
          },
          "metadata": {
            "tags": []
          },
          "execution_count": 264
        }
      ]
    },
    {
      "cell_type": "markdown",
      "metadata": {
        "id": "oWe1uq7z3eCs"
      },
      "source": [
        "**Desvios relativos entre observados e esperados:**\n",
        "\n",
        "(oi - ei)^2/ei\n",
        "\n",
        "* oi é o valor observado\n",
        "* ei é o valor esperado\n",
        "\n",
        "**Qui-quadrado de Pearson (X_quadrado):** \n",
        "\n",
        "Soma de todas as medidas da tabela. Se a hipótese de não-associação for verdadeira, o valor calculado deve estar próximo de zero. Se as variáveis forem associadas, o valor de X_quadrado deve ser grande."
      ]
    },
    {
      "cell_type": "code",
      "metadata": {
        "colab": {
          "base_uri": "https://localhost:8080/",
          "height": 224
        },
        "id": "TcWm4tp9blQ6",
        "outputId": "dc06f922-fbbb-49af-ead5-077c71962a1b"
      },
      "source": [
        "corrSexSalA = {'Faixas Salariais': ['Salários de 0 a 5', 'Salários de 5 a 10', 'Salários de 10 a 15', 'Salários de 15 a 20', 'Salários de 20 a 25'],\n",
        "                  'prim': [((distConjuntaEducSalA['prim'][0]-distEsperadaEducSalA['prim'][0])**2)/distEsperadaEducSalA['prim'][0],\n",
        "                                ((distConjuntaEducSalA['prim'][1]-distEsperadaEducSalA['prim'][1])**2)/distEsperadaEducSalA['prim'][1],\n",
        "                                ((distConjuntaEducSalA['prim'][2]-distEsperadaEducSalA['prim'][2])**2)/distEsperadaEducSalA['prim'][2],\n",
        "                                ((distConjuntaEducSalA['prim'][3]-distEsperadaEducSalA['prim'][3])**2)/distEsperadaEducSalA['prim'][3],\n",
        "                                ((distConjuntaEducSalA['prim'][4]-distEsperadaEducSalA['prim'][4])**2)/distEsperadaEducSalA['prim'][4],\n",
        "                                \n",
        "                   ],\n",
        "                  'sec' : [((distConjuntaEducSalA['sec'][0]-distEsperadaEducSalA['sec'][0])**2)/distEsperadaEducSalA['sec'][0],\n",
        "                                ((distConjuntaEducSalA['sec'][1]-distEsperadaEducSalA['sec'][1])**2)/distEsperadaEducSalA['sec'][1],\n",
        "                                ((distConjuntaEducSalA['sec'][2]-distEsperadaEducSalA['sec'][2])**2)/distEsperadaEducSalA['sec'][2],\n",
        "                                ((distConjuntaEducSalA['sec'][3]-distEsperadaEducSalA['sec'][3])**2)/distEsperadaEducSalA['sec'][3],\n",
        "                                ((distConjuntaEducSalA['sec'][4]-distEsperadaEducSalA['sec'][4])**2)/distEsperadaEducSalA['sec'][4],\n",
        "                   ],\n",
        "               'terc' : [((distConjuntaEducSalA['terc'][0]-distEsperadaEducSalA['terc'][0])**2)/distEsperadaEducSalA['terc'][0],\n",
        "                                ((distConjuntaEducSalA['terc'][1]-distEsperadaEducSalA['terc'][1])**2)/distEsperadaEducSalA['terc'][1],\n",
        "                                ((distConjuntaEducSalA['terc'][2]-distEsperadaEducSalA['terc'][2])**2)/distEsperadaEducSalA['terc'][2],\n",
        "                                ((distConjuntaEducSalA['terc'][3]-distEsperadaEducSalA['terc'][3])**2)/distEsperadaEducSalA['terc'][3],\n",
        "                                ((distConjuntaEducSalA['terc'][4]-distEsperadaEducSalA['terc'][4])**2)/distEsperadaEducSalA['terc'][4],\n",
        "                   ],\n",
        "                }\n",
        "esp = pd.DataFrame(corrSexSalA)\n",
        "X_quadrado = esp['prim'][0]+esp['prim'][1]+esp['prim'][2]+esp['prim'][3]+esp['prim'][4]+esp['sec'][0]+esp['sec'][1]+esp['sec'][2]+esp['sec'][3]+esp['sec'][4]+esp['terc'][0]+esp['terc'][1]+esp['terc'][2]+esp['terc'][3]+esp['terc'][4]\n",
        "print(\"Qui-quadrado de Pearson:\",X_quadrado)\n",
        "esp"
      ],
      "execution_count": 265,
      "outputs": [
        {
          "output_type": "stream",
          "text": [
            "Qui-quadrado de Pearson: 258.77989847852007\n"
          ],
          "name": "stdout"
        },
        {
          "output_type": "execute_result",
          "data": {
            "text/html": [
              "<div>\n",
              "<style scoped>\n",
              "    .dataframe tbody tr th:only-of-type {\n",
              "        vertical-align: middle;\n",
              "    }\n",
              "\n",
              "    .dataframe tbody tr th {\n",
              "        vertical-align: top;\n",
              "    }\n",
              "\n",
              "    .dataframe thead th {\n",
              "        text-align: right;\n",
              "    }\n",
              "</style>\n",
              "<table border=\"1\" class=\"dataframe\">\n",
              "  <thead>\n",
              "    <tr style=\"text-align: right;\">\n",
              "      <th></th>\n",
              "      <th>Faixas Salariais</th>\n",
              "      <th>prim</th>\n",
              "      <th>sec</th>\n",
              "      <th>terc</th>\n",
              "    </tr>\n",
              "  </thead>\n",
              "  <tbody>\n",
              "    <tr>\n",
              "      <th>0</th>\n",
              "      <td>Salários de 0 a 5</td>\n",
              "      <td>45.555825</td>\n",
              "      <td>24.640351</td>\n",
              "      <td>7.750000</td>\n",
              "    </tr>\n",
              "    <tr>\n",
              "      <th>1</th>\n",
              "      <td>Salários de 5 a 10</td>\n",
              "      <td>3.258378</td>\n",
              "      <td>13.478512</td>\n",
              "      <td>14.062500</td>\n",
              "    </tr>\n",
              "    <tr>\n",
              "      <th>2</th>\n",
              "      <td>Salários de 10 a 15</td>\n",
              "      <td>5.180396</td>\n",
              "      <td>2.961496</td>\n",
              "      <td>0.720238</td>\n",
              "    </tr>\n",
              "    <tr>\n",
              "      <th>3</th>\n",
              "      <td>Salários de 15 a 20</td>\n",
              "      <td>3.986499</td>\n",
              "      <td>0.380346</td>\n",
              "      <td>6.035714</td>\n",
              "    </tr>\n",
              "    <tr>\n",
              "      <th>4</th>\n",
              "      <td>Salários de 20 a 25</td>\n",
              "      <td>9.552419</td>\n",
              "      <td>6.950918</td>\n",
              "      <td>114.266304</td>\n",
              "    </tr>\n",
              "  </tbody>\n",
              "</table>\n",
              "</div>"
            ],
            "text/plain": [
              "      Faixas Salariais       prim        sec        terc\n",
              "0    Salários de 0 a 5  45.555825  24.640351    7.750000\n",
              "1   Salários de 5 a 10   3.258378  13.478512   14.062500\n",
              "2  Salários de 10 a 15   5.180396   2.961496    0.720238\n",
              "3  Salários de 15 a 20   3.986499   0.380346    6.035714\n",
              "4  Salários de 20 a 25   9.552419   6.950918  114.266304"
            ]
          },
          "metadata": {
            "tags": []
          },
          "execution_count": 265
        }
      ]
    },
    {
      "cell_type": "markdown",
      "metadata": {
        "id": "GyDUWPDXLh3Q"
      },
      "source": [
        "### Companhia B"
      ]
    },
    {
      "cell_type": "markdown",
      "metadata": {
        "id": "5jGf6VbK2kqH"
      },
      "source": [
        "**Distribuição Conjunta**"
      ]
    },
    {
      "cell_type": "code",
      "metadata": {
        "colab": {
          "base_uri": "https://localhost:8080/",
          "height": 238
        },
        "id": "aYnFAgkO2kqX",
        "outputId": "394f9d84-9f32-4a0d-a9cf-c2c098dd35e5"
      },
      "source": [
        "corrEducSalB = {'Faixas Salariais': ['Salários de 0 a 5', 'Salários de 5 a 10', 'Salários de 10 a 15', 'Salários de 15 a 20', 'Salários de 20 a 25', 'Total'],\n",
        "                  'prim': [dadosB.query(\"Sal >= 0 and Sal <= 5 and Educ == 'prim'\").shape[0],\n",
        "                           dadosB.query(\"Sal > 5 and Sal <= 10 and Educ == 'prim'\").shape[0],\n",
        "                           dadosB.query(\"Sal > 10 and Sal <= 15 and Educ == 'prim'\").shape[0],\n",
        "                           dadosB.query(\"Sal > 15 and Sal <= 20 and Educ == 'prim'\").shape[0],\n",
        "                           dadosB.query(\"Sal > 20 and Sal <= 25 and Educ == 'prim'\").shape[0],\n",
        "                           dadosB.query(\"Educ == 'prim'\").shape[0],\n",
        "                   ],\n",
        "                  'sec': [dadosB.query(\"Sal >= 0 and Sal <= 5 and Educ == 'sec'\").shape[0],\n",
        "                          dadosB.query(\"Sal > 5 and Sal <= 10 and Educ == 'sec'\").shape[0],\n",
        "                          dadosB.query(\"Sal > 10 and Sal <= 15 and Educ == 'sec'\").shape[0],\n",
        "                          dadosB.query(\"Sal > 15 and Sal <= 20 and Educ == 'sec'\").shape[0],\n",
        "                          dadosB.query(\"Sal > 20 and Sal <= 25 and Educ == 'sec'\").shape[0],\n",
        "                          dadosB.query(\"Educ == 'sec'\").shape[0],\n",
        "                   ],\n",
        "                  'terc': [dadosB.query(\"Sal >= 0 and Sal <= 5 and Educ == 'terc'\").shape[0],\n",
        "                           dadosB.query(\"Sal > 5 and Sal <= 10 and Educ == 'terc'\").shape[0],\n",
        "                           dadosB.query(\"Sal > 10 and Sal <= 15 and Educ == 'terc'\").shape[0],\n",
        "                           dadosB.query(\"Sal > 15 and Sal <= 20 and Educ == 'terc'\").shape[0],\n",
        "                           dadosB.query(\"Sal > 20 and Sal <= 25 and Educ == 'terc'\").shape[0],\n",
        "                           dadosB.query(\"Educ == 'terc'\").shape[0],\n",
        "                   ],\n",
        "                  'Total': [dadosB.query(\"Sal >= 0 and Sal <= 5\").shape[0],\n",
        "                            dadosB.query(\"Sal > 5 and Sal <= 10\").shape[0],\n",
        "                            dadosB.query(\"Sal > 10 and Sal <= 15\").shape[0],\n",
        "                            dadosB.query(\"Sal > 15 and Sal <= 20\").shape[0],\n",
        "                            dadosB.query(\"Sal > 20 and Sal <= 25\").shape[0],\n",
        "                            dadosB.shape[0],\n",
        "                   ],\n",
        "                }\n",
        "distConjuntaEducSalB = pd.DataFrame(corrEducSalB)\n",
        "distConjuntaEducSalB"
      ],
      "execution_count": 266,
      "outputs": [
        {
          "output_type": "execute_result",
          "data": {
            "text/html": [
              "<div>\n",
              "<style scoped>\n",
              "    .dataframe tbody tr th:only-of-type {\n",
              "        vertical-align: middle;\n",
              "    }\n",
              "\n",
              "    .dataframe tbody tr th {\n",
              "        vertical-align: top;\n",
              "    }\n",
              "\n",
              "    .dataframe thead th {\n",
              "        text-align: right;\n",
              "    }\n",
              "</style>\n",
              "<table border=\"1\" class=\"dataframe\">\n",
              "  <thead>\n",
              "    <tr style=\"text-align: right;\">\n",
              "      <th></th>\n",
              "      <th>Faixas Salariais</th>\n",
              "      <th>prim</th>\n",
              "      <th>sec</th>\n",
              "      <th>terc</th>\n",
              "      <th>Total</th>\n",
              "    </tr>\n",
              "  </thead>\n",
              "  <tbody>\n",
              "    <tr>\n",
              "      <th>0</th>\n",
              "      <td>Salários de 0 a 5</td>\n",
              "      <td>61</td>\n",
              "      <td>16</td>\n",
              "      <td>0</td>\n",
              "      <td>77</td>\n",
              "    </tr>\n",
              "    <tr>\n",
              "      <th>1</th>\n",
              "      <td>Salários de 5 a 10</td>\n",
              "      <td>31</td>\n",
              "      <td>63</td>\n",
              "      <td>4</td>\n",
              "      <td>98</td>\n",
              "    </tr>\n",
              "    <tr>\n",
              "      <th>2</th>\n",
              "      <td>Salários de 10 a 15</td>\n",
              "      <td>5</td>\n",
              "      <td>47</td>\n",
              "      <td>14</td>\n",
              "      <td>66</td>\n",
              "    </tr>\n",
              "    <tr>\n",
              "      <th>3</th>\n",
              "      <td>Salários de 15 a 20</td>\n",
              "      <td>0</td>\n",
              "      <td>1</td>\n",
              "      <td>7</td>\n",
              "      <td>8</td>\n",
              "    </tr>\n",
              "    <tr>\n",
              "      <th>4</th>\n",
              "      <td>Salários de 20 a 25</td>\n",
              "      <td>0</td>\n",
              "      <td>0</td>\n",
              "      <td>8</td>\n",
              "      <td>8</td>\n",
              "    </tr>\n",
              "    <tr>\n",
              "      <th>5</th>\n",
              "      <td>Total</td>\n",
              "      <td>97</td>\n",
              "      <td>127</td>\n",
              "      <td>33</td>\n",
              "      <td>257</td>\n",
              "    </tr>\n",
              "  </tbody>\n",
              "</table>\n",
              "</div>"
            ],
            "text/plain": [
              "      Faixas Salariais  prim  sec  terc  Total\n",
              "0    Salários de 0 a 5    61   16     0     77\n",
              "1   Salários de 5 a 10    31   63     4     98\n",
              "2  Salários de 10 a 15     5   47    14     66\n",
              "3  Salários de 15 a 20     0    1     7      8\n",
              "4  Salários de 20 a 25     0    0     8      8\n",
              "5                Total    97  127    33    257"
            ]
          },
          "metadata": {
            "tags": []
          },
          "execution_count": 266
        }
      ]
    },
    {
      "cell_type": "markdown",
      "metadata": {
        "id": "W9mjCCTk2kqZ"
      },
      "source": [
        "**Distribuição das frequências relativas ao total por coluna**\n",
        "\n",
        "Se não houver dependência a proporcão do total deverá ser parecida da proporção por cada categoria."
      ]
    },
    {
      "cell_type": "code",
      "metadata": {
        "colab": {
          "base_uri": "https://localhost:8080/",
          "height": 238
        },
        "id": "xuVShkV-2kqZ",
        "outputId": "86300812-e6a9-4f5d-ac52-410cdb9d07a1"
      },
      "source": [
        "corrEducSalB = {'Faixas Salariais': ['Salários de 0 a 5', 'Salários de 5 a 10', 'Salários de 10 a 15', 'Salários de 15 a 20', 'Salários de 20 a 25', 'Total'],\n",
        "                  'prim (%)': [dadosB.query(\"Sal >= 0 and Sal <= 5 and Educ == 'prim'\").shape[0]/dadosB.query(\"Educ == 'prim'\").shape[0]*100,\n",
        "                           dadosB.query(\"Sal > 5 and Sal <= 10 and Educ == 'prim'\").shape[0]/dadosB.query(\"Educ == 'prim'\").shape[0]*100,\n",
        "                           dadosB.query(\"Sal > 10 and Sal <= 15 and Educ == 'prim'\").shape[0]/dadosB.query(\"Educ == 'prim'\").shape[0]*100,\n",
        "                           dadosB.query(\"Sal > 15 and Sal <= 20 and Educ == 'prim'\").shape[0]/dadosB.query(\"Educ == 'prim'\").shape[0]*100,\n",
        "                           dadosB.query(\"Sal > 20 and Sal <= 25 and Educ == 'prim'\").shape[0]/dadosB.query(\"Educ == 'prim'\").shape[0]*100,\n",
        "                           dadosB.query(\"Educ == 'prim'\").shape[0]/dadosB.query(\"Educ == 'prim'\").shape[0]*100,\n",
        "                   ],\n",
        "                  'sec (%)': [dadosB.query(\"Sal >= 0 and Sal <= 5 and Educ == 'sec'\").shape[0]/dadosB.query(\"Educ == 'sec'\").shape[0]*100,\n",
        "                          dadosB.query(\"Sal > 5 and Sal <= 10 and Educ == 'sec'\").shape[0]/dadosB.query(\"Educ == 'sec'\").shape[0]*100,\n",
        "                          dadosB.query(\"Sal > 10 and Sal <= 15 and Educ == 'sec'\").shape[0]/dadosB.query(\"Educ == 'sec'\").shape[0]*100,\n",
        "                          dadosB.query(\"Sal > 15 and Sal <= 20 and Educ == 'sec'\").shape[0]/dadosB.query(\"Educ == 'sec'\").shape[0]*100,\n",
        "                          dadosB.query(\"Sal > 20 and Sal <= 25 and Educ == 'sec'\").shape[0]/dadosB.query(\"Educ == 'sec'\").shape[0]*100,\n",
        "                          dadosB.query(\"Educ == 'sec'\").shape[0]/dadosB.query(\"Educ == 'sec'\").shape[0]*100,\n",
        "                   ],\n",
        "                  'terc (%)': [dadosB.query(\"Sal >= 0 and Sal <= 5 and Educ == 'terc'\").shape[0]/dadosB.query(\"Educ == 'terc'\").shape[0]*100,\n",
        "                           dadosB.query(\"Sal > 5 and Sal <= 10 and Educ == 'terc'\").shape[0]/dadosB.query(\"Educ == 'terc'\").shape[0]*100,\n",
        "                           dadosB.query(\"Sal > 10 and Sal <= 15 and Educ == 'terc'\").shape[0]/dadosB.query(\"Educ == 'terc'\").shape[0]*100,\n",
        "                           dadosB.query(\"Sal > 15 and Sal <= 20 and Educ == 'terc'\").shape[0]/dadosB.query(\"Educ == 'terc'\").shape[0]*100,\n",
        "                           dadosB.query(\"Sal > 20 and Sal <= 25 and Educ == 'terc'\").shape[0]/dadosB.query(\"Educ == 'terc'\").shape[0]*100,\n",
        "                           dadosB.query(\"Educ == 'terc'\").shape[0]/dadosB.query(\"Educ == 'terc'\").shape[0]*100,\n",
        "                   ],\n",
        "                  'Total (%)': [dadosB.query(\"Sal >= 0 and Sal <= 5\").shape[0]/dadosB.shape[0]*100,\n",
        "                            dadosB.query(\"Sal > 5 and Sal <= 10\").shape[0]/dadosB.shape[0]*100,\n",
        "                            dadosB.query(\"Sal > 10 and Sal <= 15\").shape[0]/dadosB.shape[0]*100,\n",
        "                            dadosB.query(\"Sal > 15 and Sal <= 20\").shape[0]/dadosB.shape[0]*100,\n",
        "                            dadosB.query(\"Sal > 20 and Sal <= 25\").shape[0]/dadosB.shape[0]*100,\n",
        "                            dadosB.shape[0]/dadosB.shape[0]*100,\n",
        "                   ],\n",
        "                }\n",
        "distRelColEducSalB = pd.DataFrame(corrEducSalB)\n",
        "distRelColEducSalB.round(1)"
      ],
      "execution_count": 267,
      "outputs": [
        {
          "output_type": "execute_result",
          "data": {
            "text/html": [
              "<div>\n",
              "<style scoped>\n",
              "    .dataframe tbody tr th:only-of-type {\n",
              "        vertical-align: middle;\n",
              "    }\n",
              "\n",
              "    .dataframe tbody tr th {\n",
              "        vertical-align: top;\n",
              "    }\n",
              "\n",
              "    .dataframe thead th {\n",
              "        text-align: right;\n",
              "    }\n",
              "</style>\n",
              "<table border=\"1\" class=\"dataframe\">\n",
              "  <thead>\n",
              "    <tr style=\"text-align: right;\">\n",
              "      <th></th>\n",
              "      <th>Faixas Salariais</th>\n",
              "      <th>prim (%)</th>\n",
              "      <th>sec (%)</th>\n",
              "      <th>terc (%)</th>\n",
              "      <th>Total (%)</th>\n",
              "    </tr>\n",
              "  </thead>\n",
              "  <tbody>\n",
              "    <tr>\n",
              "      <th>0</th>\n",
              "      <td>Salários de 0 a 5</td>\n",
              "      <td>62.9</td>\n",
              "      <td>12.6</td>\n",
              "      <td>0.0</td>\n",
              "      <td>30.0</td>\n",
              "    </tr>\n",
              "    <tr>\n",
              "      <th>1</th>\n",
              "      <td>Salários de 5 a 10</td>\n",
              "      <td>32.0</td>\n",
              "      <td>49.6</td>\n",
              "      <td>12.1</td>\n",
              "      <td>38.1</td>\n",
              "    </tr>\n",
              "    <tr>\n",
              "      <th>2</th>\n",
              "      <td>Salários de 10 a 15</td>\n",
              "      <td>5.2</td>\n",
              "      <td>37.0</td>\n",
              "      <td>42.4</td>\n",
              "      <td>25.7</td>\n",
              "    </tr>\n",
              "    <tr>\n",
              "      <th>3</th>\n",
              "      <td>Salários de 15 a 20</td>\n",
              "      <td>0.0</td>\n",
              "      <td>0.8</td>\n",
              "      <td>21.2</td>\n",
              "      <td>3.1</td>\n",
              "    </tr>\n",
              "    <tr>\n",
              "      <th>4</th>\n",
              "      <td>Salários de 20 a 25</td>\n",
              "      <td>0.0</td>\n",
              "      <td>0.0</td>\n",
              "      <td>24.2</td>\n",
              "      <td>3.1</td>\n",
              "    </tr>\n",
              "    <tr>\n",
              "      <th>5</th>\n",
              "      <td>Total</td>\n",
              "      <td>100.0</td>\n",
              "      <td>100.0</td>\n",
              "      <td>100.0</td>\n",
              "      <td>100.0</td>\n",
              "    </tr>\n",
              "  </tbody>\n",
              "</table>\n",
              "</div>"
            ],
            "text/plain": [
              "      Faixas Salariais  prim (%)  sec (%)  terc (%)  Total (%)\n",
              "0    Salários de 0 a 5      62.9     12.6       0.0       30.0\n",
              "1   Salários de 5 a 10      32.0     49.6      12.1       38.1\n",
              "2  Salários de 10 a 15       5.2     37.0      42.4       25.7\n",
              "3  Salários de 15 a 20       0.0      0.8      21.2        3.1\n",
              "4  Salários de 20 a 25       0.0      0.0      24.2        3.1\n",
              "5                Total     100.0    100.0     100.0      100.0"
            ]
          },
          "metadata": {
            "tags": []
          },
          "execution_count": 267
        }
      ]
    },
    {
      "cell_type": "markdown",
      "metadata": {
        "id": "zbaRoZbA2kqa"
      },
      "source": [
        "**Distribuição das frequências relativas ao total por linhas**\n",
        "\n",
        "Se não houver dependência a proporcão do total deverá ser parecida da proporção por cada categoria."
      ]
    },
    {
      "cell_type": "code",
      "metadata": {
        "colab": {
          "base_uri": "https://localhost:8080/",
          "height": 238
        },
        "id": "O_AwJd912kqa",
        "outputId": "0daf8182-ddb7-44cb-cd22-6b656a53a00a"
      },
      "source": [
        "corrEducSalB = {'Faixas Salariais': ['Salários de 0 a 5', 'Salários de 5 a 10', 'Salários de 10 a 15', 'Salários de 15 a 20', 'Salários de 20 a 25', 'Total'],\n",
        "                  'prim (%)': [dadosB.query(\"Sal >= 0 and Sal <= 5 and Educ == 'prim'\").shape[0]/dadosB.query(\"Sal >= 0 and Sal <= 5\").shape[0]*100,\n",
        "                           dadosB.query(\"Sal > 5 and Sal <= 10 and Educ == 'prim'\").shape[0]/dadosB.query(\"Sal > 5 and Sal <= 10\").shape[0]*100,\n",
        "                           dadosB.query(\"Sal > 10 and Sal <= 15 and Educ == 'prim'\").shape[0]/dadosB.query(\"Sal > 10 and Sal <= 15\").shape[0]*100,\n",
        "                           dadosB.query(\"Sal > 15 and Sal <= 20 and Educ == 'prim'\").shape[0]/dadosB.query(\"Sal > 15 and Sal <= 20\").shape[0]*100,\n",
        "                           dadosB.query(\"Sal > 20 and Sal <= 25 and Educ == 'prim'\").shape[0]/dadosB.query(\"Sal > 20 and Sal <= 25\").shape[0]*100,\n",
        "                           dadosB.query(\"Educ == 'prim'\").shape[0]/dadosB.shape[0]*100,\n",
        "                   ],\n",
        "                  'sec (%)': [dadosB.query(\"Sal >= 0 and Sal <= 5 and Educ == 'sec'\").shape[0]/dadosB.query(\"Sal >= 0 and Sal <= 5\").shape[0]*100,\n",
        "                          dadosB.query(\"Sal > 5 and Sal <= 10 and Educ == 'sec'\").shape[0]/dadosB.query(\"Sal > 5 and Sal <= 10\").shape[0]*100,\n",
        "                          dadosB.query(\"Sal > 10 and Sal <= 15 and Educ == 'sec'\").shape[0]/dadosB.query(\"Sal > 10 and Sal <= 15\").shape[0]*100,\n",
        "                          dadosB.query(\"Sal > 15 and Sal <= 20 and Educ == 'sec'\").shape[0]/dadosB.query(\"Sal > 15 and Sal <= 20\").shape[0]*100,\n",
        "                          dadosB.query(\"Sal > 20 and Sal <= 25 and Educ == 'sec'\").shape[0]/dadosB.query(\"Sal > 20 and Sal <= 25\").shape[0]*100,\n",
        "                          dadosB.query(\"Educ == 'sec'\").shape[0]/dadosB.shape[0]*100,\n",
        "                   ],\n",
        "                  'terc (%)': [dadosB.query(\"Sal >= 0 and Sal <= 5 and Educ == 'terc'\").shape[0]/dadosB.query(\"Sal >= 0 and Sal <= 5\").shape[0]*100,\n",
        "                           dadosB.query(\"Sal > 5 and Sal <= 10 and Educ == 'terc'\").shape[0]/dadosB.query(\"Sal > 5 and Sal <= 10\").shape[0]*100,\n",
        "                           dadosB.query(\"Sal > 10 and Sal <= 15 and Educ == 'terc'\").shape[0]/dadosB.query(\"Sal > 10 and Sal <= 15\").shape[0]*100,\n",
        "                           dadosB.query(\"Sal > 15 and Sal <= 20 and Educ == 'terc'\").shape[0]/dadosB.query(\"Sal > 15 and Sal <= 20\").shape[0]*100,\n",
        "                           dadosB.query(\"Sal > 20 and Sal <= 25 and Educ == 'terc'\").shape[0]/dadosB.query(\"Sal > 20 and Sal <= 25\").shape[0]*100,\n",
        "                           dadosB.query(\"Educ == 'terc'\").shape[0]/dadosB.shape[0]*100,\n",
        "                   ],\n",
        "                  'Total (%)': [dadosB.query(\"Sal >= 0 and Sal <= 5\").shape[0]/dadosB.query(\"Sal >= 0 and Sal <= 5\").shape[0]*100,\n",
        "                            dadosB.query(\"Sal > 5 and Sal <= 10\").shape[0]/dadosB.query(\"Sal > 5 and Sal <= 10\").shape[0]*100,\n",
        "                            dadosB.query(\"Sal > 10 and Sal <= 15\").shape[0]/dadosB.query(\"Sal > 10 and Sal <= 15\").shape[0]*100,\n",
        "                            dadosB.query(\"Sal > 15 and Sal <= 20\").shape[0]/dadosB.query(\"Sal > 15 and Sal <= 20\").shape[0]*100,\n",
        "                            dadosB.query(\"Sal > 20 and Sal <= 25\").shape[0]/dadosB.query(\"Sal > 20 and Sal <= 25\").shape[0]*100,\n",
        "                            dadosB.shape[0]/dadosB.shape[0]*100,\n",
        "                   ],\n",
        "                }\n",
        "distRelLinEducSalB = pd.DataFrame(corrEducSalB)\n",
        "distRelLinEducSalB.round(1)"
      ],
      "execution_count": 268,
      "outputs": [
        {
          "output_type": "execute_result",
          "data": {
            "text/html": [
              "<div>\n",
              "<style scoped>\n",
              "    .dataframe tbody tr th:only-of-type {\n",
              "        vertical-align: middle;\n",
              "    }\n",
              "\n",
              "    .dataframe tbody tr th {\n",
              "        vertical-align: top;\n",
              "    }\n",
              "\n",
              "    .dataframe thead th {\n",
              "        text-align: right;\n",
              "    }\n",
              "</style>\n",
              "<table border=\"1\" class=\"dataframe\">\n",
              "  <thead>\n",
              "    <tr style=\"text-align: right;\">\n",
              "      <th></th>\n",
              "      <th>Faixas Salariais</th>\n",
              "      <th>prim (%)</th>\n",
              "      <th>sec (%)</th>\n",
              "      <th>terc (%)</th>\n",
              "      <th>Total (%)</th>\n",
              "    </tr>\n",
              "  </thead>\n",
              "  <tbody>\n",
              "    <tr>\n",
              "      <th>0</th>\n",
              "      <td>Salários de 0 a 5</td>\n",
              "      <td>79.2</td>\n",
              "      <td>20.8</td>\n",
              "      <td>0.0</td>\n",
              "      <td>100.0</td>\n",
              "    </tr>\n",
              "    <tr>\n",
              "      <th>1</th>\n",
              "      <td>Salários de 5 a 10</td>\n",
              "      <td>31.6</td>\n",
              "      <td>64.3</td>\n",
              "      <td>4.1</td>\n",
              "      <td>100.0</td>\n",
              "    </tr>\n",
              "    <tr>\n",
              "      <th>2</th>\n",
              "      <td>Salários de 10 a 15</td>\n",
              "      <td>7.6</td>\n",
              "      <td>71.2</td>\n",
              "      <td>21.2</td>\n",
              "      <td>100.0</td>\n",
              "    </tr>\n",
              "    <tr>\n",
              "      <th>3</th>\n",
              "      <td>Salários de 15 a 20</td>\n",
              "      <td>0.0</td>\n",
              "      <td>12.5</td>\n",
              "      <td>87.5</td>\n",
              "      <td>100.0</td>\n",
              "    </tr>\n",
              "    <tr>\n",
              "      <th>4</th>\n",
              "      <td>Salários de 20 a 25</td>\n",
              "      <td>0.0</td>\n",
              "      <td>0.0</td>\n",
              "      <td>100.0</td>\n",
              "      <td>100.0</td>\n",
              "    </tr>\n",
              "    <tr>\n",
              "      <th>5</th>\n",
              "      <td>Total</td>\n",
              "      <td>37.7</td>\n",
              "      <td>49.4</td>\n",
              "      <td>12.8</td>\n",
              "      <td>100.0</td>\n",
              "    </tr>\n",
              "  </tbody>\n",
              "</table>\n",
              "</div>"
            ],
            "text/plain": [
              "      Faixas Salariais  prim (%)  sec (%)  terc (%)  Total (%)\n",
              "0    Salários de 0 a 5      79.2     20.8       0.0      100.0\n",
              "1   Salários de 5 a 10      31.6     64.3       4.1      100.0\n",
              "2  Salários de 10 a 15       7.6     71.2      21.2      100.0\n",
              "3  Salários de 15 a 20       0.0     12.5      87.5      100.0\n",
              "4  Salários de 20 a 25       0.0      0.0     100.0      100.0\n",
              "5                Total      37.7     49.4      12.8      100.0"
            ]
          },
          "metadata": {
            "tags": []
          },
          "execution_count": 268
        }
      ]
    },
    {
      "cell_type": "markdown",
      "metadata": {
        "id": "pegClh8Q2kqb"
      },
      "source": [
        "**Valores esperados para cada posição na tabela de acordo com a porcentagem da distribuição das frequências relativas ao total por linhas**"
      ]
    },
    {
      "cell_type": "code",
      "metadata": {
        "colab": {
          "base_uri": "https://localhost:8080/",
          "height": 206
        },
        "id": "7QOWeURB2kqb",
        "outputId": "89a42b05-93a0-421e-9a3c-78112710bf23"
      },
      "source": [
        "corrEducSalB = {'Faixas Salariais': ['Salários de 0 a 5', 'Salários de 5 a 10', 'Salários de 10 a 15', 'Salários de 15 a 20', 'Salários de 20 a 25'],\n",
        "                  'prim': [dadosB.query(\"Educ == 'prim'\").shape[0]/dadosB.shape[0]*dadosB.query(\"Sal >= 0 and Sal <= 5\").shape[0],\n",
        "                           dadosB.query(\"Educ == 'prim'\").shape[0]/dadosB.shape[0]*dadosB.query(\"Sal > 5 and Sal <= 10\").shape[0],\n",
        "                           dadosB.query(\"Educ == 'prim'\").shape[0]/dadosB.shape[0]*dadosB.query(\"Sal > 10 and Sal <= 15\").shape[0],\n",
        "                           dadosB.query(\"Educ == 'prim'\").shape[0]/dadosB.shape[0]*dadosB.query(\"Sal > 15 and Sal <= 20\").shape[0],\n",
        "                           dadosB.query(\"Educ == 'prim'\").shape[0]/dadosB.shape[0]*dadosB.query(\"Sal > 20 and Sal <= 25\").shape[0],\n",
        "                   ],\n",
        "                  'sec': [dadosB.query(\"Educ == 'sec'\").shape[0]/dadosB.shape[0]*dadosB.query(\"Sal >= 0 and Sal <= 5\").shape[0],\n",
        "                          dadosB.query(\"Educ == 'sec'\").shape[0]/dadosB.shape[0]*dadosB.query(\"Sal > 5 and Sal <= 10\").shape[0],\n",
        "                          dadosB.query(\"Educ == 'sec'\").shape[0]/dadosB.shape[0]*dadosB.query(\"Sal > 10 and Sal <= 15\").shape[0],\n",
        "                          dadosB.query(\"Educ == 'sec'\").shape[0]/dadosB.shape[0]*dadosB.query(\"Sal > 15 and Sal <= 20\").shape[0],\n",
        "                          dadosB.query(\"Educ == 'sec'\").shape[0]/dadosB.shape[0]*dadosB.query(\"Sal > 20 and Sal <= 25\").shape[0],\n",
        "                   ],\n",
        "                  'terc': [dadosB.query(\"Educ == 'terc'\").shape[0]/dadosB.shape[0]*dadosB.query(\"Sal >= 0 and Sal <= 5\").shape[0],\n",
        "                           dadosB.query(\"Educ == 'terc'\").shape[0]/dadosB.shape[0]*dadosB.query(\"Sal > 5 and Sal <= 10\").shape[0],\n",
        "                           dadosB.query(\"Educ == 'terc'\").shape[0]/dadosB.shape[0]*dadosB.query(\"Sal > 10 and Sal <= 15\").shape[0],\n",
        "                           dadosB.query(\"Educ == 'terc'\").shape[0]/dadosB.shape[0]*dadosB.query(\"Sal > 15 and Sal <= 20\").shape[0],\n",
        "                           dadosB.query(\"Educ == 'terc'\").shape[0]/dadosB.shape[0]*dadosB.query(\"Sal > 20 and Sal <= 25\").shape[0],\n",
        "                   ]\n",
        "                }\n",
        "distEsperadaEducSalB = pd.DataFrame(corrEducSalB)\n",
        "distEsperadaEducSalB.round(1)"
      ],
      "execution_count": 269,
      "outputs": [
        {
          "output_type": "execute_result",
          "data": {
            "text/html": [
              "<div>\n",
              "<style scoped>\n",
              "    .dataframe tbody tr th:only-of-type {\n",
              "        vertical-align: middle;\n",
              "    }\n",
              "\n",
              "    .dataframe tbody tr th {\n",
              "        vertical-align: top;\n",
              "    }\n",
              "\n",
              "    .dataframe thead th {\n",
              "        text-align: right;\n",
              "    }\n",
              "</style>\n",
              "<table border=\"1\" class=\"dataframe\">\n",
              "  <thead>\n",
              "    <tr style=\"text-align: right;\">\n",
              "      <th></th>\n",
              "      <th>Faixas Salariais</th>\n",
              "      <th>prim</th>\n",
              "      <th>sec</th>\n",
              "      <th>terc</th>\n",
              "    </tr>\n",
              "  </thead>\n",
              "  <tbody>\n",
              "    <tr>\n",
              "      <th>0</th>\n",
              "      <td>Salários de 0 a 5</td>\n",
              "      <td>29.1</td>\n",
              "      <td>38.1</td>\n",
              "      <td>9.9</td>\n",
              "    </tr>\n",
              "    <tr>\n",
              "      <th>1</th>\n",
              "      <td>Salários de 5 a 10</td>\n",
              "      <td>37.0</td>\n",
              "      <td>48.4</td>\n",
              "      <td>12.6</td>\n",
              "    </tr>\n",
              "    <tr>\n",
              "      <th>2</th>\n",
              "      <td>Salários de 10 a 15</td>\n",
              "      <td>24.9</td>\n",
              "      <td>32.6</td>\n",
              "      <td>8.5</td>\n",
              "    </tr>\n",
              "    <tr>\n",
              "      <th>3</th>\n",
              "      <td>Salários de 15 a 20</td>\n",
              "      <td>3.0</td>\n",
              "      <td>4.0</td>\n",
              "      <td>1.0</td>\n",
              "    </tr>\n",
              "    <tr>\n",
              "      <th>4</th>\n",
              "      <td>Salários de 20 a 25</td>\n",
              "      <td>3.0</td>\n",
              "      <td>4.0</td>\n",
              "      <td>1.0</td>\n",
              "    </tr>\n",
              "  </tbody>\n",
              "</table>\n",
              "</div>"
            ],
            "text/plain": [
              "      Faixas Salariais  prim   sec  terc\n",
              "0    Salários de 0 a 5  29.1  38.1   9.9\n",
              "1   Salários de 5 a 10  37.0  48.4  12.6\n",
              "2  Salários de 10 a 15  24.9  32.6   8.5\n",
              "3  Salários de 15 a 20   3.0   4.0   1.0\n",
              "4  Salários de 20 a 25   3.0   4.0   1.0"
            ]
          },
          "metadata": {
            "tags": []
          },
          "execution_count": 269
        }
      ]
    },
    {
      "cell_type": "markdown",
      "metadata": {
        "id": "6FVwHI6N2kqc"
      },
      "source": [
        "**Desvios relativos entre observados e esperados:**\n",
        "\n",
        "(oi - ei)^2/ei\n",
        "\n",
        "* oi é o valor observado\n",
        "* ei é o valor esperado\n",
        "\n",
        "**Qui-quadrado de Pearson (X_quadrado):** \n",
        "\n",
        "Soma de todas as medidas da tabela. Se a hipótese de não-associação for verdadeira, o valor calculado deve estar próximo de zero. Se as variáveis forem associadas, o valor de X_quadrado deve ser grande."
      ]
    },
    {
      "cell_type": "code",
      "metadata": {
        "colab": {
          "base_uri": "https://localhost:8080/",
          "height": 224
        },
        "id": "ELtBCB-f2kqc",
        "outputId": "5adde24f-a651-45ac-fe45-e1a1f3cb5232"
      },
      "source": [
        "corrEducSalB = {'Faixas Salariais': ['Salários de 0 a 5', 'Salários de 5 a 10', 'Salários de 10 a 15', 'Salários de 15 a 20', 'Salários de 20 a 25'],\n",
        "                  'prim': [((distConjuntaEducSalB['prim'][0]-distEsperadaEducSalB['prim'][0])**2)/distEsperadaEducSalB['prim'][0],\n",
        "                                ((distConjuntaEducSalB['prim'][1]-distEsperadaEducSalB['prim'][1])**2)/distEsperadaEducSalB['prim'][1],\n",
        "                                ((distConjuntaEducSalB['prim'][2]-distEsperadaEducSalB['prim'][2])**2)/distEsperadaEducSalB['prim'][2],\n",
        "                                ((distConjuntaEducSalB['prim'][3]-distEsperadaEducSalB['prim'][3])**2)/distEsperadaEducSalB['prim'][3],\n",
        "                                ((distConjuntaEducSalB['prim'][4]-distEsperadaEducSalB['prim'][4])**2)/distEsperadaEducSalB['prim'][4],\n",
        "                                \n",
        "                   ],\n",
        "                  'sec' : [((distConjuntaEducSalB['sec'][0]-distEsperadaEducSalB['sec'][0])**2)/distEsperadaEducSalB['sec'][0],\n",
        "                                ((distConjuntaEducSalB['sec'][1]-distEsperadaEducSalB['sec'][1])**2)/distEsperadaEducSalB['sec'][1],\n",
        "                                ((distConjuntaEducSalB['sec'][2]-distEsperadaEducSalB['sec'][2])**2)/distEsperadaEducSalB['sec'][2],\n",
        "                                ((distConjuntaEducSalB['sec'][3]-distEsperadaEducSalB['sec'][3])**2)/distEsperadaEducSalB['sec'][3],\n",
        "                                ((distConjuntaEducSalB['sec'][4]-distEsperadaEducSalB['sec'][4])**2)/distEsperadaEducSalB['sec'][4],\n",
        "                   ],\n",
        "               'terc' : [((distConjuntaEducSalB['terc'][0]-distEsperadaEducSalB['terc'][0])**2)/distEsperadaEducSalB['terc'][0],\n",
        "                                ((distConjuntaEducSalB['terc'][1]-distEsperadaEducSalB['terc'][1])**2)/distEsperadaEducSalB['terc'][1],\n",
        "                                ((distConjuntaEducSalB['terc'][2]-distEsperadaEducSalB['terc'][2])**2)/distEsperadaEducSalB['terc'][2],\n",
        "                                ((distConjuntaEducSalB['terc'][3]-distEsperadaEducSalB['terc'][3])**2)/distEsperadaEducSalB['terc'][3],\n",
        "                                ((distConjuntaEducSalB['terc'][4]-distEsperadaEducSalB['terc'][4])**2)/distEsperadaEducSalB['terc'][4],\n",
        "                   ],\n",
        "                }\n",
        "esp = pd.DataFrame(corrEducSalB)\n",
        "X_quadrado = esp['prim'][0]+esp['prim'][1]+esp['prim'][2]+esp['prim'][3]+esp['prim'][4]+esp['sec'][0]+esp['sec'][1]+esp['sec'][2]+esp['sec'][3]+esp['sec'][4]+esp['terc'][0]+esp['terc'][1]+esp['terc'][2]+esp['terc'][3]+esp['terc'][4]\n",
        "print(\"Qui-quadrado de Pearson:\",X_quadrado)\n",
        "esp"
      ],
      "execution_count": 270,
      "outputs": [
        {
          "output_type": "stream",
          "text": [
            "Qui-quadrado de Pearson: 189.09070938729698\n"
          ],
          "name": "stdout"
        },
        {
          "output_type": "execute_result",
          "data": {
            "text/html": [
              "<div>\n",
              "<style scoped>\n",
              "    .dataframe tbody tr th:only-of-type {\n",
              "        vertical-align: middle;\n",
              "    }\n",
              "\n",
              "    .dataframe tbody tr th {\n",
              "        vertical-align: top;\n",
              "    }\n",
              "\n",
              "    .dataframe thead th {\n",
              "        text-align: right;\n",
              "    }\n",
              "</style>\n",
              "<table border=\"1\" class=\"dataframe\">\n",
              "  <thead>\n",
              "    <tr style=\"text-align: right;\">\n",
              "      <th></th>\n",
              "      <th>Faixas Salariais</th>\n",
              "      <th>prim</th>\n",
              "      <th>sec</th>\n",
              "      <th>terc</th>\n",
              "    </tr>\n",
              "  </thead>\n",
              "  <tbody>\n",
              "    <tr>\n",
              "      <th>0</th>\n",
              "      <td>Salários de 0 a 5</td>\n",
              "      <td>35.097737</td>\n",
              "      <td>12.778470</td>\n",
              "      <td>9.887160</td>\n",
              "    </tr>\n",
              "    <tr>\n",
              "      <th>1</th>\n",
              "      <td>Salários de 5 a 10</td>\n",
              "      <td>0.969497</td>\n",
              "      <td>4.384708</td>\n",
              "      <td>5.855148</td>\n",
              "    </tr>\n",
              "    <tr>\n",
              "      <th>2</th>\n",
              "      <td>Salários de 10 a 15</td>\n",
              "      <td>15.914098</td>\n",
              "      <td>6.344803</td>\n",
              "      <td>3.602348</td>\n",
              "    </tr>\n",
              "    <tr>\n",
              "      <th>3</th>\n",
              "      <td>Salários de 15 a 20</td>\n",
              "      <td>3.019455</td>\n",
              "      <td>2.206260</td>\n",
              "      <td>34.727995</td>\n",
              "    </tr>\n",
              "    <tr>\n",
              "      <th>4</th>\n",
              "      <td>Salários de 20 a 25</td>\n",
              "      <td>3.019455</td>\n",
              "      <td>3.953307</td>\n",
              "      <td>47.330268</td>\n",
              "    </tr>\n",
              "  </tbody>\n",
              "</table>\n",
              "</div>"
            ],
            "text/plain": [
              "      Faixas Salariais       prim        sec       terc\n",
              "0    Salários de 0 a 5  35.097737  12.778470   9.887160\n",
              "1   Salários de 5 a 10   0.969497   4.384708   5.855148\n",
              "2  Salários de 10 a 15  15.914098   6.344803   3.602348\n",
              "3  Salários de 15 a 20   3.019455   2.206260  34.727995\n",
              "4  Salários de 20 a 25   3.019455   3.953307  47.330268"
            ]
          },
          "metadata": {
            "tags": []
          },
          "execution_count": 270
        }
      ]
    },
    {
      "cell_type": "markdown",
      "metadata": {
        "id": "4a-bXconIRLG"
      },
      "source": [
        "## $2.iv)$ Analise a dependência entre as variáveis sexo e cargo"
      ]
    },
    {
      "cell_type": "markdown",
      "metadata": {
        "id": "AA9GT3-FLfV0"
      },
      "source": [
        "### Companhia A"
      ]
    },
    {
      "cell_type": "markdown",
      "metadata": {
        "id": "nHMvz6h4ZVnz"
      },
      "source": [
        "**Distribuição Conjunta**"
      ]
    },
    {
      "cell_type": "code",
      "metadata": {
        "id": "KDGTPmM6LshS",
        "colab": {
          "base_uri": "https://localhost:8080/",
          "height": 143
        },
        "outputId": "bd535c4d-0f06-446d-c57d-dfad124f7ba2"
      },
      "source": [
        "corrSexCargoA = {'Cargo': ['Outro', 'Gerencial', 'Total'],\n",
        "                  'Masculino': [dadosA.query(\"cargo == 'outro' and Sexo == 'masc'\").shape[0],\n",
        "                                dadosA.query(\"cargo == 'gerencial' and Sexo == 'masc'\").shape[0],\n",
        "                                sexA['Frequência (n_i)'][0]\n",
        "                   ],\n",
        "                  'Feminino' : [dadosA.query(\"cargo == 'outro' and Sexo == 'fem'\").shape[0],\n",
        "                                dadosA.query(\"cargo == 'gerencial' and Sexo == 'fem'\").shape[0],\n",
        "                                sexA['Frequência (n_i)'][1]\n",
        "                   ],\n",
        "                  'Total': [cargoA['Frequência (n_i)'][0], \n",
        "                            cargoA['Frequência (n_i)'][1], \n",
        "                            sexA['Frequência (n_i)'][0] + sexA['Frequência (n_i)'][1]\n",
        "                   ],\n",
        "                }\n",
        "distConjuntaSexCargoA = pd.DataFrame(corrSexCargoA)\n",
        "distConjuntaSexCargoA"
      ],
      "execution_count": 271,
      "outputs": [
        {
          "output_type": "execute_result",
          "data": {
            "text/html": [
              "<div>\n",
              "<style scoped>\n",
              "    .dataframe tbody tr th:only-of-type {\n",
              "        vertical-align: middle;\n",
              "    }\n",
              "\n",
              "    .dataframe tbody tr th {\n",
              "        vertical-align: top;\n",
              "    }\n",
              "\n",
              "    .dataframe thead th {\n",
              "        text-align: right;\n",
              "    }\n",
              "</style>\n",
              "<table border=\"1\" class=\"dataframe\">\n",
              "  <thead>\n",
              "    <tr style=\"text-align: right;\">\n",
              "      <th></th>\n",
              "      <th>Cargo</th>\n",
              "      <th>Masculino</th>\n",
              "      <th>Feminino</th>\n",
              "      <th>Total</th>\n",
              "    </tr>\n",
              "  </thead>\n",
              "  <tbody>\n",
              "    <tr>\n",
              "      <th>0</th>\n",
              "      <td>Outro</td>\n",
              "      <td>121</td>\n",
              "      <td>90</td>\n",
              "      <td>211</td>\n",
              "    </tr>\n",
              "    <tr>\n",
              "      <th>1</th>\n",
              "      <td>Gerencial</td>\n",
              "      <td>21</td>\n",
              "      <td>16</td>\n",
              "      <td>37</td>\n",
              "    </tr>\n",
              "    <tr>\n",
              "      <th>2</th>\n",
              "      <td>Total</td>\n",
              "      <td>142</td>\n",
              "      <td>106</td>\n",
              "      <td>248</td>\n",
              "    </tr>\n",
              "  </tbody>\n",
              "</table>\n",
              "</div>"
            ],
            "text/plain": [
              "       Cargo  Masculino  Feminino  Total\n",
              "0      Outro        121        90    211\n",
              "1  Gerencial         21        16     37\n",
              "2      Total        142       106    248"
            ]
          },
          "metadata": {
            "tags": []
          },
          "execution_count": 271
        }
      ]
    },
    {
      "cell_type": "markdown",
      "metadata": {
        "id": "F-2YX8wZZVoU"
      },
      "source": [
        "**Distribuição das frequências relativas ao total por coluna**\n",
        "\n",
        "Se não houver dependência a proporcão do total deverá ser parecida da proporção por cada categoria."
      ]
    },
    {
      "cell_type": "code",
      "metadata": {
        "colab": {
          "base_uri": "https://localhost:8080/",
          "height": 143
        },
        "id": "1v1B4xB8pdt7",
        "outputId": "9bbb342d-4269-4f89-f4d1-c578a8c708fe"
      },
      "source": [
        "corrSexCargoA = {'Cargo': ['Outro', 'Gerencial', 'Total'],\n",
        "                  'Masculino (%)': [dadosA.query(\"cargo == 'outro' and Sexo == 'masc'\").shape[0]/sexA['Frequência (n_i)'][0]*100,\n",
        "                                dadosA.query(\"cargo == 'gerencial' and Sexo == 'masc'\").shape[0]/sexA['Frequência (n_i)'][0]*100,\n",
        "                                sexA['Frequência (n_i)'][0]/sexA['Frequência (n_i)'][0]*100\n",
        "                   ],\n",
        "                  'Feminino (%)' : [dadosA.query(\"cargo == 'outro' and Sexo == 'fem'\").shape[0]/sexA['Frequência (n_i)'][1]*100,\n",
        "                                dadosA.query(\"cargo == 'gerencial' and Sexo == 'fem'\").shape[0]/sexA['Frequência (n_i)'][1]*100,\n",
        "                                sexA['Frequência (n_i)'][1]/sexA['Frequência (n_i)'][1]*100\n",
        "                   ],\n",
        "                  'Total (%)': [cargoA['Frequência (n_i)'][0]/(sexA['Frequência (n_i)'][0] + sexA['Frequência (n_i)'][1])*100, \n",
        "                            cargoA['Frequência (n_i)'][1]/(sexA['Frequência (n_i)'][0] + sexA['Frequência (n_i)'][1])*100, \n",
        "                            (sexA['Frequência (n_i)'][0] + sexA['Frequência (n_i)'][1])/(sexA['Frequência (n_i)'][0] + sexA['Frequência (n_i)'][1])*100\n",
        "                   ],\n",
        "                }\n",
        "distRelColSexCargoA = pd.DataFrame(corrSexCargoA)\n",
        "distRelColSexCargoA.round(1)"
      ],
      "execution_count": 272,
      "outputs": [
        {
          "output_type": "execute_result",
          "data": {
            "text/html": [
              "<div>\n",
              "<style scoped>\n",
              "    .dataframe tbody tr th:only-of-type {\n",
              "        vertical-align: middle;\n",
              "    }\n",
              "\n",
              "    .dataframe tbody tr th {\n",
              "        vertical-align: top;\n",
              "    }\n",
              "\n",
              "    .dataframe thead th {\n",
              "        text-align: right;\n",
              "    }\n",
              "</style>\n",
              "<table border=\"1\" class=\"dataframe\">\n",
              "  <thead>\n",
              "    <tr style=\"text-align: right;\">\n",
              "      <th></th>\n",
              "      <th>Cargo</th>\n",
              "      <th>Masculino (%)</th>\n",
              "      <th>Feminino (%)</th>\n",
              "      <th>Total (%)</th>\n",
              "    </tr>\n",
              "  </thead>\n",
              "  <tbody>\n",
              "    <tr>\n",
              "      <th>0</th>\n",
              "      <td>Outro</td>\n",
              "      <td>85.2</td>\n",
              "      <td>84.9</td>\n",
              "      <td>85.1</td>\n",
              "    </tr>\n",
              "    <tr>\n",
              "      <th>1</th>\n",
              "      <td>Gerencial</td>\n",
              "      <td>14.8</td>\n",
              "      <td>15.1</td>\n",
              "      <td>14.9</td>\n",
              "    </tr>\n",
              "    <tr>\n",
              "      <th>2</th>\n",
              "      <td>Total</td>\n",
              "      <td>100.0</td>\n",
              "      <td>100.0</td>\n",
              "      <td>100.0</td>\n",
              "    </tr>\n",
              "  </tbody>\n",
              "</table>\n",
              "</div>"
            ],
            "text/plain": [
              "       Cargo  Masculino (%)  Feminino (%)  Total (%)\n",
              "0      Outro           85.2          84.9       85.1\n",
              "1  Gerencial           14.8          15.1       14.9\n",
              "2      Total          100.0         100.0      100.0"
            ]
          },
          "metadata": {
            "tags": []
          },
          "execution_count": 272
        }
      ]
    },
    {
      "cell_type": "markdown",
      "metadata": {
        "id": "T9-RobeaZVoV"
      },
      "source": [
        "**Distribuição das frequências relativas ao total por linhas**\n",
        "\n",
        "Se não houver dependência a proporcão do total deverá ser parecida da proporção por cada categoria."
      ]
    },
    {
      "cell_type": "code",
      "metadata": {
        "colab": {
          "base_uri": "https://localhost:8080/",
          "height": 143
        },
        "id": "S80IcCUirhSV",
        "outputId": "3e6d4b06-0d34-434f-d9c5-1be1bd2a2e14"
      },
      "source": [
        "corrSexCargoA = {'Cargo': ['Outro', 'Gerencial', 'Total'],\n",
        "                  'Masculino (%)': [dadosA.query(\"cargo == 'outro' and Sexo == 'masc'\").shape[0]/cargoA['Frequência (n_i)'][0]*100,\n",
        "                                dadosA.query(\"cargo == 'gerencial' and Sexo == 'masc'\").shape[0]/cargoA['Frequência (n_i)'][1]*100,\n",
        "                                sexA['Frequência (n_i)'][0]/(sexA['Frequência (n_i)'][0] + sexA['Frequência (n_i)'][1])*100\n",
        "                   ],\n",
        "                  'Feminino (%)' : [dadosA.query(\"cargo == 'outro' and Sexo == 'fem'\").shape[0]/cargoA['Frequência (n_i)'][0]*100,\n",
        "                                dadosA.query(\"cargo == 'gerencial' and Sexo == 'fem'\").shape[0]/cargoA['Frequência (n_i)'][1]*100,\n",
        "                                sexA['Frequência (n_i)'][1]/(sexA['Frequência (n_i)'][0] + sexA['Frequência (n_i)'][1])*100\n",
        "                   ],\n",
        "                  'Total (%)': [cargoA['Frequência (n_i)'][0]/cargoA['Frequência (n_i)'][0]*100, \n",
        "                            cargoA['Frequência (n_i)'][1]/cargoA['Frequência (n_i)'][1]*100, \n",
        "                            (sexA['Frequência (n_i)'][0] + sexA['Frequência (n_i)'][1])/(sexA['Frequência (n_i)'][0] + sexA['Frequência (n_i)'][1])*100\n",
        "                   ],\n",
        "                }\n",
        "distRelLinSexCargoA = pd.DataFrame(corrSexCargoA)\n",
        "distRelLinSexCargoA.round(1)"
      ],
      "execution_count": 273,
      "outputs": [
        {
          "output_type": "execute_result",
          "data": {
            "text/html": [
              "<div>\n",
              "<style scoped>\n",
              "    .dataframe tbody tr th:only-of-type {\n",
              "        vertical-align: middle;\n",
              "    }\n",
              "\n",
              "    .dataframe tbody tr th {\n",
              "        vertical-align: top;\n",
              "    }\n",
              "\n",
              "    .dataframe thead th {\n",
              "        text-align: right;\n",
              "    }\n",
              "</style>\n",
              "<table border=\"1\" class=\"dataframe\">\n",
              "  <thead>\n",
              "    <tr style=\"text-align: right;\">\n",
              "      <th></th>\n",
              "      <th>Cargo</th>\n",
              "      <th>Masculino (%)</th>\n",
              "      <th>Feminino (%)</th>\n",
              "      <th>Total (%)</th>\n",
              "    </tr>\n",
              "  </thead>\n",
              "  <tbody>\n",
              "    <tr>\n",
              "      <th>0</th>\n",
              "      <td>Outro</td>\n",
              "      <td>57.3</td>\n",
              "      <td>42.7</td>\n",
              "      <td>100.0</td>\n",
              "    </tr>\n",
              "    <tr>\n",
              "      <th>1</th>\n",
              "      <td>Gerencial</td>\n",
              "      <td>56.8</td>\n",
              "      <td>43.2</td>\n",
              "      <td>100.0</td>\n",
              "    </tr>\n",
              "    <tr>\n",
              "      <th>2</th>\n",
              "      <td>Total</td>\n",
              "      <td>57.3</td>\n",
              "      <td>42.7</td>\n",
              "      <td>100.0</td>\n",
              "    </tr>\n",
              "  </tbody>\n",
              "</table>\n",
              "</div>"
            ],
            "text/plain": [
              "       Cargo  Masculino (%)  Feminino (%)  Total (%)\n",
              "0      Outro           57.3          42.7      100.0\n",
              "1  Gerencial           56.8          43.2      100.0\n",
              "2      Total           57.3          42.7      100.0"
            ]
          },
          "metadata": {
            "tags": []
          },
          "execution_count": 273
        }
      ]
    },
    {
      "cell_type": "markdown",
      "metadata": {
        "id": "sSm1NJuqZVoV"
      },
      "source": [
        "**Valores esperados para cada posição na tabela de acordo com a porcentagem da distribuição das frequências relativas ao total por linhas**"
      ]
    },
    {
      "cell_type": "code",
      "metadata": {
        "colab": {
          "base_uri": "https://localhost:8080/",
          "height": 112
        },
        "id": "dDXRcLfQsdxM",
        "outputId": "0d537e55-93d8-480d-f69f-0f7946b545f9"
      },
      "source": [
        "corrSexCargoA = {'Cargo': ['Outro', 'Gerencial'],\n",
        "                  'Masculino': [ sexA['Frequência (n_i)'][0]/(sexA['Frequência (n_i)'][0] + sexA['Frequência (n_i)'][1])*cargoA['Frequência (n_i)'][0],\n",
        "                                 sexA['Frequência (n_i)'][0]/(sexA['Frequência (n_i)'][0] + sexA['Frequência (n_i)'][1])*cargoA['Frequência (n_i)'][1]\n",
        "                   ],\n",
        "                  'Feminino' : [sexA['Frequência (n_i)'][1]/(sexA['Frequência (n_i)'][0] + sexA['Frequência (n_i)'][1])*cargoA['Frequência (n_i)'][0],\n",
        "                                sexA['Frequência (n_i)'][1]/(sexA['Frequência (n_i)'][0] + sexA['Frequência (n_i)'][1])*cargoA['Frequência (n_i)'][1]\n",
        "                   ],\n",
        "                }\n",
        "distEsperadaSexCargoA = pd.DataFrame(corrSexCargoA)\n",
        "distEsperadaSexCargoA.round(1)"
      ],
      "execution_count": 274,
      "outputs": [
        {
          "output_type": "execute_result",
          "data": {
            "text/html": [
              "<div>\n",
              "<style scoped>\n",
              "    .dataframe tbody tr th:only-of-type {\n",
              "        vertical-align: middle;\n",
              "    }\n",
              "\n",
              "    .dataframe tbody tr th {\n",
              "        vertical-align: top;\n",
              "    }\n",
              "\n",
              "    .dataframe thead th {\n",
              "        text-align: right;\n",
              "    }\n",
              "</style>\n",
              "<table border=\"1\" class=\"dataframe\">\n",
              "  <thead>\n",
              "    <tr style=\"text-align: right;\">\n",
              "      <th></th>\n",
              "      <th>Cargo</th>\n",
              "      <th>Masculino</th>\n",
              "      <th>Feminino</th>\n",
              "    </tr>\n",
              "  </thead>\n",
              "  <tbody>\n",
              "    <tr>\n",
              "      <th>0</th>\n",
              "      <td>Outro</td>\n",
              "      <td>120.8</td>\n",
              "      <td>90.2</td>\n",
              "    </tr>\n",
              "    <tr>\n",
              "      <th>1</th>\n",
              "      <td>Gerencial</td>\n",
              "      <td>21.2</td>\n",
              "      <td>15.8</td>\n",
              "    </tr>\n",
              "  </tbody>\n",
              "</table>\n",
              "</div>"
            ],
            "text/plain": [
              "       Cargo  Masculino  Feminino\n",
              "0      Outro      120.8      90.2\n",
              "1  Gerencial       21.2      15.8"
            ]
          },
          "metadata": {
            "tags": []
          },
          "execution_count": 274
        }
      ]
    },
    {
      "cell_type": "markdown",
      "metadata": {
        "id": "yXMX7j3_ZVoW"
      },
      "source": [
        "**Desvios relativos entre observados e esperados:**\n",
        "\n",
        "(oi - ei)^2/ei\n",
        "\n",
        "* oi é o valor observado\n",
        "* ei é o valor esperado\n",
        "\n",
        "**Qui-quadrado de Pearson (X_quadrado):** \n",
        "\n",
        "Soma de todas as medidas da tabela. Se a hipótese de não-associação for verdadeira, o valor calculado deve estar próximo de zero. Se as variáveis forem associadas, o valor de X_quadrado deve ser grande."
      ]
    },
    {
      "cell_type": "code",
      "metadata": {
        "colab": {
          "base_uri": "https://localhost:8080/",
          "height": 129
        },
        "id": "X9It8FcduWAx",
        "outputId": "0e02d980-ac74-4073-bef4-417c59c076e1"
      },
      "source": [
        "corrSexCargoA= {'Cargo': ['Outro', 'Gerencial'],\n",
        "                  'Masculino': [((distConjuntaSexCargoA['Masculino'][0]-distEsperadaSexCargoA['Masculino'][0])**2)/distEsperadaSexCargoA['Masculino'][0],\n",
        "                                ((distConjuntaSexCargoA['Masculino'][1]-distEsperadaSexCargoA['Masculino'][1])**2)/distEsperadaSexCargoA['Masculino'][1]\n",
        "                   ],\n",
        "                  'Feminino' : [((distConjuntaSexCargoA['Feminino'][0]-distEsperadaSexCargoA['Feminino'][0])**2)/distEsperadaSexCargoA['Feminino'][0],\n",
        "                                ((distConjuntaSexCargoA['Feminino'][1]-distEsperadaSexCargoA['Feminino'][1])**2)/distEsperadaSexCargoA['Feminino'][1],\n",
        "                   ],\n",
        "                }\n",
        "esp = pd.DataFrame(corrSexCargoA)\n",
        "X_quadradoB = esp['Masculino'][0]+esp['Masculino'][1]+esp['Feminino'][0]+esp['Feminino'][1]\n",
        "print(\"Qui-quadrado de Pearson:\",X_quadradoB)\n",
        "esp"
      ],
      "execution_count": 275,
      "outputs": [
        {
          "output_type": "stream",
          "text": [
            "Qui-quadrado de Pearson: 0.004465693941545747\n"
          ],
          "name": "stdout"
        },
        {
          "output_type": "execute_result",
          "data": {
            "text/html": [
              "<div>\n",
              "<style scoped>\n",
              "    .dataframe tbody tr th:only-of-type {\n",
              "        vertical-align: middle;\n",
              "    }\n",
              "\n",
              "    .dataframe tbody tr th {\n",
              "        vertical-align: top;\n",
              "    }\n",
              "\n",
              "    .dataframe thead th {\n",
              "        text-align: right;\n",
              "    }\n",
              "</style>\n",
              "<table border=\"1\" class=\"dataframe\">\n",
              "  <thead>\n",
              "    <tr style=\"text-align: right;\">\n",
              "      <th></th>\n",
              "      <th>Cargo</th>\n",
              "      <th>Masculino</th>\n",
              "      <th>Feminino</th>\n",
              "    </tr>\n",
              "  </thead>\n",
              "  <tbody>\n",
              "    <tr>\n",
              "      <th>0</th>\n",
              "      <td>Outro</td>\n",
              "      <td>0.000285</td>\n",
              "      <td>0.000381</td>\n",
              "    </tr>\n",
              "    <tr>\n",
              "      <th>1</th>\n",
              "      <td>Gerencial</td>\n",
              "      <td>0.001624</td>\n",
              "      <td>0.002175</td>\n",
              "    </tr>\n",
              "  </tbody>\n",
              "</table>\n",
              "</div>"
            ],
            "text/plain": [
              "       Cargo  Masculino  Feminino\n",
              "0      Outro   0.000285  0.000381\n",
              "1  Gerencial   0.001624  0.002175"
            ]
          },
          "metadata": {
            "tags": []
          },
          "execution_count": 275
        }
      ]
    },
    {
      "cell_type": "markdown",
      "metadata": {
        "id": "APw--DNALiNA"
      },
      "source": [
        "### Companhia B"
      ]
    },
    {
      "cell_type": "markdown",
      "metadata": {
        "id": "mDRqLxuWqzpX"
      },
      "source": [
        "**Distribuição Conjunta**"
      ]
    },
    {
      "cell_type": "code",
      "metadata": {
        "id": "gpHhkcpyLuIy",
        "colab": {
          "base_uri": "https://localhost:8080/",
          "height": 143
        },
        "outputId": "2df2f8e0-4d02-43c8-a711-57e9f88b8b73"
      },
      "source": [
        "corrSexCargoB = {'Cargo': ['Outro', 'Gerencial', 'Total'],\n",
        "                  'Masculino': [dadosB.query(\"cargo == 'outro' and Sexo == 'masc'\").shape[0],\n",
        "                                dadosB.query(\"cargo == 'gerencial' and Sexo == 'masc'\").shape[0],\n",
        "                                sexB['Frequência (n_i)'][0]\n",
        "                   ],\n",
        "                  'Feminino' : [dadosB.query(\"cargo == 'outro' and Sexo == 'fem'\").shape[0],\n",
        "                                dadosB.query(\"cargo == 'gerencial' and Sexo == 'fem'\").shape[0],\n",
        "                                sexB['Frequência (n_i)'][1]\n",
        "                   ],\n",
        "                  'Total': [cargoB['Frequência (n_i)'][0], \n",
        "                            cargoB['Frequência (n_i)'][1], \n",
        "                            sexB['Frequência (n_i)'][0] + sexB['Frequência (n_i)'][1]\n",
        "                   ],\n",
        "                }\n",
        "distConjuntaSexCargoB = pd.DataFrame(corrSexCargoB)\n",
        "distConjuntaSexCargoB"
      ],
      "execution_count": 276,
      "outputs": [
        {
          "output_type": "execute_result",
          "data": {
            "text/html": [
              "<div>\n",
              "<style scoped>\n",
              "    .dataframe tbody tr th:only-of-type {\n",
              "        vertical-align: middle;\n",
              "    }\n",
              "\n",
              "    .dataframe tbody tr th {\n",
              "        vertical-align: top;\n",
              "    }\n",
              "\n",
              "    .dataframe thead th {\n",
              "        text-align: right;\n",
              "    }\n",
              "</style>\n",
              "<table border=\"1\" class=\"dataframe\">\n",
              "  <thead>\n",
              "    <tr style=\"text-align: right;\">\n",
              "      <th></th>\n",
              "      <th>Cargo</th>\n",
              "      <th>Masculino</th>\n",
              "      <th>Feminino</th>\n",
              "      <th>Total</th>\n",
              "    </tr>\n",
              "  </thead>\n",
              "  <tbody>\n",
              "    <tr>\n",
              "      <th>0</th>\n",
              "      <td>Outro</td>\n",
              "      <td>100</td>\n",
              "      <td>120</td>\n",
              "      <td>220</td>\n",
              "    </tr>\n",
              "    <tr>\n",
              "      <th>1</th>\n",
              "      <td>Gerencial</td>\n",
              "      <td>14</td>\n",
              "      <td>23</td>\n",
              "      <td>37</td>\n",
              "    </tr>\n",
              "    <tr>\n",
              "      <th>2</th>\n",
              "      <td>Total</td>\n",
              "      <td>143</td>\n",
              "      <td>114</td>\n",
              "      <td>257</td>\n",
              "    </tr>\n",
              "  </tbody>\n",
              "</table>\n",
              "</div>"
            ],
            "text/plain": [
              "       Cargo  Masculino  Feminino  Total\n",
              "0      Outro        100       120    220\n",
              "1  Gerencial         14        23     37\n",
              "2      Total        143       114    257"
            ]
          },
          "metadata": {
            "tags": []
          },
          "execution_count": 276
        }
      ]
    },
    {
      "cell_type": "markdown",
      "metadata": {
        "id": "eVM2UdDHq6b4"
      },
      "source": [
        "**Distribuição das frequências relativas ao total por coluna**\n",
        "\n",
        "Se não houver dependência a proporcão do total deverá ser parecida da proporção por cada categoria."
      ]
    },
    {
      "cell_type": "code",
      "metadata": {
        "colab": {
          "base_uri": "https://localhost:8080/",
          "height": 143
        },
        "id": "4sQIQTk5q6b6",
        "outputId": "0a2b4fa0-9180-4d57-a80b-4d7111e1cf37"
      },
      "source": [
        "corrSexCargoB = {'Cargo': ['Outro', 'Gerencial', 'Total'],\n",
        "                  'Masculino (%)': [dadosB.query(\"cargo == 'outro' and Sexo == 'masc'\").shape[0]/sexB['Frequência (n_i)'][0]*100,\n",
        "                                dadosB.query(\"cargo == 'gerencial' and Sexo == 'masc'\").shape[0]/sexB['Frequência (n_i)'][0]*100,\n",
        "                                sexB['Frequência (n_i)'][0]/sexB['Frequência (n_i)'][0]*100\n",
        "                   ],\n",
        "                  'Feminino (%)' : [dadosB.query(\"cargo == 'outro' and Sexo == 'fem'\").shape[0]/sexB['Frequência (n_i)'][1]*100,\n",
        "                                dadosB.query(\"cargo == 'gerencial' and Sexo == 'fem'\").shape[0]/sexB['Frequência (n_i)'][1]*100,\n",
        "                                sexB['Frequência (n_i)'][1]/sexB['Frequência (n_i)'][1]*100\n",
        "                   ],\n",
        "                  'Total (%)': [cargoB['Frequência (n_i)'][0]/(sexB['Frequência (n_i)'][0] + sexB['Frequência (n_i)'][1])*100, \n",
        "                            cargoB['Frequência (n_i)'][1]/(sexB['Frequência (n_i)'][0] + sexB['Frequência (n_i)'][1])*100, \n",
        "                            (sexB['Frequência (n_i)'][0] + sexB['Frequência (n_i)'][1])/(sexB['Frequência (n_i)'][0] + sexB['Frequência (n_i)'][1])*100\n",
        "                   ],\n",
        "                }\n",
        "distRelColSexCargoB = pd.DataFrame(corrSexCargoB)\n",
        "distRelColSexCargoB.round(1)"
      ],
      "execution_count": 277,
      "outputs": [
        {
          "output_type": "execute_result",
          "data": {
            "text/html": [
              "<div>\n",
              "<style scoped>\n",
              "    .dataframe tbody tr th:only-of-type {\n",
              "        vertical-align: middle;\n",
              "    }\n",
              "\n",
              "    .dataframe tbody tr th {\n",
              "        vertical-align: top;\n",
              "    }\n",
              "\n",
              "    .dataframe thead th {\n",
              "        text-align: right;\n",
              "    }\n",
              "</style>\n",
              "<table border=\"1\" class=\"dataframe\">\n",
              "  <thead>\n",
              "    <tr style=\"text-align: right;\">\n",
              "      <th></th>\n",
              "      <th>Cargo</th>\n",
              "      <th>Masculino (%)</th>\n",
              "      <th>Feminino (%)</th>\n",
              "      <th>Total (%)</th>\n",
              "    </tr>\n",
              "  </thead>\n",
              "  <tbody>\n",
              "    <tr>\n",
              "      <th>0</th>\n",
              "      <td>Outro</td>\n",
              "      <td>69.9</td>\n",
              "      <td>105.3</td>\n",
              "      <td>85.6</td>\n",
              "    </tr>\n",
              "    <tr>\n",
              "      <th>1</th>\n",
              "      <td>Gerencial</td>\n",
              "      <td>9.8</td>\n",
              "      <td>20.2</td>\n",
              "      <td>14.4</td>\n",
              "    </tr>\n",
              "    <tr>\n",
              "      <th>2</th>\n",
              "      <td>Total</td>\n",
              "      <td>100.0</td>\n",
              "      <td>100.0</td>\n",
              "      <td>100.0</td>\n",
              "    </tr>\n",
              "  </tbody>\n",
              "</table>\n",
              "</div>"
            ],
            "text/plain": [
              "       Cargo  Masculino (%)  Feminino (%)  Total (%)\n",
              "0      Outro           69.9         105.3       85.6\n",
              "1  Gerencial            9.8          20.2       14.4\n",
              "2      Total          100.0         100.0      100.0"
            ]
          },
          "metadata": {
            "tags": []
          },
          "execution_count": 277
        }
      ]
    },
    {
      "cell_type": "markdown",
      "metadata": {
        "id": "z_xYzO3WsLDy"
      },
      "source": [
        "**Distribuição das frequências relativas ao total por linhas**\n",
        "\n",
        "Se não houver dependência a proporcão do total deverá ser parecida da proporção por cada categoria."
      ]
    },
    {
      "cell_type": "code",
      "metadata": {
        "colab": {
          "base_uri": "https://localhost:8080/",
          "height": 143
        },
        "id": "CGljuWXxsLEN",
        "outputId": "aa070119-9f57-4649-9ac4-39b2e682593e"
      },
      "source": [
        "corrSexCargoB = {'Cargo': ['Outro', 'Gerencial', 'Total'],\n",
        "                  'Masculino (%)': [dadosB.query(\"cargo == 'outro' and Sexo == 'masc'\").shape[0]/cargoB['Frequência (n_i)'][0]*100,\n",
        "                                dadosB.query(\"cargo == 'gerencial' and Sexo == 'masc'\").shape[0]/cargoB['Frequência (n_i)'][1]*100,\n",
        "                                sexB['Frequência (n_i)'][0]/(sexB['Frequência (n_i)'][0] + sexB['Frequência (n_i)'][1])*100\n",
        "                   ],\n",
        "                  'Feminino (%)' : [dadosB.query(\"cargo == 'outro' and Sexo == 'fem'\").shape[0]/cargoB['Frequência (n_i)'][0]*100,\n",
        "                                dadosB.query(\"cargo == 'gerencial' and Sexo == 'fem'\").shape[0]/cargoB['Frequência (n_i)'][1]*100,\n",
        "                                sexB['Frequência (n_i)'][1]/(sexB['Frequência (n_i)'][0] + sexB['Frequência (n_i)'][1])*100\n",
        "                   ],\n",
        "                  'Total (%)': [cargoB['Frequência (n_i)'][0]/cargoB['Frequência (n_i)'][0]*100, \n",
        "                            cargoB['Frequência (n_i)'][1]/cargoB['Frequência (n_i)'][1]*100, \n",
        "                            (sexB['Frequência (n_i)'][0] + sexB['Frequência (n_i)'][1])/(sexB['Frequência (n_i)'][0] + sexB['Frequência (n_i)'][1])*100\n",
        "                   ],\n",
        "                }\n",
        "distRelLinSexCargoB = pd.DataFrame(corrSexCargoB)\n",
        "distRelLinSexCargoB.round(1)"
      ],
      "execution_count": 278,
      "outputs": [
        {
          "output_type": "execute_result",
          "data": {
            "text/html": [
              "<div>\n",
              "<style scoped>\n",
              "    .dataframe tbody tr th:only-of-type {\n",
              "        vertical-align: middle;\n",
              "    }\n",
              "\n",
              "    .dataframe tbody tr th {\n",
              "        vertical-align: top;\n",
              "    }\n",
              "\n",
              "    .dataframe thead th {\n",
              "        text-align: right;\n",
              "    }\n",
              "</style>\n",
              "<table border=\"1\" class=\"dataframe\">\n",
              "  <thead>\n",
              "    <tr style=\"text-align: right;\">\n",
              "      <th></th>\n",
              "      <th>Cargo</th>\n",
              "      <th>Masculino (%)</th>\n",
              "      <th>Feminino (%)</th>\n",
              "      <th>Total (%)</th>\n",
              "    </tr>\n",
              "  </thead>\n",
              "  <tbody>\n",
              "    <tr>\n",
              "      <th>0</th>\n",
              "      <td>Outro</td>\n",
              "      <td>45.5</td>\n",
              "      <td>54.5</td>\n",
              "      <td>100.0</td>\n",
              "    </tr>\n",
              "    <tr>\n",
              "      <th>1</th>\n",
              "      <td>Gerencial</td>\n",
              "      <td>37.8</td>\n",
              "      <td>62.2</td>\n",
              "      <td>100.0</td>\n",
              "    </tr>\n",
              "    <tr>\n",
              "      <th>2</th>\n",
              "      <td>Total</td>\n",
              "      <td>55.6</td>\n",
              "      <td>44.4</td>\n",
              "      <td>100.0</td>\n",
              "    </tr>\n",
              "  </tbody>\n",
              "</table>\n",
              "</div>"
            ],
            "text/plain": [
              "       Cargo  Masculino (%)  Feminino (%)  Total (%)\n",
              "0      Outro           45.5          54.5      100.0\n",
              "1  Gerencial           37.8          62.2      100.0\n",
              "2      Total           55.6          44.4      100.0"
            ]
          },
          "metadata": {
            "tags": []
          },
          "execution_count": 278
        }
      ]
    },
    {
      "cell_type": "markdown",
      "metadata": {
        "id": "YStoosbRuEw8"
      },
      "source": [
        "**Valores esperados para cada posição na tabela de acordo com a porcentagem da distribuição das frequências relativas ao total por linhas**"
      ]
    },
    {
      "cell_type": "code",
      "metadata": {
        "colab": {
          "base_uri": "https://localhost:8080/",
          "height": 112
        },
        "id": "QvrjtLH9uEw_",
        "outputId": "772c69ea-a381-4394-818b-f20c31a047c0"
      },
      "source": [
        "corrSexCargoB = {'Cargo': ['Outro', 'Gerencial'],\n",
        "                  'Masculino': [ sexB['Frequência (n_i)'][0]/(sexB['Frequência (n_i)'][0] + sexB['Frequência (n_i)'][1])*cargoB['Frequência (n_i)'][0],\n",
        "                                 sexB['Frequência (n_i)'][0]/(sexB['Frequência (n_i)'][0] + sexB['Frequência (n_i)'][1])*cargoB['Frequência (n_i)'][1]\n",
        "                   ],\n",
        "                  'Feminino' : [sexB['Frequência (n_i)'][1]/(sexB['Frequência (n_i)'][0] + sexB['Frequência (n_i)'][1])*cargoB['Frequência (n_i)'][0],\n",
        "                                sexB['Frequência (n_i)'][1]/(sexB['Frequência (n_i)'][0] + sexB['Frequência (n_i)'][1])*cargoB['Frequência (n_i)'][1]\n",
        "                   ],\n",
        "                }\n",
        "distEsperadaSexCargoB = pd.DataFrame(corrSexCargoB)\n",
        "distEsperadaSexCargoB.round(1)"
      ],
      "execution_count": 279,
      "outputs": [
        {
          "output_type": "execute_result",
          "data": {
            "text/html": [
              "<div>\n",
              "<style scoped>\n",
              "    .dataframe tbody tr th:only-of-type {\n",
              "        vertical-align: middle;\n",
              "    }\n",
              "\n",
              "    .dataframe tbody tr th {\n",
              "        vertical-align: top;\n",
              "    }\n",
              "\n",
              "    .dataframe thead th {\n",
              "        text-align: right;\n",
              "    }\n",
              "</style>\n",
              "<table border=\"1\" class=\"dataframe\">\n",
              "  <thead>\n",
              "    <tr style=\"text-align: right;\">\n",
              "      <th></th>\n",
              "      <th>Cargo</th>\n",
              "      <th>Masculino</th>\n",
              "      <th>Feminino</th>\n",
              "    </tr>\n",
              "  </thead>\n",
              "  <tbody>\n",
              "    <tr>\n",
              "      <th>0</th>\n",
              "      <td>Outro</td>\n",
              "      <td>122.4</td>\n",
              "      <td>97.6</td>\n",
              "    </tr>\n",
              "    <tr>\n",
              "      <th>1</th>\n",
              "      <td>Gerencial</td>\n",
              "      <td>20.6</td>\n",
              "      <td>16.4</td>\n",
              "    </tr>\n",
              "  </tbody>\n",
              "</table>\n",
              "</div>"
            ],
            "text/plain": [
              "       Cargo  Masculino  Feminino\n",
              "0      Outro      122.4      97.6\n",
              "1  Gerencial       20.6      16.4"
            ]
          },
          "metadata": {
            "tags": []
          },
          "execution_count": 279
        }
      ]
    },
    {
      "cell_type": "markdown",
      "metadata": {
        "id": "Uc7x5ytqvbtT"
      },
      "source": [
        "**Desvios relativos entre observados e esperados:**\n",
        "\n",
        "(oi - ei)^2/ei\n",
        "\n",
        "* oi é o valor observado\n",
        "* ei é o valor esperado\n",
        "\n",
        "**Qui-quadrado de Pearson (X_quadrado):** \n",
        "\n",
        "Soma de todas as medidas da tabela. Se a hipótese de não-associação for verdadeira, o valor calculado deve estar próximo de zero. Se as variáveis forem associadas, o valor de X_quadrado deve ser grande."
      ]
    },
    {
      "cell_type": "code",
      "metadata": {
        "colab": {
          "base_uri": "https://localhost:8080/",
          "height": 129
        },
        "id": "pSBErixQvbtV",
        "outputId": "43b3926b-0183-4987-bd11-c4ff8f77a432"
      },
      "source": [
        "corrSexCargoB= {'Cargo': ['Outro', 'Gerencial'],\n",
        "                  'Masculino': [((distConjuntaSexCargoB['Masculino'][0]-distEsperadaSexCargoB['Masculino'][0])**2)/distEsperadaSexCargoB['Masculino'][0],\n",
        "                                ((distConjuntaSexCargoB['Masculino'][1]-distEsperadaSexCargoB['Masculino'][1])**2)/distEsperadaSexCargoB['Masculino'][1]\n",
        "                   ],\n",
        "                  'Feminino' : [((distConjuntaSexCargoB['Feminino'][0]-distEsperadaSexCargoB['Feminino'][0])**2)/distEsperadaSexCargoB['Feminino'][0],\n",
        "                                ((distConjuntaSexCargoB['Feminino'][1]-distEsperadaSexCargoB['Feminino'][1])**2)/distEsperadaSexCargoB['Feminino'][1],\n",
        "                   ],\n",
        "                }\n",
        "esp = pd.DataFrame(corrSexCargoB)\n",
        "X_quadradoB = esp['Masculino'][0]+esp['Masculino'][1]+esp['Feminino'][0]+esp['Feminino'][1]\n",
        "print(\"Qui-quadrado de Pearson:\",X_quadradoB)\n",
        "esp"
      ],
      "execution_count": 280,
      "outputs": [
        {
          "output_type": "stream",
          "text": [
            "Qui-quadrado de Pearson: 14.002788732453812\n"
          ],
          "name": "stdout"
        },
        {
          "output_type": "execute_result",
          "data": {
            "text/html": [
              "<div>\n",
              "<style scoped>\n",
              "    .dataframe tbody tr th:only-of-type {\n",
              "        vertical-align: middle;\n",
              "    }\n",
              "\n",
              "    .dataframe tbody tr th {\n",
              "        vertical-align: top;\n",
              "    }\n",
              "\n",
              "    .dataframe thead th {\n",
              "        text-align: right;\n",
              "    }\n",
              "</style>\n",
              "<table border=\"1\" class=\"dataframe\">\n",
              "  <thead>\n",
              "    <tr style=\"text-align: right;\">\n",
              "      <th></th>\n",
              "      <th>Cargo</th>\n",
              "      <th>Masculino</th>\n",
              "      <th>Feminino</th>\n",
              "    </tr>\n",
              "  </thead>\n",
              "  <tbody>\n",
              "    <tr>\n",
              "      <th>0</th>\n",
              "      <td>Outro</td>\n",
              "      <td>4.103488</td>\n",
              "      <td>5.147357</td>\n",
              "    </tr>\n",
              "    <tr>\n",
              "      <th>1</th>\n",
              "      <td>Gerencial</td>\n",
              "      <td>2.107866</td>\n",
              "      <td>2.644078</td>\n",
              "    </tr>\n",
              "  </tbody>\n",
              "</table>\n",
              "</div>"
            ],
            "text/plain": [
              "       Cargo  Masculino  Feminino\n",
              "0      Outro   4.103488  5.147357\n",
              "1  Gerencial   2.107866  2.644078"
            ]
          },
          "metadata": {
            "tags": []
          },
          "execution_count": 280
        }
      ]
    },
    {
      "cell_type": "markdown",
      "metadata": {
        "id": "VuO9WE_4IRn3"
      },
      "source": [
        "## $2.v)$ Analise a dependência entre as variáveis cargo e salário."
      ]
    },
    {
      "cell_type": "markdown",
      "metadata": {
        "id": "jZkRC9IbLfxN"
      },
      "source": [
        "### Companhia A"
      ]
    },
    {
      "cell_type": "markdown",
      "metadata": {
        "id": "_2pJeItnZYG3"
      },
      "source": [
        "**Distribuição Conjunta**"
      ]
    },
    {
      "cell_type": "code",
      "metadata": {
        "id": "Vk0Omg7TLvdX",
        "colab": {
          "base_uri": "https://localhost:8080/",
          "height": 238
        },
        "outputId": "7f608f06-b805-4aef-d673-8200ee7d3bf1"
      },
      "source": [
        "corrCargoSalA = {'Faixas Salariais': ['Salários de 0 a 5', 'Salários de 5 a 10', 'Salários de 10 a 15', 'Salários de 15 a 20', 'Salários de 20 a 25', 'Total'],\n",
        "                  'Outro': [dadosA.query(\"Sal >= 0 and Sal <= 5 and cargo == 'outro'\").shape[0],\n",
        "                                dadosA.query(\"Sal > 5 and Sal <= 10 and cargo == 'outro'\").shape[0],\n",
        "                                dadosA.query(\"Sal > 10 and Sal <= 15 and cargo == 'outro'\").shape[0],\n",
        "                                dadosA.query(\"Sal > 15 and Sal <= 20 and cargo == 'outro'\").shape[0],\n",
        "                                dadosA.query(\"Sal > 20 and Sal <= 25 and cargo == 'outro'\").shape[0],\n",
        "                                dadosA.query(\"cargo == 'outro'\").shape[0],\n",
        "                   ],\n",
        "                  'Gerencial': [dadosA.query(\"Sal >= 0 and Sal <= 5 and cargo == 'gerencial'\").shape[0],\n",
        "                               dadosA.query(\"Sal > 5 and Sal <= 10 and cargo == 'gerencial'\").shape[0],\n",
        "                               dadosA.query(\"Sal > 10 and Sal <= 15 and cargo == 'gerencial'\").shape[0],\n",
        "                               dadosA.query(\"Sal > 15 and Sal <= 20 and cargo == 'gerencial'\").shape[0],\n",
        "                               dadosA.query(\"Sal > 20 and Sal <= 25 and cargo == 'gerencial'\").shape[0],\n",
        "                               dadosA.query(\"cargo == 'gerencial'\").shape[0],\n",
        "                   ],\n",
        "                  'Total': [dadosA.query(\"Sal >= 0 and Sal <= 5\").shape[0],\n",
        "                            dadosA.query(\"Sal > 5 and Sal <= 10\").shape[0],\n",
        "                            dadosA.query(\"Sal > 10 and Sal <= 15\").shape[0],\n",
        "                            dadosA.query(\"Sal > 15 and Sal <= 20\").shape[0],\n",
        "                            dadosA.query(\"Sal > 20 and Sal <= 25\").shape[0],\n",
        "                            dadosA.shape[0],\n",
        "                   ],\n",
        "                }\n",
        "distConjuntaCargoSalA = pd.DataFrame(corrCargoSalA)\n",
        "distConjuntaCargoSalA"
      ],
      "execution_count": 281,
      "outputs": [
        {
          "output_type": "execute_result",
          "data": {
            "text/html": [
              "<div>\n",
              "<style scoped>\n",
              "    .dataframe tbody tr th:only-of-type {\n",
              "        vertical-align: middle;\n",
              "    }\n",
              "\n",
              "    .dataframe tbody tr th {\n",
              "        vertical-align: top;\n",
              "    }\n",
              "\n",
              "    .dataframe thead th {\n",
              "        text-align: right;\n",
              "    }\n",
              "</style>\n",
              "<table border=\"1\" class=\"dataframe\">\n",
              "  <thead>\n",
              "    <tr style=\"text-align: right;\">\n",
              "      <th></th>\n",
              "      <th>Faixas Salariais</th>\n",
              "      <th>Outro</th>\n",
              "      <th>Gerencial</th>\n",
              "      <th>Total</th>\n",
              "    </tr>\n",
              "  </thead>\n",
              "  <tbody>\n",
              "    <tr>\n",
              "      <th>0</th>\n",
              "      <td>Salários de 0 a 5</td>\n",
              "      <td>62</td>\n",
              "      <td>0</td>\n",
              "      <td>62</td>\n",
              "    </tr>\n",
              "    <tr>\n",
              "      <th>1</th>\n",
              "      <td>Salários de 5 a 10</td>\n",
              "      <td>128</td>\n",
              "      <td>0</td>\n",
              "      <td>128</td>\n",
              "    </tr>\n",
              "    <tr>\n",
              "      <th>2</th>\n",
              "      <td>Salários de 10 a 15</td>\n",
              "      <td>16</td>\n",
              "      <td>5</td>\n",
              "      <td>21</td>\n",
              "    </tr>\n",
              "    <tr>\n",
              "      <th>3</th>\n",
              "      <td>Salários de 15 a 20</td>\n",
              "      <td>4</td>\n",
              "      <td>10</td>\n",
              "      <td>14</td>\n",
              "    </tr>\n",
              "    <tr>\n",
              "      <th>4</th>\n",
              "      <td>Salários de 20 a 25</td>\n",
              "      <td>1</td>\n",
              "      <td>22</td>\n",
              "      <td>23</td>\n",
              "    </tr>\n",
              "    <tr>\n",
              "      <th>5</th>\n",
              "      <td>Total</td>\n",
              "      <td>211</td>\n",
              "      <td>37</td>\n",
              "      <td>248</td>\n",
              "    </tr>\n",
              "  </tbody>\n",
              "</table>\n",
              "</div>"
            ],
            "text/plain": [
              "      Faixas Salariais  Outro  Gerencial  Total\n",
              "0    Salários de 0 a 5     62          0     62\n",
              "1   Salários de 5 a 10    128          0    128\n",
              "2  Salários de 10 a 15     16          5     21\n",
              "3  Salários de 15 a 20      4         10     14\n",
              "4  Salários de 20 a 25      1         22     23\n",
              "5                Total    211         37    248"
            ]
          },
          "metadata": {
            "tags": []
          },
          "execution_count": 281
        }
      ]
    },
    {
      "cell_type": "markdown",
      "metadata": {
        "id": "-uIRQWIVZYG7"
      },
      "source": [
        "**Distribuição das frequências relativas ao total por coluna**\n",
        "\n",
        "Se não houver dependência a proporcão do total deverá ser parecida da proporção por cada categoria."
      ]
    },
    {
      "cell_type": "code",
      "metadata": {
        "colab": {
          "base_uri": "https://localhost:8080/",
          "height": 238
        },
        "id": "71JbMcstyE5f",
        "outputId": "0db883e5-17dd-4fee-c7dc-85222dd6e7db"
      },
      "source": [
        "corrCargoSalA = {'Faixas Salariais': ['Salários de 0 a 5', 'Salários de 5 a 10', 'Salários de 10 a 15', 'Salários de 15 a 20', 'Salários de 20 a 25', 'Total'],\n",
        "                  'Outro (%)': [dadosA.query(\"Sal >= 0 and Sal <= 5 and cargo == 'outro'\").shape[0]/dadosA.query(\"cargo == 'outro'\").shape[0]*100,\n",
        "                                dadosA.query(\"Sal > 5 and Sal <= 10 and cargo == 'outro'\").shape[0]/dadosA.query(\"cargo == 'outro'\").shape[0]*100,\n",
        "                                dadosA.query(\"Sal > 10 and Sal <= 15 and cargo == 'outro'\").shape[0]/dadosA.query(\"cargo == 'outro'\").shape[0]*100,\n",
        "                                dadosA.query(\"Sal > 15 and Sal <= 20 and cargo == 'outro'\").shape[0]/dadosA.query(\"cargo == 'outro'\").shape[0]*100,\n",
        "                                dadosA.query(\"Sal > 20 and Sal <= 25 and cargo == 'outro'\").shape[0]/dadosA.query(\"cargo == 'outro'\").shape[0]*100,\n",
        "                                dadosA.query(\"cargo == 'outro'\").shape[0]/dadosA.query(\"cargo == 'outro'\").shape[0]*100,\n",
        "                   ],\n",
        "                  'Gerencial (%)': [dadosA.query(\"Sal >= 0 and Sal <= 5 and cargo == 'gerencial'\").shape[0]/dadosA.query(\"cargo == 'gerencial'\").shape[0]*100,\n",
        "                               dadosA.query(\"Sal > 5 and Sal <= 10 and cargo == 'gerencial'\").shape[0]/dadosA.query(\"cargo == 'gerencial'\").shape[0]*100,\n",
        "                               dadosA.query(\"Sal > 10 and Sal <= 15 and cargo == 'gerencial'\").shape[0]/dadosA.query(\"cargo == 'gerencial'\").shape[0]*100,\n",
        "                               dadosA.query(\"Sal > 15 and Sal <= 20 and cargo == 'gerencial'\").shape[0]/dadosA.query(\"cargo == 'gerencial'\").shape[0]*100,\n",
        "                               dadosA.query(\"Sal > 20 and Sal <= 25 and cargo == 'gerencial'\").shape[0]/dadosA.query(\"cargo == 'gerencial'\").shape[0]*100,\n",
        "                               dadosA.query(\"cargo == 'gerencial'\").shape[0]/dadosA.query(\"cargo == 'gerencial'\").shape[0]*100,\n",
        "                   ],\n",
        "                  'Total (%)': [dadosA.query(\"Sal >= 0 and Sal <= 5\").shape[0]/dadosA.shape[0]*100,\n",
        "                            dadosA.query(\"Sal > 5 and Sal <= 10\").shape[0]/dadosA.shape[0]*100,\n",
        "                            dadosA.query(\"Sal > 10 and Sal <= 15\").shape[0]/dadosA.shape[0]*100,\n",
        "                            dadosA.query(\"Sal > 15 and Sal <= 20\").shape[0]/dadosA.shape[0]*100,\n",
        "                            dadosA.query(\"Sal > 20 and Sal <= 25\").shape[0]/dadosA.shape[0]*100,\n",
        "                            dadosA.shape[0]/dadosA.shape[0]*100,\n",
        "                   ],\n",
        "                }\n",
        "distRelColCargoSalA = pd.DataFrame(corrCargoSalA)\n",
        "distRelColCargoSalA.round(1)"
      ],
      "execution_count": 282,
      "outputs": [
        {
          "output_type": "execute_result",
          "data": {
            "text/html": [
              "<div>\n",
              "<style scoped>\n",
              "    .dataframe tbody tr th:only-of-type {\n",
              "        vertical-align: middle;\n",
              "    }\n",
              "\n",
              "    .dataframe tbody tr th {\n",
              "        vertical-align: top;\n",
              "    }\n",
              "\n",
              "    .dataframe thead th {\n",
              "        text-align: right;\n",
              "    }\n",
              "</style>\n",
              "<table border=\"1\" class=\"dataframe\">\n",
              "  <thead>\n",
              "    <tr style=\"text-align: right;\">\n",
              "      <th></th>\n",
              "      <th>Faixas Salariais</th>\n",
              "      <th>Outro (%)</th>\n",
              "      <th>Gerencial (%)</th>\n",
              "      <th>Total (%)</th>\n",
              "    </tr>\n",
              "  </thead>\n",
              "  <tbody>\n",
              "    <tr>\n",
              "      <th>0</th>\n",
              "      <td>Salários de 0 a 5</td>\n",
              "      <td>29.4</td>\n",
              "      <td>0.0</td>\n",
              "      <td>25.0</td>\n",
              "    </tr>\n",
              "    <tr>\n",
              "      <th>1</th>\n",
              "      <td>Salários de 5 a 10</td>\n",
              "      <td>60.7</td>\n",
              "      <td>0.0</td>\n",
              "      <td>51.6</td>\n",
              "    </tr>\n",
              "    <tr>\n",
              "      <th>2</th>\n",
              "      <td>Salários de 10 a 15</td>\n",
              "      <td>7.6</td>\n",
              "      <td>13.5</td>\n",
              "      <td>8.5</td>\n",
              "    </tr>\n",
              "    <tr>\n",
              "      <th>3</th>\n",
              "      <td>Salários de 15 a 20</td>\n",
              "      <td>1.9</td>\n",
              "      <td>27.0</td>\n",
              "      <td>5.6</td>\n",
              "    </tr>\n",
              "    <tr>\n",
              "      <th>4</th>\n",
              "      <td>Salários de 20 a 25</td>\n",
              "      <td>0.5</td>\n",
              "      <td>59.5</td>\n",
              "      <td>9.3</td>\n",
              "    </tr>\n",
              "    <tr>\n",
              "      <th>5</th>\n",
              "      <td>Total</td>\n",
              "      <td>100.0</td>\n",
              "      <td>100.0</td>\n",
              "      <td>100.0</td>\n",
              "    </tr>\n",
              "  </tbody>\n",
              "</table>\n",
              "</div>"
            ],
            "text/plain": [
              "      Faixas Salariais  Outro (%)  Gerencial (%)  Total (%)\n",
              "0    Salários de 0 a 5       29.4            0.0       25.0\n",
              "1   Salários de 5 a 10       60.7            0.0       51.6\n",
              "2  Salários de 10 a 15        7.6           13.5        8.5\n",
              "3  Salários de 15 a 20        1.9           27.0        5.6\n",
              "4  Salários de 20 a 25        0.5           59.5        9.3\n",
              "5                Total      100.0          100.0      100.0"
            ]
          },
          "metadata": {
            "tags": []
          },
          "execution_count": 282
        }
      ]
    },
    {
      "cell_type": "markdown",
      "metadata": {
        "id": "k_CVwMhOZYG8"
      },
      "source": [
        "**Distribuição das frequências relativas ao total por linhas**\n",
        "\n",
        "Se não houver dependência a proporcão do total deverá ser parecida da proporção por cada categoria."
      ]
    },
    {
      "cell_type": "code",
      "metadata": {
        "colab": {
          "base_uri": "https://localhost:8080/",
          "height": 238
        },
        "id": "koBo6ewuyFoF",
        "outputId": "30772623-87c5-442b-fca2-eb946ad10ed1"
      },
      "source": [
        "corrCargoSalA = {'Faixas Salariais': ['Salários de 0 a 5', 'Salários de 5 a 10', 'Salários de 10 a 15', 'Salários de 15 a 20', 'Salários de 20 a 25', 'Total'],\n",
        "                  'Outro (%)': [dadosA.query(\"Sal >= 0 and Sal <= 5 and cargo == 'outro'\").shape[0]/dadosA.query(\"Sal >= 0 and Sal <= 5\").shape[0]*100,\n",
        "                                dadosA.query(\"Sal > 5 and Sal <= 10 and cargo == 'outro'\").shape[0]/dadosA.query(\"Sal > 5 and Sal <= 10\").shape[0]*100,\n",
        "                                dadosA.query(\"Sal > 10 and Sal <= 15 and cargo == 'outro'\").shape[0]/dadosA.query(\"Sal > 10 and Sal <= 15\").shape[0]*100,\n",
        "                                dadosA.query(\"Sal > 15 and Sal <= 20 and cargo == 'outro'\").shape[0]/dadosA.query(\"Sal > 15 and Sal <= 20\").shape[0]*100,\n",
        "                                dadosA.query(\"Sal > 20 and Sal <= 25 and cargo == 'outro'\").shape[0]/dadosA.query(\"Sal > 20 and Sal <= 25\").shape[0]*100,\n",
        "                                dadosA.query(\"cargo == 'outro'\").shape[0]/dadosA.shape[0]*100,\n",
        "                   ],\n",
        "                  'Gerencial (%)': [dadosA.query(\"Sal >= 0 and Sal <= 5 and cargo == 'gerencial'\").shape[0]/dadosA.query(\"Sal >= 0 and Sal <= 5\").shape[0]*100,\n",
        "                               dadosA.query(\"Sal > 5 and Sal <= 10 and cargo == 'gerencial'\").shape[0]/dadosA.query(\"Sal > 5 and Sal <= 10\").shape[0]*100,\n",
        "                               dadosA.query(\"Sal > 10 and Sal <= 15 and cargo == 'gerencial'\").shape[0]/dadosA.query(\"Sal > 10 and Sal <= 15\").shape[0]*100,\n",
        "                               dadosA.query(\"Sal > 15 and Sal <= 20 and cargo == 'gerencial'\").shape[0]/dadosA.query(\"Sal > 15 and Sal <= 20\").shape[0]*100,\n",
        "                               dadosA.query(\"Sal > 20 and Sal <= 25 and cargo == 'gerencial'\").shape[0]/dadosA.query(\"Sal > 20 and Sal <= 25\").shape[0]*100,\n",
        "                               dadosA.query(\"cargo == 'gerencial'\").shape[0]/dadosA.shape[0]*100,\n",
        "                   ],\n",
        "                  'Total (%)': [dadosA.query(\"Sal >= 0 and Sal <= 5\").shape[0]/dadosA.query(\"Sal >= 0 and Sal <= 5\").shape[0]*100,\n",
        "                            dadosA.query(\"Sal > 5 and Sal <= 10\").shape[0]/dadosA.query(\"Sal > 5 and Sal <= 10\").shape[0]*100,\n",
        "                            dadosA.query(\"Sal > 10 and Sal <= 15\").shape[0]/dadosA.query(\"Sal > 10 and Sal <= 15\").shape[0]*100,\n",
        "                            dadosA.query(\"Sal > 15 and Sal <= 20\").shape[0]/dadosA.query(\"Sal > 15 and Sal <= 20\").shape[0]*100,\n",
        "                            dadosA.query(\"Sal > 20 and Sal <= 25\").shape[0]/dadosA.query(\"Sal > 20 and Sal <= 25\").shape[0]*100,\n",
        "                            dadosA.shape[0]/dadosA.shape[0]*100,\n",
        "                   ],\n",
        "                }\n",
        "distRelColCargoSalA = pd.DataFrame(corrCargoSalA)\n",
        "distRelColCargoSalA.round(1)"
      ],
      "execution_count": 283,
      "outputs": [
        {
          "output_type": "execute_result",
          "data": {
            "text/html": [
              "<div>\n",
              "<style scoped>\n",
              "    .dataframe tbody tr th:only-of-type {\n",
              "        vertical-align: middle;\n",
              "    }\n",
              "\n",
              "    .dataframe tbody tr th {\n",
              "        vertical-align: top;\n",
              "    }\n",
              "\n",
              "    .dataframe thead th {\n",
              "        text-align: right;\n",
              "    }\n",
              "</style>\n",
              "<table border=\"1\" class=\"dataframe\">\n",
              "  <thead>\n",
              "    <tr style=\"text-align: right;\">\n",
              "      <th></th>\n",
              "      <th>Faixas Salariais</th>\n",
              "      <th>Outro (%)</th>\n",
              "      <th>Gerencial (%)</th>\n",
              "      <th>Total (%)</th>\n",
              "    </tr>\n",
              "  </thead>\n",
              "  <tbody>\n",
              "    <tr>\n",
              "      <th>0</th>\n",
              "      <td>Salários de 0 a 5</td>\n",
              "      <td>100.0</td>\n",
              "      <td>0.0</td>\n",
              "      <td>100.0</td>\n",
              "    </tr>\n",
              "    <tr>\n",
              "      <th>1</th>\n",
              "      <td>Salários de 5 a 10</td>\n",
              "      <td>100.0</td>\n",
              "      <td>0.0</td>\n",
              "      <td>100.0</td>\n",
              "    </tr>\n",
              "    <tr>\n",
              "      <th>2</th>\n",
              "      <td>Salários de 10 a 15</td>\n",
              "      <td>76.2</td>\n",
              "      <td>23.8</td>\n",
              "      <td>100.0</td>\n",
              "    </tr>\n",
              "    <tr>\n",
              "      <th>3</th>\n",
              "      <td>Salários de 15 a 20</td>\n",
              "      <td>28.6</td>\n",
              "      <td>71.4</td>\n",
              "      <td>100.0</td>\n",
              "    </tr>\n",
              "    <tr>\n",
              "      <th>4</th>\n",
              "      <td>Salários de 20 a 25</td>\n",
              "      <td>4.3</td>\n",
              "      <td>95.7</td>\n",
              "      <td>100.0</td>\n",
              "    </tr>\n",
              "    <tr>\n",
              "      <th>5</th>\n",
              "      <td>Total</td>\n",
              "      <td>85.1</td>\n",
              "      <td>14.9</td>\n",
              "      <td>100.0</td>\n",
              "    </tr>\n",
              "  </tbody>\n",
              "</table>\n",
              "</div>"
            ],
            "text/plain": [
              "      Faixas Salariais  Outro (%)  Gerencial (%)  Total (%)\n",
              "0    Salários de 0 a 5      100.0            0.0      100.0\n",
              "1   Salários de 5 a 10      100.0            0.0      100.0\n",
              "2  Salários de 10 a 15       76.2           23.8      100.0\n",
              "3  Salários de 15 a 20       28.6           71.4      100.0\n",
              "4  Salários de 20 a 25        4.3           95.7      100.0\n",
              "5                Total       85.1           14.9      100.0"
            ]
          },
          "metadata": {
            "tags": []
          },
          "execution_count": 283
        }
      ]
    },
    {
      "cell_type": "markdown",
      "metadata": {
        "id": "TON9aFIIZYG9"
      },
      "source": [
        "**Valores esperados para cada posição na tabela de acordo com a porcentagem da distribuição das frequências relativas ao total por linhas**"
      ]
    },
    {
      "cell_type": "code",
      "metadata": {
        "colab": {
          "base_uri": "https://localhost:8080/",
          "height": 206
        },
        "id": "4CTJpY-myHT9",
        "outputId": "5f11c933-9deb-4d17-bc7e-00c37e513c3c"
      },
      "source": [
        "corrCargoSalA = {'Faixas Salariais': ['Salários de 0 a 5', 'Salários de 5 a 10', 'Salários de 10 a 15', 'Salários de 15 a 20', 'Salários de 20 a 25'],\n",
        "                  'Outro': [dadosA.query(\"cargo == 'outro'\").shape[0]/dadosA.shape[0]*dadosA.query(\"Sal >= 0 and Sal <= 5\").shape[0],\n",
        "                                dadosA.query(\"cargo == 'outro'\").shape[0]/dadosA.shape[0]*dadosA.query(\"Sal > 5 and Sal <= 10\").shape[0],\n",
        "                                dadosA.query(\"cargo == 'outro'\").shape[0]/dadosA.shape[0]*dadosA.query(\"Sal > 10 and Sal <= 15\").shape[0],\n",
        "                                dadosA.query(\"cargo == 'outro'\").shape[0]/dadosA.shape[0]*dadosA.query(\"Sal > 15 and Sal <= 20\").shape[0],\n",
        "                                dadosA.query(\"cargo == 'outro'\").shape[0]/dadosA.shape[0]*dadosA.query(\"Sal > 20 and Sal <= 25\").shape[0],\n",
        "                   ],\n",
        "                  'Gerencial': [dadosA.query(\"cargo == 'gerencial'\").shape[0]/dadosA.shape[0]*dadosA.query(\"Sal >= 0 and Sal <= 5\").shape[0],\n",
        "                               dadosA.query(\"cargo == 'gerencial'\").shape[0]/dadosA.shape[0]*dadosA.query(\"Sal > 5 and Sal <= 10\").shape[0],\n",
        "                               dadosA.query(\"cargo == 'gerencial'\").shape[0]/dadosA.shape[0]*dadosA.query(\"Sal > 10 and Sal <= 15\").shape[0],\n",
        "                               dadosA.query(\"cargo == 'gerencial'\").shape[0]/dadosA.shape[0]*dadosA.query(\"Sal > 15 and Sal <= 20\").shape[0],\n",
        "                               dadosA.query(\"cargo == 'gerencial'\").shape[0]/dadosA.shape[0]*dadosA.query(\"Sal > 20 and Sal <= 25\").shape[0],\n",
        "                   ],\n",
        "                }\n",
        "distEsperadaCargoSalA = pd.DataFrame(corrCargoSalA)\n",
        "distEsperadaCargoSalA.round(1)"
      ],
      "execution_count": 284,
      "outputs": [
        {
          "output_type": "execute_result",
          "data": {
            "text/html": [
              "<div>\n",
              "<style scoped>\n",
              "    .dataframe tbody tr th:only-of-type {\n",
              "        vertical-align: middle;\n",
              "    }\n",
              "\n",
              "    .dataframe tbody tr th {\n",
              "        vertical-align: top;\n",
              "    }\n",
              "\n",
              "    .dataframe thead th {\n",
              "        text-align: right;\n",
              "    }\n",
              "</style>\n",
              "<table border=\"1\" class=\"dataframe\">\n",
              "  <thead>\n",
              "    <tr style=\"text-align: right;\">\n",
              "      <th></th>\n",
              "      <th>Faixas Salariais</th>\n",
              "      <th>Outro</th>\n",
              "      <th>Gerencial</th>\n",
              "    </tr>\n",
              "  </thead>\n",
              "  <tbody>\n",
              "    <tr>\n",
              "      <th>0</th>\n",
              "      <td>Salários de 0 a 5</td>\n",
              "      <td>52.8</td>\n",
              "      <td>9.2</td>\n",
              "    </tr>\n",
              "    <tr>\n",
              "      <th>1</th>\n",
              "      <td>Salários de 5 a 10</td>\n",
              "      <td>108.9</td>\n",
              "      <td>19.1</td>\n",
              "    </tr>\n",
              "    <tr>\n",
              "      <th>2</th>\n",
              "      <td>Salários de 10 a 15</td>\n",
              "      <td>17.9</td>\n",
              "      <td>3.1</td>\n",
              "    </tr>\n",
              "    <tr>\n",
              "      <th>3</th>\n",
              "      <td>Salários de 15 a 20</td>\n",
              "      <td>11.9</td>\n",
              "      <td>2.1</td>\n",
              "    </tr>\n",
              "    <tr>\n",
              "      <th>4</th>\n",
              "      <td>Salários de 20 a 25</td>\n",
              "      <td>19.6</td>\n",
              "      <td>3.4</td>\n",
              "    </tr>\n",
              "  </tbody>\n",
              "</table>\n",
              "</div>"
            ],
            "text/plain": [
              "      Faixas Salariais  Outro  Gerencial\n",
              "0    Salários de 0 a 5   52.8        9.2\n",
              "1   Salários de 5 a 10  108.9       19.1\n",
              "2  Salários de 10 a 15   17.9        3.1\n",
              "3  Salários de 15 a 20   11.9        2.1\n",
              "4  Salários de 20 a 25   19.6        3.4"
            ]
          },
          "metadata": {
            "tags": []
          },
          "execution_count": 284
        }
      ]
    },
    {
      "cell_type": "markdown",
      "metadata": {
        "id": "o8Vf0RWEZYG-"
      },
      "source": [
        "**Desvios relativos entre observados e esperados:**\n",
        "\n",
        "(oi - ei)^2/ei\n",
        "\n",
        "* oi é o valor observado\n",
        "* ei é o valor esperado\n",
        "\n",
        "**Qui-quadrado de Pearson (X_quadrado):** \n",
        "\n",
        "Soma de todas as medidas da tabela. Se a hipótese de não-associação for verdadeira, o valor calculado deve estar próximo de zero. Se as variáveis forem associadas, o valor de X_quadrado deve ser grande."
      ]
    },
    {
      "cell_type": "code",
      "metadata": {
        "colab": {
          "base_uri": "https://localhost:8080/",
          "height": 224
        },
        "id": "7zFOws3QyObB",
        "outputId": "79753c05-8f49-4e6d-e7a8-5f13adef3450"
      },
      "source": [
        "corrCargoSalA = {'Faixas Salariais': ['Salários de 0 a 5', 'Salários de 5 a 10', 'Salários de 10 a 15', 'Salários de 15 a 20', 'Salários de 20 a 25'],\n",
        "                  'Outro': [((distConjuntaCargoSalA['Outro'][0]-distEsperadaCargoSalA['Outro'][0])**2)/distEsperadaCargoSalA['Outro'][0],\n",
        "                                ((distConjuntaCargoSalA['Outro'][1]-distEsperadaCargoSalA['Outro'][1])**2)/distEsperadaCargoSalA['Outro'][1],\n",
        "                                ((distConjuntaCargoSalA['Outro'][2]-distEsperadaCargoSalA['Outro'][2])**2)/distEsperadaCargoSalA['Outro'][2],\n",
        "                                ((distConjuntaCargoSalA['Outro'][3]-distEsperadaCargoSalA['Outro'][3])**2)/distEsperadaCargoSalA['Outro'][3],\n",
        "                                ((distConjuntaCargoSalA['Outro'][4]-distEsperadaCargoSalA['Outro'][4])**2)/distEsperadaCargoSalA['Outro'][4],\n",
        "                                \n",
        "                   ],\n",
        "                  'Gerencial' : [((distConjuntaCargoSalA['Gerencial'][0]-distEsperadaCargoSalA['Gerencial'][0])**2)/distEsperadaCargoSalA['Gerencial'][0],\n",
        "                                ((distConjuntaCargoSalA['Gerencial'][1]-distEsperadaCargoSalA['Gerencial'][1])**2)/distEsperadaCargoSalA['Gerencial'][1],\n",
        "                                ((distConjuntaCargoSalA['Gerencial'][2]-distEsperadaCargoSalA['Gerencial'][2])**2)/distEsperadaCargoSalA['Gerencial'][2],\n",
        "                                ((distConjuntaCargoSalA['Gerencial'][3]-distEsperadaCargoSalA['Gerencial'][3])**2)/distEsperadaCargoSalA['Gerencial'][3],\n",
        "                                ((distConjuntaCargoSalA['Gerencial'][4]-distEsperadaCargoSalA['Gerencial'][4])**2)/distEsperadaCargoSalA['Gerencial'][4],\n",
        "                   ]\n",
        "                }\n",
        "esp = pd.DataFrame(corrCargoSalA)\n",
        "X_quadrado = esp['Outro'][0]+esp['Outro'][1]+esp['Outro'][2]+esp['Outro'][3]+esp['Outro'][4]+esp['Gerencial'][0]+esp['Gerencial'][1]+esp['Gerencial'][2]+esp['Gerencial'][3]+esp['Gerencial'][4]\n",
        "print(\"Qui-quadrado de Pearson:\",X_quadrado)\n",
        "esp"
      ],
      "execution_count": 285,
      "outputs": [
        {
          "output_type": "stream",
          "text": [
            "Qui-quadrado de Pearson: 187.94407842831498\n"
          ],
          "name": "stdout"
        },
        {
          "output_type": "execute_result",
          "data": {
            "text/html": [
              "<div>\n",
              "<style scoped>\n",
              "    .dataframe tbody tr th:only-of-type {\n",
              "        vertical-align: middle;\n",
              "    }\n",
              "\n",
              "    .dataframe tbody tr th {\n",
              "        vertical-align: top;\n",
              "    }\n",
              "\n",
              "    .dataframe thead th {\n",
              "        text-align: right;\n",
              "    }\n",
              "</style>\n",
              "<table border=\"1\" class=\"dataframe\">\n",
              "  <thead>\n",
              "    <tr style=\"text-align: right;\">\n",
              "      <th></th>\n",
              "      <th>Faixas Salariais</th>\n",
              "      <th>Outro</th>\n",
              "      <th>Gerencial</th>\n",
              "    </tr>\n",
              "  </thead>\n",
              "  <tbody>\n",
              "    <tr>\n",
              "      <th>0</th>\n",
              "      <td>Salários de 0 a 5</td>\n",
              "      <td>1.622038</td>\n",
              "      <td>9.250000</td>\n",
              "    </tr>\n",
              "    <tr>\n",
              "      <th>1</th>\n",
              "      <td>Salários de 5 a 10</td>\n",
              "      <td>3.348723</td>\n",
              "      <td>19.096774</td>\n",
              "    </tr>\n",
              "    <tr>\n",
              "      <th>2</th>\n",
              "      <td>Salários de 10 a 15</td>\n",
              "      <td>0.195078</td>\n",
              "      <td>1.112472</td>\n",
              "    </tr>\n",
              "    <tr>\n",
              "      <th>3</th>\n",
              "      <td>Salários de 15 a 20</td>\n",
              "      <td>5.254554</td>\n",
              "      <td>29.965158</td>\n",
              "    </tr>\n",
              "    <tr>\n",
              "      <th>4</th>\n",
              "      <td>Salários de 20 a 25</td>\n",
              "      <td>17.619651</td>\n",
              "      <td>100.479630</td>\n",
              "    </tr>\n",
              "  </tbody>\n",
              "</table>\n",
              "</div>"
            ],
            "text/plain": [
              "      Faixas Salariais      Outro   Gerencial\n",
              "0    Salários de 0 a 5   1.622038    9.250000\n",
              "1   Salários de 5 a 10   3.348723   19.096774\n",
              "2  Salários de 10 a 15   0.195078    1.112472\n",
              "3  Salários de 15 a 20   5.254554   29.965158\n",
              "4  Salários de 20 a 25  17.619651  100.479630"
            ]
          },
          "metadata": {
            "tags": []
          },
          "execution_count": 285
        }
      ]
    },
    {
      "cell_type": "markdown",
      "metadata": {
        "id": "mcYzZPv0Lihw"
      },
      "source": [
        "### Companhia B"
      ]
    },
    {
      "cell_type": "markdown",
      "metadata": {
        "id": "u86c6l9jxcjc"
      },
      "source": [
        "**Distribuição Conjunta**"
      ]
    },
    {
      "cell_type": "code",
      "metadata": {
        "id": "vl6Hz79ILwyy",
        "colab": {
          "base_uri": "https://localhost:8080/",
          "height": 238
        },
        "outputId": "1f844a48-382e-41c7-a152-9d3333d35cd0"
      },
      "source": [
        "corrCargoSalB = {'Faixas Salariais': ['Salários de 0 a 5', 'Salários de 5 a 10', 'Salários de 10 a 15', 'Salários de 15 a 20', 'Salários de 20 a 25', 'Total'],\n",
        "                  'Outro': [dadosB.query(\"Sal >= 0 and Sal <= 5 and cargo == 'outro'\").shape[0],\n",
        "                                dadosB.query(\"Sal > 5 and Sal <= 10 and cargo == 'outro'\").shape[0],\n",
        "                                dadosB.query(\"Sal > 10 and Sal <= 15 and cargo == 'outro'\").shape[0],\n",
        "                                dadosB.query(\"Sal > 15 and Sal <= 20 and cargo == 'outro'\").shape[0],\n",
        "                                dadosB.query(\"Sal > 20 and Sal <= 25 and cargo == 'outro'\").shape[0],\n",
        "                                dadosB.query(\"cargo == 'outro'\").shape[0],\n",
        "                   ],\n",
        "                  'Gerencial': [dadosB.query(\"Sal >= 0 and Sal <= 5 and cargo == 'gerencial'\").shape[0],\n",
        "                                dadosB.query(\"Sal > 5 and Sal <= 10 and cargo == 'gerencial'\").shape[0],\n",
        "                                dadosB.query(\"Sal > 10 and Sal <= 15 and cargo == 'gerencial'\").shape[0],\n",
        "                                dadosB.query(\"Sal > 15 and Sal <= 20 and cargo == 'gerencial'\").shape[0],\n",
        "                                dadosB.query(\"Sal > 20 and Sal <= 25 and cargo == 'gerencial'\").shape[0],\n",
        "                                dadosB.query(\"cargo == 'gerencial'\").shape[0],\n",
        "                   ],\n",
        "                  'Total': [dadosB.query(\"Sal >= 0 and Sal <= 5\").shape[0],\n",
        "                            dadosB.query(\"Sal > 5 and Sal <= 10\").shape[0],\n",
        "                            dadosB.query(\"Sal > 10 and Sal <= 15\").shape[0],\n",
        "                            dadosB.query(\"Sal > 15 and Sal <= 20\").shape[0],\n",
        "                            dadosB.query(\"Sal > 20 and Sal <= 25\").shape[0],\n",
        "                            dadosB.shape[0],\n",
        "                   ],\n",
        "                }\n",
        "distConjuntaCargoSalB = pd.DataFrame(corrCargoSalB)\n",
        "distConjuntaCargoSalB"
      ],
      "execution_count": 286,
      "outputs": [
        {
          "output_type": "execute_result",
          "data": {
            "text/html": [
              "<div>\n",
              "<style scoped>\n",
              "    .dataframe tbody tr th:only-of-type {\n",
              "        vertical-align: middle;\n",
              "    }\n",
              "\n",
              "    .dataframe tbody tr th {\n",
              "        vertical-align: top;\n",
              "    }\n",
              "\n",
              "    .dataframe thead th {\n",
              "        text-align: right;\n",
              "    }\n",
              "</style>\n",
              "<table border=\"1\" class=\"dataframe\">\n",
              "  <thead>\n",
              "    <tr style=\"text-align: right;\">\n",
              "      <th></th>\n",
              "      <th>Faixas Salariais</th>\n",
              "      <th>Outro</th>\n",
              "      <th>Gerencial</th>\n",
              "      <th>Total</th>\n",
              "    </tr>\n",
              "  </thead>\n",
              "  <tbody>\n",
              "    <tr>\n",
              "      <th>0</th>\n",
              "      <td>Salários de 0 a 5</td>\n",
              "      <td>77</td>\n",
              "      <td>0</td>\n",
              "      <td>77</td>\n",
              "    </tr>\n",
              "    <tr>\n",
              "      <th>1</th>\n",
              "      <td>Salários de 5 a 10</td>\n",
              "      <td>92</td>\n",
              "      <td>6</td>\n",
              "      <td>98</td>\n",
              "    </tr>\n",
              "    <tr>\n",
              "      <th>2</th>\n",
              "      <td>Salários de 10 a 15</td>\n",
              "      <td>49</td>\n",
              "      <td>17</td>\n",
              "      <td>66</td>\n",
              "    </tr>\n",
              "    <tr>\n",
              "      <th>3</th>\n",
              "      <td>Salários de 15 a 20</td>\n",
              "      <td>2</td>\n",
              "      <td>6</td>\n",
              "      <td>8</td>\n",
              "    </tr>\n",
              "    <tr>\n",
              "      <th>4</th>\n",
              "      <td>Salários de 20 a 25</td>\n",
              "      <td>0</td>\n",
              "      <td>8</td>\n",
              "      <td>8</td>\n",
              "    </tr>\n",
              "    <tr>\n",
              "      <th>5</th>\n",
              "      <td>Total</td>\n",
              "      <td>220</td>\n",
              "      <td>37</td>\n",
              "      <td>257</td>\n",
              "    </tr>\n",
              "  </tbody>\n",
              "</table>\n",
              "</div>"
            ],
            "text/plain": [
              "      Faixas Salariais  Outro  Gerencial  Total\n",
              "0    Salários de 0 a 5     77          0     77\n",
              "1   Salários de 5 a 10     92          6     98\n",
              "2  Salários de 10 a 15     49         17     66\n",
              "3  Salários de 15 a 20      2          6      8\n",
              "4  Salários de 20 a 25      0          8      8\n",
              "5                Total    220         37    257"
            ]
          },
          "metadata": {
            "tags": []
          },
          "execution_count": 286
        }
      ]
    },
    {
      "cell_type": "markdown",
      "metadata": {
        "id": "5mPOS2b4xnhi"
      },
      "source": [
        "**Distribuição das frequências relativas ao total por coluna**\n",
        "\n",
        "Se não houver dependência a proporcão do total deverá ser parecida da proporção por cada categoria."
      ]
    },
    {
      "cell_type": "code",
      "metadata": {
        "colab": {
          "base_uri": "https://localhost:8080/",
          "height": 238
        },
        "id": "4gKeOA-O0skq",
        "outputId": "45c86ce2-ac0f-47d4-801f-28db4927abb2"
      },
      "source": [
        "corrCargoSalB = {'Faixas Salariais': ['Salários de 0 a 5', 'Salários de 5 a 10', 'Salários de 10 a 15', 'Salários de 15 a 20', 'Salários de 20 a 25', 'Total'],\n",
        "                  'Outro': [dadosB.query(\"Sal >= 0 and Sal <= 5 and cargo == 'outro'\").shape[0]/dadosB.query(\"cargo == 'outro'\").shape[0]*100,\n",
        "                                dadosB.query(\"Sal > 5 and Sal <= 10 and cargo == 'outro'\").shape[0]/dadosB.query(\"cargo == 'outro'\").shape[0]*100,\n",
        "                                dadosB.query(\"Sal > 10 and Sal <= 15 and cargo == 'outro'\").shape[0]/dadosB.query(\"cargo == 'outro'\").shape[0]*100,\n",
        "                                dadosB.query(\"Sal > 15 and Sal <= 20 and cargo == 'outro'\").shape[0]/dadosB.query(\"cargo == 'outro'\").shape[0]*100,\n",
        "                                dadosB.query(\"Sal > 20 and Sal <= 25 and cargo == 'outro'\").shape[0]/dadosB.query(\"cargo == 'outro'\").shape[0]*100,\n",
        "                                dadosB.query(\"cargo == 'outro'\").shape[0]/dadosB.query(\"cargo == 'outro'\").shape[0]*100,\n",
        "                   ],\n",
        "                  'Gerencial': [dadosB.query(\"Sal >= 0 and Sal <= 5 and cargo == 'gerencial'\").shape[0]/dadosB.query(\"cargo == 'gerencial'\").shape[0]*100,\n",
        "                               dadosB.query(\"Sal > 5 and Sal <= 10 and cargo == 'gerencial'\").shape[0]/dadosB.query(\"cargo == 'gerencial'\").shape[0]*100,\n",
        "                               dadosB.query(\"Sal > 10 and Sal <= 15 and cargo == 'gerencial'\").shape[0]/dadosB.query(\"cargo == 'gerencial'\").shape[0]*100,\n",
        "                               dadosB.query(\"Sal > 15 and Sal <= 20 and cargo == 'gerencial'\").shape[0]/dadosB.query(\"cargo == 'gerencial'\").shape[0]*100,\n",
        "                               dadosB.query(\"Sal > 20 and Sal <= 25 and cargo == 'gerencial'\").shape[0]/dadosB.query(\"cargo == 'gerencial'\").shape[0]*100,\n",
        "                               dadosB.query(\"cargo == 'gerencial'\").shape[0]/dadosB.query(\"cargo == 'gerencial'\").shape[0]*100,\n",
        "                   ],\n",
        "                  'Total': [dadosB.query(\"Sal >= 0 and Sal <= 5\").shape[0]/dadosB.shape[0]*100,\n",
        "                            dadosB.query(\"Sal > 5 and Sal <= 10\").shape[0]/dadosB.shape[0]*100,\n",
        "                            dadosB.query(\"Sal > 10 and Sal <= 15\").shape[0]/dadosB.shape[0]*100,\n",
        "                            dadosB.query(\"Sal > 15 and Sal <= 20\").shape[0]/dadosB.shape[0]*100,\n",
        "                            dadosB.query(\"Sal > 20 and Sal <= 25\").shape[0]/dadosB.shape[0]*100,\n",
        "                            dadosB.shape[0]/dadosB.shape[0]*100,\n",
        "                   ],\n",
        "                }\n",
        "distRelColCargoSalB = pd.DataFrame(corrCargoSalB)\n",
        "distRelColCargoSalB.round(1)"
      ],
      "execution_count": 287,
      "outputs": [
        {
          "output_type": "execute_result",
          "data": {
            "text/html": [
              "<div>\n",
              "<style scoped>\n",
              "    .dataframe tbody tr th:only-of-type {\n",
              "        vertical-align: middle;\n",
              "    }\n",
              "\n",
              "    .dataframe tbody tr th {\n",
              "        vertical-align: top;\n",
              "    }\n",
              "\n",
              "    .dataframe thead th {\n",
              "        text-align: right;\n",
              "    }\n",
              "</style>\n",
              "<table border=\"1\" class=\"dataframe\">\n",
              "  <thead>\n",
              "    <tr style=\"text-align: right;\">\n",
              "      <th></th>\n",
              "      <th>Faixas Salariais</th>\n",
              "      <th>Outro</th>\n",
              "      <th>Gerencial</th>\n",
              "      <th>Total</th>\n",
              "    </tr>\n",
              "  </thead>\n",
              "  <tbody>\n",
              "    <tr>\n",
              "      <th>0</th>\n",
              "      <td>Salários de 0 a 5</td>\n",
              "      <td>35.0</td>\n",
              "      <td>0.0</td>\n",
              "      <td>30.0</td>\n",
              "    </tr>\n",
              "    <tr>\n",
              "      <th>1</th>\n",
              "      <td>Salários de 5 a 10</td>\n",
              "      <td>41.8</td>\n",
              "      <td>16.2</td>\n",
              "      <td>38.1</td>\n",
              "    </tr>\n",
              "    <tr>\n",
              "      <th>2</th>\n",
              "      <td>Salários de 10 a 15</td>\n",
              "      <td>22.3</td>\n",
              "      <td>45.9</td>\n",
              "      <td>25.7</td>\n",
              "    </tr>\n",
              "    <tr>\n",
              "      <th>3</th>\n",
              "      <td>Salários de 15 a 20</td>\n",
              "      <td>0.9</td>\n",
              "      <td>16.2</td>\n",
              "      <td>3.1</td>\n",
              "    </tr>\n",
              "    <tr>\n",
              "      <th>4</th>\n",
              "      <td>Salários de 20 a 25</td>\n",
              "      <td>0.0</td>\n",
              "      <td>21.6</td>\n",
              "      <td>3.1</td>\n",
              "    </tr>\n",
              "    <tr>\n",
              "      <th>5</th>\n",
              "      <td>Total</td>\n",
              "      <td>100.0</td>\n",
              "      <td>100.0</td>\n",
              "      <td>100.0</td>\n",
              "    </tr>\n",
              "  </tbody>\n",
              "</table>\n",
              "</div>"
            ],
            "text/plain": [
              "      Faixas Salariais  Outro  Gerencial  Total\n",
              "0    Salários de 0 a 5   35.0        0.0   30.0\n",
              "1   Salários de 5 a 10   41.8       16.2   38.1\n",
              "2  Salários de 10 a 15   22.3       45.9   25.7\n",
              "3  Salários de 15 a 20    0.9       16.2    3.1\n",
              "4  Salários de 20 a 25    0.0       21.6    3.1\n",
              "5                Total  100.0      100.0  100.0"
            ]
          },
          "metadata": {
            "tags": []
          },
          "execution_count": 287
        }
      ]
    },
    {
      "cell_type": "markdown",
      "metadata": {
        "id": "7h5SiGv6xnhl"
      },
      "source": [
        "**Distribuição das frequências relativas ao total por linhas**\n",
        "\n",
        "Se não houver dependência a proporcão do total deverá ser parecida da proporção por cada categoria."
      ]
    },
    {
      "cell_type": "code",
      "metadata": {
        "colab": {
          "base_uri": "https://localhost:8080/",
          "height": 238
        },
        "id": "xrTz_m7c6ODl",
        "outputId": "0dc30b3d-0f22-4c6f-ddd0-fbb95e5b47ea"
      },
      "source": [
        "corrCargoSalB = {'Faixas Salariais': ['Salários de 0 a 5', 'Salários de 5 a 10', 'Salários de 10 a 15', 'Salários de 15 a 20', 'Salários de 20 a 25', 'Total'],\n",
        "                  'Outro (%)': [dadosB.query(\"Sal >= 0 and Sal <= 5 and cargo == 'outro'\").shape[0]/dadosB.query(\"Sal >= 0 and Sal <= 5\").shape[0]*100,\n",
        "                                dadosB.query(\"Sal > 5 and Sal <= 10 and cargo == 'outro'\").shape[0]/dadosB.query(\"Sal > 5 and Sal <= 10\").shape[0]*100,\n",
        "                                dadosB.query(\"Sal > 10 and Sal <= 15 and cargo == 'outro'\").shape[0]/dadosB.query(\"Sal > 10 and Sal <= 15\").shape[0]*100,\n",
        "                                dadosB.query(\"Sal > 15 and Sal <= 20 and cargo == 'outro'\").shape[0]/dadosB.query(\"Sal > 15 and Sal <= 20\").shape[0]*100,\n",
        "                                dadosB.query(\"Sal > 20 and Sal <= 25 and cargo == 'outro'\").shape[0]/dadosB.query(\"Sal > 20 and Sal <= 25\").shape[0]*100,\n",
        "                                dadosB.query(\"cargo == 'outro'\").shape[0]/dadosB.shape[0]*100,\n",
        "                   ],\n",
        "                  'Gerencial (%)': [dadosB.query(\"Sal >= 0 and Sal <= 5 and cargo == 'gerencial'\").shape[0]/dadosB.query(\"Sal >= 0 and Sal <= 5\").shape[0]*100,\n",
        "                               dadosB.query(\"Sal > 5 and Sal <= 10 and cargo == 'gerencial'\").shape[0]/dadosB.query(\"Sal > 5 and Sal <= 10\").shape[0]*100,\n",
        "                               dadosB.query(\"Sal > 10 and Sal <= 15 and cargo == 'gerencial'\").shape[0]/dadosB.query(\"Sal > 10 and Sal <= 15\").shape[0]*100,\n",
        "                               dadosB.query(\"Sal > 15 and Sal <= 20 and cargo == 'gerencial'\").shape[0]/dadosB.query(\"Sal > 15 and Sal <= 20\").shape[0]*100,\n",
        "                               dadosB.query(\"Sal > 20 and Sal <= 25 and cargo == 'gerencial'\").shape[0]/dadosB.query(\"Sal > 20 and Sal <= 25\").shape[0]*100,\n",
        "                               dadosB.query(\"cargo == 'gerencial'\").shape[0]/dadosB.shape[0]*100,\n",
        "                   ],\n",
        "                  'Total (%)': [dadosB.query(\"Sal >= 0 and Sal <= 5\").shape[0]/dadosB.query(\"Sal >= 0 and Sal <= 5\").shape[0]*100,\n",
        "                            dadosB.query(\"Sal > 5 and Sal <= 10\").shape[0]/dadosB.query(\"Sal > 5 and Sal <= 10\").shape[0]*100,\n",
        "                            dadosB.query(\"Sal > 10 and Sal <= 15\").shape[0]/dadosB.query(\"Sal > 10 and Sal <= 15\").shape[0]*100,\n",
        "                            dadosB.query(\"Sal > 15 and Sal <= 20\").shape[0]/dadosB.query(\"Sal > 15 and Sal <= 20\").shape[0]*100,\n",
        "                            dadosB.query(\"Sal > 20 and Sal <= 25\").shape[0]/dadosB.query(\"Sal > 20 and Sal <= 25\").shape[0]*100,\n",
        "                            dadosB.shape[0]/dadosB.shape[0]*100,\n",
        "                   ],\n",
        "                }\n",
        "distRelColCargoSalB = pd.DataFrame(corrCargoSalB)\n",
        "distRelColCargoSalB.round(1)"
      ],
      "execution_count": 288,
      "outputs": [
        {
          "output_type": "execute_result",
          "data": {
            "text/html": [
              "<div>\n",
              "<style scoped>\n",
              "    .dataframe tbody tr th:only-of-type {\n",
              "        vertical-align: middle;\n",
              "    }\n",
              "\n",
              "    .dataframe tbody tr th {\n",
              "        vertical-align: top;\n",
              "    }\n",
              "\n",
              "    .dataframe thead th {\n",
              "        text-align: right;\n",
              "    }\n",
              "</style>\n",
              "<table border=\"1\" class=\"dataframe\">\n",
              "  <thead>\n",
              "    <tr style=\"text-align: right;\">\n",
              "      <th></th>\n",
              "      <th>Faixas Salariais</th>\n",
              "      <th>Outro (%)</th>\n",
              "      <th>Gerencial (%)</th>\n",
              "      <th>Total (%)</th>\n",
              "    </tr>\n",
              "  </thead>\n",
              "  <tbody>\n",
              "    <tr>\n",
              "      <th>0</th>\n",
              "      <td>Salários de 0 a 5</td>\n",
              "      <td>100.0</td>\n",
              "      <td>0.0</td>\n",
              "      <td>100.0</td>\n",
              "    </tr>\n",
              "    <tr>\n",
              "      <th>1</th>\n",
              "      <td>Salários de 5 a 10</td>\n",
              "      <td>93.9</td>\n",
              "      <td>6.1</td>\n",
              "      <td>100.0</td>\n",
              "    </tr>\n",
              "    <tr>\n",
              "      <th>2</th>\n",
              "      <td>Salários de 10 a 15</td>\n",
              "      <td>74.2</td>\n",
              "      <td>25.8</td>\n",
              "      <td>100.0</td>\n",
              "    </tr>\n",
              "    <tr>\n",
              "      <th>3</th>\n",
              "      <td>Salários de 15 a 20</td>\n",
              "      <td>25.0</td>\n",
              "      <td>75.0</td>\n",
              "      <td>100.0</td>\n",
              "    </tr>\n",
              "    <tr>\n",
              "      <th>4</th>\n",
              "      <td>Salários de 20 a 25</td>\n",
              "      <td>0.0</td>\n",
              "      <td>100.0</td>\n",
              "      <td>100.0</td>\n",
              "    </tr>\n",
              "    <tr>\n",
              "      <th>5</th>\n",
              "      <td>Total</td>\n",
              "      <td>85.6</td>\n",
              "      <td>14.4</td>\n",
              "      <td>100.0</td>\n",
              "    </tr>\n",
              "  </tbody>\n",
              "</table>\n",
              "</div>"
            ],
            "text/plain": [
              "      Faixas Salariais  Outro (%)  Gerencial (%)  Total (%)\n",
              "0    Salários de 0 a 5      100.0            0.0      100.0\n",
              "1   Salários de 5 a 10       93.9            6.1      100.0\n",
              "2  Salários de 10 a 15       74.2           25.8      100.0\n",
              "3  Salários de 15 a 20       25.0           75.0      100.0\n",
              "4  Salários de 20 a 25        0.0          100.0      100.0\n",
              "5                Total       85.6           14.4      100.0"
            ]
          },
          "metadata": {
            "tags": []
          },
          "execution_count": 288
        }
      ]
    },
    {
      "cell_type": "markdown",
      "metadata": {
        "id": "wnIMsZ_Exnhm"
      },
      "source": [
        "**Valores esperados para cada posição na tabela de acordo com a porcentagem da distribuição das frequências relativas ao total por linhas**"
      ]
    },
    {
      "cell_type": "code",
      "metadata": {
        "colab": {
          "base_uri": "https://localhost:8080/",
          "height": 206
        },
        "id": "HoFGMh4g9THS",
        "outputId": "e4659c59-53bb-4e36-a270-d902b4dbdf6d"
      },
      "source": [
        "corrCargoSalB = {'Faixas Salariais': ['Salários de 0 a 5', 'Salários de 5 a 10', 'Salários de 10 a 15', 'Salários de 15 a 20', 'Salários de 20 a 25'],\n",
        "                  'Outro': [dadosB.query(\"cargo == 'outro'\").shape[0]/dadosB.shape[0]*dadosB.query(\"Sal >= 0 and Sal <= 5\").shape[0],\n",
        "                                dadosB.query(\"cargo == 'outro'\").shape[0]/dadosB.shape[0]*dadosB.query(\"Sal > 5 and Sal <= 10\").shape[0],\n",
        "                                dadosB.query(\"cargo == 'outro'\").shape[0]/dadosB.shape[0]*dadosB.query(\"Sal > 10 and Sal <= 15\").shape[0],\n",
        "                                dadosB.query(\"cargo == 'outro'\").shape[0]/dadosB.shape[0]*dadosB.query(\"Sal > 15 and Sal <= 20\").shape[0],\n",
        "                                dadosB.query(\"cargo == 'outro'\").shape[0]/dadosB.shape[0]*dadosB.query(\"Sal > 20 and Sal <= 25\").shape[0],\n",
        "                   ],\n",
        "                  'Gerencial': [dadosB.query(\"cargo == 'gerencial'\").shape[0]/dadosB.shape[0]*dadosB.query(\"Sal >= 0 and Sal <= 5\").shape[0],\n",
        "                               dadosB.query(\"cargo == 'gerencial'\").shape[0]/dadosB.shape[0]*dadosB.query(\"Sal > 5 and Sal <= 10\").shape[0],\n",
        "                               dadosB.query(\"cargo == 'gerencial'\").shape[0]/dadosB.shape[0]*dadosB.query(\"Sal > 10 and Sal <= 15\").shape[0],\n",
        "                               dadosB.query(\"cargo == 'gerencial'\").shape[0]/dadosB.shape[0]*dadosB.query(\"Sal > 15 and Sal <= 20\").shape[0],\n",
        "                               dadosB.query(\"cargo == 'gerencial'\").shape[0]/dadosB.shape[0]*dadosB.query(\"Sal > 20 and Sal <= 25\").shape[0],\n",
        "                   ],\n",
        "                }\n",
        "distEsperadaCargoSalB = pd.DataFrame(corrCargoSalB)\n",
        "distEsperadaCargoSalB.round(1)"
      ],
      "execution_count": 289,
      "outputs": [
        {
          "output_type": "execute_result",
          "data": {
            "text/html": [
              "<div>\n",
              "<style scoped>\n",
              "    .dataframe tbody tr th:only-of-type {\n",
              "        vertical-align: middle;\n",
              "    }\n",
              "\n",
              "    .dataframe tbody tr th {\n",
              "        vertical-align: top;\n",
              "    }\n",
              "\n",
              "    .dataframe thead th {\n",
              "        text-align: right;\n",
              "    }\n",
              "</style>\n",
              "<table border=\"1\" class=\"dataframe\">\n",
              "  <thead>\n",
              "    <tr style=\"text-align: right;\">\n",
              "      <th></th>\n",
              "      <th>Faixas Salariais</th>\n",
              "      <th>Outro</th>\n",
              "      <th>Gerencial</th>\n",
              "    </tr>\n",
              "  </thead>\n",
              "  <tbody>\n",
              "    <tr>\n",
              "      <th>0</th>\n",
              "      <td>Salários de 0 a 5</td>\n",
              "      <td>65.9</td>\n",
              "      <td>11.1</td>\n",
              "    </tr>\n",
              "    <tr>\n",
              "      <th>1</th>\n",
              "      <td>Salários de 5 a 10</td>\n",
              "      <td>83.9</td>\n",
              "      <td>14.1</td>\n",
              "    </tr>\n",
              "    <tr>\n",
              "      <th>2</th>\n",
              "      <td>Salários de 10 a 15</td>\n",
              "      <td>56.5</td>\n",
              "      <td>9.5</td>\n",
              "    </tr>\n",
              "    <tr>\n",
              "      <th>3</th>\n",
              "      <td>Salários de 15 a 20</td>\n",
              "      <td>6.8</td>\n",
              "      <td>1.2</td>\n",
              "    </tr>\n",
              "    <tr>\n",
              "      <th>4</th>\n",
              "      <td>Salários de 20 a 25</td>\n",
              "      <td>6.8</td>\n",
              "      <td>1.2</td>\n",
              "    </tr>\n",
              "  </tbody>\n",
              "</table>\n",
              "</div>"
            ],
            "text/plain": [
              "      Faixas Salariais  Outro  Gerencial\n",
              "0    Salários de 0 a 5   65.9       11.1\n",
              "1   Salários de 5 a 10   83.9       14.1\n",
              "2  Salários de 10 a 15   56.5        9.5\n",
              "3  Salários de 15 a 20    6.8        1.2\n",
              "4  Salários de 20 a 25    6.8        1.2"
            ]
          },
          "metadata": {
            "tags": []
          },
          "execution_count": 289
        }
      ]
    },
    {
      "cell_type": "markdown",
      "metadata": {
        "id": "8DSHLAsCxnhn"
      },
      "source": [
        "**Desvios relativos entre observados e esperados:**\n",
        "\n",
        "(oi - ei)^2/ei\n",
        "\n",
        "* oi é o valor observado\n",
        "* ei é o valor esperado\n",
        "\n",
        "**Qui-quadrado de Pearson (X_quadrado):** \n",
        "\n",
        "Soma de todas as medidas da tabela. Se a hipótese de não-associação for verdadeira, o valor calculado deve estar próximo de zero. Se as variáveis forem associadas, o valor de X_quadrado deve ser grande."
      ]
    },
    {
      "cell_type": "code",
      "metadata": {
        "colab": {
          "base_uri": "https://localhost:8080/",
          "height": 224
        },
        "id": "uxx1XmrBAErP",
        "outputId": "5fbcadb6-a9ca-4846-ce41-8cb5ae00350b"
      },
      "source": [
        "corrCargoSalB = {'Faixas Salariais': ['Salários de 0 a 5', 'Salários de 5 a 10', 'Salários de 10 a 15', 'Salários de 15 a 20', 'Salários de 20 a 25'],\n",
        "                  'Outro': [((distConjuntaCargoSalB['Outro'][0]-distEsperadaCargoSalB['Outro'][0])**2)/distEsperadaCargoSalB['Outro'][0],\n",
        "                                ((distConjuntaCargoSalB['Outro'][1]-distEsperadaCargoSalB['Outro'][1])**2)/distEsperadaCargoSalB['Outro'][1],\n",
        "                                ((distConjuntaCargoSalB['Outro'][2]-distEsperadaCargoSalB['Outro'][2])**2)/distEsperadaCargoSalB['Outro'][2],\n",
        "                                ((distConjuntaCargoSalB['Outro'][3]-distEsperadaCargoSalB['Outro'][3])**2)/distEsperadaCargoSalB['Outro'][3],\n",
        "                                ((distConjuntaCargoSalB['Outro'][4]-distEsperadaCargoSalB['Outro'][4])**2)/distEsperadaCargoSalB['Outro'][4],\n",
        "                                \n",
        "                   ],\n",
        "                  'Gerencial' : [((distConjuntaCargoSalB['Gerencial'][0]-distEsperadaCargoSalB['Gerencial'][0])**2)/distEsperadaCargoSalB['Gerencial'][0],\n",
        "                                ((distConjuntaCargoSalB['Gerencial'][1]-distEsperadaCargoSalB['Gerencial'][1])**2)/distEsperadaCargoSalB['Gerencial'][1],\n",
        "                                ((distConjuntaCargoSalB['Gerencial'][2]-distEsperadaCargoSalB['Gerencial'][2])**2)/distEsperadaCargoSalB['Gerencial'][2],\n",
        "                                ((distConjuntaCargoSalB['Gerencial'][3]-distEsperadaCargoSalB['Gerencial'][3])**2)/distEsperadaCargoSalB['Gerencial'][3],\n",
        "                                ((distConjuntaCargoSalB['Gerencial'][4]-distEsperadaCargoSalB['Gerencial'][4])**2)/distEsperadaCargoSalB['Gerencial'][4],\n",
        "                   ]\n",
        "                }\n",
        "esp = pd.DataFrame(corrCargoSalB)\n",
        "X_quadrado = esp['Outro'][0]+esp['Outro'][1]+esp['Outro'][2]+esp['Outro'][3]+esp['Outro'][4]+esp['Gerencial'][0]+esp['Gerencial'][1]+esp['Gerencial'][2]+esp['Gerencial'][3]+esp['Gerencial'][4]\n",
        "print(\"Qui-quadrado de Pearson:\",X_quadrado)\n",
        "esp"
      ],
      "execution_count": 290,
      "outputs": [
        {
          "output_type": "stream",
          "text": [
            "Qui-quadrado de Pearson: 96.71461407435436\n"
          ],
          "name": "stdout"
        },
        {
          "output_type": "execute_result",
          "data": {
            "text/html": [
              "<div>\n",
              "<style scoped>\n",
              "    .dataframe tbody tr th:only-of-type {\n",
              "        vertical-align: middle;\n",
              "    }\n",
              "\n",
              "    .dataframe tbody tr th {\n",
              "        vertical-align: top;\n",
              "    }\n",
              "\n",
              "    .dataframe thead th {\n",
              "        text-align: right;\n",
              "    }\n",
              "</style>\n",
              "<table border=\"1\" class=\"dataframe\">\n",
              "  <thead>\n",
              "    <tr style=\"text-align: right;\">\n",
              "      <th></th>\n",
              "      <th>Faixas Salariais</th>\n",
              "      <th>Outro</th>\n",
              "      <th>Gerencial</th>\n",
              "    </tr>\n",
              "  </thead>\n",
              "  <tbody>\n",
              "    <tr>\n",
              "      <th>0</th>\n",
              "      <td>Salários de 0 a 5</td>\n",
              "      <td>1.864397</td>\n",
              "      <td>11.085603</td>\n",
              "    </tr>\n",
              "    <tr>\n",
              "      <th>1</th>\n",
              "      <td>Salários de 5 a 10</td>\n",
              "      <td>0.783815</td>\n",
              "      <td>4.660521</td>\n",
              "    </tr>\n",
              "    <tr>\n",
              "      <th>2</th>\n",
              "      <td>Salários de 10 a 15</td>\n",
              "      <td>0.995093</td>\n",
              "      <td>5.916769</td>\n",
              "    </tr>\n",
              "    <tr>\n",
              "      <th>3</th>\n",
              "      <td>Salários de 15 a 20</td>\n",
              "      <td>3.432340</td>\n",
              "      <td>20.408508</td>\n",
              "    </tr>\n",
              "    <tr>\n",
              "      <th>4</th>\n",
              "      <td>Salários de 20 a 25</td>\n",
              "      <td>6.848249</td>\n",
              "      <td>40.719319</td>\n",
              "    </tr>\n",
              "  </tbody>\n",
              "</table>\n",
              "</div>"
            ],
            "text/plain": [
              "      Faixas Salariais     Outro  Gerencial\n",
              "0    Salários de 0 a 5  1.864397  11.085603\n",
              "1   Salários de 5 a 10  0.783815   4.660521\n",
              "2  Salários de 10 a 15  0.995093   5.916769\n",
              "3  Salários de 15 a 20  3.432340  20.408508\n",
              "4  Salários de 20 a 25  6.848249  40.719319"
            ]
          },
          "metadata": {
            "tags": []
          },
          "execution_count": 290
        }
      ]
    },
    {
      "cell_type": "markdown",
      "metadata": {
        "id": "p_PP7uatL4r-"
      },
      "source": [
        "# $3ª \\ Parte:$ Comparações entre as companhias."
      ]
    },
    {
      "cell_type": "markdown",
      "metadata": {
        "id": "kI1t4opXL73B"
      },
      "source": [
        "## $3.i)$ Compare os salários das duas companhias para as diferentes categorias de sexo e educação (use boxplots).\n"
      ]
    },
    {
      "cell_type": "markdown",
      "metadata": {
        "id": "qgKylRHpRQ4r"
      },
      "source": [
        "### Salário das Mulheres da Companhia A e das Mulheres da Companhia B"
      ]
    },
    {
      "cell_type": "code",
      "metadata": {
        "colab": {
          "base_uri": "https://localhost:8080/",
          "height": 1000
        },
        "id": "EPut_vapRjw-",
        "outputId": "91c694ae-ac35-46ce-d460-16bf2d9070ae"
      },
      "source": [
        "dadosA_fem_sal = dadosA[dadosA['Sexo'] == 'fem'] #separando o df apenas para o sexo feminino\n",
        "dadosB_fem_sal = dadosB[dadosB['Sexo'] == 'fem'] #separando o df apenas para o sexo feminino\n",
        "sal_fem = [pd.Series(dadosA_fem_sal['Sal']), pd.Series(dadosB_fem_sal['Sal'])]\n",
        "sal_fem_labels = [\"Salários do Sexo Feminino da Companhia A\", \"Salários do Sexo Feminino da Companhia B\"]\n",
        "\n",
        "print(\"Dados Mulheres Comp A:\", pd.Series(dadosA_fem_sal['Sal']).describe())\n",
        "print(\"Dados Mulheres Comp B:\", pd.Series(dadosB_fem_sal['Sal']).describe())\n",
        "\n",
        "green_diamond = dict(markerfacecolor='r', marker='o')\n",
        "plt.figure(figsize=(20, 12))\n",
        "plt.boxplot(sal_fem, flierprops=green_diamond, labels = sal_fem_labels)\n",
        "plt.title(\"Boxplot da variável salário 'Sal' para o sexo Feminino da Companhia A e B\")\n",
        "plt.grid()\n",
        "plt.text(1.08, 7.5, '$\\longleftarrow$ Mediana = 7.57', fontsize = 12)\n",
        "plt.text(1.08, 5.7, '$\\longleftarrow$ Q1 = 5.702', fontsize = 12)\n",
        "plt.text(1.08, 10, '$\\longleftarrow$ Q2 = 10.052', fontsize = 12)\n",
        "#####################################################################\n",
        "plt.text(2.08, 5.7, '$\\longleftarrow$ Mediana = 5.79', fontsize = 12)\n",
        "plt.text(2.08, 3.17, '$\\longleftarrow$ Q1 = 3.17', fontsize = 12)\n",
        "plt.text(2.08, 8.1, '$\\longleftarrow$ Q2 = 8.11', fontsize = 12)\n",
        "plt.show()"
      ],
      "execution_count": 291,
      "outputs": [
        {
          "output_type": "stream",
          "text": [
            "Dados Mulheres Comp A: count    106.000000\n",
            "mean       8.794057\n",
            "std        4.595495\n",
            "min        2.370000\n",
            "25%        5.702500\n",
            "50%        7.570000\n",
            "75%       10.052500\n",
            "max       22.130000\n",
            "Name: Sal, dtype: float64\n",
            "Dados Mulheres Comp B: count    143.000000\n",
            "mean       6.107552\n",
            "std        3.584683\n",
            "min        0.610000\n",
            "25%        3.170000\n",
            "50%        5.790000\n",
            "75%        8.115000\n",
            "max       17.280000\n",
            "Name: Sal, dtype: float64\n"
          ],
          "name": "stdout"
        },
        {
          "output_type": "stream",
          "text": [
            "/usr/local/lib/python3.7/dist-packages/numpy/core/_asarray.py:83: VisibleDeprecationWarning: Creating an ndarray from ragged nested sequences (which is a list-or-tuple of lists-or-tuples-or ndarrays with different lengths or shapes) is deprecated. If you meant to do this, you must specify 'dtype=object' when creating the ndarray\n",
            "  return array(a, dtype, copy=False, order=order)\n"
          ],
          "name": "stderr"
        },
        {
          "output_type": "display_data",
          "data": {
            "image/png": "[encoded data removed]",
            "text/plain": [
              "<Figure size 1440x864 with 1 Axes>"
            ]
          },
          "metadata": {
            "tags": [],
            "needs_background": "light"
          }
        }
      ]
    },
    {
      "cell_type": "markdown",
      "metadata": {
        "id": "nRBLMKJXTWUL"
      },
      "source": [
        "### Salário dos Homens da Companhia A e dos Homens da Companhia B"
      ]
    },
    {
      "cell_type": "code",
      "metadata": {
        "colab": {
          "base_uri": "https://localhost:8080/",
          "height": 1000
        },
        "id": "j943PYtQTfgJ",
        "outputId": "d8e222e2-3ebf-4652-ed21-08e1fe091b7f"
      },
      "source": [
        "dadosA_masc_sal = dadosA[dadosA['Sexo'] == 'masc'] #separando o df apenas para o sexo feminino\n",
        "dadosB_masc_sal = dadosB[dadosB['Sexo'] == 'masc'] #separando o df apenas para o sexo feminino\n",
        "sal_masc = [pd.Series(dadosA_masc_sal['Sal']), pd.Series(dadosB_masc_sal['Sal'])]\n",
        "sal_masc_labels = [\"Salários do Sexo Masculino da Companhia A\", \"Salários do Sexo Masculino da Companhia B\"]\n",
        "\n",
        "print(\"Dados Homens Comp A:\", pd.Series(dadosA_masc_sal['Sal']).describe())\n",
        "print(\"Dados Homens Comp B:\", pd.Series(dadosB_masc_sal['Sal']).describe())\n",
        "\n",
        "green_diamond = dict(markerfacecolor='r', marker='o')\n",
        "plt.figure(figsize=(20, 12))\n",
        "plt.boxplot(sal_masc, flierprops=green_diamond, labels = sal_masc_labels)\n",
        "plt.title(\"Boxplot da variável salário 'Sal' para o sexo Masculino da Companhia A e B\")\n",
        "plt.grid()\n",
        "plt.text(1.08, 7.1, '$\\longleftarrow$ Mediana = 7.165', fontsize = 12)\n",
        "plt.text(1.08, 4.4, '$\\longleftarrow$ Q1 = 4.462', fontsize = 12)\n",
        "plt.text(1.08, 9.4, '$\\longleftarrow$ Q2 = 9.440', fontsize = 12)\n",
        "######################################################################\n",
        "plt.text(2.08, 9.8, '$\\longleftarrow$ Mediana = 9.94', fontsize = 12)\n",
        "plt.text(2.08, 7.7, '$\\longleftarrow$ Q1 = 7.792', fontsize = 12)\n",
        "plt.text(2.08, 12.4, '$\\longleftarrow$ Q2 = 12.52', fontsize = 12)\n",
        "plt.show()"
      ],
      "execution_count": 292,
      "outputs": [
        {
          "output_type": "stream",
          "text": [
            "Dados Homens Comp A: count    142.000000\n",
            "mean       8.850563\n",
            "std        6.455005\n",
            "min        0.560000\n",
            "25%        4.462500\n",
            "50%        7.165000\n",
            "75%        9.440000\n",
            "max       24.760000\n",
            "Name: Sal, dtype: float64\n",
            "Dados Homens Comp B: count    114.000000\n",
            "mean      10.548860\n",
            "std        4.412183\n",
            "min        3.790000\n",
            "25%        7.792500\n",
            "50%        9.940000\n",
            "75%       12.520000\n",
            "max       23.560000\n",
            "Name: Sal, dtype: float64\n"
          ],
          "name": "stdout"
        },
        {
          "output_type": "stream",
          "text": [
            "/usr/local/lib/python3.7/dist-packages/numpy/core/_asarray.py:83: VisibleDeprecationWarning: Creating an ndarray from ragged nested sequences (which is a list-or-tuple of lists-or-tuples-or ndarrays with different lengths or shapes) is deprecated. If you meant to do this, you must specify 'dtype=object' when creating the ndarray\n",
            "  return array(a, dtype, copy=False, order=order)\n"
          ],
          "name": "stderr"
        },
        {
          "output_type": "display_data",
          "data": {
            "image/png": "[encoded data removed]",
            "text/plain": [
              "<Figure size 1440x864 with 1 Axes>"
            ]
          },
          "metadata": {
            "tags": [],
            "needs_background": "light"
          }
        }
      ]
    },
    {
      "cell_type": "markdown",
      "metadata": {
        "id": "GxGkx3QsdPQ8"
      },
      "source": [
        "### Salário da Educação Primária da Companhia A e Educação Primária Companhia B"
      ]
    },
    {
      "cell_type": "code",
      "metadata": {
        "colab": {
          "base_uri": "https://localhost:8080/",
          "height": 1000
        },
        "id": "6_rkJKLDdQeQ",
        "outputId": "57074100-94d0-4c4a-8c19-7b267af5319a"
      },
      "source": [
        "dadosA_prim_sal = dadosA[dadosA['Educ'] == 'prim'] #separando o df apenas para o primário\n",
        "dadosB_prim_sal = dadosB[dadosB['Educ'] == 'prim'] #separando o df apenas para o primário\n",
        "sal_prim = [pd.Series(dadosA_prim_sal['Sal']), pd.Series(dadosB_prim_sal['Sal'])]\n",
        "sal_prim_label = [\"Salário da Educação Primária da Companhia A\", \"Salário da Educação Primária da Companhia B\"]\n",
        "\n",
        "print(\"Dados Salário Primário Comp A:\", pd.Series(dadosA_prim_sal['Sal']).describe())\n",
        "print(\"Dados Salário Primário Comp B:\", pd.Series(dadosB_prim_sal['Sal']).describe())\n",
        "\n",
        "green_diamond = dict(markerfacecolor='r', marker='o')\n",
        "plt.figure(figsize=(20, 12))\n",
        "plt.boxplot(sal_prim, flierprops=green_diamond, labels = sal_prim_label)\n",
        "plt.title(\"Boxplot da variável salário 'Sal' para a Educação Primária da Companhia A e B\")\n",
        "plt.grid()\n",
        "plt.text(1.08, 4.5, '$\\longleftarrow$ Mediana = 4.54', fontsize = 12)\n",
        "plt.text(1.08, 3.3, '$\\longleftarrow$ Q1 = 3.395', fontsize = 12)\n",
        "plt.text(1.08, 5.8, '$\\longleftarrow$ Q2 = 5.885', fontsize = 12)\n",
        "#####################################################################\n",
        "plt.text(2.08, 4.1, '$\\longleftarrow$ Mediana = 4.18', fontsize = 12)\n",
        "plt.text(2.08, 2.6, '$\\longleftarrow$ Q1 = 2.69', fontsize = 12)\n",
        "plt.text(2.08, 6.8, '$\\longleftarrow$ Q2 = 6.87', fontsize = 12)\n",
        "\n",
        "plt.show()"
      ],
      "execution_count": 293,
      "outputs": [
        {
          "output_type": "stream",
          "text": [
            "Dados Salário Primário Comp A: count    103.000000\n",
            "mean       4.769515\n",
            "std        2.448274\n",
            "min        0.560000\n",
            "25%        3.395000\n",
            "50%        4.540000\n",
            "75%        5.885000\n",
            "max       17.380000\n",
            "Name: Sal, dtype: float64\n",
            "Dados Salário Primário Comp B: count    97.000000\n",
            "mean      4.768763\n",
            "std       2.863894\n",
            "min       0.610000\n",
            "25%       2.690000\n",
            "50%       4.180000\n",
            "75%       6.870000\n",
            "max      12.490000\n",
            "Name: Sal, dtype: float64\n"
          ],
          "name": "stdout"
        },
        {
          "output_type": "stream",
          "text": [
            "/usr/local/lib/python3.7/dist-packages/numpy/core/_asarray.py:83: VisibleDeprecationWarning: Creating an ndarray from ragged nested sequences (which is a list-or-tuple of lists-or-tuples-or ndarrays with different lengths or shapes) is deprecated. If you meant to do this, you must specify 'dtype=object' when creating the ndarray\n",
            "  return array(a, dtype, copy=False, order=order)\n"
          ],
          "name": "stderr"
        },
        {
          "output_type": "display_data",
          "data": {
            "image/png": "[encoded data removed]",
            "text/plain": [
              "<Figure size 1440x864 with 1 Axes>"
            ]
          },
          "metadata": {
            "tags": [],
            "needs_background": "light"
          }
        }
      ]
    },
    {
      "cell_type": "markdown",
      "metadata": {
        "id": "85gIZuTCeTRd"
      },
      "source": [
        "### Salário da Educação Secundária da Companhia A e Educação Secundária Companhia B"
      ]
    },
    {
      "cell_type": "code",
      "metadata": {
        "colab": {
          "base_uri": "https://localhost:8080/",
          "height": 1000
        },
        "id": "MzklMicleXC-",
        "outputId": "8e343f66-8cec-4ca5-ae8e-912f6a433e00"
      },
      "source": [
        "dadosA_sec_sal = dadosA[dadosA['Educ'] == 'sec'] #separando o df apenas para o secundário\n",
        "dadosB_sec_sal = dadosB[dadosB['Educ'] == 'sec'] #separando o df apenas para o secundário\n",
        "sal_sec = [pd.Series(dadosA_sec_sal['Sal']), pd.Series(dadosB_sec_sal['Sal'])]\n",
        "sal_sec_label = [\"Salário da Educação Secundária da Companhia A\", \"Salário da Educação Secundária da Companhia B\"]\n",
        "\n",
        "print(\"Dados Salário Secundária Comp A:\", pd.Series(dadosA_sec_sal['Sal']).describe())\n",
        "print(\"Dados Salário Secundária Comp B:\", pd.Series(dadosB_sec_sal['Sal']).describe())\n",
        "\n",
        "green_diamond = dict(markerfacecolor='r', marker='o')\n",
        "plt.figure(figsize=(20, 12))\n",
        "plt.boxplot(sal_sec, flierprops=green_diamond, labels = sal_sec_label)\n",
        "plt.title(\"Boxplot da variável salário 'Sal' para a Educação Secundária da Companhia A e B\")\n",
        "plt.grid()\n",
        "plt.text(1.08, 8.7, '$\\longleftarrow$ Mediana = 8.825', fontsize = 12)\n",
        "plt.text(1.08, 7.3, '$\\longleftarrow$ Q1 = 7.397', fontsize = 12)\n",
        "plt.text(1.08, 9.8, '$\\longleftarrow$ Q2 = 9.87', fontsize = 12)\n",
        "######################################################################\n",
        "plt.text(2.08, 8.7, '$\\longleftarrow$ Mediana = 8.8', fontsize = 12)\n",
        "plt.text(2.08, 6.7, '$\\longleftarrow$ Q1 = 6.74', fontsize = 12)\n",
        "plt.text(2.08, 10.6, '$\\longleftarrow$ Q2 = 10.745', fontsize = 12)\n",
        "plt.show()"
      ],
      "execution_count": 294,
      "outputs": [
        {
          "output_type": "stream",
          "text": [
            "Dados Salário Secundária Comp A: count    114.000000\n",
            "mean       9.389474\n",
            "std        3.266490\n",
            "min        4.710000\n",
            "25%        7.397500\n",
            "50%        8.825000\n",
            "75%        9.870000\n",
            "max       20.240000\n",
            "Name: Sal, dtype: float64\n",
            "Dados Salário Secundária Comp B: count    127.000000\n",
            "mean       8.786457\n",
            "std        2.884778\n",
            "min        3.230000\n",
            "25%        6.740000\n",
            "50%        8.800000\n",
            "75%       10.745000\n",
            "max       15.640000\n",
            "Name: Sal, dtype: float64\n"
          ],
          "name": "stdout"
        },
        {
          "output_type": "stream",
          "text": [
            "/usr/local/lib/python3.7/dist-packages/numpy/core/_asarray.py:83: VisibleDeprecationWarning: Creating an ndarray from ragged nested sequences (which is a list-or-tuple of lists-or-tuples-or ndarrays with different lengths or shapes) is deprecated. If you meant to do this, you must specify 'dtype=object' when creating the ndarray\n",
            "  return array(a, dtype, copy=False, order=order)\n"
          ],
          "name": "stderr"
        },
        {
          "output_type": "display_data",
          "data": {
            "image/png": "[encoded data removed]",
            "text/plain": [
              "<Figure size 1440x864 with 1 Axes>"
            ]
          },
          "metadata": {
            "tags": [],
            "needs_background": "light"
          }
        }
      ]
    },
    {
      "cell_type": "markdown",
      "metadata": {
        "id": "Spz38Bwjew-V"
      },
      "source": [
        "### Salário da Educação Terciária da Companhia A e Educação Terciária Companhia B"
      ]
    },
    {
      "cell_type": "code",
      "metadata": {
        "colab": {
          "base_uri": "https://localhost:8080/",
          "height": 1000
        },
        "id": "ir6sOFVYe3Jr",
        "outputId": "2be09b24-d425-4f13-d37a-44e544f86976"
      },
      "source": [
        "dadosA_terc_sal = dadosA[dadosA['Educ'] == 'terc'] #separando o df apenas para o terciário\n",
        "dadosB_terc_sal = dadosB[dadosB['Educ'] == 'terc'] #separando o df apenas para o terciário\n",
        "sal_terc = [pd.Series(dadosA_terc_sal['Sal']), pd.Series(dadosB_terc_sal['Sal'])]\n",
        "sal_terc_label = [\"Salário da Educação Terciária da Companhia A\", \"Salário da Educação Terciária da Companhia B\"]\n",
        "\n",
        "print(\"Dados Salário Terciária Comp A:\", pd.Series(dadosA_terc_sal['Sal']).describe())\n",
        "print(\"Dados Salário Terciária Comp B:\", pd.Series(dadosB_terc_sal['Sal']).describe())\n",
        "\n",
        "green_diamond = dict(markerfacecolor='r', marker='o')\n",
        "plt.figure(figsize=(20, 12))\n",
        "plt.boxplot(sal_terc, flierprops=green_diamond, labels = sal_terc_label)\n",
        "plt.title(\"Boxplot da variável salário 'Sal' para a Educação Terciária da Companhia A e B\")\n",
        "plt.grid()\n",
        "plt.text(1.08, 21.2, '$\\longleftarrow$ Mediana = 21.29', fontsize = 12)\n",
        "plt.text(1.08, 19.2, '$\\longleftarrow$ Q1 = 19.225', fontsize = 12)\n",
        "plt.text(1.08, 23.1, '$\\longleftarrow$ Q2 = 23.105', fontsize = 12)\n",
        "######################################################################\n",
        "plt.text(2.08, 14, '$\\longleftarrow$ Mediana = 14.09', fontsize = 12)\n",
        "plt.text(2.08, 11.8, '$\\longleftarrow$ Q1 = 11.8', fontsize = 12)\n",
        "plt.text(2.08, 19, '$\\longleftarrow$ Q2 = 19.06', fontsize = 12)\n",
        "plt.show()"
      ],
      "execution_count": 295,
      "outputs": [
        {
          "output_type": "stream",
          "text": [
            "Dados Salário Terciária Comp A: count    31.000000\n",
            "mean     20.235161\n",
            "std       4.120276\n",
            "min       9.150000\n",
            "25%      19.225000\n",
            "50%      21.290000\n",
            "75%      23.105000\n",
            "max      24.760000\n",
            "Name: Sal, dtype: float64\n",
            "Dados Salário Terciária Comp B: count    33.000000\n",
            "mean     15.075758\n",
            "std       4.669740\n",
            "min       7.560000\n",
            "25%      11.800000\n",
            "50%      14.090000\n",
            "75%      19.060000\n",
            "max      23.560000\n",
            "Name: Sal, dtype: float64\n"
          ],
          "name": "stdout"
        },
        {
          "output_type": "stream",
          "text": [
            "/usr/local/lib/python3.7/dist-packages/numpy/core/_asarray.py:83: VisibleDeprecationWarning: Creating an ndarray from ragged nested sequences (which is a list-or-tuple of lists-or-tuples-or ndarrays with different lengths or shapes) is deprecated. If you meant to do this, you must specify 'dtype=object' when creating the ndarray\n",
            "  return array(a, dtype, copy=False, order=order)\n"
          ],
          "name": "stderr"
        },
        {
          "output_type": "display_data",
          "data": {
            "image/png": "[encoded data removed]",
            "text/plain": [
              "<Figure size 1440x864 with 1 Axes>"
            ]
          },
          "metadata": {
            "tags": [],
            "needs_background": "light"
          }
        }
      ]
    },
    {
      "cell_type": "markdown",
      "metadata": {
        "id": "69OZ942IMC-h"
      },
      "source": [
        "## $3.ii)$ Utilize intervalos de confiança para comparar os salários das duas companhias para as diferentes categorias de sexo e educação."
      ]
    },
    {
      "cell_type": "markdown",
      "metadata": {
        "id": "EmRBmV-7MFkT"
      },
      "source": [
        "### Intervalos de Confiança para os Salários: Companhias A e B"
      ]
    },
    {
      "cell_type": "code",
      "metadata": {
        "colab": {
          "base_uri": "https://localhost:8080/"
        },
        "id": "MVmL8vwtsUf1",
        "outputId": "a5e55efe-5568-4817-d7b3-924253badf82"
      },
      "source": [
        "#Intervalo de Confiança: Sexo Masculino\n",
        "print(\"Intervalos de Confiança para os Salários de Funcionários do Sexo Masculino:\")\n",
        "salMascA = dadosA.query(\"Sexo == 'masc'\").Sal\n",
        "print(\"Companhia A: \", scipy.stats.t.interval(alpha=0.95, df=len(salMascA)-1, loc=np.mean(salMascA), scale=scipy.stats.sem(salMascA)))\n",
        "salMascB = dadosB.query(\"Sexo == 'masc'\").Sal\n",
        "print(\"Companhia B: \", scipy.stats.t.interval(alpha=0.95, df=len(salMascB)-1, loc=np.mean(salMascB), scale=scipy.stats.sem(salMascB)))"
      ],
      "execution_count": 296,
      "outputs": [
        {
          "output_type": "stream",
          "text": [
            "Intervalos de Confiança para os Salários de Funcionários do Sexo Masculino:\n",
            "Companhia A:  (7.779675478273895, 9.921451282289478)\n",
            "Companhia B:  (9.730159129244326, 11.367560169001289)\n"
          ],
          "name": "stdout"
        }
      ]
    },
    {
      "cell_type": "code",
      "metadata": {
        "colab": {
          "base_uri": "https://localhost:8080/"
        },
        "id": "FaVmVcxKsWdy",
        "outputId": "c04da424-54d3-4392-e307-399fd3bdf6c1"
      },
      "source": [
        "#Intervalo de Confiança: Sexo Feminino\n",
        "print(\"Intervalos de Confiança para os Salários de Funcionários do Sexo Feminino:\")\n",
        "salFemA = dadosA.query(\"Sexo == 'fem'\").Sal\n",
        "print(\"Companhia A: \", scipy.stats.t.interval(alpha=0.95, df=len(salFemA)-1, loc=np.mean(salFemA), scale=scipy.stats.sem(salFemA)))\n",
        "salFemB = dadosB.query(\"Sexo == 'fem'\").Sal\n",
        "print(\"Companhia B: \", scipy.stats.t.interval(alpha=0.95, df=len(salFemB)-1, loc=np.mean(salFemB), scale=scipy.stats.sem(salFemB)))"
      ],
      "execution_count": 297,
      "outputs": [
        {
          "output_type": "stream",
          "text": [
            "Intervalos de Confiança para os Salários de Funcionários do Sexo Feminino:\n",
            "Companhia A:  (7.909019158286598, 9.679094049260572)\n",
            "Companhia B:  (5.514971220859486, 6.700133674245416)\n"
          ],
          "name": "stdout"
        }
      ]
    },
    {
      "cell_type": "code",
      "metadata": {
        "colab": {
          "base_uri": "https://localhost:8080/"
        },
        "id": "C8eGTB1EsWW1",
        "outputId": "e1a846ed-bfe5-409b-de31-5a972f726d46"
      },
      "source": [
        "#Intervalo de Confiança: Escolaridade Primária\n",
        "print(\"Intervalos de Confiança para os Salários de Funcionários com Escolaridade Primária:\")\n",
        "salPrimA = dadosA.query(\"Educ == 'prim'\").Sal\n",
        "print(\"Companhia A: \", scipy.stats.t.interval(alpha=0.95, df=len(salPrimA)-1, loc=np.mean(salPrimA), scale=scipy.stats.sem(salPrimA)))\n",
        "salPrimB = dadosB.query(\"Educ == 'prim'\").Sal\n",
        "print(\"Companhia B: \", scipy.stats.t.interval(alpha=0.95, df=len(salPrimB)-1, loc=np.mean(salPrimB), scale=scipy.stats.sem(salPrimB))) "
      ],
      "execution_count": 298,
      "outputs": [
        {
          "output_type": "stream",
          "text": [
            "Intervalos de Confiança para os Salários de Funcionários com Escolaridade Primária:\n",
            "Companhia A:  (4.291024795084898, 5.248004331128694)\n",
            "Companhia B:  (4.191560484595262, 5.345965288600614)\n"
          ],
          "name": "stdout"
        }
      ]
    },
    {
      "cell_type": "code",
      "metadata": {
        "colab": {
          "base_uri": "https://localhost:8080/"
        },
        "id": "D78KC-oHsWOM",
        "outputId": "73ccac82-4bde-48c7-f5ec-c77a9bfe93bf"
      },
      "source": [
        "#Intervalo de Confiança: Escolaridade Secundária\n",
        "print(\"Intervalos de Confiança para os Salários de Funcionários com Escolaridade Secundária:\")\n",
        "salSecA = dadosA.query(\"Educ == 'sec'\").Sal\n",
        "print(\"Companhia A: \", scipy.stats.t.interval(alpha=0.95, df=len(salSecA)-1, loc=np.mean(salSecA), scale=scipy.stats.sem(salSecA)))\n",
        "salSecB = dadosB.query(\"Educ == 'sec'\").Sal\n",
        "print(\"Companhia B: \", scipy.stats.t.interval(alpha=0.95, df=len(salSecB)-1, loc=np.mean(salSecB), scale=scipy.stats.sem(salSecB)))"
      ],
      "execution_count": 299,
      "outputs": [
        {
          "output_type": "stream",
          "text": [
            "Intervalos de Confiança para os Salários de Funcionários com Escolaridade Secundária:\n",
            "Companhia A:  (8.78336172139881, 9.99558564702224)\n",
            "Companhia B:  (8.279874559345817, 9.293038826480949)\n"
          ],
          "name": "stdout"
        }
      ]
    },
    {
      "cell_type": "code",
      "metadata": {
        "id": "RD67cXNQLzqx",
        "colab": {
          "base_uri": "https://localhost:8080/"
        },
        "outputId": "690b2cd5-2b1f-403f-ee03-a22ed9daf996"
      },
      "source": [
        "#Intervalo de Confiança: Escolaridade Terciária\n",
        "print(\"Intervalos de Confiança para os Salários de Funcionários com Escolaridade Terciária:\")\n",
        "salTercA = dadosA.query(\"Educ == 'terc'\").Sal\n",
        "print(\"Companhia A: \", scipy.stats.t.interval(alpha=0.95, df=len(salTercA)-1, loc=np.mean(salTercA), scale=scipy.stats.sem(salTercA)))\n",
        "salTercB = dadosB.query(\"Educ == 'terc'\").Sal\n",
        "print(\"Companhia B: \", scipy.stats.t.interval(alpha=0.95, df=len(salTercB)-1, loc=np.mean(salTercB), scale=scipy.stats.sem(salTercB)))"
      ],
      "execution_count": 300,
      "outputs": [
        {
          "output_type": "stream",
          "text": [
            "Intervalos de Confiança para os Salários de Funcionários com Escolaridade Terciária:\n",
            "Companhia A:  (18.72383193404335, 21.746490646601817)\n",
            "Companhia B:  (13.419939637185301, 16.731575514329844)\n"
          ],
          "name": "stdout"
        }
      ]
    },
    {
      "cell_type": "markdown",
      "metadata": {
        "id": "6XmpLwnjQSXL"
      },
      "source": [
        "## $3.iv)$ Compare a diferença salarial entre homens e mulheres em cada companhia (use boxplots)."
      ]
    },
    {
      "cell_type": "markdown",
      "metadata": {
        "id": "lx4nyCl6dnoV"
      },
      "source": [
        "### Salário das Mulheres da Companhia A e dos Homens da Companhia A"
      ]
    },
    {
      "cell_type": "code",
      "metadata": {
        "colab": {
          "base_uri": "https://localhost:8080/",
          "height": 1000
        },
        "id": "9wBTLDVafcQP",
        "outputId": "f932da53-5aad-4c48-da28-e5a993470aca"
      },
      "source": [
        "dadosA_fem_sal = dadosA[dadosA['Sexo'] == 'fem'] #separando o df apenas para o sexo feminino\n",
        "dadosA_masc_sal = dadosA[dadosA['Sexo'] == 'masc'] #separando o df apenas para o sexo masculino\n",
        "sal_fem_masc_A = [pd.Series(dadosA_fem_sal['Sal']), pd.Series(dadosA_masc_sal['Sal'])]\n",
        "sal_fem_masc_A_labels = [\"Salários do Sexo Feminino da Companhia A\", \"Salários do Sexo Masculino da Companhia A\"]\n",
        "\n",
        "print(\"Dados Mulheres Comp A:\", pd.Series(dadosA_fem_sal['Sal']).describe())\n",
        "print(\"Dados Homens Comp A:\", pd.Series(dadosA_masc_sal['Sal']).describe())\n",
        "\n",
        "green_diamond = dict(markerfacecolor='r', marker='o')\n",
        "plt.figure(figsize=(20, 12))\n",
        "plt.boxplot(sal_fem_masc_A, flierprops=green_diamond, labels = sal_fem_masc_A_labels)\n",
        "plt.title(\"Boxplot da variável salário 'Sal' para o sexo Feminino e Masculino da Companhia A\")\n",
        "plt.grid()\n",
        "plt.text(1.08, 7.5, '$\\longleftarrow$ Mediana = 7.57', fontsize = 12)\n",
        "plt.text(1.08, 5.6, '$\\longleftarrow$ Q1 = 5.702', fontsize = 12)\n",
        "plt.text(1.08, 10, '$\\longleftarrow$ Q2 = 10.052', fontsize = 12)\n",
        "######################################################################\n",
        "plt.text(2.08, 7, '$\\longleftarrow$ Mediana = 7.165', fontsize = 12)\n",
        "plt.text(2.08, 4.4, '$\\longleftarrow$ Q1 = 4.462', fontsize = 12)\n",
        "plt.text(2.08, 9.4, '$\\longleftarrow$ Q2 = 9.44', fontsize = 12)\n",
        "plt.show()"
      ],
      "execution_count": 301,
      "outputs": [
        {
          "output_type": "stream",
          "text": [
            "Dados Mulheres Comp A: count    106.000000\n",
            "mean       8.794057\n",
            "std        4.595495\n",
            "min        2.370000\n",
            "25%        5.702500\n",
            "50%        7.570000\n",
            "75%       10.052500\n",
            "max       22.130000\n",
            "Name: Sal, dtype: float64\n",
            "Dados Homens Comp A: count    142.000000\n",
            "mean       8.850563\n",
            "std        6.455005\n",
            "min        0.560000\n",
            "25%        4.462500\n",
            "50%        7.165000\n",
            "75%        9.440000\n",
            "max       24.760000\n",
            "Name: Sal, dtype: float64\n"
          ],
          "name": "stdout"
        },
        {
          "output_type": "stream",
          "text": [
            "/usr/local/lib/python3.7/dist-packages/numpy/core/_asarray.py:83: VisibleDeprecationWarning: Creating an ndarray from ragged nested sequences (which is a list-or-tuple of lists-or-tuples-or ndarrays with different lengths or shapes) is deprecated. If you meant to do this, you must specify 'dtype=object' when creating the ndarray\n",
            "  return array(a, dtype, copy=False, order=order)\n"
          ],
          "name": "stderr"
        },
        {
          "output_type": "display_data",
          "data": {
            "image/png": "[encoded data removed]",
            "text/plain": [
              "<Figure size 1440x864 with 1 Axes>"
            ]
          },
          "metadata": {
            "tags": [],
            "needs_background": "light"
          }
        }
      ]
    },
    {
      "cell_type": "markdown",
      "metadata": {
        "id": "SaSgUdQ_gHuN"
      },
      "source": [
        "### Salário das Mulheres da Companhia B e dos Homens da Companhia B"
      ]
    },
    {
      "cell_type": "code",
      "metadata": {
        "colab": {
          "base_uri": "https://localhost:8080/",
          "height": 1000
        },
        "id": "-meF4xeZgJa9",
        "outputId": "91ad0850-7484-4a73-839d-edce4d6d29ff"
      },
      "source": [
        "dadosB_fem_sal = dadosB[dadosB['Sexo'] == 'fem'] #separando o df apenas para o sexo feminino\n",
        "dadosB_masc_sal = dadosB[dadosB['Sexo'] == 'masc'] #separando o df apenas para o sexo masculino\n",
        "sal_fem_masc_B = [pd.Series(dadosB_fem_sal['Sal']), pd.Series(dadosB_masc_sal['Sal'])]\n",
        "sal_fem_masc_B_labels = [\"Salários do Sexo Feminino da Companhia B\", \"Salários do Sexo Masculino da Companhia B\"]\n",
        "\n",
        "print(\"Dados Mulheres Comp B:\", pd.Series(dadosB_fem_sal['Sal']).describe())\n",
        "print(\"Dados Homens Comp B:\", pd.Series(dadosB_masc_sal['Sal']).describe())\n",
        "\n",
        "green_diamond = dict(markerfacecolor='r', marker='o')\n",
        "plt.figure(figsize=(20, 12))\n",
        "plt.boxplot(sal_fem_masc_B, flierprops=green_diamond, labels = sal_fem_masc_B_labels)\n",
        "plt.title(\"Boxplot da variável salário 'Sal' para o sexo Feminino e Masculino da Companhia B\")\n",
        "plt.grid()\n",
        "plt.text(1.08, 5.6, '$\\longleftarrow$ Mediana = 5.79', fontsize = 12)\n",
        "plt.text(1.08, 3.1, '$\\longleftarrow$ Q1 = 3.17', fontsize = 12)\n",
        "plt.text(1.08, 8, '$\\longleftarrow$ Q2 = 8.115', fontsize = 12)\n",
        "######################################################################\n",
        "plt.text(2.08, 9.8, '$\\longleftarrow$ Mediana = 9.94', fontsize = 12)\n",
        "plt.text(2.08, 7.7, '$\\longleftarrow$ Q1 = 7.792', fontsize = 12)\n",
        "plt.text(2.08, 12.4, '$\\longleftarrow$ Q2 = 12.52', fontsize = 12)\n",
        "plt.show()"
      ],
      "execution_count": 302,
      "outputs": [
        {
          "output_type": "stream",
          "text": [
            "Dados Mulheres Comp B: count    143.000000\n",
            "mean       6.107552\n",
            "std        3.584683\n",
            "min        0.610000\n",
            "25%        3.170000\n",
            "50%        5.790000\n",
            "75%        8.115000\n",
            "max       17.280000\n",
            "Name: Sal, dtype: float64\n",
            "Dados Homens Comp B: count    114.000000\n",
            "mean      10.548860\n",
            "std        4.412183\n",
            "min        3.790000\n",
            "25%        7.792500\n",
            "50%        9.940000\n",
            "75%       12.520000\n",
            "max       23.560000\n",
            "Name: Sal, dtype: float64\n"
          ],
          "name": "stdout"
        },
        {
          "output_type": "stream",
          "text": [
            "/usr/local/lib/python3.7/dist-packages/numpy/core/_asarray.py:83: VisibleDeprecationWarning: Creating an ndarray from ragged nested sequences (which is a list-or-tuple of lists-or-tuples-or ndarrays with different lengths or shapes) is deprecated. If you meant to do this, you must specify 'dtype=object' when creating the ndarray\n",
            "  return array(a, dtype, copy=False, order=order)\n"
          ],
          "name": "stderr"
        },
        {
          "output_type": "display_data",
          "data": {
            "image/png": "[encoded data removed]",
            "text/plain": [
              "<Figure size 1440x864 with 1 Axes>"
            ]
          },
          "metadata": {
            "tags": [],
            "needs_background": "light"
          }
        }
      ]
    },
    {
      "cell_type": "markdown",
      "metadata": {
        "id": "VPuSR0eVTK6n"
      },
      "source": [
        "## $3.v)$ Compare a diferença salarial entre homens e mulheres em cada companhia com teste de hipóteses."
      ]
    },
    {
      "cell_type": "markdown",
      "metadata": {
        "id": "r7aqREOpXEvO"
      },
      "source": [
        "### Companhia A"
      ]
    },
    {
      "cell_type": "code",
      "metadata": {
        "colab": {
          "base_uri": "https://localhost:8080/"
        },
        "id": "0FENAAB0XDZD",
        "outputId": "79bb7b3e-e704-4b6d-cd5e-eb5ed19050fd"
      },
      "source": [
        "sub_fora_A = dadosA.Sal #todos os salários, independente do sexo\n",
        "sub_dentro_Amasc = dadosA[dadosA['Sexo'] == 'masc'].Sal #salários de homens (vamos ver se há influência)\n",
        "\n",
        "hip_test(sub_fora_A, sub_dentro_Amasc)"
      ],
      "execution_count": 303,
      "outputs": [
        {
          "output_type": "stream",
          "text": [
            "* Mann-Whitney:\n",
            "     -> mannwhitneyu: U-statistic = 18329.000000\tp_value = 0.501187\n",
            "     -> ranksums: U-statistic = 0.673081\tp_value = 0.500896\n",
            "\n",
            "* Two Sample Kolmogorov-Smirnov:\n",
            "     -> p_value = 0.7661683804306618\n",
            "\n",
            "\n",
            "Não há significância estatística para rejeitar a hipótese nula\n"
          ],
          "name": "stdout"
        }
      ]
    },
    {
      "cell_type": "code",
      "metadata": {
        "colab": {
          "base_uri": "https://localhost:8080/"
        },
        "id": "ltJ-2mbiYnuK",
        "outputId": "5bb94b03-ee02-4121-96ab-f8a4898a7142"
      },
      "source": [
        "sub_fora_A = dadosA.Sal #todos os salários, independente do sexo\n",
        "sub_dentro_Afem = dadosA[dadosA['Sexo'] == 'fem'].Sal #salários de mulheres (vamos ver se há influência)\n",
        "\n",
        "hip_test(sub_fora_A, sub_dentro_Afem)"
      ],
      "execution_count": 304,
      "outputs": [
        {
          "output_type": "stream",
          "text": [
            "* Mann-Whitney:\n",
            "     -> mannwhitneyu: U-statistic = 12423.000000\tp_value = 0.413913\n",
            "     -> ranksums: U-statistic = -0.817585\tp_value = 0.413594\n",
            "\n",
            "* Two Sample Kolmogorov-Smirnov:\n",
            "     -> p_value = 0.5326906011770652\n",
            "\n",
            "\n",
            "Não há significância estatística para rejeitar a hipótese nula\n"
          ],
          "name": "stdout"
        }
      ]
    },
    {
      "cell_type": "markdown",
      "metadata": {
        "id": "oa2up0fUXGg8"
      },
      "source": [
        "### Companhia B"
      ]
    },
    {
      "cell_type": "code",
      "metadata": {
        "colab": {
          "base_uri": "https://localhost:8080/"
        },
        "id": "mLs40c1lXIaM",
        "outputId": "30e89bb7-e59e-4b2c-9780-7b7bd222c4b8"
      },
      "source": [
        "sub_fora_B = dadosB.Sal #todos os salários, independente do sexo\n",
        "sub_dentro_Bmasc = dadosB[dadosB['Sexo'] == 'masc'].Sal #salários de homens (vamos ver se há influência)\n",
        "\n",
        "hip_test(sub_fora_B, sub_dentro_Bmasc)"
      ],
      "execution_count": 305,
      "outputs": [
        {
          "output_type": "stream",
          "text": [
            "* Mann-Whitney:\n",
            "     -> mannwhitneyu: U-statistic = 9890.000000\tp_value = 0.000001\n",
            "     -> ranksums: U-statistic = -4.993624\tp_value = 0.000001\n",
            "\n",
            "* Two Sample Kolmogorov-Smirnov:\n",
            "     -> p_value = 1.2974658015973972e-05\n",
            "\n",
            "\n",
            "* Possível rejeitar a hipótese nula de acordo com: \n",
            "  - Mann-Whitney-U Test: \n",
            "     -> mannwhitneyu\n",
            "     -> ranksums\n",
            "  - Two Sampe Kolmogorov-Smirnov Test\n"
          ],
          "name": "stdout"
        }
      ]
    },
    {
      "cell_type": "code",
      "metadata": {
        "colab": {
          "base_uri": "https://localhost:8080/"
        },
        "id": "8LC6VsjhY5Ek",
        "outputId": "cff2b944-5668-4a43-c595-21d411e6bba4"
      },
      "source": [
        "sub_fora_B = dadosB.Sal #todos os salários, independente do sexo\n",
        "sub_dentro_Bfem = dadosB[dadosB['Sexo'] == 'fem'].Sal #salários de mulheres (vamos ver se há influência)\n",
        "\n",
        "hip_test(sub_fora_B, sub_dentro_Bfem)"
      ],
      "execution_count": 306,
      "outputs": [
        {
          "output_type": "stream",
          "text": [
            "* Mann-Whitney:\n",
            "     -> mannwhitneyu: U-statistic = 23134.500000\tp_value = 0.000018\n",
            "     -> ranksums: U-statistic = 4.294371\tp_value = 0.000018\n",
            "\n",
            "* Two Sample Kolmogorov-Smirnov:\n",
            "     -> p_value = 0.00030348525039980423\n",
            "\n",
            "\n",
            "* Possível rejeitar a hipótese nula de acordo com: \n",
            "  - Mann-Whitney-U Test: \n",
            "     -> mannwhitneyu\n",
            "     -> ranksums\n",
            "  - Two Sampe Kolmogorov-Smirnov Test\n"
          ],
          "name": "stdout"
        }
      ]
    },
    {
      "cell_type": "markdown",
      "metadata": {
        "id": "nQoM8dmCZYcm"
      },
      "source": [
        "## $3.vi)$ Compare a participação de mulheres em cargos gerenciais nas duas companhias usando intervalos de confiança."
      ]
    },
    {
      "cell_type": "markdown",
      "metadata": {
        "id": "9zPKnzp6Ziov"
      },
      "source": [
        "### Intervalos de Confiança para Mulheres em Cargos Gerenciais: Companhias A e B\n",
        "\n"
      ]
    },
    {
      "cell_type": "code",
      "metadata": {
        "id": "Q8vV3ZIPZbtw",
        "colab": {
          "base_uri": "https://localhost:8080/"
        },
        "outputId": "6d400c5d-2740-481c-e7b7-32be66a01d61"
      },
      "source": [
        "#Intervalo de Confiança: Sexo Feminino em Cargo Gerencial na Companhia A\n",
        "print(\"Intervalos de Confiança para a Participação de Funcionários do Sexo Feminino em Cargos Gerenciais na Companhia A:\\n(1, se é mulher e atua em cargo gerencial; 0, caso contrário.)\")\n",
        "femGerA = dadosA.query(\"Sexo == 'fem' and cargo == 'gerencial'\")\n",
        "distribuicaoA = [0]*(dadosA.shape[0] - femGerA.shape[0]) + [1]*(femGerA.shape[0])\n",
        "print(\"Companhia A: \", scipy.stats.t.interval(alpha=0.95, df=len(distribuicaoA)-1, loc=np.mean(distribuicaoA), scale=scipy.stats.sem(distribuicaoA)))\n",
        "print(\"\")\n",
        "#Intervalo de Confiança: Sexo Feminino em Cargo Gerencial na Companhia B\n",
        "print(\"Intervalos de Confiança para a Participação de Funcionários do Sexo Feminino em Cargos Gerenciais na Companhia B:\\n(1, se é mulher e atua em cargo gerencial; 0, caso contrário.)\")\n",
        "femGerB = dadosB.query(\"Sexo == 'fem' and cargo == 'gerencial'\")\n",
        "distribuicaoB = [0]*(dadosB.shape[0] - femGerB.shape[0]) + [1]*(femGerB.shape[0])\n",
        "print(\"Companhia B: \", scipy.stats.t.interval(alpha=0.95, df=len(distribuicaoB)-1, loc=np.mean(distribuicaoB), scale=scipy.stats.sem(distribuicaoB)))"
      ],
      "execution_count": 307,
      "outputs": [
        {
          "output_type": "stream",
          "text": [
            "Intervalos de Confiança para a Participação de Funcionários do Sexo Feminino em Cargos Gerenciais na Companhia A:\n",
            "(1, se é mulher e atua em cargo gerencial; 0, caso contrário.)\n",
            "Companhia A:  (0.033727871161186244, 0.09530438690332987)\n",
            "\n",
            "Intervalos de Confiança para a Participação de Funcionários do Sexo Feminino em Cargos Gerenciais na Companhia B:\n",
            "(1, se é mulher e atua em cargo gerencial; 0, caso contrário.)\n",
            "Companhia B:  (0.05436038456476303, 0.124627942283486)\n"
          ],
          "name": "stdout"
        }
      ]
    },
    {
      "cell_type": "markdown",
      "metadata": {
        "id": "vfFE2ThBZmCg"
      },
      "source": [
        "## $3.vii)$ Compare a participação de mulheres em cargos gerenciais nas duas companhias usando teste de hipótese."
      ]
    },
    {
      "cell_type": "markdown",
      "metadata": {
        "id": "1C0unuP9Z0Zp"
      },
      "source": [
        "### Companhia A"
      ]
    },
    {
      "cell_type": "code",
      "metadata": {
        "id": "HBiqXuqOZoMO",
        "colab": {
          "base_uri": "https://localhost:8080/"
        },
        "outputId": "3570b2f8-3adc-40d3-c8be-ce6ffe3d8a22"
      },
      "source": [
        "sub_fora_Acargos = dadosA[dadosA['cargo'] == 'gerencial'].cargo #todos os cargos gerenciais, independente do sexo\n",
        "\n",
        "sub_dentro_Acargosfem = dadosA[dadosA['cargo'] == 'gerencial']\n",
        "sub_dentro_Acargosfem = sub_dentro_Acargosfem[sub_dentro_Acargosfem['Sexo'] == 'fem'].cargo #cagos de mulheres gerentes (vamos ver se há influência)\n",
        "#sub_dentro_Acargosfem\n",
        "\n",
        "hip_test(sub_fora_Acargos, sub_dentro_Acargosfem)"
      ],
      "execution_count": 308,
      "outputs": [
        {
          "output_type": "stream",
          "text": [
            "* Mann-Whitney:\n",
            "     -> ValueError: Todos os números são idênticos no teste de mannwhitneyu, então o desconsideraremos\n",
            "     -> ranksums: U-statistic = 0.000000\tp_value = 1.000000\n",
            "\n",
            "* Two Sample Kolmogorov-Smirnov:\n",
            "     -> p_value = 1.0\n",
            "\n",
            "\n",
            "Não há significância estatística para rejeitar a hipótese nula\n"
          ],
          "name": "stdout"
        }
      ]
    },
    {
      "cell_type": "markdown",
      "metadata": {
        "id": "-jfrBaFpZ184"
      },
      "source": [
        "### Companhia B"
      ]
    },
    {
      "cell_type": "code",
      "metadata": {
        "id": "3k1w43qEZ3Bf",
        "colab": {
          "base_uri": "https://localhost:8080/"
        },
        "outputId": "d236de45-d213-40fd-a447-d661f8f6ae6c"
      },
      "source": [
        "sub_fora_Bcargos = dadosB[dadosB['cargo'] == 'gerencial'].cargo #todos os cargos gerenciais, independente do sexo\n",
        "\n",
        "sub_dentro_Bcargosfem = dadosB[dadosB['cargo'] == 'gerencial']\n",
        "sub_dentro_Bcargosfem = sub_dentro_Bcargosfem[sub_dentro_Bcargosfem['Sexo'] == 'fem'].cargo #cagos de mulheres gerentes (vamos ver se há influência)\n",
        "\n",
        "hip_test(sub_fora_Acargos, sub_dentro_Acargosfem)"
      ],
      "execution_count": 309,
      "outputs": [
        {
          "output_type": "stream",
          "text": [
            "* Mann-Whitney:\n",
            "     -> ValueError: Todos os números são idênticos no teste de mannwhitneyu, então o desconsideraremos\n",
            "     -> ranksums: U-statistic = 0.000000\tp_value = 1.000000\n",
            "\n",
            "* Two Sample Kolmogorov-Smirnov:\n",
            "     -> p_value = 1.0\n",
            "\n",
            "\n",
            "Não há significância estatística para rejeitar a hipótese nula\n"
          ],
          "name": "stdout"
        }
      ]
    }
  ]
}